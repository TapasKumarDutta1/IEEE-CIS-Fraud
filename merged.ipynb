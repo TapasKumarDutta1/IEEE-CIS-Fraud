{
 "cells": [
  {
   "cell_type": "code",
   "execution_count": null,
   "metadata": {},
   "outputs": [],
   "source": [
    "lgbm=pd.read_csv('/kaggle/input/lgbm-0-1/sub.csv')\n",
    "nn=pd.read_csv('/kaggle/input/kernel35a5435b53/sub.csv')\n",
    "ss=pd.read_csv('/kaggle/input/ieee-fraud-detection/sample_submission.csv')\n",
    "ss['isFraud']=(lgbm['isFraud']*0.9)+(nn['isFraud']*0.1)\n",
    "ss=ss.set_index('TransactionID')\n",
    "ss.to_csv('sub.csv')"
   ]
  }
 ],
 "metadata": {
  "kernelspec": {
   "display_name": "Python 3",
   "language": "python",
   "name": "python3"
  },
  "language_info": {
   "codemirror_mode": {
    "name": "ipython",
    "version": 3
   },
   "file_extension": ".py",
   "mimetype": "text/x-python",
   "name": "python",
   "nbconvert_exporter": "python",
   "pygments_lexer": "ipython3",
   "version": "3.7.3"
  }
 },
 "nbformat": 4,
 "nbformat_minor": 2
}
