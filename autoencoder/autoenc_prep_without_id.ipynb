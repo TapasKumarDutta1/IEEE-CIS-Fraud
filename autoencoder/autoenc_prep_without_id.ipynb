{
  "nbformat": 4,
  "nbformat_minor": 0,
  "metadata": {
    "colab": {
      "name": "autoenc_prep_without_id.ipynb",
      "provenance": [],
      "machine_shape": "hm",
      "include_colab_link": true
    },
    "kernelspec": {
      "name": "python3",
      "display_name": "Python 3"
    },
    "accelerator": "GPU"
  },
  "cells": [
    {
      "cell_type": "markdown",
      "metadata": {
        "id": "view-in-github",
        "colab_type": "text"
      },
      "source": [
        "<a href=\"https://colab.research.google.com/github/TapasKumarDutta1/IEEE-CIS-Fraud/blob/master/autoenc_prep_without_id.ipynb\" target=\"_parent\"><img src=\"https://colab.research.google.com/assets/colab-badge.svg\" alt=\"Open In Colab\"/></a>"
      ]
    },
    {
      "cell_type": "code",
      "source": [
        "import keras.backend as K\n",
        "from matplotlib import pyplot as plt\n",
        "from tqdm import tqdm\n",
        "from math import *\n",
        "from keras.models import Model\n",
        "from keras.layers import Dense, Input, Dropout, BatchNormalization, Activation, concatenate\n",
        "from keras.utils.generic_utils import get_custom_objects\n",
        "from keras.optimizers import Adam, Nadam\n",
        "from keras.callbacks import Callback, ModelCheckpoint, LearningRateScheduler\n",
        "from sklearn.metrics import roc_auc_score\n",
        "import gc\n",
        "import numpy as np\n",
        "from sklearn.model_selection import KFold\n",
        "from sklearn.preprocessing import StandardScaler\n",
        "from keras import backend as K\n",
        "import pandas as pd\n",
        "from keras.utils import Sequence\n",
        "from google.colab import drive"
      ],
      "metadata": {
        "id": "OaecDJtSj4QK"
      },
      "execution_count": null,
      "outputs": []
    },
    {
      "cell_type": "markdown",
      "metadata": {
        "id": "BYtsrH0G_GC3"
      },
      "source": [
        "Loading the drive"
      ]
    },
    {
      "cell_type": "code",
      "metadata": {
        "id": "OauHZNZMerDG",
        "colab": {
          "base_uri": "https://localhost:8080/",
          "height": 54
        },
        "outputId": "67291fce-8615-4281-fffd-9fdca896ee5b"
      },
      "source": [
        "\n",
        "drive.mount('/content/gdrive')\n",
        "drive.mount(\"/content/gdrive\", force_remount=True)"
      ],
      "execution_count": null,
      "outputs": [
        {
          "output_type": "stream",
          "text": [
            "Drive already mounted at /content/gdrive; to attempt to forcibly remount, call drive.mount(\"/content/gdrive\", force_remount=True).\n",
            "Mounted at /content/gdrive\n"
          ],
          "name": "stdout"
        }
      ]
    },
    {
      "cell_type": "code",
      "metadata": {
        "id": "y3CLKiyk_VTC"
      },
      "source": [
        "\n",
        "np.random.seed(42) # NumPy\n",
        "random.seed(42) # Python"
      ],
      "execution_count": null,
      "outputs": []
    },
    {
      "cell_type": "markdown",
      "metadata": {
        "id": "RFkVLjyg_Io5"
      },
      "source": [
        "Loading data"
      ]
    },
    {
      "cell_type": "code",
      "metadata": {
        "id": "zJem4-mp8otc"
      },
      "source": [
        "\n",
        "trn=pd.read_csv('/content/gdrive/My Drive/fraud/train.csv',index_col=[0])\n",
        "tst=pd.read_csv('/content/gdrive/My Drive/fraud/test.csv',index_col=[0])"
      ],
      "execution_count": null,
      "outputs": []
    },
    {
      "cell_type": "markdown",
      "metadata": {
        "id": "Yk57wdug_Kuq"
      },
      "source": [
        "Drop id and isFraud"
      ]
    },
    {
      "cell_type": "code",
      "metadata": {
        "id": "oiE3LbOCCgku"
      },
      "source": [
        "trn=trn.drop(['isFraud','id'],1)\n",
        "tst=tst.drop(['id'],1)"
      ],
      "execution_count": null,
      "outputs": []
    },
    {
      "cell_type": "markdown",
      "metadata": {
        "id": "IaSRatVa_Qlr"
      },
      "source": [
        "Reduce memory useage"
      ]
    },
    {
      "cell_type": "code",
      "metadata": {
        "id": "uFKYcx1CSuEr",
        "colab": {
          "base_uri": "https://localhost:8080/",
          "height": 129
        },
        "outputId": "a1988576-51f4-481a-c34c-2b8e535d1f6c"
      },
      "source": [
        "def reduce_mem_usage(df):\n",
        "    \"\"\"\n",
        "    Reduce memory usage of a DataFrame by converting data types to lower memory equivalents.\n",
        "\n",
        "    Parameters:\n",
        "        df (pandas.DataFrame): The DataFrame to be optimized.\n",
        "\n",
        "    Returns:\n",
        "        pandas.DataFrame: The DataFrame with optimized memory usage.\n",
        "    \"\"\"\n",
        "    start_mem = df.memory_usage().sum() / 1024**2\n",
        "    print(\"Memory usage of the DataFrame is {:.2f} MB\".format(start_mem))\n",
        "\n",
        "    for col in df.columns:\n",
        "        col_type = df[col].dtype\n",
        "\n",
        "        if col_type != object:\n",
        "            c_min = df[col].min()\n",
        "            c_max = df[col].max()\n",
        "            if str(col_type)[:3] == \"int\":\n",
        "                if c_min > np.iinfo(np.int8).min and c_max < np.iinfo(np.int8).max:\n",
        "                    df[col] = df[col].astype(np.int8)\n",
        "                elif c_min > np.iinfo(np.int16).min and c_max < np.iinfo(np.int16).max:\n",
        "                    df[col] = df[col].astype(np.int16)\n",
        "                elif c_min > np.iinfo(np.int32).min and c_max < np.iinfo(np.int32).max:\n",
        "                    df[col] = df[col].astype(np.int32)\n",
        "                elif c_min > np.iinfo(np.int64).min and c_max < np.iinfo(np.int64).max:\n",
        "                    df[col] = df[col].astype(np.int64)\n",
        "            else:\n",
        "                if (\n",
        "                    c_min > np.finfo(np.float16).min\n",
        "                    and c_max < np.finfo(np.float16).max\n",
        "                ):\n",
        "                    df[col] = df[col].astype(np.float16)\n",
        "                elif (\n",
        "                    c_min > np.finfo(np.float32).min\n",
        "                    and c_max < np.finfo(np.float32).max\n",
        "                ):\n",
        "                    df[col] = df[col].astype(np.float32)\n",
        "                else:\n",
        "                    df[col] = df[col].astype(np.float64)\n",
        "        else:\n",
        "            df[col] = df[col].astype(\"category\")\n",
        "\n",
        "    end_mem = df.memory_usage().sum() / 1024**2\n",
        "    print(\"Memory usage after optimization is: {:.2f} MB\".format(end_mem))\n",
        "    print(\"Decreased by {:.1f}%\".format(100 * (start_mem - end_mem) / start_mem))\n",
        "\n",
        "    return df\n",
        "\n",
        "\n",
        "# Example usage\n",
        "trn = reduce_mem_usage(trn)\n",
        "tst = reduce_mem_usage(tst)"
      ],
      "execution_count": null,
      "outputs": [
        {
          "output_type": "stream",
          "text": [
            "Memory usage of dataframe is 2243.72 MB\n",
            "Memory usage after optimization is: 554.17 MB\n",
            "Decreased by 75.3%\n",
            "Memory usage of dataframe is 1925.14 MB\n",
            "Memory usage after optimization is: 475.49 MB\n",
            "Decreased by 75.3%\n"
          ],
          "name": "stdout"
        }
      ]
    },
    {
      "cell_type": "markdown",
      "metadata": {
        "id": "cYYe5k4-_aBP"
      },
      "source": [
        "Concatenate data"
      ]
    },
    {
      "cell_type": "code",
      "metadata": {
        "id": "ha_HXo738T8S",
        "colab": {
          "base_uri": "https://localhost:8080/",
          "height": 36
        },
        "outputId": "f60761e2-9dc2-42a0-d293-7cc1046bde70"
      },
      "source": [
        "# Concatenate the DataFrames trn and tst into a new DataFrame X\n",
        "X = pd.concat([trn, tst]).reset_index(drop=True)\n",
        "\n",
        "# Delete the original DataFrames trn and tst to free up memory\n",
        "del [trn, tst]\n",
        "\n",
        "# Perform garbage collection to release memory used by deleted objects\n",
        "gc.collect()"
      ],
      "execution_count": null,
      "outputs": [
        {
          "output_type": "execute_result",
          "data": {
            "text/plain": [
              "0"
            ]
          },
          "metadata": {
            "tags": []
          },
          "execution_count": 9
        }
      ]
    },
    {
      "cell_type": "markdown",
      "metadata": {
        "id": "VuGUnUEl_dAz"
      },
      "source": [
        "Divide data into categorical and numerical"
      ]
    },
    {
      "cell_type": "code",
      "metadata": {
        "id": "jLml17V2_dJe"
      },
      "source": [
        "# Convert categorical columns to uint8 data type\n",
        "cat = [str(i) for i in range(444)]\n",
        "X[cat] = X[cat].astype(\"uint8\")\n",
        "\n",
        "# Find numeric columns that are not in the categorical columns\n",
        "no_dum = [i for i in X.columns if i not in cat]\n",
        "\n",
        "# Get the number of numeric and categorical features\n",
        "num_shape = len(no_dum)\n",
        "cat_shape = len(cat)"
      ],
      "execution_count": null,
      "outputs": []
    },
    {
      "cell_type": "code",
      "metadata": {
        "id": "jLIcL-BDLW9T"
      },
      "source": [
        "\n",
        "def custom_gelu(x):\n",
        "    \"\"\"\n",
        "    Custom gelu activation function.\n",
        "\n",
        "    Parameters:\n",
        "    x (tensor): Input tensor.\n",
        "\n",
        "    Returns:\n",
        "    tensor: Output tensor after applying custom gelu activation.\n",
        "    \"\"\"\n",
        "    return 0.5 * x * (1 + tf.tanh(tf.sqrt(2 / np.pi) * (x + 0.044715 * tf.pow(x, 3))))\n",
        "\n",
        "def create_model():\n",
        "    \"\"\"\n",
        "    Create a neural network model with custom gelu activation.\n",
        "\n",
        "    Returns:\n",
        "    keras.models.Model: Neural network model with inputs and outputs.\n",
        "    \"\"\"\n",
        "    # Collect garbage to free up memory\n",
        "    gc.collect()\n",
        "\n",
        "    # Clear any existing Keras session\n",
        "    K.clear_session()\n",
        "\n",
        "    # Define input layers for numeric and categorical features\n",
        "    num_inp = Input(shape=(num_shape,))\n",
        "    cat_inp = Input(shape=(cat_shape,))\n",
        "\n",
        "    # Concatenate the numeric and categorical inputs\n",
        "    inps = concatenate([num_inp, cat_inp])\n",
        "\n",
        "    # Create dense layers with custom gelu activation\n",
        "    x = Dense(512, activation=custom_gelu)(inps)\n",
        "    x = Dense(256, activation=custom_gelu)(x)\n",
        "    x = Dense(512, activation=custom_gelu)(x)\n",
        "\n",
        "    # Add dropout layer for regularization\n",
        "    x = Dropout(0.2)(x)\n",
        "\n",
        "    # Output layers for numeric and categorical features\n",
        "    cat_out = Dense(cat_shape, activation=\"linear\")(x)\n",
        "    num_out = Dense(num_shape, activation=\"linear\")(x)\n",
        "\n",
        "    # Create the model with inputs and outputs\n",
        "    model = Model(inputs=[num_inp, cat_inp], outputs=[num_out, cat_out])\n",
        "\n",
        "    # Compile the model with Adam optimizer and mse loss for both outputs\n",
        "    model.compile(optimizer=Adam(0.05, clipnorm=1, clipvalue=1), loss=[\"mse\", \"mse\"])\n",
        "\n",
        "    return model"
      ],
      "execution_count": null,
      "outputs": []
    },
    {
      "cell_type": "markdown",
      "metadata": {
        "id": "AWNV_5Kl_y46"
      },
      "source": [
        "Warmup learning rate"
      ]
    },
    {
      "cell_type": "code",
      "metadata": {
        "id": "Mf25ibJI8T5-"
      },
      "source": [
        "\n",
        "class WarmUpLearningRateScheduler(keras.callbacks.Callback):\n",
        "    \"\"\"\n",
        "    Custom Callback to implement a warm-up learning rate scheduler.\n",
        "\n",
        "    Parameters:\n",
        "        warmup_batches (int): The number of batches for the warm-up phase.\n",
        "        init_lr (float): The initial learning rate before warm-up.\n",
        "        verbose (int): Whether to print messages about learning rate changes.\n",
        "\n",
        "    Example:\n",
        "        warmup_lr_scheduler = WarmUpLearningRateScheduler(warmup_batches=100, init_lr=0.01, verbose=1)\n",
        "    \"\"\"\n",
        "\n",
        "    def __init__(self, warmup_batches, init_lr, verbose=0):\n",
        "        super(WarmUpLearningRateScheduler, self).__init__()\n",
        "        self.warmup_batches = warmup_batches\n",
        "        self.init_lr = init_lr\n",
        "        self.verbose = verbose\n",
        "        self.batch_count = 0\n",
        "        self.learning_rates = []\n",
        "\n",
        "    def on_batch_end(self, batch, logs=None):\n",
        "        \"\"\"\n",
        "        Callback function executed at the end of each batch.\n",
        "\n",
        "        Parameters:\n",
        "            batch (int): The current batch index.\n",
        "            logs (dict): Dictionary containing the training metrics for the current batch.\n",
        "        \"\"\"\n",
        "        self.batch_count += 1\n",
        "        lr = K.get_value(self.model.optimizer.lr)\n",
        "        self.learning_rates.append(lr)\n",
        "\n",
        "    def on_batch_begin(self, batch, logs=None):\n",
        "        \"\"\"\n",
        "        Callback function executed at the beginning of each batch.\n",
        "\n",
        "        Parameters:\n",
        "            batch (int): The current batch index.\n",
        "            logs (dict): Dictionary containing the training metrics for the current batch.\n",
        "        \"\"\"\n",
        "        if self.batch_count <= self.warmup_batches:\n",
        "            lr = self.batch_count * self.init_lr / self.warmup_batches\n",
        "            K.set_value(self.model.optimizer.lr, lr)\n",
        "            if self.verbose > 0:\n",
        "                print(\"\\nBatch %05d: WarmUpLearningRateScheduler setting learning rate to %s.\" % (self.batch_count + 1, lr))"
      ],
      "execution_count": null,
      "outputs": []
    },
    {
      "cell_type": "markdown",
      "metadata": {
        "id": "NMkvG-As_4Pb"
      },
      "source": [
        "Data generator for denoising autoencoder"
      ]
    },
    {
      "cell_type": "code",
      "metadata": {
        "id": "HyjXsW3U8Txj"
      },
      "source": [
        "class DAESequence(Sequence):\n",
        "    \"\"\"\n",
        "    Custom Sequence generator for Denoising Autoencoder (DAE) training.\n",
        "\n",
        "    Parameters:\n",
        "        df (pd.DataFrame): The input dataframe containing the data for the DAE.\n",
        "        no_dum (list): List of numerical column names.\n",
        "        frac (float): Fraction of data to be corrupted (default is 0.15).\n",
        "        dumm (range): Range of column indices for dummy/categorical columns (default is range(911)).\n",
        "        batch_size (int): Batch size for training (default is 2048).\n",
        "\n",
        "    Example:\n",
        "        dae_seq = DAESequence(df, no_dum=['col1', 'col2', 'col3'], batch_size=1024)\n",
        "    \"\"\"\n",
        "\n",
        "    def __init__(self, df, no_dum, frac=0.15, dumm=range(911), batch_size=2048):\n",
        "        self.batch_size = batch_size\n",
        "        self.frac = frac\n",
        "        self.dumm = dumm\n",
        "        self.df = df\n",
        "        self.cat_data = df[dumm].values\n",
        "        self.num_data = df[no_dum].values\n",
        "        self.no_dumm = no_dum\n",
        "        self.len_data = df.shape[0]\n",
        "        self.columns = df.shape[1]\n",
        "        self.data = df\n",
        "        self.idx = []\n",
        "\n",
        "    def __len__(self):\n",
        "        \"\"\"\n",
        "        Returns the number of batches in the Sequence.\n",
        "\n",
        "        Returns:\n",
        "            int: The number of batches.\n",
        "        \"\"\"\n",
        "        return int(ceil(self.len_data / self.batch_size))\n",
        "\n",
        "    def __getitem__(self, idx):\n",
        "        \"\"\"\n",
        "        Generates one batch of data for training.\n",
        "\n",
        "        Parameters:\n",
        "            idx (int): The index of the batch.\n",
        "\n",
        "        Returns:\n",
        "            tuple: A tuple containing input and output data for the DAE.\n",
        "        \"\"\"\n",
        "        self.idx.append(idx)\n",
        "        last = min((idx + 1) * self.batch_size, self.len_data)\n",
        "        idx = idx * self.batch_size\n",
        "        size = last - idx\n",
        "\n",
        "        inps = []\n",
        "        outs = []\n",
        "        output_x = self.data.iloc[idx:last]\n",
        "\n",
        "        # Generate noise for numerical columns\n",
        "        data = output_x[self.no_dumm].values\n",
        "        noise_x = data.copy()\n",
        "        for i in range(len(self.no_dumm)):\n",
        "            to = np.random.randint(0, size, int(size * self.frac))\n",
        "            frm = np.random.randint(0, size, int(size * self.frac))\n",
        "            noise_x[to, i] = noise_x[frm, i]\n",
        "\n",
        "        inps.append(noise_x)\n",
        "        outs.append(data)\n",
        "\n",
        "        # Generate noise for categorical columns\n",
        "        data = output_x[self.dumm].values\n",
        "        noise_x = data.copy()\n",
        "        for i in range(len(self.dumm)):\n",
        "            to = np.random.randint(0, size, int(size * self.frac))\n",
        "            frm = np.random.randint(0, size, int(size * self.frac))\n",
        "            noise_x[to, i] = noise_x[frm, i]\n",
        "\n",
        "        inps.append(noise_x)\n",
        "        outs.append(data)\n",
        "\n",
        "        return inps, outs"
      ],
      "execution_count": null,
      "outputs": []
    },
    {
      "cell_type": "markdown",
      "metadata": {
        "id": "acDwaLOGACcP"
      },
      "source": [
        "Fill nan by mean then by 0"
      ]
    },
    {
      "cell_type": "code",
      "metadata": {
        "id": "9ryHot0g1BwM",
        "colab": {
          "base_uri": "https://localhost:8080/",
          "height": 54
        },
        "outputId": "ff2e0ebf-c5aa-4285-fcd0-bd3673f52bac"
      },
      "source": [
        "# Fill missing values with the column mean for columns with missing values\n",
        "a = X.isna().sum()\n",
        "a = a[a > 0]\n",
        "cls = list(X)\n",
        "for col in tqdm(list(a.index)):\n",
        "    if col in cls:\n",
        "        X[col] = X[col].fillna(X[col].mean())\n",
        "\n",
        "# Fill remaining missing values with 0 for columns with missing values\n",
        "a = X.isna().sum()\n",
        "a = a[a > 0]\n",
        "cls = list(X)\n",
        "for col in tqdm(list(a.index)):\n",
        "    if col in cls:\n",
        "        X[col] = X[col].fillna(0)"
      ],
      "execution_count": null,
      "outputs": [
        {
          "output_type": "stream",
          "text": [
            "0it [00:00, ?it/s]\n",
            "0it [00:00, ?it/s]\n"
          ],
          "name": "stderr"
        }
      ]
    },
    {
      "cell_type": "code",
      "metadata": {
        "id": "WXdXM2kpNXgw",
        "colab": {
          "base_uri": "https://localhost:8080/",
          "height": 1000
        },
        "outputId": "234ea244-b3f7-4c2a-c2a2-69784b57f8ec"
      },
      "source": [
        "# Create the model\n",
        "model_mse = create_model()\n",
        "\n",
        "# Initialize the learning rate warm-up scheduler\n",
        "warm_up_lr = WarmUpLearningRateScheduler(warmup_batches=400, init_lr=0.0005)\n",
        "\n",
        "# Free up memory\n",
        "gc.collect()\n",
        "\n",
        "# Define the number of epochs and batch size\n",
        "epochs = 100\n",
        "batch_size = 2048\n",
        "\n",
        "# Create the data generator using DAESequence\n",
        "train_gen = DAESequence(X, no_dum, batch_size=batch_size, dumm=cat)\n",
        "\n",
        "# Train the model\n",
        "hist = model_mse.fit_generator(\n",
        "    train_gen,\n",
        "    steps_per_epoch=len(X) // batch_size,\n",
        "    epochs=epochs,\n",
        "    verbose=1,\n",
        "    workers=-1,\n",
        "    use_multiprocessing=True,\n",
        "    callbacks=[warm_up_lr],\n",
        ")"
      ],
      "execution_count": null,
      "outputs": [
        {
          "output_type": "stream",
          "text": [
            "WARNING:tensorflow:From <ipython-input-16-6159992651dc>:11: Model.fit_generator (from tensorflow.python.keras.engine.training) is deprecated and will be removed in a future version.\n",
            "Instructions for updating:\n",
            "Please use Model.fit, which supports generators.\n",
            "Epoch 1/50\n",
            "535/535 [==============================] - 23s 43ms/step - loss: 0.2237 - dense_4_loss: 0.1960 - dense_3_loss: 0.0277\n",
            "Epoch 2/50\n",
            "535/535 [==============================] - 23s 43ms/step - loss: 0.0842 - dense_4_loss: 0.0711 - dense_3_loss: 0.0131\n",
            "Epoch 3/50\n",
            "535/535 [==============================] - 23s 44ms/step - loss: 0.0748 - dense_4_loss: 0.0643 - dense_3_loss: 0.0105\n",
            "Epoch 4/50\n",
            "535/535 [==============================] - 23s 44ms/step - loss: 0.0680 - dense_4_loss: 0.0585 - dense_3_loss: 0.0095\n",
            "Epoch 5/50\n",
            "535/535 [==============================] - 23s 43ms/step - loss: 0.0643 - dense_4_loss: 0.0553 - dense_3_loss: 0.0090\n",
            "Epoch 6/50\n",
            "535/535 [==============================] - 23s 43ms/step - loss: 0.0644 - dense_4_loss: 0.0557 - dense_3_loss: 0.0087\n",
            "Epoch 7/50\n",
            "535/535 [==============================] - 23s 43ms/step - loss: 0.0603 - dense_4_loss: 0.0519 - dense_3_loss: 0.0084\n",
            "Epoch 8/50\n",
            "535/535 [==============================] - 23s 43ms/step - loss: 0.0608 - dense_4_loss: 0.0526 - dense_3_loss: 0.0082\n",
            "Epoch 9/50\n",
            "535/535 [==============================] - 23s 43ms/step - loss: 0.0609 - dense_4_loss: 0.0529 - dense_3_loss: 0.0080\n",
            "Epoch 10/50\n",
            "535/535 [==============================] - 23s 44ms/step - loss: 0.0612 - dense_4_loss: 0.0531 - dense_3_loss: 0.0081\n",
            "Epoch 11/50\n",
            "535/535 [==============================] - 23s 43ms/step - loss: 0.0534 - dense_4_loss: 0.0455 - dense_3_loss: 0.0079\n",
            "Epoch 12/50\n",
            "535/535 [==============================] - 23s 43ms/step - loss: 0.0585 - dense_4_loss: 0.0506 - dense_3_loss: 0.0079\n",
            "Epoch 13/50\n",
            "535/535 [==============================] - 23s 43ms/step - loss: 0.0506 - dense_4_loss: 0.0430 - dense_3_loss: 0.0076\n",
            "Epoch 14/50\n",
            "535/535 [==============================] - 23s 43ms/step - loss: 0.0492 - dense_4_loss: 0.0417 - dense_3_loss: 0.0075\n",
            "Epoch 15/50\n",
            "535/535 [==============================] - 23s 43ms/step - loss: 0.0503 - dense_4_loss: 0.0428 - dense_3_loss: 0.0074\n",
            "Epoch 16/50\n",
            "535/535 [==============================] - 23s 43ms/step - loss: 0.0496 - dense_4_loss: 0.0423 - dense_3_loss: 0.0073\n",
            "Epoch 17/50\n",
            "535/535 [==============================] - 23s 43ms/step - loss: 0.0489 - dense_4_loss: 0.0417 - dense_3_loss: 0.0072\n",
            "Epoch 18/50\n",
            "535/535 [==============================] - 23s 43ms/step - loss: 0.0503 - dense_4_loss: 0.0431 - dense_3_loss: 0.0072\n",
            "Epoch 19/50\n",
            "535/535 [==============================] - 23s 44ms/step - loss: 0.0490 - dense_4_loss: 0.0419 - dense_3_loss: 0.0071\n",
            "Epoch 20/50\n",
            "535/535 [==============================] - 23s 43ms/step - loss: 0.0471 - dense_4_loss: 0.0401 - dense_3_loss: 0.0070\n",
            "Epoch 21/50\n",
            "535/535 [==============================] - 23s 43ms/step - loss: 0.0452 - dense_4_loss: 0.0382 - dense_3_loss: 0.0070\n",
            "Epoch 22/50\n",
            "535/535 [==============================] - 23s 43ms/step - loss: 0.0459 - dense_4_loss: 0.0389 - dense_3_loss: 0.0070\n",
            "Epoch 23/50\n",
            "535/535 [==============================] - 23s 43ms/step - loss: 0.0463 - dense_4_loss: 0.0394 - dense_3_loss: 0.0069\n",
            "Epoch 24/50\n",
            "535/535 [==============================] - 23s 43ms/step - loss: 0.0508 - dense_4_loss: 0.0440 - dense_3_loss: 0.0068\n",
            "Epoch 25/50\n",
            "535/535 [==============================] - 23s 43ms/step - loss: 0.0432 - dense_4_loss: 0.0364 - dense_3_loss: 0.0068\n",
            "Epoch 26/50\n",
            "535/535 [==============================] - 24s 44ms/step - loss: 0.0441 - dense_4_loss: 0.0374 - dense_3_loss: 0.0068\n",
            "Epoch 27/50\n",
            "535/535 [==============================] - 23s 43ms/step - loss: 0.0496 - dense_4_loss: 0.0430 - dense_3_loss: 0.0066\n",
            "Epoch 28/50\n",
            "535/535 [==============================] - 23s 43ms/step - loss: 0.0434 - dense_4_loss: 0.0368 - dense_3_loss: 0.0067\n",
            "Epoch 29/50\n",
            "535/535 [==============================] - 23s 43ms/step - loss: 0.0476 - dense_4_loss: 0.0410 - dense_3_loss: 0.0066\n",
            "Epoch 30/50\n",
            "535/535 [==============================] - 23s 43ms/step - loss: 0.0442 - dense_4_loss: 0.0376 - dense_3_loss: 0.0066\n",
            "Epoch 31/50\n",
            "535/535 [==============================] - 23s 42ms/step - loss: 0.0430 - dense_4_loss: 0.0365 - dense_3_loss: 0.0065\n",
            "Epoch 32/50\n",
            "535/535 [==============================] - 23s 42ms/step - loss: 0.0440 - dense_4_loss: 0.0374 - dense_3_loss: 0.0066\n",
            "Epoch 33/50\n",
            "535/535 [==============================] - 23s 44ms/step - loss: 0.0485 - dense_4_loss: 0.0421 - dense_3_loss: 0.0065\n",
            "Epoch 34/50\n",
            "535/535 [==============================] - 23s 44ms/step - loss: 0.0434 - dense_4_loss: 0.0370 - dense_3_loss: 0.0064\n",
            "Epoch 35/50\n",
            "535/535 [==============================] - 23s 43ms/step - loss: 0.0416 - dense_4_loss: 0.0352 - dense_3_loss: 0.0064\n",
            "Epoch 36/50\n",
            "535/535 [==============================] - 23s 43ms/step - loss: 0.0440 - dense_4_loss: 0.0376 - dense_3_loss: 0.0064\n",
            "Epoch 37/50\n",
            "535/535 [==============================] - 23s 44ms/step - loss: 0.0425 - dense_4_loss: 0.0362 - dense_3_loss: 0.0063\n",
            "Epoch 38/50\n",
            "535/535 [==============================] - 23s 43ms/step - loss: 0.0478 - dense_4_loss: 0.0415 - dense_3_loss: 0.0063\n",
            "Epoch 39/50\n",
            "535/535 [==============================] - 23s 43ms/step - loss: 0.0409 - dense_4_loss: 0.0345 - dense_3_loss: 0.0063\n",
            "Epoch 40/50\n",
            "535/535 [==============================] - 23s 43ms/step - loss: 0.0420 - dense_4_loss: 0.0358 - dense_3_loss: 0.0063\n",
            "Epoch 41/50\n",
            "535/535 [==============================] - 23s 43ms/step - loss: 0.0419 - dense_4_loss: 0.0357 - dense_3_loss: 0.0062\n",
            "Epoch 42/50\n",
            "535/535 [==============================] - 23s 44ms/step - loss: 0.0413 - dense_4_loss: 0.0350 - dense_3_loss: 0.0063\n",
            "Epoch 43/50\n",
            "535/535 [==============================] - 23s 44ms/step - loss: 0.0409 - dense_4_loss: 0.0347 - dense_3_loss: 0.0061\n",
            "Epoch 44/50\n",
            "535/535 [==============================] - 23s 43ms/step - loss: 0.0472 - dense_4_loss: 0.0411 - dense_3_loss: 0.0062\n",
            "Epoch 45/50\n",
            "535/535 [==============================] - 24s 44ms/step - loss: 0.0514 - dense_4_loss: 0.0453 - dense_3_loss: 0.0061\n",
            "Epoch 46/50\n",
            "535/535 [==============================] - 23s 42ms/step - loss: 0.0412 - dense_4_loss: 0.0351 - dense_3_loss: 0.0061\n",
            "Epoch 47/50\n",
            "535/535 [==============================] - 23s 43ms/step - loss: 0.0455 - dense_4_loss: 0.0394 - dense_3_loss: 0.0060\n",
            "Epoch 48/50\n",
            "535/535 [==============================] - 23s 42ms/step - loss: 0.0424 - dense_4_loss: 0.0363 - dense_3_loss: 0.0061\n",
            "Epoch 49/50\n",
            "535/535 [==============================] - 24s 44ms/step - loss: 0.0404 - dense_4_loss: 0.0343 - dense_3_loss: 0.0061\n",
            "Epoch 50/50\n",
            "535/535 [==============================] - 23s 44ms/step - loss: 0.0455 - dense_4_loss: 0.0395 - dense_3_loss: 0.0060\n"
          ],
          "name": "stdout"
        }
      ]
    },
    {
      "cell_type": "code",
      "metadata": {
        "id": "gNx0SXIhhb0b",
        "colab": {
          "base_uri": "https://localhost:8080/",
          "height": 372
        },
        "outputId": "89040b2c-ff93-45a0-84b0-6931ec05567d"
      },
      "source": [
        "mod=Model(inputs=model_mse.inputs,outputs=model_mse.layers[4].output)\n",
        "mod.summary()"
      ],
      "execution_count": null,
      "outputs": [
        {
          "output_type": "stream",
          "text": [
            "Model: \"functional_3\"\n",
            "__________________________________________________________________________________________________\n",
            "Layer (type)                    Output Shape         Param #     Connected to                     \n",
            "==================================================================================================\n",
            "input_1 (InputLayer)            [(None, 53)]         0                                            \n",
            "__________________________________________________________________________________________________\n",
            "input_2 (InputLayer)            [(None, 444)]        0                                            \n",
            "__________________________________________________________________________________________________\n",
            "concatenate (Concatenate)       (None, 497)          0           input_1[0][0]                    \n",
            "                                                                 input_2[0][0]                    \n",
            "__________________________________________________________________________________________________\n",
            "dense (Dense)                   (None, 512)          254976      concatenate[0][0]                \n",
            "__________________________________________________________________________________________________\n",
            "dense_1 (Dense)                 (None, 256)          131328      dense[0][0]                      \n",
            "==================================================================================================\n",
            "Total params: 386,304\n",
            "Trainable params: 386,304\n",
            "Non-trainable params: 0\n",
            "__________________________________________________________________________________________________\n"
          ],
          "name": "stdout"
        }
      ]
    },
    {
      "cell_type": "code",
      "metadata": {
        "id": "IdaDfCWm8pDt",
        "colab": {
          "base_uri": "https://localhost:8080/",
          "height": 284
        },
        "outputId": "0adb878d-c586-40a0-fd8b-f931f071a847"
      },
      "source": [
        "plt.plot(hist.history['loss'])"
      ],
      "execution_count": null,
      "outputs": [
        {
          "output_type": "execute_result",
          "data": {
            "text/plain": [
              "[<matplotlib.lines.Line2D at 0x7f13f05c9f28>]"
            ]
          },
          "metadata": {
            "tags": []
          },
          "execution_count": 18
        },
        {
          "output_type": "display_data",
          "data": {
            "image/png": "[encoded data removed]",
            "text/plain": [
              "<Figure size 432x288 with 1 Axes>"
            ]
          },
          "metadata": {
            "tags": [],
            "needs_background": "light"
          }
        }
      ]
    },
    {
      "cell_type": "code",
      "metadata": {
        "id": "dcTepLPKl3uE",
        "colab": {
          "base_uri": "https://localhost:8080/",
          "height": 36
        },
        "outputId": "57cb61ce-9411-4ca0-a0ce-9fc429e33857"
      },
      "source": [
        "pre=mod.predict([X[no_dum],X[cat]])\n",
        "pre.shape"
      ],
      "execution_count": null,
      "outputs": [
        {
          "output_type": "execute_result",
          "data": {
            "text/plain": [
              "(1097231, 256)"
            ]
          },
          "metadata": {
            "tags": []
          },
          "execution_count": 19
        }
      ]
    },
    {
      "cell_type": "code",
      "metadata": {
        "id": "kB8qLYW28Rg6"
      },
      "source": [
        "pd.DataFrame(pre).to_csv('/content/gdrive/My Drive/fraud/without_id.csv')"
      ],
      "execution_count": null,
      "outputs": []
    },
    {
      "cell_type": "code",
      "metadata": {
        "id": "I-7kGh-p9H_e"
      },
      "source": [],
      "execution_count": null,
      "outputs": []
    }
  ]
}
