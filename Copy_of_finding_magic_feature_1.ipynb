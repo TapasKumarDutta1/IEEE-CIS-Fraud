{
  "nbformat": 4,
  "nbformat_minor": 0,
  "metadata": {
    "colab": {
      "name": "Copy of finding_magic_feature_1.ipynb",
      "provenance": [],
      "include_colab_link": true
    },
    "kernelspec": {
      "name": "python3",
      "display_name": "Python 3"
    }
  },
  "cells": [
    {
      "cell_type": "markdown",
      "metadata": {
        "id": "view-in-github",
        "colab_type": "text"
      },
      "source": [
        "<a href=\"https://colab.research.google.com/github/greyhound101/IEEE-CIS-Fraud/blob/master/Copy_of_finding_magic_feature_1.ipynb\" target=\"_parent\"><img src=\"https://colab.research.google.com/assets/colab-badge.svg\" alt=\"Open In Colab\"/></a>"
      ]
    },
    {
      "cell_type": "code",
      "metadata": {
        "id": "gYJb-PdCYTyO",
        "colab_type": "code",
        "colab": {
          "base_uri": "https://localhost:8080/",
          "height": 127
        },
        "outputId": "92ddd456-5092-4454-c605-71ac3b034586"
      },
      "source": [
        "import os\n",
        "os.environ['KAGGLE_USERNAME'] = \"tapaskd123\" # username from the json file\n",
        "os.environ['KAGGLE_KEY'] = \"aba8dc1f085221111d925003fe5a88ed\" # key from the json file\n",
        "!kaggle competitions download -c ieee-fraud-detection"
      ],
      "execution_count": null,
      "outputs": [
        {
          "output_type": "stream",
          "text": [
            "Warning: Looks like you're using an outdated API Version, please consider updating (server 1.5.6 / client 1.5.4)\n",
            "train_transaction.csv.zip: Skipping, found more recently modified local copy (use --force to force download)\n",
            "test_transaction.csv.zip: Skipping, found more recently modified local copy (use --force to force download)\n",
            "test_identity.csv.zip: Skipping, found more recently modified local copy (use --force to force download)\n",
            "sample_submission.csv.zip: Skipping, found more recently modified local copy (use --force to force download)\n",
            "train_identity.csv.zip: Skipping, found more recently modified local copy (use --force to force download)\n"
          ],
          "name": "stdout"
        }
      ]
    },
    {
      "cell_type": "code",
      "metadata": {
        "id": "qekonJP5YXR0",
        "colab_type": "code",
        "colab": {
          "base_uri": "https://localhost:8080/",
          "height": 54
        },
        "outputId": "eb3949dd-89cb-473f-f692-86d5d596af51"
      },
      "source": [
        "from google.colab import drive\n",
        "drive.mount('/content/gdrive')\n",
        "drive.mount(\"/content/gdrive\", force_remount=True)"
      ],
      "execution_count": null,
      "outputs": [
        {
          "output_type": "stream",
          "text": [
            "Drive already mounted at /content/gdrive; to attempt to forcibly remount, call drive.mount(\"/content/gdrive\", force_remount=True).\n",
            "Mounted at /content/gdrive\n"
          ],
          "name": "stdout"
        }
      ]
    },
    {
      "cell_type": "code",
      "metadata": {
        "id": "HJ21SexkYYOU",
        "colab_type": "code",
        "colab": {}
      },
      "source": [
        "import pandas as pd\n",
        "import numpy as np\n",
        "trn=pd.read_csv('train_transaction.csv.zip')\n",
        "trn_idn=pd.read_csv('train_identity.csv.zip')"
      ],
      "execution_count": null,
      "outputs": []
    },
    {
      "cell_type": "code",
      "metadata": {
        "id": "LFU-55eOg-lT",
        "colab_type": "code",
        "colab": {}
      },
      "source": [
        "trn=trn.merge(trn_idn,on='TransactionID',how='left')\n",
        "import gc\n",
        "del([trn_idn])\n",
        "gc.collect()"
      ],
      "execution_count": null,
      "outputs": []
    },
    {
      "cell_type": "code",
      "metadata": {
        "id": "ZjFdna1Ia5ar",
        "colab_type": "code",
        "colab": {}
      },
      "source": [
        "trn.head()"
      ],
      "execution_count": null,
      "outputs": []
    },
    {
      "cell_type": "code",
      "metadata": {
        "id": "KsSTY_QNa7XD",
        "colab_type": "code",
        "colab": {}
      },
      "source": [
        "trn['day']=trn['TransactionDT']//86400\n",
        "for col in range(1,16):\n",
        "  trn['d_'+str(col)]=trn['day']-trn['D'+str(col)]"
      ],
      "execution_count": null,
      "outputs": []
    },
    {
      "cell_type": "code",
      "metadata": {
        "id": "R3_Qt43cYZEI",
        "colab_type": "code",
        "colab": {}
      },
      "source": [
        "print(trn.shape)"
      ],
      "execution_count": null,
      "outputs": []
    },
    {
      "cell_type": "code",
      "metadata": {
        "id": "H-fTmYaXcZ9P",
        "colab_type": "code",
        "colab": {}
      },
      "source": [
        "def second(data):\n",
        "  return data[data.find('.'):]\n",
        "def first(data):\n",
        "  return data[:data.find('.')]\n",
        "trn['P_emaildomain'].fillna('nan',inplace=True)\n",
        "trn['R_emaildomain'].fillna('nan',inplace=True)\n",
        "trn['P_emaildomain_first']=trn['P_emaildomain'].apply(first)\n",
        "trn['P_emaildomain_second']=trn['P_emaildomain'].apply(second)\n",
        "trn['R_emaildomain_first']=trn['R_emaildomain'].apply(first)\n",
        "trn['R_emaildomain_second']=trn['R_emaildomain'].apply(second)"
      ],
      "execution_count": null,
      "outputs": []
    },
    {
      "cell_type": "code",
      "metadata": {
        "id": "-4f6JGkMbxFf",
        "colab_type": "code",
        "colab": {}
      },
      "source": [
        "trn=trn.drop(['TransactionID','TransactionDT','isFraud'],1)\n",
        "cat=list(trn.select_dtypes(include=object))\n",
        "trn[cat]=trn[cat].fillna('nan')\n",
        "trn=trn.fillna(-999)"
      ],
      "execution_count": null,
      "outputs": []
    },
    {
      "cell_type": "code",
      "metadata": {
        "id": "Ef996OEqd7EH",
        "colab_type": "code",
        "colab": {}
      },
      "source": [
        "trn=trn.loc[trn['D1']<trn['day']].reset_index(drop=True)"
      ],
      "execution_count": null,
      "outputs": []
    },
    {
      "cell_type": "code",
      "metadata": {
        "id": "tBF9uXisYqIj",
        "colab_type": "code",
        "colab": {}
      },
      "source": [
        "from tqdm import tqdm\n",
        "import random\n",
        "def group(df,cols):\n",
        "  df['id']=''\n",
        "  for col in cols:\n",
        "    df['id']+=df[col].astype(str)\n",
        "  result=0\n",
        "  for _,sdo in df.groupby(['id']):\n",
        "    tmp=0\n",
        "    tmp+=sdo['TransactionAmt'].values.sum()\n",
        "    tmp-=sdo.tail(1)['V307'].values\n",
        "    if tmp>0:\n",
        "      result+=tmp\n",
        "    else:\n",
        "      tmp-=result\n",
        "  return result\n",
        "trn=trn\n",
        "cols=list(trn)\n",
        "cols.remove('TransactionAmt')\n",
        "cols.remove('V307')\n",
        "random.shuffle(cols)\n",
        "ans=0\n",
        "ls=[]\n",
        "dk={}\n",
        "for en,col in enumerate(tqdm(cols)):\n",
        "  ls.append(col)\n",
        "  n_ans=group(trn,ls)\n",
        "  dk[col]=ans-n_ans\n",
        "  if ans!=0:\n",
        "    if n_ans>=ans:\n",
        "      ls.remove(col)\n",
        "    else:\n",
        "      ans=n_ans\n",
        "  else:\n",
        "    ans=n_ans"
      ],
      "execution_count": null,
      "outputs": []
    },
    {
      "cell_type": "code",
      "metadata": {
        "id": "dO3EHF3cSw6Z",
        "colab_type": "code",
        "colab": {}
      },
      "source": [
        "ans"
      ],
      "execution_count": null,
      "outputs": []
    },
    {
      "cell_type": "code",
      "metadata": {
        "id": "if3K7wRoSC1N",
        "colab_type": "code",
        "colab": {}
      },
      "source": [
        "df=pd.DataFrame(dk).T\n",
        "df['rank']=list(range(450))\n",
        "df.sort_values(by=0,ascending=False).head(20)"
      ],
      "execution_count": null,
      "outputs": []
    },
    {
      "cell_type": "code",
      "metadata": {
        "id": "QDXFyOJcnek7",
        "colab_type": "code",
        "colab": {}
      },
      "source": [
        "ls"
      ],
      "execution_count": null,
      "outputs": []
    },
    {
      "cell_type": "code",
      "metadata": {
        "id": "fHohMuKcPkTp",
        "colab_type": "code",
        "colab": {}
      },
      "source": [
        ""
      ],
      "execution_count": null,
      "outputs": []
    }
  ]
}