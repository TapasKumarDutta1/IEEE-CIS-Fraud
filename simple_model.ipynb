{
  "nbformat": 4,
  "nbformat_minor": 0,
  "metadata": {
    "colab": {
      "name": "simple_model",
      "provenance": [],
      "machine_shape": "hm",
      "include_colab_link": true
    },
    "kernelspec": {
      "name": "python3",
      "display_name": "Python 3"
    },
    "accelerator": "GPU"
  },
  "cells": [
    {
      "cell_type": "markdown",
      "metadata": {
        "id": "view-in-github",
        "colab_type": "text"
      },
      "source": [
        "<a href=\"https://colab.research.google.com/github/greyhound101/IEEE-CIS-Fraud/blob/master/simple_model.ipynb\" target=\"_parent\"><img src=\"https://colab.research.google.com/assets/colab-badge.svg\" alt=\"Open In Colab\"/></a>"
      ]
    },
    {
      "cell_type": "code",
      "metadata": {
        "id": "eQqlrXIJej1l",
        "colab_type": "code",
        "colab": {
          "base_uri": "https://localhost:8080/",
          "height": 51
        },
        "outputId": "9602a147-49be-456f-faf0-0c04a313ff07"
      },
      "source": [
        "from google.colab import drive\n",
        "drive.mount('/content/gdrive')\n",
        "drive.mount(\"/content/gdrive\", force_remount=True)"
      ],
      "execution_count": 1,
      "outputs": [
        {
          "output_type": "stream",
          "text": [
            "Drive already mounted at /content/gdrive; to attempt to forcibly remount, call drive.mount(\"/content/gdrive\", force_remount=True).\n",
            "Mounted at /content/gdrive\n"
          ],
          "name": "stdout"
        }
      ]
    },
    {
      "cell_type": "code",
      "metadata": {
        "id": "_WXDyhihenRg",
        "colab_type": "code",
        "colab": {
          "base_uri": "https://localhost:8080/",
          "height": 119
        },
        "outputId": "f33919e6-40c0-4dc7-dcff-3e9813f9b24f"
      },
      "source": [
        "import os\n",
        "os.environ['KAGGLE_USERNAME'] = \"tapaskd123\" # username from the json file\n",
        "os.environ['KAGGLE_KEY'] = \"aba8dc1f085221111d925003fe5a88ed\" # key from the json file\n",
        "!kaggle competitions download -c ieee-fraud-detection"
      ],
      "execution_count": 2,
      "outputs": [
        {
          "output_type": "stream",
          "text": [
            "Warning: Looks like you're using an outdated API Version, please consider updating (server 1.5.6 / client 1.5.4)\n",
            "train_identity.csv.zip: Skipping, found more recently modified local copy (use --force to force download)\n",
            "sample_submission.csv.zip: Skipping, found more recently modified local copy (use --force to force download)\n",
            "test_identity.csv.zip: Skipping, found more recently modified local copy (use --force to force download)\n",
            "train_transaction.csv.zip: Skipping, found more recently modified local copy (use --force to force download)\n",
            "test_transaction.csv.zip: Skipping, found more recently modified local copy (use --force to force download)\n"
          ],
          "name": "stdout"
        }
      ]
    },
    {
      "cell_type": "code",
      "metadata": {
        "id": "KQ_0F8Zfep7F",
        "colab_type": "code",
        "colab": {}
      },
      "source": [
        "n_fold=5\n",
        "lr=0.0001"
      ],
      "execution_count": 3,
      "outputs": []
    },
    {
      "cell_type": "code",
      "metadata": {
        "id": "OauHZNZMerDG",
        "colab_type": "code",
        "colab": {}
      },
      "source": [
        "import pandas as pd\n",
        "trn=pd.read_csv('/content/gdrive/My Drive/fraud/train.csv')\n",
        "tst=pd.read_csv('/content/gdrive/My Drive/fraud/test.csv')"
      ],
      "execution_count": 4,
      "outputs": []
    },
    {
      "cell_type": "code",
      "metadata": {
        "id": "Mja2yCpAINM4",
        "colab_type": "code",
        "colab": {}
      },
      "source": [
        "from tensorflow.keras.layers import *\n",
        "import tensorflow as tf\n",
        "import random, os, sys\n",
        "import numpy as np\n",
        "from tensorflow.keras.models import *\n",
        "from tensorflow.keras.layers import *\n",
        "from tensorflow.keras.callbacks import *\n",
        "from tensorflow.keras.initializers import *\n",
        "import tensorflow as tf"
      ],
      "execution_count": 5,
      "outputs": []
    },
    {
      "cell_type": "code",
      "metadata": {
        "id": "4OTCMdEiOn9z",
        "colab_type": "code",
        "colab": {}
      },
      "source": [
        "from sklearn.preprocessing import LabelEncoder\n",
        "import numpy as np\n",
        "\n",
        "\n",
        "class LabelEncoderExt(object):\n",
        "    def __init__(self):\n",
        "        \"\"\"\n",
        "        It differs from LabelEncoder by handling new classes and providing a value for it [Unknown]\n",
        "        Unknown will be added in fit and transform will take care of new item. It gives unknown class id\n",
        "        \"\"\"\n",
        "        self.label_encoder = LabelEncoder()\n",
        "        # self.classes_ = self.label_encoder.classes_\n",
        "\n",
        "    def fit(self, data_list):\n",
        "        \"\"\"\n",
        "        This will fit the encoder for all the unique values and introduce unknown value\n",
        "        :param data_list: A list of string\n",
        "        :return: self\n",
        "        \"\"\"\n",
        "        self.label_encoder = self.label_encoder.fit(list(data_list) + ['Unknown'])\n",
        "        self.classes_ = self.label_encoder.classes_\n",
        "\n",
        "        return self\n",
        "\n",
        "    def transform(self, data_list):\n",
        "        \"\"\"\n",
        "        This will transform the data_list to id list where the new values get assigned to Unknown class\n",
        "        :param data_list:\n",
        "        :return:\n",
        "        \"\"\"\n",
        "        new_data_list = list(data_list)\n",
        "        for unique_item in np.unique(data_list):\n",
        "            if unique_item not in self.label_encoder.classes_:\n",
        "                new_data_list = ['Unknown' if x==unique_item else x for x in new_data_list]\n",
        "\n",
        "        return self.label_encoder.transform(new_data_list)"
      ],
      "execution_count": 6,
      "outputs": []
    },
    {
      "cell_type": "code",
      "metadata": {
        "id": "kv80v8W_Ko2p",
        "colab_type": "code",
        "colab": {
          "base_uri": "https://localhost:8080/",
          "height": 51
        },
        "outputId": "1c68354f-2139-4c99-9056-3edee2e3da11"
      },
      "source": [
        "from sklearn.preprocessing import LabelEncoder\n",
        "cols=list(trn.select_dtypes(include=object))\n",
        "for col in cols:\n",
        "  le=LabelEncoderExt()\n",
        "  le.fit(trn[col].astype(str))\n",
        "  trn[col]=le.transform(trn[col].astype(str))\n",
        "  tst[col] = tst[col].map(lambda s: '<unknown>' if s not in le.classes_ else s)\n",
        "  tst[col]=le.transform(tst[col].astype(str))"
      ],
      "execution_count": 7,
      "outputs": [
        {
          "output_type": "stream",
          "text": [
            "/usr/local/lib/python3.6/dist-packages/ipykernel_launcher.py:7: FutureWarning: elementwise comparison failed; returning scalar instead, but in the future will perform elementwise comparison\n",
            "  import sys\n"
          ],
          "name": "stderr"
        }
      ]
    },
    {
      "cell_type": "code",
      "metadata": {
        "id": "f4jt2pcxPije",
        "colab_type": "code",
        "colab": {}
      },
      "source": [
        "from sklearn.model_selection import KFold\n",
        "from sklearn.preprocessing import StandardScaler\n",
        "from keras.layers import *\n",
        "from keras.optimizers import *\n",
        "from keras.models import *\n",
        "from keras import backend as K\n",
        "ss=StandardScaler()\n",
        "frd=trn['isFraud']\n",
        "ls=list(trn)\n",
        "trn=ss.fit_transform(trn.drop(['isFraud'],1))\n",
        "trn=pd.DataFrame(trn)"
      ],
      "execution_count": 8,
      "outputs": []
    },
    {
      "cell_type": "code",
      "metadata": {
        "id": "Uo9D7_Mt01Qq",
        "colab_type": "code",
        "colab": {}
      },
      "source": [
        "ls.remove('isFraud')\n",
        "trn.columns=ls\n",
        "trn['isFraud']=frd\n",
        "\n",
        "ls=list(tst)\n",
        "tst=ss.fit_transform(tst)\n",
        "tst=pd.DataFrame(tst)\n",
        "tst.columns=ls"
      ],
      "execution_count": 9,
      "outputs": []
    },
    {
      "cell_type": "code",
      "metadata": {
        "id": "9ESyOnm5Prsq",
        "colab_type": "code",
        "colab": {}
      },
      "source": [
        ""
      ],
      "execution_count": 9,
      "outputs": []
    },
    {
      "cell_type": "code",
      "metadata": {
        "id": "ym1ua9V-PnyT",
        "colab_type": "code",
        "colab": {
          "base_uri": "https://localhost:8080/",
          "height": 34
        },
        "outputId": "910d3d4b-253f-4b99-ffb5-86e72d62db85"
      },
      "source": [
        "tst.shape,trn.shape"
      ],
      "execution_count": 10,
      "outputs": [
        {
          "output_type": "execute_result",
          "data": {
            "text/plain": [
              "((506691, 370), (590540, 371))"
            ]
          },
          "metadata": {
            "tags": []
          },
          "execution_count": 10
        }
      ]
    },
    {
      "cell_type": "code",
      "metadata": {
        "id": "ES4W36q1Kz7Y",
        "colab_type": "code",
        "colab": {
          "base_uri": "https://localhost:8080/",
          "height": 119
        },
        "outputId": "defdc14f-dd88-4365-b59d-661d080b1836"
      },
      "source": [
        "def reduce_mem_usage(df):\n",
        "    \"\"\" iterate through all the columns of a dataframe and modify the data type\n",
        "        to reduce memory usage.        \n",
        "    \"\"\"\n",
        "    start_mem = df.memory_usage().sum() / 1024**2\n",
        "    print('Memory usage of dataframe is {:.2f} MB'.format(start_mem))\n",
        "    \n",
        "    for col in df.columns:\n",
        "        col_type = df[col].dtype\n",
        "        \n",
        "        if col_type != object:\n",
        "            c_min = df[col].min()\n",
        "            c_max = df[col].max()\n",
        "            if str(col_type)[:3] == 'int':\n",
        "                if c_min > np.iinfo(np.int8).min and c_max < np.iinfo(np.int8).max:\n",
        "                    df[col] = df[col].astype(np.int8)\n",
        "                elif c_min > np.iinfo(np.int16).min and c_max < np.iinfo(np.int16).max:\n",
        "                    df[col] = df[col].astype(np.int16)\n",
        "                elif c_min > np.iinfo(np.int32).min and c_max < np.iinfo(np.int32).max:\n",
        "                    df[col] = df[col].astype(np.int32)\n",
        "                elif c_min > np.iinfo(np.int64).min and c_max < np.iinfo(np.int64).max:\n",
        "                    df[col] = df[col].astype(np.int64)  \n",
        "            else:\n",
        "                if c_min > np.finfo(np.float16).min and c_max < np.finfo(np.float16).max:\n",
        "                    df[col] = df[col].astype(np.float16)\n",
        "                elif c_min > np.finfo(np.float32).min and c_max < np.finfo(np.float32).max:\n",
        "                    df[col] = df[col].astype(np.float32)\n",
        "                else:\n",
        "                    df[col] = df[col].astype(np.float64)\n",
        "        else:\n",
        "            df[col] = df[col].astype('category')\n",
        "\n",
        "    end_mem = df.memory_usage().sum() / 1024**2\n",
        "    print('Memory usage after optimization is: {:.2f} MB'.format(end_mem))\n",
        "    print('Decreased by {:.1f}%'.format(100 * (start_mem - end_mem) / start_mem))\n",
        "    \n",
        "    return df\n",
        "trn=reduce_mem_usage(trn)\n",
        "tst=reduce_mem_usage(tst)"
      ],
      "execution_count": 11,
      "outputs": [
        {
          "output_type": "stream",
          "text": [
            "Memory usage of dataframe is 1671.53 MB\n",
            "Memory usage after optimization is: 417.88 MB\n",
            "Decreased by 75.0%\n",
            "Memory usage of dataframe is 1430.33 MB\n",
            "Memory usage after optimization is: 357.58 MB\n",
            "Decreased by 75.0%\n"
          ],
          "name": "stdout"
        }
      ]
    },
    {
      "cell_type": "code",
      "metadata": {
        "id": "ArRiZ5lS0F9u",
        "colab_type": "code",
        "colab": {
          "base_uri": "https://localhost:8080/",
          "height": 34
        },
        "outputId": "10c29f31-2975-4e18-ab69-252b5fd460b4"
      },
      "source": [
        "trn_n=pd.read_csv('train_transaction.csv.zip')\n",
        "tst_n=pd.read_csv('test_transaction.csv.zip')\n",
        "trn_ls=list(trn_n)\n",
        "tst_ls=list(tst_n)\n",
        "for col in trn:\n",
        "  if col in trn_ls:\n",
        "    trn[col+'_isna']=trn_n[col].isna().astype('uint8')\n",
        "for col in tst:\n",
        "  if col in tst_ls:\n",
        "    tst[col+'_isna']=tst_n[col].isna().astype('uint8')\n",
        "import gc\n",
        "del([trn_n,tst_n])\n",
        "gc.collect()"
      ],
      "execution_count": 12,
      "outputs": [
        {
          "output_type": "execute_result",
          "data": {
            "text/plain": [
              "0"
            ]
          },
          "metadata": {
            "tags": []
          },
          "execution_count": 12
        }
      ]
    },
    {
      "cell_type": "code",
      "metadata": {
        "id": "mOcyf3LcXiPt",
        "colab_type": "code",
        "colab": {
          "base_uri": "https://localhost:8080/",
          "height": 34
        },
        "outputId": "cd886ecc-b77e-4961-9c01-0579212c9ea7"
      },
      "source": [
        "trn=trn.drop(['isFraud_isna'],1)\n",
        "trn.shape,tst.shape"
      ],
      "execution_count": 14,
      "outputs": [
        {
          "output_type": "execute_result",
          "data": {
            "text/plain": [
              "((590540, 594), (506691, 593))"
            ]
          },
          "metadata": {
            "tags": []
          },
          "execution_count": 14
        }
      ]
    },
    {
      "cell_type": "code",
      "metadata": {
        "id": "eq6gnpm4CjDC",
        "colab_type": "code",
        "colab": {
          "base_uri": "https://localhost:8080/",
          "height": 1000
        },
        "outputId": "7925cd18-f9a5-4aec-f7a6-600e0cb40f53"
      },
      "source": [
        "\n",
        "from keras.utils import *\n",
        "def load_model():\n",
        "  K.clear_session()\n",
        "  inp=Input((593,))\n",
        "  x=Dense(256,activation='relu')(inp)\n",
        "  x=Dropout(0.3)(x)\n",
        "  x=BatchNormalization()(x)\n",
        "  x=Dense(256,activation='relu')(x)\n",
        "  x=Dropout(0.3)(x)\n",
        "  x=BatchNormalization()(x)\n",
        "  x=Dense(256,activation='relu')(x)\n",
        "  x=Dropout(0.3)(x)\n",
        "  x=BatchNormalization()(x)\n",
        "  x=Dense(1,activation='sigmoid')(x)\n",
        "  mod=Model(inputs=inp,outputs=x)\n",
        "  return mod\n",
        "kf = KFold(n_splits=n_fold)\n",
        "for en,(train_index, test_index) in enumerate(kf.split(trn)):\n",
        "  train=trn.loc[train_index].reset_index(drop=True)\n",
        "  test=trn.loc[test_index].reset_index(drop=True)\n",
        "  mod=load_model()\n",
        "  mod.compile(optimizer=Adam(0.0001,decay=1e-5),loss='binary_crossentropy',metrics='accuracy')\n",
        "  es=EarlyStopping(monitor='val_loss',min_delta=0.0001,mode='min',restore_best_weights=True,patience=5)\n",
        "  mod.fit(train.drop(['isFraud'],1),train['isFraud'],validation_data=(test.drop(['isFraud'],1),test['isFraud']),batch_size=2048,epochs=1000,callbacks=[es])\n",
        "  del([train,test])\n",
        "  gc.collect()\n",
        "  if en==0:\n",
        "    pre=mod.predict(tst)/n_fold\n",
        "  else:\n",
        "    pre+=mod.predict(tst)/n_fold"
      ],
      "execution_count": 17,
      "outputs": [
        {
          "output_type": "stream",
          "text": [
            "Epoch 1/1000\n",
            "231/231 [==============================] - 2s 10ms/step - loss: 0.6715 - accuracy: 0.6614 - val_loss: 0.5512 - val_accuracy: 0.9158\n",
            "Epoch 2/1000\n",
            "231/231 [==============================] - 2s 7ms/step - loss: 0.4646 - accuracy: 0.8856 - val_loss: 0.3909 - val_accuracy: 0.9593\n",
            "Epoch 3/1000\n",
            "231/231 [==============================] - 2s 7ms/step - loss: 0.3091 - accuracy: 0.9495 - val_loss: 0.2806 - val_accuracy: 0.9669\n",
            "Epoch 4/1000\n",
            "231/231 [==============================] - 2s 7ms/step - loss: 0.2126 - accuracy: 0.9613 - val_loss: 0.2499 - val_accuracy: 0.9681\n",
            "Epoch 5/1000\n",
            "231/231 [==============================] - 2s 7ms/step - loss: 0.1669 - accuracy: 0.9645 - val_loss: 0.2565 - val_accuracy: 0.9685\n",
            "Epoch 6/1000\n",
            "231/231 [==============================] - 2s 7ms/step - loss: 0.1453 - accuracy: 0.9655 - val_loss: 0.2458 - val_accuracy: 0.9692\n",
            "Epoch 7/1000\n",
            "231/231 [==============================] - 2s 7ms/step - loss: 0.1335 - accuracy: 0.9662 - val_loss: 0.2804 - val_accuracy: 0.9689\n",
            "Epoch 8/1000\n",
            "231/231 [==============================] - 2s 7ms/step - loss: 0.1268 - accuracy: 0.9666 - val_loss: 0.3132 - val_accuracy: 0.9690\n",
            "Epoch 9/1000\n",
            "231/231 [==============================] - 2s 7ms/step - loss: 0.1222 - accuracy: 0.9671 - val_loss: 0.3291 - val_accuracy: 0.9690\n",
            "Epoch 10/1000\n",
            "231/231 [==============================] - 2s 7ms/step - loss: 0.1192 - accuracy: 0.9673 - val_loss: 0.3483 - val_accuracy: 0.9690\n",
            "Epoch 11/1000\n",
            "231/231 [==============================] - 2s 7ms/step - loss: 0.1166 - accuracy: 0.9677 - val_loss: 0.3699 - val_accuracy: 0.9690\n",
            "Epoch 1/1000\n",
            "231/231 [==============================] - 2s 10ms/step - loss: 0.6796 - accuracy: 0.6411 - val_loss: 0.5176 - val_accuracy: 0.9445\n",
            "Epoch 2/1000\n",
            "231/231 [==============================] - 2s 7ms/step - loss: 0.4723 - accuracy: 0.8751 - val_loss: 0.3593 - val_accuracy: 0.9615\n",
            "Epoch 3/1000\n",
            "231/231 [==============================] - 2s 7ms/step - loss: 0.3122 - accuracy: 0.9520 - val_loss: 0.2312 - val_accuracy: 0.9647\n",
            "Epoch 4/1000\n",
            "231/231 [==============================] - 1s 6ms/step - loss: 0.2117 - accuracy: 0.9641 - val_loss: 0.1686 - val_accuracy: 0.9655\n",
            "Epoch 5/1000\n",
            "231/231 [==============================] - 2s 7ms/step - loss: 0.1650 - accuracy: 0.9671 - val_loss: 0.1465 - val_accuracy: 0.9657\n",
            "Epoch 6/1000\n",
            "231/231 [==============================] - 2s 7ms/step - loss: 0.1409 - accuracy: 0.9683 - val_loss: 0.1364 - val_accuracy: 0.9656\n",
            "Epoch 7/1000\n",
            "231/231 [==============================] - 2s 7ms/step - loss: 0.1296 - accuracy: 0.9690 - val_loss: 0.1312 - val_accuracy: 0.9657\n",
            "Epoch 8/1000\n",
            "231/231 [==============================] - 2s 7ms/step - loss: 0.1225 - accuracy: 0.9692 - val_loss: 0.1296 - val_accuracy: 0.9656\n",
            "Epoch 9/1000\n",
            "231/231 [==============================] - 2s 7ms/step - loss: 0.1184 - accuracy: 0.9694 - val_loss: 0.1281 - val_accuracy: 0.9658\n",
            "Epoch 10/1000\n",
            "231/231 [==============================] - 2s 7ms/step - loss: 0.1146 - accuracy: 0.9697 - val_loss: 0.1290 - val_accuracy: 0.9654\n",
            "Epoch 11/1000\n",
            "231/231 [==============================] - 2s 7ms/step - loss: 0.1121 - accuracy: 0.9701 - val_loss: 0.1286 - val_accuracy: 0.9655\n",
            "Epoch 12/1000\n",
            "231/231 [==============================] - 2s 6ms/step - loss: 0.1103 - accuracy: 0.9703 - val_loss: 0.1288 - val_accuracy: 0.9653\n",
            "Epoch 13/1000\n",
            "231/231 [==============================] - 2s 7ms/step - loss: 0.1080 - accuracy: 0.9706 - val_loss: 0.1286 - val_accuracy: 0.9655\n",
            "Epoch 14/1000\n",
            "231/231 [==============================] - 2s 7ms/step - loss: 0.1064 - accuracy: 0.9710 - val_loss: 0.1284 - val_accuracy: 0.9653\n",
            "Epoch 1/1000\n",
            "231/231 [==============================] - 2s 9ms/step - loss: 0.6742 - accuracy: 0.6609 - val_loss: 0.4684 - val_accuracy: 0.9528\n",
            "Epoch 2/1000\n",
            "231/231 [==============================] - 2s 7ms/step - loss: 0.4634 - accuracy: 0.8906 - val_loss: 0.3148 - val_accuracy: 0.9629\n",
            "Epoch 3/1000\n",
            "231/231 [==============================] - 2s 7ms/step - loss: 0.3072 - accuracy: 0.9529 - val_loss: 0.2146 - val_accuracy: 0.9662\n",
            "Epoch 4/1000\n",
            "231/231 [==============================] - 2s 7ms/step - loss: 0.2107 - accuracy: 0.9641 - val_loss: 0.1616 - val_accuracy: 0.9668\n",
            "Epoch 5/1000\n",
            "231/231 [==============================] - 2s 7ms/step - loss: 0.1644 - accuracy: 0.9669 - val_loss: 0.1405 - val_accuracy: 0.9671\n",
            "Epoch 6/1000\n",
            "231/231 [==============================] - 1s 6ms/step - loss: 0.1408 - accuracy: 0.9679 - val_loss: 0.1319 - val_accuracy: 0.9672\n",
            "Epoch 7/1000\n",
            "231/231 [==============================] - 2s 7ms/step - loss: 0.1294 - accuracy: 0.9687 - val_loss: 0.1284 - val_accuracy: 0.9671\n",
            "Epoch 8/1000\n",
            "231/231 [==============================] - 2s 7ms/step - loss: 0.1228 - accuracy: 0.9689 - val_loss: 0.1269 - val_accuracy: 0.9672\n",
            "Epoch 9/1000\n",
            "231/231 [==============================] - 2s 7ms/step - loss: 0.1178 - accuracy: 0.9694 - val_loss: 0.1263 - val_accuracy: 0.9671\n",
            "Epoch 10/1000\n",
            "231/231 [==============================] - 1s 6ms/step - loss: 0.1152 - accuracy: 0.9695 - val_loss: 0.1264 - val_accuracy: 0.9668\n",
            "Epoch 11/1000\n",
            "231/231 [==============================] - 2s 7ms/step - loss: 0.1117 - accuracy: 0.9699 - val_loss: 0.1259 - val_accuracy: 0.9669\n",
            "Epoch 12/1000\n",
            "231/231 [==============================] - 2s 7ms/step - loss: 0.1098 - accuracy: 0.9702 - val_loss: 0.1243 - val_accuracy: 0.9673\n",
            "Epoch 13/1000\n",
            "231/231 [==============================] - 2s 7ms/step - loss: 0.1080 - accuracy: 0.9706 - val_loss: 0.1247 - val_accuracy: 0.9670\n",
            "Epoch 14/1000\n",
            "231/231 [==============================] - 2s 7ms/step - loss: 0.1060 - accuracy: 0.9707 - val_loss: 0.1243 - val_accuracy: 0.9671\n",
            "Epoch 15/1000\n",
            "231/231 [==============================] - 2s 7ms/step - loss: 0.1052 - accuracy: 0.9709 - val_loss: 0.1237 - val_accuracy: 0.9671\n",
            "Epoch 16/1000\n",
            "231/231 [==============================] - 2s 7ms/step - loss: 0.1033 - accuracy: 0.9714 - val_loss: 0.1239 - val_accuracy: 0.9672\n",
            "Epoch 17/1000\n",
            "231/231 [==============================] - 2s 7ms/step - loss: 0.1016 - accuracy: 0.9716 - val_loss: 0.1208 - val_accuracy: 0.9675\n",
            "Epoch 18/1000\n",
            "231/231 [==============================] - 2s 7ms/step - loss: 0.1007 - accuracy: 0.9717 - val_loss: 0.1204 - val_accuracy: 0.9678\n",
            "Epoch 19/1000\n",
            "231/231 [==============================] - 2s 7ms/step - loss: 0.0988 - accuracy: 0.9723 - val_loss: 0.1205 - val_accuracy: 0.9677\n",
            "Epoch 20/1000\n",
            "231/231 [==============================] - 2s 7ms/step - loss: 0.0977 - accuracy: 0.9725 - val_loss: 0.1199 - val_accuracy: 0.9678\n",
            "Epoch 21/1000\n",
            "231/231 [==============================] - 2s 7ms/step - loss: 0.0962 - accuracy: 0.9729 - val_loss: 0.1197 - val_accuracy: 0.9677\n",
            "Epoch 22/1000\n",
            "231/231 [==============================] - 2s 8ms/step - loss: 0.0952 - accuracy: 0.9732 - val_loss: 0.1219 - val_accuracy: 0.9677\n",
            "Epoch 23/1000\n",
            "231/231 [==============================] - 2s 8ms/step - loss: 0.0940 - accuracy: 0.9735 - val_loss: 0.1180 - val_accuracy: 0.9681\n",
            "Epoch 24/1000\n",
            "231/231 [==============================] - 2s 8ms/step - loss: 0.0925 - accuracy: 0.9737 - val_loss: 0.1169 - val_accuracy: 0.9694\n",
            "Epoch 25/1000\n",
            "231/231 [==============================] - 2s 8ms/step - loss: 0.0917 - accuracy: 0.9741 - val_loss: 0.1210 - val_accuracy: 0.9679\n",
            "Epoch 26/1000\n",
            "231/231 [==============================] - 2s 8ms/step - loss: 0.0902 - accuracy: 0.9745 - val_loss: 0.1192 - val_accuracy: 0.9692\n",
            "Epoch 27/1000\n",
            "231/231 [==============================] - 2s 7ms/step - loss: 0.0891 - accuracy: 0.9747 - val_loss: 0.1178 - val_accuracy: 0.9694\n",
            "Epoch 28/1000\n",
            "231/231 [==============================] - 2s 7ms/step - loss: 0.0886 - accuracy: 0.9748 - val_loss: 0.1182 - val_accuracy: 0.9691\n",
            "Epoch 29/1000\n",
            "231/231 [==============================] - 2s 7ms/step - loss: 0.0882 - accuracy: 0.9750 - val_loss: 0.1183 - val_accuracy: 0.9693\n",
            "Epoch 1/1000\n",
            "231/231 [==============================] - 2s 10ms/step - loss: 0.6809 - accuracy: 0.6460 - val_loss: 0.5230 - val_accuracy: 0.9406\n",
            "Epoch 2/1000\n",
            "231/231 [==============================] - 2s 7ms/step - loss: 0.4739 - accuracy: 0.8792 - val_loss: 0.3629 - val_accuracy: 0.9622\n",
            "Epoch 3/1000\n",
            "231/231 [==============================] - 2s 7ms/step - loss: 0.3144 - accuracy: 0.9506 - val_loss: 0.2313 - val_accuracy: 0.9652\n",
            "Epoch 4/1000\n",
            "231/231 [==============================] - 2s 7ms/step - loss: 0.2145 - accuracy: 0.9631 - val_loss: 0.1725 - val_accuracy: 0.9665\n",
            "Epoch 5/1000\n",
            "231/231 [==============================] - 2s 7ms/step - loss: 0.1653 - accuracy: 0.9665 - val_loss: 0.1438 - val_accuracy: 0.9669\n",
            "Epoch 6/1000\n",
            "231/231 [==============================] - 2s 7ms/step - loss: 0.1422 - accuracy: 0.9679 - val_loss: 0.1321 - val_accuracy: 0.9671\n",
            "Epoch 7/1000\n",
            "231/231 [==============================] - 1s 6ms/step - loss: 0.1306 - accuracy: 0.9684 - val_loss: 0.1257 - val_accuracy: 0.9672\n",
            "Epoch 8/1000\n",
            "231/231 [==============================] - 2s 7ms/step - loss: 0.1234 - accuracy: 0.9689 - val_loss: 0.1230 - val_accuracy: 0.9670\n",
            "Epoch 9/1000\n",
            "231/231 [==============================] - 2s 7ms/step - loss: 0.1194 - accuracy: 0.9692 - val_loss: 0.1220 - val_accuracy: 0.9669\n",
            "Epoch 10/1000\n",
            "231/231 [==============================] - 2s 7ms/step - loss: 0.1166 - accuracy: 0.9693 - val_loss: 0.1220 - val_accuracy: 0.9667\n",
            "Epoch 11/1000\n",
            "231/231 [==============================] - 2s 7ms/step - loss: 0.1137 - accuracy: 0.9697 - val_loss: 0.1203 - val_accuracy: 0.9669\n",
            "Epoch 12/1000\n",
            "231/231 [==============================] - 2s 7ms/step - loss: 0.1110 - accuracy: 0.9700 - val_loss: 0.1194 - val_accuracy: 0.9669\n",
            "Epoch 13/1000\n",
            "231/231 [==============================] - 2s 7ms/step - loss: 0.1097 - accuracy: 0.9703 - val_loss: 0.1192 - val_accuracy: 0.9670\n",
            "Epoch 14/1000\n",
            "231/231 [==============================] - 1s 6ms/step - loss: 0.1077 - accuracy: 0.9706 - val_loss: 0.1176 - val_accuracy: 0.9672\n",
            "Epoch 15/1000\n",
            "231/231 [==============================] - 2s 7ms/step - loss: 0.1061 - accuracy: 0.9709 - val_loss: 0.1186 - val_accuracy: 0.9669\n",
            "Epoch 16/1000\n",
            "231/231 [==============================] - 2s 7ms/step - loss: 0.1041 - accuracy: 0.9714 - val_loss: 0.1163 - val_accuracy: 0.9674\n",
            "Epoch 17/1000\n",
            "231/231 [==============================] - 2s 7ms/step - loss: 0.1026 - accuracy: 0.9717 - val_loss: 0.1163 - val_accuracy: 0.9674\n",
            "Epoch 18/1000\n",
            "231/231 [==============================] - 2s 7ms/step - loss: 0.1015 - accuracy: 0.9719 - val_loss: 0.1154 - val_accuracy: 0.9678\n",
            "Epoch 19/1000\n",
            "231/231 [==============================] - 2s 7ms/step - loss: 0.1000 - accuracy: 0.9722 - val_loss: 0.1164 - val_accuracy: 0.9677\n",
            "Epoch 20/1000\n",
            "231/231 [==============================] - 2s 7ms/step - loss: 0.0983 - accuracy: 0.9727 - val_loss: 0.1160 - val_accuracy: 0.9677\n",
            "Epoch 21/1000\n",
            "231/231 [==============================] - 2s 7ms/step - loss: 0.0972 - accuracy: 0.9729 - val_loss: 0.1153 - val_accuracy: 0.9678\n",
            "Epoch 22/1000\n",
            "231/231 [==============================] - 2s 7ms/step - loss: 0.0967 - accuracy: 0.9729 - val_loss: 0.1156 - val_accuracy: 0.9677\n",
            "Epoch 23/1000\n",
            "231/231 [==============================] - 2s 7ms/step - loss: 0.0950 - accuracy: 0.9735 - val_loss: 0.1147 - val_accuracy: 0.9677\n",
            "Epoch 24/1000\n",
            "231/231 [==============================] - 2s 7ms/step - loss: 0.0937 - accuracy: 0.9737 - val_loss: 0.1134 - val_accuracy: 0.9683\n",
            "Epoch 25/1000\n",
            "231/231 [==============================] - 2s 7ms/step - loss: 0.0926 - accuracy: 0.9740 - val_loss: 0.1135 - val_accuracy: 0.9682\n",
            "Epoch 26/1000\n",
            "231/231 [==============================] - 1s 6ms/step - loss: 0.0917 - accuracy: 0.9743 - val_loss: 0.1132 - val_accuracy: 0.9683\n",
            "Epoch 27/1000\n",
            "231/231 [==============================] - 1s 6ms/step - loss: 0.0906 - accuracy: 0.9745 - val_loss: 0.1119 - val_accuracy: 0.9682\n",
            "Epoch 28/1000\n",
            "231/231 [==============================] - 2s 7ms/step - loss: 0.0898 - accuracy: 0.9748 - val_loss: 0.1149 - val_accuracy: 0.9681\n",
            "Epoch 29/1000\n",
            "231/231 [==============================] - 2s 7ms/step - loss: 0.0885 - accuracy: 0.9749 - val_loss: 0.1123 - val_accuracy: 0.9683\n",
            "Epoch 30/1000\n",
            "231/231 [==============================] - 2s 7ms/step - loss: 0.0879 - accuracy: 0.9753 - val_loss: 0.1119 - val_accuracy: 0.9685\n",
            "Epoch 31/1000\n",
            "231/231 [==============================] - 2s 7ms/step - loss: 0.0869 - accuracy: 0.9752 - val_loss: 0.1123 - val_accuracy: 0.9683\n",
            "Epoch 32/1000\n",
            "231/231 [==============================] - 1s 6ms/step - loss: 0.0860 - accuracy: 0.9756 - val_loss: 0.1124 - val_accuracy: 0.9686\n",
            "Epoch 1/1000\n",
            "231/231 [==============================] - 2s 10ms/step - loss: 0.6867 - accuracy: 0.6402 - val_loss: 0.5111 - val_accuracy: 0.9395\n",
            "Epoch 2/1000\n",
            "231/231 [==============================] - 2s 7ms/step - loss: 0.4748 - accuracy: 0.8663 - val_loss: 0.3411 - val_accuracy: 0.9571\n",
            "Epoch 3/1000\n",
            "231/231 [==============================] - 2s 7ms/step - loss: 0.3200 - accuracy: 0.9448 - val_loss: 0.2270 - val_accuracy: 0.9689\n",
            "Epoch 4/1000\n",
            "231/231 [==============================] - 1s 6ms/step - loss: 0.2240 - accuracy: 0.9610 - val_loss: 0.1686 - val_accuracy: 0.9692\n",
            "Epoch 5/1000\n",
            "231/231 [==============================] - 2s 7ms/step - loss: 0.1767 - accuracy: 0.9651 - val_loss: 0.1459 - val_accuracy: 0.9692\n",
            "Epoch 6/1000\n",
            "231/231 [==============================] - 1s 6ms/step - loss: 0.1532 - accuracy: 0.9669 - val_loss: 0.1353 - val_accuracy: 0.9693\n",
            "Epoch 7/1000\n",
            "231/231 [==============================] - 2s 7ms/step - loss: 0.1412 - accuracy: 0.9677 - val_loss: 0.1294 - val_accuracy: 0.9695\n",
            "Epoch 8/1000\n",
            "231/231 [==============================] - 1s 6ms/step - loss: 0.1345 - accuracy: 0.9681 - val_loss: 0.1269 - val_accuracy: 0.9691\n",
            "Epoch 9/1000\n",
            "231/231 [==============================] - 2s 7ms/step - loss: 0.1280 - accuracy: 0.9686 - val_loss: 0.1248 - val_accuracy: 0.9691\n",
            "Epoch 10/1000\n",
            "231/231 [==============================] - 2s 7ms/step - loss: 0.1252 - accuracy: 0.9692 - val_loss: 0.1233 - val_accuracy: 0.9690\n",
            "Epoch 11/1000\n",
            "231/231 [==============================] - 2s 7ms/step - loss: 0.1219 - accuracy: 0.9694 - val_loss: 0.1219 - val_accuracy: 0.9688\n",
            "Epoch 12/1000\n",
            "231/231 [==============================] - 2s 7ms/step - loss: 0.1189 - accuracy: 0.9698 - val_loss: 0.1207 - val_accuracy: 0.9688\n",
            "Epoch 13/1000\n",
            "231/231 [==============================] - 2s 7ms/step - loss: 0.1164 - accuracy: 0.9699 - val_loss: 0.1203 - val_accuracy: 0.9689\n",
            "Epoch 14/1000\n",
            "231/231 [==============================] - 2s 7ms/step - loss: 0.1137 - accuracy: 0.9704 - val_loss: 0.1182 - val_accuracy: 0.9688\n",
            "Epoch 15/1000\n",
            "231/231 [==============================] - 2s 7ms/step - loss: 0.1110 - accuracy: 0.9708 - val_loss: 0.1184 - val_accuracy: 0.9687\n",
            "Epoch 16/1000\n",
            "231/231 [==============================] - 2s 7ms/step - loss: 0.1099 - accuracy: 0.9708 - val_loss: 0.1176 - val_accuracy: 0.9687\n",
            "Epoch 17/1000\n",
            "231/231 [==============================] - 2s 7ms/step - loss: 0.1078 - accuracy: 0.9713 - val_loss: 0.1170 - val_accuracy: 0.9691\n",
            "Epoch 18/1000\n",
            "231/231 [==============================] - 2s 7ms/step - loss: 0.1064 - accuracy: 0.9716 - val_loss: 0.1164 - val_accuracy: 0.9690\n",
            "Epoch 19/1000\n",
            "231/231 [==============================] - 2s 7ms/step - loss: 0.1041 - accuracy: 0.9717 - val_loss: 0.1167 - val_accuracy: 0.9688\n",
            "Epoch 20/1000\n",
            "231/231 [==============================] - 2s 7ms/step - loss: 0.1020 - accuracy: 0.9722 - val_loss: 0.1160 - val_accuracy: 0.9689\n",
            "Epoch 21/1000\n",
            "231/231 [==============================] - 1s 6ms/step - loss: 0.1005 - accuracy: 0.9722 - val_loss: 0.1154 - val_accuracy: 0.9693\n",
            "Epoch 22/1000\n",
            "231/231 [==============================] - 2s 7ms/step - loss: 0.0988 - accuracy: 0.9727 - val_loss: 0.1158 - val_accuracy: 0.9692\n",
            "Epoch 23/1000\n",
            "231/231 [==============================] - 2s 7ms/step - loss: 0.0974 - accuracy: 0.9731 - val_loss: 0.1150 - val_accuracy: 0.9693\n",
            "Epoch 24/1000\n",
            "231/231 [==============================] - 2s 7ms/step - loss: 0.0964 - accuracy: 0.9732 - val_loss: 0.1148 - val_accuracy: 0.9695\n",
            "Epoch 25/1000\n",
            "231/231 [==============================] - 2s 7ms/step - loss: 0.0950 - accuracy: 0.9736 - val_loss: 0.1147 - val_accuracy: 0.9696\n",
            "Epoch 26/1000\n",
            "231/231 [==============================] - 1s 6ms/step - loss: 0.0938 - accuracy: 0.9739 - val_loss: 0.1142 - val_accuracy: 0.9697\n",
            "Epoch 27/1000\n",
            "231/231 [==============================] - 2s 7ms/step - loss: 0.0930 - accuracy: 0.9739 - val_loss: 0.1149 - val_accuracy: 0.9695\n",
            "Epoch 28/1000\n",
            "231/231 [==============================] - 2s 7ms/step - loss: 0.0915 - accuracy: 0.9743 - val_loss: 0.1148 - val_accuracy: 0.9695\n",
            "Epoch 29/1000\n",
            "231/231 [==============================] - 2s 7ms/step - loss: 0.0904 - accuracy: 0.9746 - val_loss: 0.1142 - val_accuracy: 0.9695\n",
            "Epoch 30/1000\n",
            "231/231 [==============================] - 2s 7ms/step - loss: 0.0895 - accuracy: 0.9748 - val_loss: 0.1137 - val_accuracy: 0.9697\n",
            "Epoch 31/1000\n",
            "231/231 [==============================] - 2s 7ms/step - loss: 0.0886 - accuracy: 0.9751 - val_loss: 0.1138 - val_accuracy: 0.9697\n",
            "Epoch 32/1000\n",
            "231/231 [==============================] - 2s 7ms/step - loss: 0.0874 - accuracy: 0.9755 - val_loss: 0.1149 - val_accuracy: 0.9696\n",
            "Epoch 33/1000\n",
            "231/231 [==============================] - 2s 7ms/step - loss: 0.0867 - accuracy: 0.9755 - val_loss: 0.1144 - val_accuracy: 0.9695\n",
            "Epoch 34/1000\n",
            "231/231 [==============================] - 2s 7ms/step - loss: 0.0857 - accuracy: 0.9756 - val_loss: 0.1150 - val_accuracy: 0.9695\n",
            "Epoch 35/1000\n",
            "231/231 [==============================] - 1s 6ms/step - loss: 0.0846 - accuracy: 0.9760 - val_loss: 0.1129 - val_accuracy: 0.9698\n",
            "Epoch 36/1000\n",
            "231/231 [==============================] - 1s 6ms/step - loss: 0.0839 - accuracy: 0.9761 - val_loss: 0.1145 - val_accuracy: 0.9696\n",
            "Epoch 37/1000\n",
            "231/231 [==============================] - 2s 7ms/step - loss: 0.0830 - accuracy: 0.9764 - val_loss: 0.1148 - val_accuracy: 0.9694\n",
            "Epoch 38/1000\n",
            "231/231 [==============================] - 2s 7ms/step - loss: 0.0824 - accuracy: 0.9767 - val_loss: 0.1146 - val_accuracy: 0.9697\n",
            "Epoch 39/1000\n",
            "231/231 [==============================] - 1s 6ms/step - loss: 0.0815 - accuracy: 0.9767 - val_loss: 0.1149 - val_accuracy: 0.9696\n",
            "Epoch 40/1000\n",
            "231/231 [==============================] - 2s 7ms/step - loss: 0.0809 - accuracy: 0.9769 - val_loss: 0.1143 - val_accuracy: 0.9696\n"
          ],
          "name": "stdout"
        }
      ]
    },
    {
      "cell_type": "code",
      "metadata": {
        "id": "2bzrWN4CXn3e",
        "colab_type": "code",
        "colab": {
          "base_uri": "https://localhost:8080/",
          "height": 316
        },
        "outputId": "8e6ffb5f-3f6d-44f2-9f55-69647717257b"
      },
      "source": [
        "import seaborn as sns\n",
        "sns.distplot(pre)"
      ],
      "execution_count": 19,
      "outputs": [
        {
          "output_type": "stream",
          "text": [
            "/usr/local/lib/python3.6/dist-packages/statsmodels/tools/_testing.py:19: FutureWarning: pandas.util.testing is deprecated. Use the functions in the public API at pandas.testing instead.\n",
            "  import pandas.util.testing as tm\n"
          ],
          "name": "stderr"
        },
        {
          "output_type": "execute_result",
          "data": {
            "text/plain": [
              "<matplotlib.axes._subplots.AxesSubplot at 0x7fea19af44a8>"
            ]
          },
          "metadata": {
            "tags": []
          },
          "execution_count": 19
        },
        {
          "output_type": "display_data",
          "data": {
            "image/png": "[encoded data removed]",
            "text/plain": [
              "<Figure size 432x288 with 1 Axes>"
            ]
          },
          "metadata": {
            "tags": [],
            "needs_background": "light"
          }
        }
      ]
    },
    {
      "cell_type": "code",
      "metadata": {
        "id": "rbJnTCvkdGSU",
        "colab_type": "code",
        "colab": {}
      },
      "source": [
        ""
      ],
      "execution_count": null,
      "outputs": []
    },
    {
      "cell_type": "code",
      "metadata": {
        "id": "H_I6Tj5tcbli",
        "colab_type": "code",
        "colab": {}
      },
      "source": [
        "np.save('predictions.npy',pre)"
      ],
      "execution_count": 22,
      "outputs": []
    },
    {
      "cell_type": "code",
      "metadata": {
        "id": "0soz6T-zci1h",
        "colab_type": "code",
        "colab": {
          "base_uri": "https://localhost:8080/",
          "height": 204
        },
        "outputId": "aa73158c-1e9f-4b6e-a1f8-e6dca3868cb2"
      },
      "source": [
        "lbl=pd.read_csv('sample_submission.csv.zip')\n",
        "lbl.head()"
      ],
      "execution_count": 24,
      "outputs": [
        {
          "output_type": "execute_result",
          "data": {
            "text/html": [
              "<div>\n",
              "<style scoped>\n",
              "    .dataframe tbody tr th:only-of-type {\n",
              "        vertical-align: middle;\n",
              "    }\n",
              "\n",
              "    .dataframe tbody tr th {\n",
              "        vertical-align: top;\n",
              "    }\n",
              "\n",
              "    .dataframe thead th {\n",
              "        text-align: right;\n",
              "    }\n",
              "</style>\n",
              "<table border=\"1\" class=\"dataframe\">\n",
              "  <thead>\n",
              "    <tr style=\"text-align: right;\">\n",
              "      <th></th>\n",
              "      <th>TransactionID</th>\n",
              "      <th>isFraud</th>\n",
              "    </tr>\n",
              "  </thead>\n",
              "  <tbody>\n",
              "    <tr>\n",
              "      <th>0</th>\n",
              "      <td>3663549</td>\n",
              "      <td>0.5</td>\n",
              "    </tr>\n",
              "    <tr>\n",
              "      <th>1</th>\n",
              "      <td>3663550</td>\n",
              "      <td>0.5</td>\n",
              "    </tr>\n",
              "    <tr>\n",
              "      <th>2</th>\n",
              "      <td>3663551</td>\n",
              "      <td>0.5</td>\n",
              "    </tr>\n",
              "    <tr>\n",
              "      <th>3</th>\n",
              "      <td>3663552</td>\n",
              "      <td>0.5</td>\n",
              "    </tr>\n",
              "    <tr>\n",
              "      <th>4</th>\n",
              "      <td>3663553</td>\n",
              "      <td>0.5</td>\n",
              "    </tr>\n",
              "  </tbody>\n",
              "</table>\n",
              "</div>"
            ],
            "text/plain": [
              "   TransactionID  isFraud\n",
              "0        3663549      0.5\n",
              "1        3663550      0.5\n",
              "2        3663551      0.5\n",
              "3        3663552      0.5\n",
              "4        3663553      0.5"
            ]
          },
          "metadata": {
            "tags": []
          },
          "execution_count": 24
        }
      ]
    },
    {
      "cell_type": "code",
      "metadata": {
        "id": "MWrnmBuPdBKr",
        "colab_type": "code",
        "colab": {}
      },
      "source": [
        "lbl['isFraud']=pre.ravel()"
      ],
      "execution_count": 25,
      "outputs": []
    },
    {
      "cell_type": "code",
      "metadata": {
        "id": "KQgGwnzjdG_4",
        "colab_type": "code",
        "colab": {}
      },
      "source": [
        "lbl=lbl.set_index('TransactionID')\n",
        "lbl.to_csv('sub.csv')"
      ],
      "execution_count": 27,
      "outputs": []
    },
    {
      "cell_type": "code",
      "metadata": {
        "id": "LoWTZlm-dH0L",
        "colab_type": "code",
        "colab": {}
      },
      "source": [
        ""
      ],
      "execution_count": null,
      "outputs": []
    }
  ]
}