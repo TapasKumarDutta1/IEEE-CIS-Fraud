{
 "cells": [
  {
   "cell_type": "code",
   "execution_count": null,
   "metadata": {},
   "outputs": [],
   "source": [
    "import pandas as pd\n",
    "fnl=pd.read_csv('/kaggle/input/standard-scaler-final-out/final.csv',index_col=0)"
   ]
  },
  {
   "cell_type": "code",
   "execution_count": null,
   "metadata": {},
   "outputs": [],
   "source": [
    "def reduce_mem_usage(df):\n",
    "    \"\"\" iterate through all the columns of a dataframe and modify the data type\n",
    "        to reduce memory usage.        \n",
    "    \"\"\"\n",
    "    start_mem = df.memory_usage().sum() / 1024**2\n",
    "    print('Memory usage of dataframe is {:.2f} MB'.format(start_mem))\n",
    "    \n",
    "    for col in df.columns:\n",
    "        df[col]=df[col].fillna(-1)\n",
    "        df[col]=df[col].replace([np.inf,-np.inf],-1)\n",
    "        col_type = df[col].dtype\n",
    "        \n",
    "        if col_type != object:\n",
    "            c_min = df[col].min()\n",
    "            c_max = df[col].max()\n",
    "            if str(col_type)[:3] == 'int':\n",
    "                if c_min > np.iinfo(np.int8).min and c_max < np.iinfo(np.int8).max:\n",
    "                    df[col] = df[col].astype(np.int8)\n",
    "                elif c_min > np.iinfo(np.int16).min and c_max < np.iinfo(np.int16).max:\n",
    "                    df[col] = df[col].astype(np.int16)\n",
    "                elif c_min > np.iinfo(np.int32).min and c_max < np.iinfo(np.int32).max:\n",
    "                    df[col] = df[col].astype(np.int32)\n",
    "                elif c_min > np.iinfo(np.int64).min and c_max < np.iinfo(np.int64).max:\n",
    "                    df[col] = df[col].astype(np.int64)  \n",
    "            else:\n",
    "                if c_min > np.finfo(np.float16).min and c_max < np.finfo(np.float16).max:\n",
    "                    df[col] = df[col].astype(np.float16)\n",
    "                elif c_min > np.finfo(np.float32).min and c_max < np.finfo(np.float32).max:\n",
    "                    df[col] = df[col].astype(np.float32)\n",
    "                else:\n",
    "                    df[col] = df[col].astype(np.float64)\n",
    "        else:\n",
    "            df[col] = df[col].astype('category')\n",
    "\n",
    "    end_mem = df.memory_usage().sum() / 1024**2\n",
    "    print('Memory usage after optimization is: {:.2f} MB'.format(end_mem))\n",
    "    print('Decreased by {:.1f}%'.format(100 * (start_mem - end_mem) / start_mem))\n",
    "    \n",
    "    return df\n",
    "fnl=reduce_mem_usage(fnl)"
   ]
  },
  {
   "cell_type": "code",
   "execution_count": null,
   "metadata": {},
   "outputs": [],
   "source": [
    "from tqdm import tqdm\n",
    "import gc\n",
    "pds=['day','month','week']\n",
    "#cols=list(fnl)\n",
    "\n",
    "cols = [\"TransactionAmt\", \"dist1\", \"dist2\"] + [\"C\" + str(i) for i in range(1, 15)] + \\\n",
    "            [\"D\" + str(i) for i in range(1, 16)] \n",
    "for pd in pds:\n",
    "  for col in tqdm(cols):\n",
    "    col=str(col)\n",
    "    use_col=str(col)+'_'+pd+'_ss'\n",
    "#    if use_col in cols:\n",
    "    fnl['a']=fnl.groupby([pd])[col].transform('max')\n",
    "    fnl['b']=fnl.groupby([pd])[col].transform('min')\n",
    "    fnl[use_col]=fnl[col]-fnl['b']/(fnl['a']-fnl['b'])\n",
    "    use_col=str(col)+'_'+pd+'_norm'\n",
    "#    if use_col in cols:\n",
    "    fnl['a']=fnl.groupby([pd])[col].transform('std')\n",
    "    fnl['b']=fnl.groupby([pd])[col].transform('mean')\n",
    "    fnl[use_col]=(fnl[col]-fnl['a'])/fnl['b']\n",
    "  \n",
    "  try:\n",
    "      fnl=reduce_mem_usage(fnl)\n",
    "  except:\n",
    "    continue\n",
    "del([fnl['a'],fnl['b']])\n",
    "gc.collect()"
   ]
  },
  {
   "cell_type": "code",
   "execution_count": null,
   "metadata": {},
   "outputs": [],
   "source": [
    "ls=[]\n",
    "for col in cols:\n",
    "    ls+=list(fnl.filter(regex=col))\n",
    "len(ls)"
   ]
  },
  {
   "cell_type": "code",
   "execution_count": null,
   "metadata": {},
   "outputs": [],
   "source": [
    "fnl=fnl.replace([np.inf,-np.inf],0)\n",
    "import pandas as pd\n",
    "from sklearn.preprocessing import StandardScaler\n",
    "ss=StandardScaler()\n",
    "trn=pd.DataFrame(ss.fit_transform(fnl[ls]))\n",
    "trn.columns=ls\n",
    "fnl=fnl.drop([ls],1)\n",
    "fnl=pd.concat([fnl,trn],1)\n",
    "fnl=fnl.loc[:,~(fnl.columns.duplicated())]\n",
    "fnl=reduce_mem_usage(fnl)\n",
    "fnl=fnl.select_dtypes(include=['float16','int8'])\n",
    "fnl.to_csv('prepared.csv')"
   ]
  }
 ],
 "metadata": {
  "kernelspec": {
   "display_name": "Python 3",
   "language": "python",
   "name": "python3"
  },
  "language_info": {
   "codemirror_mode": {
    "name": "ipython",
    "version": 3
   },
   "file_extension": ".py",
   "mimetype": "text/x-python",
   "name": "python",
   "nbconvert_exporter": "python",
   "pygments_lexer": "ipython3",
   "version": "3.7.3"
  }
 },
 "nbformat": 4,
 "nbformat_minor": 2
}
