{
  "nbformat": 4,
  "nbformat_minor": 0,
  "metadata": {
    "colab": {
      "name": "focal_loss.ipynb",
      "provenance": [],
      "collapsed_sections": [],
      "machine_shape": "hm",
      "authorship_tag": "ABX9TyMl8sz2S9u/KCxB6aFNgxf5",
      "include_colab_link": true
    },
    "kernelspec": {
      "name": "python3",
      "display_name": "Python 3"
    },
    "accelerator": "GPU"
  },
  "cells": [
    {
      "cell_type": "markdown",
      "metadata": {
        "id": "view-in-github",
        "colab_type": "text"
      },
      "source": [
        "<a href=\"https://colab.research.google.com/github/greyhound101/IEEE-CIS-Fraud/blob/master/focal_loss.ipynb\" target=\"_parent\"><img src=\"https://colab.research.google.com/assets/colab-badge.svg\" alt=\"Open In Colab\"/></a>"
      ]
    },
    {
      "cell_type": "code",
      "metadata": {
        "id": "ny2Mt1nRLhhU",
        "colab_type": "code",
        "outputId": "5261e407-50d6-4872-cd4f-ee82ee0abb18",
        "colab": {
          "base_uri": "https://localhost:8080/",
          "height": 927
        }
      },
      "source": [
        "pip install tensorflow==2.1.0-rc0"
      ],
      "execution_count": 0,
      "outputs": [
        {
          "output_type": "stream",
          "text": [
            "Collecting tensorflow==2.1.0-rc0\n",
            "\u001b[?25l  Downloading https://files.pythonhosted.org/packages/4d/fd/7528e5ef327abde9b7425aea24198d8b139795c1233d1658c1279055d860/tensorflow-2.1.0rc0-cp36-cp36m-manylinux2010_x86_64.whl (402.3MB)\n",
            "\u001b[K     |████████████████████████████████| 402.3MB 21kB/s \n",
            "\u001b[?25hRequirement already satisfied: protobuf>=3.8.0 in /usr/local/lib/python3.6/dist-packages (from tensorflow==2.1.0-rc0) (3.10.0)\n",
            "Requirement already satisfied: astor>=0.6.0 in /usr/local/lib/python3.6/dist-packages (from tensorflow==2.1.0-rc0) (0.8.1)\n",
            "Requirement already satisfied: gast==0.2.2 in /usr/local/lib/python3.6/dist-packages (from tensorflow==2.1.0-rc0) (0.2.2)\n",
            "Requirement already satisfied: opt-einsum>=2.3.2 in /usr/local/lib/python3.6/dist-packages (from tensorflow==2.1.0-rc0) (3.2.0)\n",
            "Collecting tensorboard<2.1.0,>=2.0.0\n",
            "\u001b[?25l  Downloading https://files.pythonhosted.org/packages/76/54/99b9d5d52d5cb732f099baaaf7740403e83fe6b0cedde940fabd2b13d75a/tensorboard-2.0.2-py3-none-any.whl (3.8MB)\n",
            "\u001b[K     |████████████████████████████████| 3.8MB 46.6MB/s \n",
            "\u001b[?25hRequirement already satisfied: keras-preprocessing>=1.1.0 in /usr/local/lib/python3.6/dist-packages (from tensorflow==2.1.0-rc0) (1.1.0)\n",
            "Requirement already satisfied: wrapt>=1.11.1 in /usr/local/lib/python3.6/dist-packages (from tensorflow==2.1.0-rc0) (1.12.1)\n",
            "Requirement already satisfied: six>=1.12.0 in /usr/local/lib/python3.6/dist-packages (from tensorflow==2.1.0-rc0) (1.12.0)\n",
            "Requirement already satisfied: grpcio>=1.8.6 in /usr/local/lib/python3.6/dist-packages (from tensorflow==2.1.0-rc0) (1.24.3)\n",
            "Requirement already satisfied: keras-applications>=1.0.8 in /usr/local/lib/python3.6/dist-packages (from tensorflow==2.1.0-rc0) (1.0.8)\n",
            "Requirement already satisfied: termcolor>=1.1.0 in /usr/local/lib/python3.6/dist-packages (from tensorflow==2.1.0-rc0) (1.1.0)\n",
            "Collecting tensorflow-estimator<2.1.0,>=2.0.0\n",
            "\u001b[?25l  Downloading https://files.pythonhosted.org/packages/fc/08/8b927337b7019c374719145d1dceba21a8bb909b93b1ad6f8fb7d22c1ca1/tensorflow_estimator-2.0.1-py2.py3-none-any.whl (449kB)\n",
            "\u001b[K     |████████████████████████████████| 450kB 69.8MB/s \n",
            "\u001b[?25hRequirement already satisfied: numpy<2.0,>=1.16.0 in /usr/local/lib/python3.6/dist-packages (from tensorflow==2.1.0-rc0) (1.18.2)\n",
            "Requirement already satisfied: absl-py>=0.7.0 in /usr/local/lib/python3.6/dist-packages (from tensorflow==2.1.0-rc0) (0.9.0)\n",
            "Requirement already satisfied: wheel>=0.26; python_version >= \"3\" in /usr/local/lib/python3.6/dist-packages (from tensorflow==2.1.0-rc0) (0.34.2)\n",
            "Requirement already satisfied: google-pasta>=0.1.6 in /usr/local/lib/python3.6/dist-packages (from tensorflow==2.1.0-rc0) (0.2.0)\n",
            "Requirement already satisfied: setuptools in /usr/local/lib/python3.6/dist-packages (from protobuf>=3.8.0->tensorflow==2.1.0-rc0) (46.0.0)\n",
            "Requirement already satisfied: google-auth-oauthlib<0.5,>=0.4.1 in /usr/local/lib/python3.6/dist-packages (from tensorboard<2.1.0,>=2.0.0->tensorflow==2.1.0-rc0) (0.4.1)\n",
            "Requirement already satisfied: markdown>=2.6.8 in /usr/local/lib/python3.6/dist-packages (from tensorboard<2.1.0,>=2.0.0->tensorflow==2.1.0-rc0) (3.2.1)\n",
            "Requirement already satisfied: werkzeug>=0.11.15 in /usr/local/lib/python3.6/dist-packages (from tensorboard<2.1.0,>=2.0.0->tensorflow==2.1.0-rc0) (1.0.0)\n",
            "Requirement already satisfied: google-auth<2,>=1.6.3 in /usr/local/lib/python3.6/dist-packages (from tensorboard<2.1.0,>=2.0.0->tensorflow==2.1.0-rc0) (1.7.2)\n",
            "Requirement already satisfied: requests<3,>=2.21.0 in /usr/local/lib/python3.6/dist-packages (from tensorboard<2.1.0,>=2.0.0->tensorflow==2.1.0-rc0) (2.21.0)\n",
            "Requirement already satisfied: h5py in /usr/local/lib/python3.6/dist-packages (from keras-applications>=1.0.8->tensorflow==2.1.0-rc0) (2.8.0)\n",
            "Requirement already satisfied: requests-oauthlib>=0.7.0 in /usr/local/lib/python3.6/dist-packages (from google-auth-oauthlib<0.5,>=0.4.1->tensorboard<2.1.0,>=2.0.0->tensorflow==2.1.0-rc0) (1.3.0)\n",
            "Requirement already satisfied: pyasn1-modules>=0.2.1 in /usr/local/lib/python3.6/dist-packages (from google-auth<2,>=1.6.3->tensorboard<2.1.0,>=2.0.0->tensorflow==2.1.0-rc0) (0.2.8)\n",
            "Requirement already satisfied: rsa<4.1,>=3.1.4 in /usr/local/lib/python3.6/dist-packages (from google-auth<2,>=1.6.3->tensorboard<2.1.0,>=2.0.0->tensorflow==2.1.0-rc0) (4.0)\n",
            "Requirement already satisfied: cachetools<3.2,>=2.0.0 in /usr/local/lib/python3.6/dist-packages (from google-auth<2,>=1.6.3->tensorboard<2.1.0,>=2.0.0->tensorflow==2.1.0-rc0) (3.1.1)\n",
            "Requirement already satisfied: chardet<3.1.0,>=3.0.2 in /usr/local/lib/python3.6/dist-packages (from requests<3,>=2.21.0->tensorboard<2.1.0,>=2.0.0->tensorflow==2.1.0-rc0) (3.0.4)\n",
            "Requirement already satisfied: idna<2.9,>=2.5 in /usr/local/lib/python3.6/dist-packages (from requests<3,>=2.21.0->tensorboard<2.1.0,>=2.0.0->tensorflow==2.1.0-rc0) (2.8)\n",
            "Requirement already satisfied: certifi>=2017.4.17 in /usr/local/lib/python3.6/dist-packages (from requests<3,>=2.21.0->tensorboard<2.1.0,>=2.0.0->tensorflow==2.1.0-rc0) (2019.11.28)\n",
            "Requirement already satisfied: urllib3<1.25,>=1.21.1 in /usr/local/lib/python3.6/dist-packages (from requests<3,>=2.21.0->tensorboard<2.1.0,>=2.0.0->tensorflow==2.1.0-rc0) (1.24.3)\n",
            "Requirement already satisfied: oauthlib>=3.0.0 in /usr/local/lib/python3.6/dist-packages (from requests-oauthlib>=0.7.0->google-auth-oauthlib<0.5,>=0.4.1->tensorboard<2.1.0,>=2.0.0->tensorflow==2.1.0-rc0) (3.1.0)\n",
            "Requirement already satisfied: pyasn1<0.5.0,>=0.4.6 in /usr/local/lib/python3.6/dist-packages (from pyasn1-modules>=0.2.1->google-auth<2,>=1.6.3->tensorboard<2.1.0,>=2.0.0->tensorflow==2.1.0-rc0) (0.4.8)\n",
            "\u001b[31mERROR: tensorflow-federated 0.12.0 has requirement tensorflow~=2.1.0, but you'll have tensorflow 2.1.0rc0 which is incompatible.\u001b[0m\n",
            "\u001b[31mERROR: tensorflow-federated 0.12.0 has requirement tensorflow-addons~=0.7.0, but you'll have tensorflow-addons 0.8.3 which is incompatible.\u001b[0m\n",
            "Installing collected packages: tensorboard, tensorflow-estimator, tensorflow\n",
            "  Found existing installation: tensorboard 1.15.0\n",
            "    Uninstalling tensorboard-1.15.0:\n",
            "      Successfully uninstalled tensorboard-1.15.0\n",
            "  Found existing installation: tensorflow-estimator 1.15.1\n",
            "    Uninstalling tensorflow-estimator-1.15.1:\n",
            "      Successfully uninstalled tensorflow-estimator-1.15.1\n",
            "  Found existing installation: tensorflow 1.15.0\n",
            "    Uninstalling tensorflow-1.15.0:\n",
            "      Successfully uninstalled tensorflow-1.15.0\n",
            "Successfully installed tensorboard-2.1.1 tensorflow-2.1.0 tensorflow-estimator-2.1.0\n"
          ],
          "name": "stdout"
        }
      ]
    },
    {
      "cell_type": "code",
      "metadata": {
        "id": "_RP3HFenlvIG",
        "colab_type": "code",
        "outputId": "9a5c2ea5-2c8d-4d26-e50e-38fa1349c2f1",
        "colab": {
          "base_uri": "https://localhost:8080/",
          "height": 286
        }
      },
      "source": [
        "import os\n",
        "os.environ['KAGGLE_USERNAME'] = \"\" # username from the json file\n",
        "os.environ['KAGGLE_KEY'] = \"\" # key from the json file\n",
        "!kaggle competitions download -c ieee-fraud-detection"
      ],
      "execution_count": 0,
      "outputs": [
        {
          "output_type": "stream",
          "text": [
            "Warning: Looks like you're using an outdated API Version, please consider updating (server 1.5.6 / client 1.5.4)\n",
            "Downloading train_transaction.csv.zip to /content\n",
            " 84% 49.0M/58.3M [00:02<00:00, 16.7MB/s]\n",
            "100% 58.3M/58.3M [00:02<00:00, 27.5MB/s]\n",
            "Downloading sample_submission.csv.zip to /content\n",
            "  0% 0.00/1.14M [00:00<?, ?B/s]\n",
            "100% 1.14M/1.14M [00:00<00:00, 76.7MB/s]\n",
            "Downloading train_identity.csv.zip to /content\n",
            "  0% 0.00/3.26M [00:00<?, ?B/s]\n",
            "100% 3.26M/3.26M [00:00<00:00, 107MB/s]\n",
            "Downloading test_identity.csv.zip to /content\n",
            "  0% 0.00/3.21M [00:00<?, ?B/s]\n",
            "100% 3.21M/3.21M [00:00<00:00, 105MB/s]\n",
            "Downloading test_transaction.csv.zip to /content\n",
            " 48% 25.0M/52.2M [00:01<00:01, 20.0MB/s]\n",
            "100% 52.2M/52.2M [00:01<00:00, 46.9MB/s]\n"
          ],
          "name": "stdout"
        }
      ]
    },
    {
      "cell_type": "code",
      "metadata": {
        "id": "X-pwN1q_LF6T",
        "colab_type": "code",
        "colab": {}
      },
      "source": [
        ""
      ],
      "execution_count": 0,
      "outputs": []
    },
    {
      "cell_type": "code",
      "metadata": {
        "id": "MQRlsWkNS5XD",
        "colab_type": "code",
        "colab": {}
      },
      "source": [
        ""
      ],
      "execution_count": 0,
      "outputs": []
    },
    {
      "cell_type": "code",
      "metadata": {
        "id": "G578e6NsLl7B",
        "colab_type": "code",
        "outputId": "312cb04a-dc83-46f8-bc9e-7b9e0a452144",
        "colab": {
          "base_uri": "https://localhost:8080/",
          "height": 289
        }
      },
      "source": [
        "pip install keras==2.3.1"
      ],
      "execution_count": 0,
      "outputs": [
        {
          "output_type": "stream",
          "text": [
            "Collecting keras==2.3.1\n",
            "\u001b[?25l  Downloading https://files.pythonhosted.org/packages/ad/fd/6bfe87920d7f4fd475acd28500a42482b6b84479832bdc0fe9e589a60ceb/Keras-2.3.1-py2.py3-none-any.whl (377kB)\n",
            "\r\u001b[K     |▉                               | 10kB 21.0MB/s eta 0:00:01\r\u001b[K     |█▊                              | 20kB 1.7MB/s eta 0:00:01\r\u001b[K     |██▋                             | 30kB 2.2MB/s eta 0:00:01\r\u001b[K     |███▌                            | 40kB 1.6MB/s eta 0:00:01\r\u001b[K     |████▍                           | 51kB 1.8MB/s eta 0:00:01\r\u001b[K     |█████▏                          | 61kB 2.2MB/s eta 0:00:01\r\u001b[K     |██████                          | 71kB 2.4MB/s eta 0:00:01\r\u001b[K     |███████                         | 81kB 2.5MB/s eta 0:00:01\r\u001b[K     |███████▉                        | 92kB 2.8MB/s eta 0:00:01\r\u001b[K     |████████▊                       | 102kB 2.7MB/s eta 0:00:01\r\u001b[K     |█████████▌                      | 112kB 2.7MB/s eta 0:00:01\r\u001b[K     |██████████▍                     | 122kB 2.7MB/s eta 0:00:01\r\u001b[K     |███████████▎                    | 133kB 2.7MB/s eta 0:00:01\r\u001b[K     |████████████▏                   | 143kB 2.7MB/s eta 0:00:01\r\u001b[K     |█████████████                   | 153kB 2.7MB/s eta 0:00:01\r\u001b[K     |█████████████▉                  | 163kB 2.7MB/s eta 0:00:01\r\u001b[K     |██████████████▊                 | 174kB 2.7MB/s eta 0:00:01\r\u001b[K     |███████████████▋                | 184kB 2.7MB/s eta 0:00:01\r\u001b[K     |████████████████▌               | 194kB 2.7MB/s eta 0:00:01\r\u001b[K     |█████████████████▍              | 204kB 2.7MB/s eta 0:00:01\r\u001b[K     |██████████████████▏             | 215kB 2.7MB/s eta 0:00:01\r\u001b[K     |███████████████████             | 225kB 2.7MB/s eta 0:00:01\r\u001b[K     |████████████████████            | 235kB 2.7MB/s eta 0:00:01\r\u001b[K     |████████████████████▉           | 245kB 2.7MB/s eta 0:00:01\r\u001b[K     |█████████████████████▊          | 256kB 2.7MB/s eta 0:00:01\r\u001b[K     |██████████████████████▌         | 266kB 2.7MB/s eta 0:00:01\r\u001b[K     |███████████████████████▍        | 276kB 2.7MB/s eta 0:00:01\r\u001b[K     |████████████████████████▎       | 286kB 2.7MB/s eta 0:00:01\r\u001b[K     |█████████████████████████▏      | 296kB 2.7MB/s eta 0:00:01\r\u001b[K     |██████████████████████████      | 307kB 2.7MB/s eta 0:00:01\r\u001b[K     |██████████████████████████▉     | 317kB 2.7MB/s eta 0:00:01\r\u001b[K     |███████████████████████████▊    | 327kB 2.7MB/s eta 0:00:01\r\u001b[K     |████████████████████████████▋   | 337kB 2.7MB/s eta 0:00:01\r\u001b[K     |█████████████████████████████▌  | 348kB 2.7MB/s eta 0:00:01\r\u001b[K     |██████████████████████████████▍ | 358kB 2.7MB/s eta 0:00:01\r\u001b[K     |███████████████████████████████▏| 368kB 2.7MB/s eta 0:00:01\r\u001b[K     |████████████████████████████████| 378kB 2.7MB/s \n",
            "\u001b[?25hRequirement already satisfied: pyyaml in /usr/local/lib/python3.6/dist-packages (from keras==2.3.1) (3.13)\n",
            "Requirement already satisfied: keras-applications>=1.0.6 in /usr/local/lib/python3.6/dist-packages (from keras==2.3.1) (1.0.8)\n",
            "Requirement already satisfied: h5py in /usr/local/lib/python3.6/dist-packages (from keras==2.3.1) (2.8.0)\n",
            "Requirement already satisfied: numpy>=1.9.1 in /usr/local/lib/python3.6/dist-packages (from keras==2.3.1) (1.18.2)\n",
            "Requirement already satisfied: six>=1.9.0 in /usr/local/lib/python3.6/dist-packages (from keras==2.3.1) (1.12.0)\n",
            "Requirement already satisfied: keras-preprocessing>=1.0.5 in /usr/local/lib/python3.6/dist-packages (from keras==2.3.1) (1.1.0)\n",
            "Requirement already satisfied: scipy>=0.14 in /usr/local/lib/python3.6/dist-packages (from keras==2.3.1) (1.4.1)\n",
            "Installing collected packages: keras\n",
            "  Found existing installation: Keras 2.2.5\n",
            "    Uninstalling Keras-2.2.5:\n",
            "      Successfully uninstalled Keras-2.2.5\n",
            "Successfully installed keras-2.3.1\n"
          ],
          "name": "stdout"
        }
      ]
    },
    {
      "cell_type": "code",
      "metadata": {
        "id": "tNb9y5iiLl-Q",
        "colab_type": "code",
        "outputId": "73f29db4-8326-4840-dc01-31a2762fc846",
        "colab": {
          "base_uri": "https://localhost:8080/",
          "height": 118
        }
      },
      "source": [
        "!kaggle competitions download -c ieee-fraud-detection"
      ],
      "execution_count": 0,
      "outputs": [
        {
          "output_type": "stream",
          "text": [
            "Warning: Looks like you're using an outdated API Version, please consider updating (server 1.5.6 / client 1.5.4)\n",
            "test_transaction.csv.zip: Skipping, found more recently modified local copy (use --force to force download)\n",
            "sample_submission.csv.zip: Skipping, found more recently modified local copy (use --force to force download)\n",
            "test_identity.csv.zip: Skipping, found more recently modified local copy (use --force to force download)\n",
            "train_identity.csv.zip: Skipping, found more recently modified local copy (use --force to force download)\n",
            "train_transaction.csv.zip: Skipping, found more recently modified local copy (use --force to force download)\n"
          ],
          "name": "stdout"
        }
      ]
    },
    {
      "cell_type": "code",
      "metadata": {
        "id": "OnN53hqTLmBq",
        "colab_type": "code",
        "colab": {}
      },
      "source": [
        ""
      ],
      "execution_count": 0,
      "outputs": []
    },
    {
      "cell_type": "code",
      "metadata": {
        "id": "ycWl4n34LmFW",
        "colab_type": "code",
        "outputId": "2932bb5a-95e3-43c1-e651-4519f0d049d9",
        "colab": {
          "base_uri": "https://localhost:8080/",
          "height": 289
        }
      },
      "source": [
        "pip install category_encoders"
      ],
      "execution_count": 0,
      "outputs": [
        {
          "output_type": "stream",
          "text": [
            "Collecting category_encoders\n",
            "\u001b[?25l  Downloading https://files.pythonhosted.org/packages/a0/52/c54191ad3782de633ea3d6ee3bb2837bda0cf3bc97644bb6375cf14150a0/category_encoders-2.1.0-py2.py3-none-any.whl (100kB)\n",
            "\r\u001b[K     |███▎                            | 10kB 28.5MB/s eta 0:00:01\r\u001b[K     |██████▌                         | 20kB 1.7MB/s eta 0:00:01\r\u001b[K     |█████████▉                      | 30kB 2.2MB/s eta 0:00:01\r\u001b[K     |█████████████                   | 40kB 1.6MB/s eta 0:00:01\r\u001b[K     |████████████████▍               | 51kB 1.9MB/s eta 0:00:01\r\u001b[K     |███████████████████▋            | 61kB 2.3MB/s eta 0:00:01\r\u001b[K     |██████████████████████▉         | 71kB 2.4MB/s eta 0:00:01\r\u001b[K     |██████████████████████████▏     | 81kB 2.6MB/s eta 0:00:01\r\u001b[K     |█████████████████████████████▍  | 92kB 2.9MB/s eta 0:00:01\r\u001b[K     |████████████████████████████████| 102kB 2.4MB/s \n",
            "\u001b[?25hRequirement already satisfied: scikit-learn>=0.20.0 in /usr/local/lib/python3.6/dist-packages (from category_encoders) (0.22.2.post1)\n",
            "Requirement already satisfied: patsy>=0.4.1 in /usr/local/lib/python3.6/dist-packages (from category_encoders) (0.5.1)\n",
            "Requirement already satisfied: scipy>=0.19.0 in /usr/local/lib/python3.6/dist-packages (from category_encoders) (1.4.1)\n",
            "Requirement already satisfied: pandas>=0.21.1 in /usr/local/lib/python3.6/dist-packages (from category_encoders) (0.25.3)\n",
            "Requirement already satisfied: numpy>=1.11.3 in /usr/local/lib/python3.6/dist-packages (from category_encoders) (1.18.2)\n",
            "Requirement already satisfied: statsmodels>=0.6.1 in /usr/local/lib/python3.6/dist-packages (from category_encoders) (0.10.2)\n",
            "Requirement already satisfied: joblib>=0.11 in /usr/local/lib/python3.6/dist-packages (from scikit-learn>=0.20.0->category_encoders) (0.14.1)\n",
            "Requirement already satisfied: six in /usr/local/lib/python3.6/dist-packages (from patsy>=0.4.1->category_encoders) (1.12.0)\n",
            "Requirement already satisfied: python-dateutil>=2.6.1 in /usr/local/lib/python3.6/dist-packages (from pandas>=0.21.1->category_encoders) (2.8.1)\n",
            "Requirement already satisfied: pytz>=2017.2 in /usr/local/lib/python3.6/dist-packages (from pandas>=0.21.1->category_encoders) (2018.9)\n",
            "Installing collected packages: category-encoders\n",
            "Successfully installed category-encoders-2.1.0\n"
          ],
          "name": "stdout"
        }
      ]
    },
    {
      "cell_type": "code",
      "metadata": {
        "id": "xFsEdcUbOOd_",
        "colab_type": "code",
        "outputId": "7b2b718e-0a07-4d4c-9e88-2824f41ebac5",
        "colab": {
          "base_uri": "https://localhost:8080/",
          "height": 50
        }
      },
      "source": [
        "from google.colab import drive\n",
        "drive.mount('/content/gdrive')\n",
        "drive.mount(\"/content/gdrive\", force_remount=True)"
      ],
      "execution_count": 0,
      "outputs": [
        {
          "output_type": "stream",
          "text": [
            "Drive already mounted at /content/gdrive; to attempt to forcibly remount, call drive.mount(\"/content/gdrive\", force_remount=True).\n",
            "Mounted at /content/gdrive\n"
          ],
          "name": "stdout"
        }
      ]
    },
    {
      "cell_type": "code",
      "metadata": {
        "id": "NLK7FjEPNcTI",
        "colab_type": "code",
        "colab": {}
      },
      "source": [
        ""
      ],
      "execution_count": 0,
      "outputs": []
    },
    {
      "cell_type": "code",
      "metadata": {
        "id": "czQFQXIkNcZr",
        "colab_type": "code",
        "colab": {}
      },
      "source": [
        ""
      ],
      "execution_count": 0,
      "outputs": []
    },
    {
      "cell_type": "code",
      "metadata": {
        "id": "4a_g8_yOLmIr",
        "colab_type": "code",
        "colab": {
          "base_uri": "https://localhost:8080/",
          "height": 34
        },
        "outputId": "48a35f25-a8f0-477a-8e54-1c0aa471cfc1"
      },
      "source": [
        "import pandas as pd\n",
        "import numpy as np\n",
        "cols=['Hidden_7_22', 'Hidden_7_32', 'Hidden_7_96', 'Hidden_7_8',\n",
        "       'Hidden_3_85', 'Hidden_7_9', 'Hidden_4_5', 'Hidden_3_52',\n",
        "       'Hidden_3_64', 'Hidden_3_63', 'Hidden_7_11', 'Hidden_7_33',\n",
        "       'Hidden_3_28', 'Hidden_7_69', 'Hidden_7_2', 'Hidden_7_92',\n",
        "       'Hidden_7_23', 'Hidden_3_99', 'Hidden_7_28', 'Hidden_3_47',\n",
        "       'Hidden_3_88', 'Hidden_7_0', 'Hidden_7_34', 'Hidden_3_76',\n",
        "       'Hidden_7_31', 'Hidden_7_64', 'Hidden_7_72', 'Hidden_7_70',\n",
        "       'Hidden_7_10', 'Hidden_3_3', 'Hidden_4_13', 'Hidden_7_68',\n",
        "       'Hidden_7_50', 'Hidden_7_57', 'Hidden_7_67', 'Hidden_7_36',\n",
        "       'Hidden_3_6', 'Hidden_7_12', 'Hidden_7_91', 'Hidden_7_39',\n",
        "       'Hidden_6_1', 'Hidden_3_95', 'Hidden_3_40', 'Hidden_7_83',\n",
        "       'Hidden_7_29', 'Hidden_6_19', 'Hidden_4_10', 'Hidden_6_5',\n",
        "       'Hidden_3_70', 'Hidden_3_86', 'Hidden_3_48', 'Hidden_3_30',\n",
        "       'Hidden_7_7', 'Hidden_7_78', 'Hidden_6_10', 'Hidden_7_54',\n",
        "       'Hidden_3_13', 'Hidden_7_46', 'Hidden_7_21', 'Hidden_6_3',\n",
        "       'Hidden_7_73', 'Hidden_6_16', 'Hidden_3_9', 'Hidden_6_22',\n",
        "       'Hidden_7_48', 'Hidden_7_66', 'Hidden_7_45', 'Hidden_6_8',\n",
        "       'Hidden_7_84', 'Hidden_3_5', 'Hidden_7_18', 'Hidden_4_6',\n",
        "       'Hidden_7_38', 'Hidden_6_6', 'Hidden_3_32', 'Hidden_3_83',\n",
        "       'Hidden_7_14', 'Hidden_7_27', 'Hidden_5_0', 'Hidden_3_50',\n",
        "       'Hidden_4_3', 'Hidden_7_65', 'Hidden_3_35', 'Hidden_7_56',\n",
        "       'Hidden_3_33', 'Hidden_4_21', 'Hidden_3_77', 'Hidden_4_17',\n",
        "       'Hidden_3_68', 'Hidden_3_82', 'Hidden_3_4', 'Hidden_3_75',\n",
        "       'Hidden_3_20', 'Hidden_3_27', 'Hidden_3_66', 'Hidden_3_37',\n",
        "       'Hidden_3_71', 'Hidden_3_89', 'Hidden_3_53', 'Hidden_3_46']\n",
        "path = F\"/content/gdrive/My Drive/autoenc.csv\" \n",
        "selected=pd.read_csv(path,usecols=cols)\n",
        "selected=selected.astype('float16')\n",
        "import gc\n",
        "gc.collect()"
      ],
      "execution_count": 13,
      "outputs": [
        {
          "output_type": "execute_result",
          "data": {
            "text/plain": [
              "32"
            ]
          },
          "metadata": {
            "tags": []
          },
          "execution_count": 13
        }
      ]
    },
    {
      "cell_type": "code",
      "metadata": {
        "id": "eb1SmMipRKVC",
        "colab_type": "code",
        "colab": {}
      },
      "source": [
        ""
      ],
      "execution_count": 0,
      "outputs": []
    },
    {
      "cell_type": "code",
      "metadata": {
        "id": "3W5MrEulLmMS",
        "colab_type": "code",
        "colab": {
          "base_uri": "https://localhost:8080/",
          "height": 70
        },
        "outputId": "d3a108ed-d10a-4ac9-e8c0-3faac65f726f"
      },
      "source": [
        "path = F\"/content/gdrive/My Drive/raw1.csv\" \n",
        "dumm=pd.read_csv(path)\n",
        "keeps=['ProductCD','card1','card2','card3','card4','card5','card6','P_emaildomain','R_emaildomain']\n",
        "trn_trans=pd.read_csv('train_transaction.csv.zip',usecols=keeps)\n",
        "tst_trans=pd.read_csv('test_transaction.csv.zip',usecols=keeps)\n",
        "trans=pd.concat([trn_trans,tst_trans],0)\n",
        "trans=trans.reset_index(drop=True)\n",
        "import gc\n",
        "del([trn_trans,tst_trans])\n",
        "gc.collect()\n",
        "dumm=dumm.filter(regex='dum')\n",
        "fnl=pd.concat([dumm,selected,trans],1)\n",
        "keeps_fnl=fnl[keeps]\n",
        "fnl=fnl.drop(keeps,1)\n",
        "from sklearn.preprocessing import StandardScaler,MinMaxScaler\n",
        "ss=StandardScaler()\n",
        "mms=MinMaxScaler()\n",
        "ls=list(fnl)\n",
        "fnl=pd.DataFrame(mms.fit_transform(ss.fit_transform(fnl)))\n",
        "fnl.columns=ls\n",
        "fnl=pd.concat([fnl,keeps_fnl],1)\n",
        "from sklearn.preprocessing import LabelEncoder\n",
        "for col in keeps:\n",
        "    le=LabelEncoder()\n",
        "    fnl[col]=le.fit_transform(fnl[col].astype(str))\n",
        "\n",
        "trn=pd.read_csv('train_transaction.csv.zip',usecols=['isFraud'])\n",
        "fnl['isFraud']=trn['isFraud']\n",
        "fnl['isFraud'].isna().sum()\n",
        "trn=fnl.dropna()\n",
        "tst=fnl.loc[fnl['isFraud'].isna()]\n",
        "def rac(y_true, y_pred):\n",
        "    \"\"\" ROC AUC Score.\n",
        "    Approximates the Area Under Curve score, using approximation based on\n",
        "    the Wilcoxon-Mann-Whitney U statistic.\n",
        "    Yan, L., Dodier, R., Mozer, M. C., & Wolniewicz, R. (2003).\n",
        "    Optimizing Classifier Performance via an Approximation to the Wilcoxon-Mann-Whitney Statistic.\n",
        "    Measures overall performance for a full range of threshold levels.\n",
        "    Arguments:\n",
        "        y_pred: `Tensor`. Predicted values.\n",
        "        y_true: `Tensor` . Targets (labels), a probability distribution.\n",
        "    \"\"\"\n",
        "    with tf.name_scope(\"RocAucScore\"):\n",
        "        pos = tf.boolean_mask(y_pred, tf.cast(y_true, tf.bool))\n",
        "        neg = tf.boolean_mask(y_pred, ~tf.cast(y_true, tf.bool))\n",
        "        pos = tf.expand_dims(pos, 0)\n",
        "        neg = tf.expand_dims(neg, 1)\n",
        "        # original paper suggests performance is robust to exact parameter choice\n",
        "        gamma = 0.6\n",
        "        p     = 0.5\n",
        "        difference = tf.zeros_like(pos * neg) + pos - neg - gamma\n",
        "        masked = tf.boolean_mask(difference, difference < 0.0)\n",
        "        return tf.reduce_sum(tf.pow(-masked, p))\n",
        "import gc\n",
        "gc.collect()\n",
        "import keras.backend as K\n",
        "from keras.layers import Input,Dense,BatchNormalization,Dropout,Embedding,Concatenate,Flatten\n",
        "from keras.models import Model\n",
        "from keras.layers import Embedding,Dot,Add,Flatten,concatenate,BatchNormalization,Input,Dense\n",
        "import tensorflow as tf\n",
        "from itertools import combinations\n",
        "from keras.callbacks import EarlyStopping,ReduceLROnPlateau\n",
        "from sklearn.model_selection import KFold\n",
        "from keras.optimizers import Nadam\n",
        "from sklearn.metrics import roc_auc_score\n",
        "from keras.regularizers import l2,l1\n",
        "import keras\n",
        "from sklearn.metrics import roc_auc_score\n",
        "def model1(shape,er,ar,r1,r2,r3,r4):\n",
        "    K.clear_session()\n",
        "    inps=[]\n",
        "    embs=[]\n",
        "    for col in keeps:\n",
        "        inp=Input((1,))\n",
        "        emb=Embedding(fnl[col].max()+1,5,trainable=True,embeddings_regularizer=l1(er),activity_regularizer=l1(ar))(inp)\n",
        "        inps.append(inp)\n",
        "        embs.append(emb)\n",
        "    x=concatenate(embs)\n",
        "    x=Dense(256,activation='relu',kernel_regularizer=l1(r1))(x)\n",
        "    x=BatchNormalization()(x)\n",
        "    one=[Flatten()(em) for em in embs]\n",
        "    second=[]\n",
        "    for a,b in combinations(embs,2):\n",
        "        second.append(Dot(1)([Flatten()(a),Flatten()(b)]))\n",
        "    one=Add()(one)\n",
        "    second=Add()(second)\n",
        "    x=Flatten()(x)\n",
        "    inp=Input((inp_shape,))\n",
        "    inps.append(inp)\n",
        "    tot=[x,(one),(second),(inp)]\n",
        "    x=concatenate(tot)\n",
        "    x=BatchNormalization()(x)\n",
        "    x=Dense(256,activation='relu',kernel_regularizer=l1(r2))(x)\n",
        "    x=BatchNormalization()(x)\n",
        "    x=Dropout(0.3)(x)\n",
        "    x=Dense(256,activation='relu',kernel_regularizer=l1(r3))(x)\n",
        "    x=BatchNormalization()(x)\n",
        "    x=Dropout(0.3)(x)\n",
        "    x=Dense(256,activation='relu',kernel_regularizer=l1(r4))(x)\n",
        "    x=BatchNormalization()(x)\n",
        "    x=Dropout(0.3)(x)\n",
        "    out=Dense(1,activation='sigmoid')(x)\n",
        "    mod=Model(inputs=inps,outputs=out)\n",
        "    return mod\n",
        "def fl(gamma1,alpha1):\n",
        "    def focal_loss(y_true, y_pred):\n",
        "        gamma=gamma1\n",
        "        alpha=alpha1\n",
        "        pt_1 = tf.where(tf.equal(y_true, 1), y_pred, tf.ones_like(y_pred))\n",
        "        pt_0 = tf.where(tf.equal(y_true, 0), y_pred, tf.zeros_like(y_pred))\n",
        "\n",
        "        pt_1 = K.clip(pt_1, 1e-3, .999)\n",
        "        pt_0 = K.clip(pt_0, 1e-3, .999)\n",
        "\n",
        "        return -K.sum(alpha * K.pow(1. - pt_1, gamma) * K.log(pt_1))-K.sum((1-alpha) * K.pow( pt_0, gamma) * K.log(1. - pt_0))\n",
        "    return focal_loss\n",
        "def auc(y_true, y_pred):\n",
        "    auc = tf.keras.metrics.AUC(y_true, y_pred)\n",
        "    return auc\n",
        "inp_shape=trn.shape[1]-len(keeps)\n",
        "inp_shape=inp_shape-1\n",
        "pre=pd.DataFrame()\n",
        "    \n",
        "fit=500000\n",
        "batch_size=2048\n"
      ],
      "execution_count": 14,
      "outputs": [
        {
          "output_type": "stream",
          "text": [
            "/usr/local/lib/python3.6/dist-packages/IPython/core/interactiveshell.py:2718: DtypeWarning: Columns (47,50,51,53,58,59,62,63,64,65,66,69,72,73,76,77,78,79,80,81,82,87) have mixed types. Specify dtype option on import or set low_memory=False.\n",
            "  interactivity=interactivity, compiler=compiler, result=result)\n"
          ],
          "name": "stderr"
        }
      ]
    },
    {
      "cell_type": "code",
      "metadata": {
        "id": "30bb1LVPQ_W8",
        "colab_type": "code",
        "colab": {
          "base_uri": "https://localhost:8080/",
          "height": 1000
        },
        "outputId": "f1caba97-24ff-4f0d-8aed-c782508bf73c"
      },
      "source": [
        "train=trn.loc[:fit]\n",
        "validation=trn.loc[fit:]\n",
        "z_trn=train[keeps].values\n",
        "z_val=validation[keeps].values\n",
        "z_tst=tst[keeps].values\n",
        "kp1=['ProductCD',\n",
        " 'card1',\n",
        " 'card2',\n",
        " 'card3',\n",
        " 'card4',\n",
        " 'card5',\n",
        " 'card6',\n",
        " 'P_emaildomain',\n",
        " 'R_emaildomain','isFraud']\n",
        "mod=model1(trn.shape[1]-1,0.0360,0.3046,0.01,0.01,0.01,0.01)\n",
        "es=EarlyStopping(monitor='val_loss',patience=100,mode='min',min_delta=0.001,restore_best_weights=True)\n",
        "dc=ReduceLROnPlateau(monitor='val_loss', factor=0.8,mode='min',patience=10,min_delta=0.01)\n",
        "mod.compile(optimizer=Nadam(0.0008),loss=fl(alpha1=0.75,gamma1=2.43),metrics=[tf.keras.metrics.AUC()])\n",
        "history=mod.fit([z_trn[:,0],z_trn[:,1],z_trn[:,2],z_trn[:,3],z_trn[:,4],z_trn[:,5],z_trn[:,6],z_trn[:,7],z_trn[:,8]\n",
        "                 ,train.drop(kp1,1).values],train['isFraud'],epochs=100,batch_size=2048,\n",
        "                validation_data=([z_val[:,0],z_val[:,1],z_val[:,2],z_val[:,3],z_val[:,4],z_val[:,5],z_val[:,6],z_val[:,7],z_val[:,8]\n",
        "                                  ,validation.drop(kp1,1).values],validation['isFraud']),callbacks=[es,dc])\n",
        "mod.save_weights('saved.hdf5')"
      ],
      "execution_count": 15,
      "outputs": [
        {
          "output_type": "stream",
          "text": [
            "/usr/local/lib/python3.6/dist-packages/tensorflow_core/python/framework/indexed_slices.py:433: UserWarning: Converting sparse IndexedSlices to a dense Tensor of unknown shape. This may consume a large amount of memory.\n",
            "  \"Converting sparse IndexedSlices to a dense Tensor of unknown shape. \"\n",
            "/usr/local/lib/python3.6/dist-packages/tensorflow_core/python/framework/indexed_slices.py:433: UserWarning: Converting sparse IndexedSlices to a dense Tensor of unknown shape. This may consume a large amount of memory.\n",
            "  \"Converting sparse IndexedSlices to a dense Tensor of unknown shape. \"\n",
            "/usr/local/lib/python3.6/dist-packages/tensorflow_core/python/framework/indexed_slices.py:433: UserWarning: Converting sparse IndexedSlices to a dense Tensor of unknown shape. This may consume a large amount of memory.\n",
            "  \"Converting sparse IndexedSlices to a dense Tensor of unknown shape. \"\n"
          ],
          "name": "stderr"
        },
        {
          "output_type": "stream",
          "text": [
            "Train on 500001 samples, validate on 90540 samples\n",
            "Epoch 1/100\n",
            "500001/500001 [==============================] - 20s 39us/step - loss: 324.9950 - auc: 0.5918 - val_loss: 180.4807 - val_auc: 0.6543\n",
            "Epoch 2/100\n",
            "500001/500001 [==============================] - 17s 35us/step - loss: 164.9647 - auc: 0.7002 - val_loss: 154.3137 - val_auc: 0.7364\n",
            "Epoch 3/100\n",
            "500001/500001 [==============================] - 18s 35us/step - loss: 138.7838 - auc: 0.7587 - val_loss: 133.1508 - val_auc: 0.7765\n",
            "Epoch 4/100\n",
            "500001/500001 [==============================] - 18s 35us/step - loss: 116.1209 - auc: 0.7894 - val_loss: 109.1716 - val_auc: 0.8004\n",
            "Epoch 5/100\n",
            "500001/500001 [==============================] - 18s 35us/step - loss: 95.7815 - auc: 0.8091 - val_loss: 93.8003 - val_auc: 0.8161\n",
            "Epoch 6/100\n",
            "500001/500001 [==============================] - 17s 34us/step - loss: 78.6267 - auc: 0.8218 - val_loss: 76.8048 - val_auc: 0.8270\n",
            "Epoch 7/100\n",
            "500001/500001 [==============================] - 17s 34us/step - loss: 65.0409 - auc: 0.8316 - val_loss: 64.6391 - val_auc: 0.8357\n",
            "Epoch 8/100\n",
            "500001/500001 [==============================] - 17s 34us/step - loss: 56.0913 - auc: 0.8392 - val_loss: 57.5506 - val_auc: 0.8423\n",
            "Epoch 9/100\n",
            "500001/500001 [==============================] - 17s 35us/step - loss: 50.3412 - auc: 0.8451 - val_loss: 56.6999 - val_auc: 0.8474\n",
            "Epoch 10/100\n",
            "500001/500001 [==============================] - 17s 34us/step - loss: 46.6295 - auc: 0.8495 - val_loss: 49.4504 - val_auc: 0.8516\n",
            "Epoch 11/100\n",
            "500001/500001 [==============================] - 17s 34us/step - loss: 44.5093 - auc: 0.8536 - val_loss: 49.3290 - val_auc: 0.8552\n",
            "Epoch 12/100\n",
            "500001/500001 [==============================] - 17s 34us/step - loss: 43.3590 - auc: 0.8567 - val_loss: 46.6473 - val_auc: 0.8583\n",
            "Epoch 13/100\n",
            "500001/500001 [==============================] - 17s 34us/step - loss: 41.1447 - auc: 0.8599 - val_loss: 45.8950 - val_auc: 0.8611\n",
            "Epoch 14/100\n",
            "500001/500001 [==============================] - 17s 34us/step - loss: 41.0858 - auc: 0.8622 - val_loss: 45.2776 - val_auc: 0.8633\n",
            "Epoch 15/100\n",
            "500001/500001 [==============================] - 17s 34us/step - loss: 38.8595 - auc: 0.8645 - val_loss: 41.8754 - val_auc: 0.8657\n",
            "Epoch 16/100\n",
            "500001/500001 [==============================] - 17s 34us/step - loss: 39.5272 - auc: 0.8669 - val_loss: 52.9819 - val_auc: 0.8676\n",
            "Epoch 17/100\n",
            "500001/500001 [==============================] - 17s 34us/step - loss: 39.6753 - auc: 0.8682 - val_loss: 44.7754 - val_auc: 0.8691\n",
            "Epoch 18/100\n",
            "500001/500001 [==============================] - 17s 34us/step - loss: 38.0548 - auc: 0.8701 - val_loss: 42.4289 - val_auc: 0.8710\n",
            "Epoch 19/100\n",
            "500001/500001 [==============================] - 17s 35us/step - loss: 37.0270 - auc: 0.8718 - val_loss: 45.8664 - val_auc: 0.8725\n",
            "Epoch 20/100\n",
            "500001/500001 [==============================] - 17s 35us/step - loss: 37.7780 - auc: 0.8732 - val_loss: 42.0356 - val_auc: 0.8739\n",
            "Epoch 21/100\n",
            "500001/500001 [==============================] - 17s 35us/step - loss: 36.9126 - auc: 0.8747 - val_loss: 42.1023 - val_auc: 0.8754\n",
            "Epoch 22/100\n",
            "500001/500001 [==============================] - 20s 41us/step - loss: 36.0796 - auc: 0.8761 - val_loss: 42.9653 - val_auc: 0.8767\n",
            "Epoch 23/100\n",
            "500001/500001 [==============================] - 20s 40us/step - loss: 35.7125 - auc: 0.8773 - val_loss: 41.4823 - val_auc: 0.8779\n",
            "Epoch 24/100\n",
            "500001/500001 [==============================] - 20s 40us/step - loss: 34.7793 - auc: 0.8785 - val_loss: 41.0463 - val_auc: 0.8792\n",
            "Epoch 25/100\n",
            "500001/500001 [==============================] - 20s 40us/step - loss: 34.8125 - auc: 0.8798 - val_loss: 40.8329 - val_auc: 0.8803\n",
            "Epoch 26/100\n",
            "500001/500001 [==============================] - 20s 39us/step - loss: 34.1087 - auc: 0.8809 - val_loss: 41.1299 - val_auc: 0.8814\n",
            "Epoch 27/100\n",
            "500001/500001 [==============================] - 18s 37us/step - loss: 33.5931 - auc: 0.8819 - val_loss: 38.3468 - val_auc: 0.8825\n",
            "Epoch 28/100\n",
            "500001/500001 [==============================] - 17s 34us/step - loss: 33.3216 - auc: 0.8831 - val_loss: 38.7730 - val_auc: 0.8836\n",
            "Epoch 29/100\n",
            "500001/500001 [==============================] - 17s 34us/step - loss: 33.1234 - auc: 0.8841 - val_loss: 40.3015 - val_auc: 0.8846\n",
            "Epoch 30/100\n",
            "500001/500001 [==============================] - 17s 34us/step - loss: 32.9943 - auc: 0.8851 - val_loss: 39.2908 - val_auc: 0.8855\n",
            "Epoch 31/100\n",
            "500001/500001 [==============================] - 17s 34us/step - loss: 32.4733 - auc: 0.8860 - val_loss: 39.8190 - val_auc: 0.8864\n",
            "Epoch 32/100\n",
            "500001/500001 [==============================] - 17s 34us/step - loss: 32.5110 - auc: 0.8869 - val_loss: 39.1391 - val_auc: 0.8873\n",
            "Epoch 33/100\n",
            "500001/500001 [==============================] - 17s 33us/step - loss: 32.2197 - auc: 0.8877 - val_loss: 39.1533 - val_auc: 0.8881\n",
            "Epoch 34/100\n",
            "500001/500001 [==============================] - 17s 34us/step - loss: 31.8706 - auc: 0.8885 - val_loss: 38.1053 - val_auc: 0.8889\n",
            "Epoch 35/100\n",
            "500001/500001 [==============================] - 17s 34us/step - loss: 31.7607 - auc: 0.8893 - val_loss: 40.7219 - val_auc: 0.8897\n",
            "Epoch 36/100\n",
            "500001/500001 [==============================] - 18s 35us/step - loss: 31.6593 - auc: 0.8901 - val_loss: 39.7694 - val_auc: 0.8904\n",
            "Epoch 37/100\n",
            "500001/500001 [==============================] - 18s 36us/step - loss: 31.6314 - auc: 0.8908 - val_loss: 39.8050 - val_auc: 0.8911\n",
            "Epoch 38/100\n",
            "500001/500001 [==============================] - 18s 36us/step - loss: 31.5023 - auc: 0.8914 - val_loss: 38.9255 - val_auc: 0.8917\n",
            "Epoch 39/100\n",
            "500001/500001 [==============================] - 18s 36us/step - loss: 31.3490 - auc: 0.8921 - val_loss: 41.2822 - val_auc: 0.8924\n",
            "Epoch 40/100\n",
            "500001/500001 [==============================] - 18s 36us/step - loss: 31.1799 - auc: 0.8927 - val_loss: 38.9237 - val_auc: 0.8930\n",
            "Epoch 41/100\n",
            "500001/500001 [==============================] - 18s 36us/step - loss: 31.1158 - auc: 0.8933 - val_loss: 39.4345 - val_auc: 0.8936\n",
            "Epoch 42/100\n",
            "500001/500001 [==============================] - 18s 36us/step - loss: 31.0906 - auc: 0.8938 - val_loss: 39.9145 - val_auc: 0.8941\n",
            "Epoch 43/100\n",
            "500001/500001 [==============================] - 18s 36us/step - loss: 31.0436 - auc: 0.8944 - val_loss: 39.7046 - val_auc: 0.8947\n",
            "Epoch 44/100\n",
            "500001/500001 [==============================] - 18s 36us/step - loss: 30.7447 - auc: 0.8949 - val_loss: 38.0811 - val_auc: 0.8952\n",
            "Epoch 45/100\n",
            "500001/500001 [==============================] - 18s 36us/step - loss: 30.7305 - auc: 0.8955 - val_loss: 38.0176 - val_auc: 0.8957\n",
            "Epoch 46/100\n",
            "500001/500001 [==============================] - 18s 36us/step - loss: 30.7182 - auc: 0.8960 - val_loss: 38.1640 - val_auc: 0.8962\n",
            "Epoch 47/100\n",
            "500001/500001 [==============================] - 18s 36us/step - loss: 30.7090 - auc: 0.8965 - val_loss: 39.2691 - val_auc: 0.8967\n",
            "Epoch 48/100\n",
            "500001/500001 [==============================] - 18s 36us/step - loss: 30.5409 - auc: 0.8970 - val_loss: 38.5494 - val_auc: 0.8972\n",
            "Epoch 49/100\n",
            "500001/500001 [==============================] - 18s 36us/step - loss: 30.3729 - auc: 0.8974 - val_loss: 40.2341 - val_auc: 0.8976\n",
            "Epoch 50/100\n",
            "500001/500001 [==============================] - 18s 36us/step - loss: 30.2437 - auc: 0.8979 - val_loss: 39.5279 - val_auc: 0.8981\n",
            "Epoch 51/100\n",
            "500001/500001 [==============================] - 18s 36us/step - loss: 30.2246 - auc: 0.8983 - val_loss: 38.3279 - val_auc: 0.8985\n",
            "Epoch 52/100\n",
            "500001/500001 [==============================] - 18s 36us/step - loss: 30.2022 - auc: 0.8987 - val_loss: 40.9325 - val_auc: 0.8989\n",
            "Epoch 53/100\n",
            "500001/500001 [==============================] - 18s 36us/step - loss: 30.2708 - auc: 0.8991 - val_loss: 39.1869 - val_auc: 0.8993\n",
            "Epoch 54/100\n",
            "500001/500001 [==============================] - 18s 35us/step - loss: 30.0180 - auc: 0.8995 - val_loss: 39.4897 - val_auc: 0.8997\n",
            "Epoch 55/100\n",
            "500001/500001 [==============================] - 18s 36us/step - loss: 30.1690 - auc: 0.8999 - val_loss: 39.9651 - val_auc: 0.9001\n",
            "Epoch 56/100\n",
            "500001/500001 [==============================] - 18s 36us/step - loss: 28.7064 - auc: 0.9003 - val_loss: 37.9297 - val_auc: 0.9005\n",
            "Epoch 57/100\n",
            "500001/500001 [==============================] - 18s 36us/step - loss: 28.3751 - auc: 0.9007 - val_loss: 36.9826 - val_auc: 0.9009\n",
            "Epoch 58/100\n",
            "500001/500001 [==============================] - 18s 35us/step - loss: 28.2303 - auc: 0.9011 - val_loss: 36.9879 - val_auc: 0.9013\n",
            "Epoch 59/100\n",
            "500001/500001 [==============================] - 18s 35us/step - loss: 28.2448 - auc: 0.9015 - val_loss: 36.2261 - val_auc: 0.9017\n",
            "Epoch 60/100\n",
            "500001/500001 [==============================] - 18s 36us/step - loss: 28.3017 - auc: 0.9019 - val_loss: 38.1689 - val_auc: 0.9021\n",
            "Epoch 61/100\n",
            "500001/500001 [==============================] - 18s 36us/step - loss: 28.0814 - auc: 0.9023 - val_loss: 37.9639 - val_auc: 0.9025\n",
            "Epoch 62/100\n",
            "500001/500001 [==============================] - 18s 36us/step - loss: 28.0323 - auc: 0.9027 - val_loss: 38.1229 - val_auc: 0.9028\n",
            "Epoch 63/100\n",
            "500001/500001 [==============================] - 17s 35us/step - loss: 28.0308 - auc: 0.9030 - val_loss: 37.5104 - val_auc: 0.9031\n",
            "Epoch 64/100\n",
            "500001/500001 [==============================] - 17s 35us/step - loss: 27.9443 - auc: 0.9033 - val_loss: 35.5252 - val_auc: 0.9035\n",
            "Epoch 65/100\n",
            "500001/500001 [==============================] - 18s 35us/step - loss: 27.8830 - auc: 0.9037 - val_loss: 38.1583 - val_auc: 0.9038\n",
            "Epoch 66/100\n",
            "500001/500001 [==============================] - 17s 35us/step - loss: 27.9874 - auc: 0.9040 - val_loss: 36.7182 - val_auc: 0.9041\n",
            "Epoch 67/100\n",
            "500001/500001 [==============================] - 17s 35us/step - loss: 27.7872 - auc: 0.9043 - val_loss: 35.6248 - val_auc: 0.9045\n",
            "Epoch 68/100\n",
            "500001/500001 [==============================] - 17s 34us/step - loss: 27.6825 - auc: 0.9046 - val_loss: 35.7252 - val_auc: 0.9048\n",
            "Epoch 69/100\n",
            "500001/500001 [==============================] - 17s 35us/step - loss: 27.7836 - auc: 0.9050 - val_loss: 38.9293 - val_auc: 0.9051\n",
            "Epoch 70/100\n",
            "500001/500001 [==============================] - 17s 35us/step - loss: 27.9232 - auc: 0.9052 - val_loss: 38.1204 - val_auc: 0.9054\n",
            "Epoch 71/100\n",
            "500001/500001 [==============================] - 17s 34us/step - loss: 27.7477 - auc: 0.9055 - val_loss: 37.4244 - val_auc: 0.9057\n",
            "Epoch 72/100\n",
            "500001/500001 [==============================] - 17s 34us/step - loss: 27.5914 - auc: 0.9058 - val_loss: 41.2971 - val_auc: 0.9059\n",
            "Epoch 73/100\n",
            "500001/500001 [==============================] - 17s 33us/step - loss: 27.5871 - auc: 0.9060 - val_loss: 39.8136 - val_auc: 0.9061\n",
            "Epoch 74/100\n",
            "500001/500001 [==============================] - 17s 34us/step - loss: 27.5850 - auc: 0.9063 - val_loss: 37.3436 - val_auc: 0.9064\n",
            "Epoch 75/100\n",
            "500001/500001 [==============================] - 17s 33us/step - loss: 26.3928 - auc: 0.9066 - val_loss: 37.0734 - val_auc: 0.9067\n",
            "Epoch 76/100\n",
            "500001/500001 [==============================] - 17s 34us/step - loss: 26.2851 - auc: 0.9069 - val_loss: 36.6153 - val_auc: 0.9070\n",
            "Epoch 77/100\n",
            "500001/500001 [==============================] - 17s 34us/step - loss: 26.1881 - auc: 0.9072 - val_loss: 37.9313 - val_auc: 0.9073\n",
            "Epoch 78/100\n",
            "500001/500001 [==============================] - 17s 33us/step - loss: 26.2618 - auc: 0.9074 - val_loss: 43.8246 - val_auc: 0.9075\n",
            "Epoch 79/100\n",
            "500001/500001 [==============================] - 17s 33us/step - loss: 26.0552 - auc: 0.9076 - val_loss: 42.1227 - val_auc: 0.9077\n",
            "Epoch 80/100\n",
            "500001/500001 [==============================] - 17s 34us/step - loss: 25.9020 - auc: 0.9079 - val_loss: 36.5030 - val_auc: 0.9080\n",
            "Epoch 81/100\n",
            "500001/500001 [==============================] - 17s 34us/step - loss: 26.0012 - auc: 0.9081 - val_loss: 36.2195 - val_auc: 0.9083\n",
            "Epoch 82/100\n",
            "500001/500001 [==============================] - 17s 34us/step - loss: 25.8956 - auc: 0.9084 - val_loss: 39.3679 - val_auc: 0.9086\n",
            "Epoch 83/100\n",
            "500001/500001 [==============================] - 17s 34us/step - loss: 26.0302 - auc: 0.9087 - val_loss: 40.1719 - val_auc: 0.9088\n",
            "Epoch 84/100\n",
            "500001/500001 [==============================] - 17s 34us/step - loss: 25.9124 - auc: 0.9090 - val_loss: 49.5168 - val_auc: 0.9091\n",
            "Epoch 85/100\n",
            "500001/500001 [==============================] - 17s 34us/step - loss: 24.8671 - auc: 0.9092 - val_loss: 42.2771 - val_auc: 0.9093\n",
            "Epoch 86/100\n",
            "500001/500001 [==============================] - 17s 34us/step - loss: 24.6411 - auc: 0.9094 - val_loss: 54.6733 - val_auc: 0.9095\n",
            "Epoch 87/100\n",
            "500001/500001 [==============================] - 17s 33us/step - loss: 24.6125 - auc: 0.9096 - val_loss: 55.5239 - val_auc: 0.9096\n",
            "Epoch 88/100\n",
            "500001/500001 [==============================] - 17s 34us/step - loss: 24.4950 - auc: 0.9097 - val_loss: 76.6195 - val_auc: 0.9096\n",
            "Epoch 89/100\n",
            "500001/500001 [==============================] - 17s 34us/step - loss: 24.5482 - auc: 0.9095 - val_loss: 42.1427 - val_auc: 0.9096\n",
            "Epoch 90/100\n",
            "500001/500001 [==============================] - 17s 34us/step - loss: 24.4191 - auc: 0.9097 - val_loss: 41.5316 - val_auc: 0.9099\n",
            "Epoch 91/100\n",
            "500001/500001 [==============================] - 17s 34us/step - loss: 24.4890 - auc: 0.9100 - val_loss: 36.0007 - val_auc: 0.9101\n",
            "Epoch 92/100\n",
            "500001/500001 [==============================] - 17s 34us/step - loss: 24.4101 - auc: 0.9102 - val_loss: 37.6682 - val_auc: 0.9104\n",
            "Epoch 93/100\n",
            "500001/500001 [==============================] - 17s 34us/step - loss: 24.4945 - auc: 0.9105 - val_loss: 43.6620 - val_auc: 0.9106\n",
            "Epoch 94/100\n",
            "500001/500001 [==============================] - 17s 34us/step - loss: 24.4812 - auc: 0.9107 - val_loss: 56.8110 - val_auc: 0.9107\n",
            "Epoch 95/100\n",
            "500001/500001 [==============================] - 17s 34us/step - loss: 23.5897 - auc: 0.9106 - val_loss: 43.3534 - val_auc: 0.9107\n",
            "Epoch 96/100\n",
            "500001/500001 [==============================] - 17s 34us/step - loss: 23.2745 - auc: 0.9109 - val_loss: 120.2277 - val_auc: 0.9108\n",
            "Epoch 97/100\n",
            "500001/500001 [==============================] - 17s 34us/step - loss: 23.3318 - auc: 0.9107 - val_loss: 45.3554 - val_auc: 0.9109\n",
            "Epoch 98/100\n",
            "500001/500001 [==============================] - 17s 34us/step - loss: 23.1977 - auc: 0.9110 - val_loss: 85.7619 - val_auc: 0.9109\n",
            "Epoch 99/100\n",
            "500001/500001 [==============================] - 17s 34us/step - loss: 23.2591 - auc: 0.9107 - val_loss: 142.6980 - val_auc: 0.9105\n",
            "Epoch 100/100\n",
            "500001/500001 [==============================] - 17s 35us/step - loss: 23.2641 - auc: 0.9101 - val_loss: 137.2759 - val_auc: 0.9099\n"
          ],
          "name": "stdout"
        }
      ]
    },
    {
      "cell_type": "code",
      "metadata": {
        "id": "jgH5e7opLmPg",
        "colab_type": "code",
        "colab": {
          "base_uri": "https://localhost:8080/",
          "height": 50
        },
        "outputId": "6e6ba1af-d2bf-46d1-dcc5-f505ebeaca29"
      },
      "source": [
        "from google.colab import drive\n",
        "drive.mount('/content/gdrive')\n",
        "drive.mount(\"/content/gdrive\", force_remount=True)\n",
        "path = F\"/content/gdrive/My Drive/focal.hdf5\" \n",
        "mod.save_weights(path)\n"
      ],
      "execution_count": 16,
      "outputs": [
        {
          "output_type": "stream",
          "text": [
            "Drive already mounted at /content/gdrive; to attempt to forcibly remount, call drive.mount(\"/content/gdrive\", force_remount=True).\n",
            "Mounted at /content/gdrive\n"
          ],
          "name": "stdout"
        }
      ]
    },
    {
      "cell_type": "code",
      "metadata": {
        "id": "ze5r0JPyS6UP",
        "colab_type": "code",
        "colab": {}
      },
      "source": [
        ""
      ],
      "execution_count": 0,
      "outputs": []
    },
    {
      "cell_type": "code",
      "metadata": {
        "id": "uLQMeWKbuotD",
        "colab_type": "code",
        "colab": {}
      },
      "source": [
        ""
      ],
      "execution_count": 0,
      "outputs": []
    }
  ]
}