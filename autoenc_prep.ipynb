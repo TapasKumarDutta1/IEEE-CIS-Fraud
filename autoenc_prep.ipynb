{
  "nbformat": 4,
  "nbformat_minor": 0,
  "metadata": {
    "colab": {
      "name": "autoenc_prep.ipynb",
      "provenance": [],
      "machine_shape": "hm",
      "authorship_tag": "ABX9TyPR5mzusz1t4xum0Q+Ml2u5",
      "include_colab_link": true
    },
    "kernelspec": {
      "name": "python3",
      "display_name": "Python 3"
    },
    "accelerator": "GPU"
  },
  "cells": [
    {
      "cell_type": "markdown",
      "metadata": {
        "id": "view-in-github",
        "colab_type": "text"
      },
      "source": [
        "<a href=\"https://colab.research.google.com/github/greyhound101/IEEE-CIS-Fraud/blob/master/autoenc_prep.ipynb\" target=\"_parent\"><img src=\"https://colab.research.google.com/assets/colab-badge.svg\" alt=\"Open In Colab\"/></a>"
      ]
    },
    {
      "cell_type": "code",
      "metadata": {
        "id": "eQqlrXIJej1l",
        "colab_type": "code",
        "outputId": "f51477b7-a00c-44cb-9532-424f8e4bd664",
        "colab": {
          "base_uri": "https://localhost:8080/",
          "height": 1000
        }
      },
      "source": [
        "pip install tensorflow==2.1.0-rc0"
      ],
      "execution_count": 1,
      "outputs": [
        {
          "output_type": "stream",
          "text": [
            "Collecting tensorflow==2.1.0-rc0\n",
            "\u001b[?25l  Downloading https://files.pythonhosted.org/packages/4d/fd/7528e5ef327abde9b7425aea24198d8b139795c1233d1658c1279055d860/tensorflow-2.1.0rc0-cp36-cp36m-manylinux2010_x86_64.whl (402.3MB)\n",
            "\u001b[K     |████████████████████████████████| 402.3MB 36kB/s \n",
            "\u001b[?25hRequirement already satisfied: google-pasta>=0.1.6 in /usr/local/lib/python3.6/dist-packages (from tensorflow==2.1.0-rc0) (0.2.0)\n",
            "Requirement already satisfied: grpcio>=1.8.6 in /usr/local/lib/python3.6/dist-packages (from tensorflow==2.1.0-rc0) (1.28.1)\n",
            "Requirement already satisfied: protobuf>=3.8.0 in /usr/local/lib/python3.6/dist-packages (from tensorflow==2.1.0-rc0) (3.10.0)\n",
            "Requirement already satisfied: termcolor>=1.1.0 in /usr/local/lib/python3.6/dist-packages (from tensorflow==2.1.0-rc0) (1.1.0)\n",
            "Requirement already satisfied: numpy<2.0,>=1.16.0 in /usr/local/lib/python3.6/dist-packages (from tensorflow==2.1.0-rc0) (1.18.2)\n",
            "Requirement already satisfied: keras-preprocessing>=1.1.0 in /usr/local/lib/python3.6/dist-packages (from tensorflow==2.1.0-rc0) (1.1.0)\n",
            "Requirement already satisfied: absl-py>=0.7.0 in /usr/local/lib/python3.6/dist-packages (from tensorflow==2.1.0-rc0) (0.9.0)\n",
            "Requirement already satisfied: wheel>=0.26; python_version >= \"3\" in /usr/local/lib/python3.6/dist-packages (from tensorflow==2.1.0-rc0) (0.34.2)\n",
            "Requirement already satisfied: astor>=0.6.0 in /usr/local/lib/python3.6/dist-packages (from tensorflow==2.1.0-rc0) (0.8.1)\n",
            "Requirement already satisfied: keras-applications>=1.0.8 in /usr/local/lib/python3.6/dist-packages (from tensorflow==2.1.0-rc0) (1.0.8)\n",
            "Collecting tensorflow-estimator<2.1.0,>=2.0.0\n",
            "\u001b[?25l  Downloading https://files.pythonhosted.org/packages/fc/08/8b927337b7019c374719145d1dceba21a8bb909b93b1ad6f8fb7d22c1ca1/tensorflow_estimator-2.0.1-py2.py3-none-any.whl (449kB)\n",
            "\u001b[K     |████████████████████████████████| 450kB 46.8MB/s \n",
            "\u001b[?25hRequirement already satisfied: wrapt>=1.11.1 in /usr/local/lib/python3.6/dist-packages (from tensorflow==2.1.0-rc0) (1.12.1)\n",
            "Collecting gast==0.2.2\n",
            "  Downloading https://files.pythonhosted.org/packages/4e/35/11749bf99b2d4e3cceb4d55ca22590b0d7c2c62b9de38ac4a4a7f4687421/gast-0.2.2.tar.gz\n",
            "Requirement already satisfied: six>=1.12.0 in /usr/local/lib/python3.6/dist-packages (from tensorflow==2.1.0-rc0) (1.12.0)\n",
            "Requirement already satisfied: opt-einsum>=2.3.2 in /usr/local/lib/python3.6/dist-packages (from tensorflow==2.1.0-rc0) (3.2.1)\n",
            "Collecting tensorboard<2.1.0,>=2.0.0\n",
            "\u001b[?25l  Downloading https://files.pythonhosted.org/packages/76/54/99b9d5d52d5cb732f099baaaf7740403e83fe6b0cedde940fabd2b13d75a/tensorboard-2.0.2-py3-none-any.whl (3.8MB)\n",
            "\u001b[K     |████████████████████████████████| 3.8MB 52.4MB/s \n",
            "\u001b[?25hRequirement already satisfied: setuptools in /usr/local/lib/python3.6/dist-packages (from protobuf>=3.8.0->tensorflow==2.1.0-rc0) (46.1.3)\n",
            "Requirement already satisfied: h5py in /usr/local/lib/python3.6/dist-packages (from keras-applications>=1.0.8->tensorflow==2.1.0-rc0) (2.10.0)\n",
            "Requirement already satisfied: markdown>=2.6.8 in /usr/local/lib/python3.6/dist-packages (from tensorboard<2.1.0,>=2.0.0->tensorflow==2.1.0-rc0) (3.2.1)\n",
            "Requirement already satisfied: requests<3,>=2.21.0 in /usr/local/lib/python3.6/dist-packages (from tensorboard<2.1.0,>=2.0.0->tensorflow==2.1.0-rc0) (2.21.0)\n",
            "Requirement already satisfied: google-auth<2,>=1.6.3 in /usr/local/lib/python3.6/dist-packages (from tensorboard<2.1.0,>=2.0.0->tensorflow==2.1.0-rc0) (1.7.2)\n",
            "Requirement already satisfied: google-auth-oauthlib<0.5,>=0.4.1 in /usr/local/lib/python3.6/dist-packages (from tensorboard<2.1.0,>=2.0.0->tensorflow==2.1.0-rc0) (0.4.1)\n",
            "Requirement already satisfied: werkzeug>=0.11.15 in /usr/local/lib/python3.6/dist-packages (from tensorboard<2.1.0,>=2.0.0->tensorflow==2.1.0-rc0) (1.0.1)\n",
            "Requirement already satisfied: urllib3<1.25,>=1.21.1 in /usr/local/lib/python3.6/dist-packages (from requests<3,>=2.21.0->tensorboard<2.1.0,>=2.0.0->tensorflow==2.1.0-rc0) (1.24.3)\n",
            "Requirement already satisfied: chardet<3.1.0,>=3.0.2 in /usr/local/lib/python3.6/dist-packages (from requests<3,>=2.21.0->tensorboard<2.1.0,>=2.0.0->tensorflow==2.1.0-rc0) (3.0.4)\n",
            "Requirement already satisfied: certifi>=2017.4.17 in /usr/local/lib/python3.6/dist-packages (from requests<3,>=2.21.0->tensorboard<2.1.0,>=2.0.0->tensorflow==2.1.0-rc0) (2020.4.5.1)\n",
            "Requirement already satisfied: idna<2.9,>=2.5 in /usr/local/lib/python3.6/dist-packages (from requests<3,>=2.21.0->tensorboard<2.1.0,>=2.0.0->tensorflow==2.1.0-rc0) (2.8)\n",
            "Requirement already satisfied: cachetools<3.2,>=2.0.0 in /usr/local/lib/python3.6/dist-packages (from google-auth<2,>=1.6.3->tensorboard<2.1.0,>=2.0.0->tensorflow==2.1.0-rc0) (3.1.1)\n",
            "Requirement already satisfied: pyasn1-modules>=0.2.1 in /usr/local/lib/python3.6/dist-packages (from google-auth<2,>=1.6.3->tensorboard<2.1.0,>=2.0.0->tensorflow==2.1.0-rc0) (0.2.8)\n",
            "Requirement already satisfied: rsa<4.1,>=3.1.4 in /usr/local/lib/python3.6/dist-packages (from google-auth<2,>=1.6.3->tensorboard<2.1.0,>=2.0.0->tensorflow==2.1.0-rc0) (4.0)\n",
            "Requirement already satisfied: requests-oauthlib>=0.7.0 in /usr/local/lib/python3.6/dist-packages (from google-auth-oauthlib<0.5,>=0.4.1->tensorboard<2.1.0,>=2.0.0->tensorflow==2.1.0-rc0) (1.3.0)\n",
            "Requirement already satisfied: pyasn1<0.5.0,>=0.4.6 in /usr/local/lib/python3.6/dist-packages (from pyasn1-modules>=0.2.1->google-auth<2,>=1.6.3->tensorboard<2.1.0,>=2.0.0->tensorflow==2.1.0-rc0) (0.4.8)\n",
            "Requirement already satisfied: oauthlib>=3.0.0 in /usr/local/lib/python3.6/dist-packages (from requests-oauthlib>=0.7.0->google-auth-oauthlib<0.5,>=0.4.1->tensorboard<2.1.0,>=2.0.0->tensorflow==2.1.0-rc0) (3.1.0)\n",
            "Building wheels for collected packages: gast\n",
            "  Building wheel for gast (setup.py) ... \u001b[?25l\u001b[?25hdone\n",
            "  Created wheel for gast: filename=gast-0.2.2-cp36-none-any.whl size=7540 sha256=ca08bdf6d9299565633b0c65797af5a7fe57f830b47bf512f982dc0579f21e0a\n",
            "  Stored in directory: /root/.cache/pip/wheels/5c/2e/7e/a1d4d4fcebe6c381f378ce7743a3ced3699feb89bcfbdadadd\n",
            "Successfully built gast\n",
            "\u001b[31mERROR: tensorflow-probability 0.10.0rc0 has requirement gast>=0.3.2, but you'll have gast 0.2.2 which is incompatible.\u001b[0m\n",
            "Installing collected packages: tensorflow-estimator, gast, tensorboard, tensorflow\n",
            "  Found existing installation: tensorflow-estimator 2.2.0\n",
            "    Uninstalling tensorflow-estimator-2.2.0:\n",
            "      Successfully uninstalled tensorflow-estimator-2.2.0\n",
            "  Found existing installation: gast 0.3.3\n",
            "    Uninstalling gast-0.3.3:\n",
            "      Successfully uninstalled gast-0.3.3\n",
            "  Found existing installation: tensorboard 2.2.1\n",
            "    Uninstalling tensorboard-2.2.1:\n",
            "      Successfully uninstalled tensorboard-2.2.1\n",
            "  Found existing installation: tensorflow 2.2.0rc3\n",
            "    Uninstalling tensorflow-2.2.0rc3:\n",
            "      Successfully uninstalled tensorflow-2.2.0rc3\n",
            "Successfully installed gast-0.2.2 tensorboard-2.0.2 tensorflow-2.1.0rc0 tensorflow-estimator-2.0.1\n"
          ],
          "name": "stdout"
        }
      ]
    },
    {
      "cell_type": "code",
      "metadata": {
        "id": "_WXDyhihenRg",
        "colab_type": "code",
        "outputId": "5a56b92f-1ef7-4afc-a90d-ed1020bd6655",
        "colab": {
          "base_uri": "https://localhost:8080/",
          "height": 170
        }
      },
      "source": [
        "pip install keras==2.3.1"
      ],
      "execution_count": 2,
      "outputs": [
        {
          "output_type": "stream",
          "text": [
            "Requirement already satisfied: keras==2.3.1 in /usr/local/lib/python3.6/dist-packages (2.3.1)\n",
            "Requirement already satisfied: numpy>=1.9.1 in /usr/local/lib/python3.6/dist-packages (from keras==2.3.1) (1.18.2)\n",
            "Requirement already satisfied: six>=1.9.0 in /usr/local/lib/python3.6/dist-packages (from keras==2.3.1) (1.12.0)\n",
            "Requirement already satisfied: keras-applications>=1.0.6 in /usr/local/lib/python3.6/dist-packages (from keras==2.3.1) (1.0.8)\n",
            "Requirement already satisfied: scipy>=0.14 in /usr/local/lib/python3.6/dist-packages (from keras==2.3.1) (1.4.1)\n",
            "Requirement already satisfied: keras-preprocessing>=1.0.5 in /usr/local/lib/python3.6/dist-packages (from keras==2.3.1) (1.1.0)\n",
            "Requirement already satisfied: pyyaml in /usr/local/lib/python3.6/dist-packages (from keras==2.3.1) (3.13)\n",
            "Requirement already satisfied: h5py in /usr/local/lib/python3.6/dist-packages (from keras==2.3.1) (2.10.0)\n"
          ],
          "name": "stdout"
        }
      ]
    },
    {
      "cell_type": "code",
      "metadata": {
        "id": "KQ_0F8Zfep7F",
        "colab_type": "code",
        "outputId": "13cf0314-6e10-40be-e44a-15883cbf0fe7",
        "colab": {
          "base_uri": "https://localhost:8080/",
          "height": 304
        }
      },
      "source": [
        "import os\n",
        "os.environ['KAGGLE_USERNAME'] = \"tapaskd123\" # username from the json file\n",
        "os.environ['KAGGLE_KEY'] = \"aba8dc1f085221111d925003fe5a88ed\" # key from the json file\n",
        "!kaggle competitions download -c ieee-fraud-detection"
      ],
      "execution_count": 3,
      "outputs": [
        {
          "output_type": "stream",
          "text": [
            "Warning: Looks like you're using an outdated API Version, please consider updating (server 1.5.6 / client 1.5.4)\n",
            "Downloading train_identity.csv.zip to /content\n",
            "  0% 0.00/3.26M [00:00<?, ?B/s]\n",
            "100% 3.26M/3.26M [00:00<00:00, 108MB/s]\n",
            "Downloading test_identity.csv.zip to /content\n",
            "  0% 0.00/3.21M [00:00<?, ?B/s]\n",
            "100% 3.21M/3.21M [00:00<00:00, 105MB/s]\n",
            "Downloading train_transaction.csv.zip to /content\n",
            " 84% 49.0M/58.3M [00:02<00:00, 16.0MB/s]\n",
            "100% 58.3M/58.3M [00:02<00:00, 27.6MB/s]\n",
            "Downloading test_transaction.csv.zip to /content\n",
            " 79% 41.0M/52.2M [00:01<00:00, 28.4MB/s]\n",
            "100% 52.2M/52.2M [00:01<00:00, 43.2MB/s]\n",
            "Downloading sample_submission.csv.zip to /content\n",
            "  0% 0.00/1.14M [00:00<?, ?B/s]\n",
            "100% 1.14M/1.14M [00:00<00:00, 76.0MB/s]\n"
          ],
          "name": "stdout"
        }
      ]
    },
    {
      "cell_type": "code",
      "metadata": {
        "id": "OauHZNZMerDG",
        "colab_type": "code",
        "outputId": "9ba3da56-3876-41cc-a942-181bcd10a2cd",
        "colab": {
          "base_uri": "https://localhost:8080/",
          "height": 137
        }
      },
      "source": [
        "from google.colab import drive\n",
        "drive.mount('/content/gdrive')\n",
        "drive.mount(\"/content/gdrive\", force_remount=True)"
      ],
      "execution_count": 4,
      "outputs": [
        {
          "output_type": "stream",
          "text": [
            "Go to this URL in a browser: https://accounts.google.com/o/oauth2/auth?client_id=947318989803-6bn6qk8qdgf4n4g3pfee6491hc0brc4i.apps.googleusercontent.com&redirect_uri=urn%3aietf%3awg%3aoauth%3a2.0%3aoob&response_type=code&scope=email%20https%3a%2f%2fwww.googleapis.com%2fauth%2fdocs.test%20https%3a%2f%2fwww.googleapis.com%2fauth%2fdrive%20https%3a%2f%2fwww.googleapis.com%2fauth%2fdrive.photos.readonly%20https%3a%2f%2fwww.googleapis.com%2fauth%2fpeopleapi.readonly\n",
            "\n",
            "Enter your authorization code:\n",
            "··········\n",
            "Mounted at /content/gdrive\n",
            "Mounted at /content/gdrive\n"
          ],
          "name": "stdout"
        }
      ]
    },
    {
      "cell_type": "code",
      "metadata": {
        "id": "zJem4-mp8otc",
        "colab_type": "code",
        "colab": {}
      },
      "source": [
        "import pandas as pd\n",
        "import numpy as np\n",
        "trn=pd.read_csv('train_transaction.csv.zip')\n",
        "tst=pd.read_csv('test_transaction.csv.zip')\n",
        "trn=trn.drop(['isFraud'],1)"
      ],
      "execution_count": 0,
      "outputs": []
    },
    {
      "cell_type": "code",
      "metadata": {
        "id": "oiE3LbOCCgku",
        "colab_type": "code",
        "outputId": "8d6b2f0d-aff5-42a6-e4ab-ec33b737ebd1",
        "colab": {
          "base_uri": "https://localhost:8080/",
          "height": 33
        }
      },
      "source": [
        "ls=list(trn.filter(regex='V'))\n",
        "trn=trn.drop(ls,1)\n",
        "tst=tst.drop(ls,1)\n",
        "trn.shape"
      ],
      "execution_count": 6,
      "outputs": [
        {
          "output_type": "execute_result",
          "data": {
            "text/plain": [
              "(590540, 54)"
            ]
          },
          "metadata": {
            "tags": []
          },
          "execution_count": 6
        }
      ]
    },
    {
      "cell_type": "code",
      "metadata": {
        "id": "eq6gnpm4CjDC",
        "colab_type": "code",
        "colab": {}
      },
      "source": [
        "\n",
        "def ext(fnl):\n",
        "\n",
        "  fnl['P_1']=fnl['P_emaildomain'].fillna('nan').str.split('.').str[0]\n",
        "  fnl['P_2']=fnl['P_emaildomain'].fillna('nan').str.split('.').str[1]\n",
        "\n",
        "\n",
        "  fnl['R_1']=fnl['R_emaildomain'].fillna('nan').str.split('.').str[0]\n",
        "  fnl['R_2']=fnl['R_emaildomain'].fillna('nan').str.split('.').str[1]\n",
        "  return fnl\n",
        "trn=ext(trn)\n",
        "tst=ext(tst)"
      ],
      "execution_count": 0,
      "outputs": []
    },
    {
      "cell_type": "code",
      "metadata": {
        "id": "ukj7lSXPKxRd",
        "colab_type": "code",
        "colab": {}
      },
      "source": [
        "\n",
        "trn=trn.drop(['P_emaildomain','R_emaildomain','TransactionDT','TransactionID'],1)\n",
        "tst=tst.drop(['P_emaildomain','R_emaildomain','TransactionDT','TransactionID'],1)"
      ],
      "execution_count": 0,
      "outputs": []
    },
    {
      "cell_type": "code",
      "metadata": {
        "id": "W6TtrpUZLApF",
        "colab_type": "code",
        "colab": {}
      },
      "source": [
        "def handle_disc(df,cols,num):\n",
        "  for col in cols:\n",
        "    par=min(df[col].nunique(),num)\n",
        "    unq = df[col].value_counts().head(par)\n",
        "    dum=pd.get_dummies(df[col])[unq.index]\n",
        "    ls=[]\n",
        "    for i in dum.columns:\n",
        "      ls.append(str(col)+str(i))\n",
        "    dum.columns=ls\n",
        "    df=pd.concat([df,dum],1)\n",
        "\n",
        "  df=df.drop(cols,1)\n",
        "  sp=df.shape[1]\n",
        "  df.columns=list(range(sp))\n",
        "  return df\n",
        "def handle_cont(df,cols):\n",
        "  for col in cols:\n",
        "    df[col]=df[col].fillna(df[col].mean())\n",
        "    mn=df[col].mean()\n",
        "    std=df[col].std()\n",
        "    df[col]=(df[col]-mn)/(std+0.1)\n",
        "    df[col]=np.log10(df[col]+1-min(0,min(df[col])))\n",
        "  return df[cols]\n",
        "disc=['ProductCD','card1','card2','card3','card4','card5','card6','addr1','addr2','P_1','P_2','R_1','R_2','M1','M2','M3','M4','M5','M6','M7','M8','M9']\n",
        "cont=[i for i in tst.columns if i not in disc]\n",
        "trn_cont=handle_cont(trn,cont)\n",
        "tst_cont=handle_cont(tst,cont)\n",
        "trn_cont=trn_cont.replace([np.inf,-np.inf],0)\n",
        "tst_cont=tst_cont.replace([np.inf,-np.inf],0)\n",
        "trn_disc=handle_disc(trn,disc,140)\n",
        "tst_disc=handle_disc(tst,disc,140)"
      ],
      "execution_count": 0,
      "outputs": []
    },
    {
      "cell_type": "code",
      "metadata": {
        "id": "YB0KD63FLJw3",
        "colab_type": "code",
        "colab": {}
      },
      "source": [
        "\n",
        "trn=pd.concat([trn_cont,trn_disc],1).reset_index(drop=True)\n",
        "tst=pd.concat([tst_cont,tst_disc],1).reset_index(drop=True)"
      ],
      "execution_count": 0,
      "outputs": []
    },
    {
      "cell_type": "code",
      "metadata": {
        "id": "a7ox9QeDLRg6",
        "colab_type": "code",
        "colab": {}
      },
      "source": [
        "ls=list(set(list(tst)).intersection(set(list(trn))))\n",
        "trn=trn[ls]\n",
        "tst=tst[ls]"
      ],
      "execution_count": 0,
      "outputs": []
    },
    {
      "cell_type": "code",
      "metadata": {
        "id": "OQ0S3t3fLf3B",
        "colab_type": "code",
        "colab": {}
      },
      "source": [
        "\n",
        "trn=trn.loc[:,~(trn.columns.duplicated())]\n",
        "tst=tst.loc[:,~(tst.columns.duplicated())]"
      ],
      "execution_count": 0,
      "outputs": []
    },
    {
      "cell_type": "code",
      "metadata": {
        "id": "KP_1WSkw8H1F",
        "colab_type": "code",
        "outputId": "6f7a3fb4-7426-41e4-f6ad-cd11a988c5ca",
        "colab": {
          "base_uri": "https://localhost:8080/",
          "height": 33
        }
      },
      "source": [
        "fnl=pd.concat([trn,tst],0)\n",
        "fnl=fnl.reset_index(drop=True)\n",
        "z=fnl.isna().sum()\n",
        "z[z>0]"
      ],
      "execution_count": 13,
      "outputs": [
        {
          "output_type": "execute_result",
          "data": {
            "text/plain": [
              "Series([], dtype: int64)"
            ]
          },
          "metadata": {
            "tags": []
          },
          "execution_count": 13
        }
      ]
    },
    {
      "cell_type": "code",
      "metadata": {
        "id": "CMYANec88Kfn",
        "colab_type": "code",
        "outputId": "dc6993dd-f5bb-41b2-b5e2-ab1221de854e",
        "colab": {
          "base_uri": "https://localhost:8080/",
          "height": 368
        }
      },
      "source": [
        "import gc\n",
        "import os\n",
        "gc.collect()\n",
        "import numpy as np\n",
        "import keras \n",
        "from math import ceil\n",
        "from keras.models import Model\n",
        "import matplotlib.pyplot as plt\n",
        "from keras.utils import Sequence\n",
        "from keras.models import Model, Sequential\n",
        "from keras.layers import Dense, Input, Concatenate, Dropout,BatchNormalization\n",
        "from keras.layers import Add\n",
        "import keras.backend as K\n",
        "class DAESequence(Sequence):\n",
        "    def __init__(self,df,batch_size):\n",
        "        self.batch_size=batch_size\n",
        "        self.len_data=df.shape[0]\n",
        "        self.columns=df.shape[1]\n",
        "        self.data=df.values\n",
        "        self.idx=[]\n",
        "    def __len__(self):\n",
        "        return int(ceil(self.len_data/self.batch_size))\n",
        "    def __getitem__(self,idx):\n",
        "        self.idx.append(idx)\n",
        "        last=min((idx+1)*self.batch_size,self.len_data)\n",
        "        idx=idx*self.batch_size\n",
        "        size=last-idx\n",
        "        output_x=self.data[idx:last]\n",
        "        length=last-idx\n",
        "        rnd=np.random.randint(0,self.len_data-size,size)\n",
        "        rnd[rnd>idx]+=size\n",
        "        cols=np.random.randint(0,self.columns,int(self.columns*0.1))\n",
        "        noise_x=output_x.copy()\n",
        "        noise_x[:,cols]=self.data[rnd[:,None],cols]\n",
        "        return noise_x,output_x\n",
        "from keras import backend as K\n",
        "\n",
        "\n",
        "class WarmUpLearningRateScheduler(keras.callbacks.Callback):\n",
        "    \"\"\"Warmup learning rate scheduler\n",
        "    \"\"\"\n",
        "\n",
        "    def __init__(self, warmup_batches, init_lr, verbose=0):\n",
        "        \"\"\"Constructor for warmup learning rate scheduler\n",
        "\n",
        "        Arguments:\n",
        "            warmup_batches {int} -- Number of batch for warmup.\n",
        "            init_lr {float} -- Learning rate after warmup.\n",
        "\n",
        "        Keyword Arguments:\n",
        "            verbose {int} -- 0: quiet, 1: update messages. (default: {0})\n",
        "        \"\"\"\n",
        "\n",
        "        super(WarmUpLearningRateScheduler, self).__init__()\n",
        "        self.warmup_batches = warmup_batches\n",
        "        self.init_lr = init_lr\n",
        "        self.verbose = verbose\n",
        "        self.batch_count = 0\n",
        "        self.learning_rates = []\n",
        "\n",
        "    def on_batch_end(self, batch, logs=None):\n",
        "        self.batch_count = self.batch_count + 1\n",
        "        lr = K.get_value(self.model.optimizer.lr)\n",
        "        self.learning_rates.append(lr)\n",
        "\n",
        "    def on_batch_begin(self, batch, logs=None):\n",
        "        if self.batch_count <= self.warmup_batches:\n",
        "            lr = self.batch_count*self.init_lr/self.warmup_batches\n",
        "            K.set_value(self.model.optimizer.lr, lr)\n",
        "            if self.verbose > 0:\n",
        "                print('\\nBatch %05d: WarmUpLearningRateScheduler setting learning '\n",
        "                      'rate to %s.' % (self.batch_count + 1, lr))\n",
        "warm_up_lr = WarmUpLearningRateScheduler(400, init_lr=0.005)\n",
        "from keras.models import Sequential\n",
        "from keras.callbacks.callbacks import ReduceLROnPlateau,ModelCheckpoint\n",
        "from keras.layers import BatchNormalization\n",
        "#fnl=pd.concat([fnl_trn,fnl_tst],0).select_dtypes(exclude='uint8')\n",
        "batch_size=1024\n",
        "checkpoint_path = \"training_1.hdf5\" \n",
        "checkpoint_dir = os.path.dirname(checkpoint_path)\n",
        "cp_callback =ModelCheckpoint(checkpoint_path, \n",
        "monitor='loss',save_best_only=True,save_weights_only=True,verbose=1)\n",
        "len_input_columns=fnl.shape[1]\n",
        "model_dae = Sequential()\n",
        "model_dae.add(Dense(units=len_input_columns,input_shape=(len_input_columns,), activation='relu', dtype='float32', name='Input'))\n",
        "model_dae.add(Dense(units=int(512), activation='relu', dtype='float32',name='Hidden_1'))\n",
        "model_dae.add(BatchNormalization())\n",
        "model_dae.add(Dense(units=int(256), activation='relu', dtype='float32',name='Hidden_2'))\n",
        "model_dae.add(BatchNormalization())\n",
        "model_dae.add(Dense(units=int(512), activation='relu', dtype='float32',name='Hidden_3'))\n",
        "model_dae.add(BatchNormalization())\n",
        "model_dae.add(Dense(units=len_input_columns, activation='linear', dtype='float32', name='Output'))\n",
        "model_dae.compile(loss='mean_squared_error',optimizer='adam')\n",
        "hist=model_dae.fit_generator(DAESequence(fnl, batch_size=2048),steps_per_epoch=int(ceil(fnl.shape[0]/batch_size)),epochs=10,workers=2,callbacks=[warm_up_lr])"
      ],
      "execution_count": 14,
      "outputs": [
        {
          "output_type": "stream",
          "text": [
            "Using TensorFlow backend.\n"
          ],
          "name": "stderr"
        },
        {
          "output_type": "stream",
          "text": [
            "Epoch 1/10\n",
            "1072/1072 [==============================] - 32s 30ms/step - loss: 0.0312\n",
            "Epoch 2/10\n",
            "1072/1072 [==============================] - 30s 28ms/step - loss: 0.0074\n",
            "Epoch 3/10\n",
            "1072/1072 [==============================] - 30s 28ms/step - loss: 0.0059\n",
            "Epoch 4/10\n",
            "1072/1072 [==============================] - 30s 28ms/step - loss: 0.0051\n",
            "Epoch 5/10\n",
            "1072/1072 [==============================] - 30s 28ms/step - loss: 0.0046\n",
            "Epoch 6/10\n",
            "1072/1072 [==============================] - 30s 28ms/step - loss: 0.0045\n",
            "Epoch 7/10\n",
            "1072/1072 [==============================] - 30s 28ms/step - loss: 0.0044\n",
            "Epoch 8/10\n",
            "1072/1072 [==============================] - 30s 28ms/step - loss: 0.0042\n",
            "Epoch 9/10\n",
            "1072/1072 [==============================] - 30s 28ms/step - loss: 0.0042\n",
            "Epoch 10/10\n",
            "1072/1072 [==============================] - 30s 28ms/step - loss: 0.0042\n"
          ],
          "name": "stdout"
        }
      ]
    },
    {
      "cell_type": "code",
      "metadata": {
        "id": "ahMnQcCJ8Tqz",
        "colab_type": "code",
        "colab": {}
      },
      "source": [
        "path = F\"/content/gdrive/My Drive/autoenc_final.hdf5\" \n",
        "model_dae.save_weights(path)"
      ],
      "execution_count": 0,
      "outputs": []
    },
    {
      "cell_type": "code",
      "metadata": {
        "id": "8azxXaFE8T0b",
        "colab_type": "code",
        "outputId": "1001fe9e-bdce-498e-a081-3d0c0f91dce4",
        "colab": {
          "base_uri": "https://localhost:8080/",
          "height": 33
        }
      },
      "source": [
        "\n",
        "from tqdm import tqdm\n",
        "your_new_df=pd.DataFrame()\n",
        "for i in tqdm([3]):\n",
        "    intermediate_layer_model = Model(inputs=model_dae.input, outputs=model_dae.layers[i].output)\n",
        "    z = pd.DataFrame(intermediate_layer_model.predict(fnl))\n",
        "    columns_names = ['Hidden_'+str(i)+'_'+str(l) for l in range(0, z.shape[1])]\n",
        "    z.columns=columns_names\n",
        "    your_new_df=pd.concat([your_new_df,z],1)"
      ],
      "execution_count": 16,
      "outputs": [
        {
          "output_type": "stream",
          "text": [
            "100%|██████████| 1/1 [00:43<00:00, 43.57s/it]\n"
          ],
          "name": "stderr"
        }
      ]
    },
    {
      "cell_type": "code",
      "metadata": {
        "id": "ha_HXo738T8S",
        "colab_type": "code",
        "outputId": "530a98ad-05fe-4d23-dd24-b54d8f9e4614",
        "colab": {
          "base_uri": "https://localhost:8080/",
          "height": 67
        }
      },
      "source": [
        "def reduce_mem_usage(df):\n",
        "    \"\"\" iterate through all the columns of a dataframe and modify the data type\n",
        "        to reduce memory usage.        \n",
        "    \"\"\"\n",
        "    start_mem = df.memory_usage().sum() / 1024**2\n",
        "    print('Memory usage of dataframe is {:.2f} MB'.format(start_mem))\n",
        "    \n",
        "    for col in df.columns:\n",
        "        df[col]=df[col].fillna(-1)\n",
        "        df[col]=df[col].replace([np.inf,-np.inf],-1)\n",
        "        col_type = df[col].dtype\n",
        "        \n",
        "        if col_type != object:\n",
        "            c_min = df[col].min()\n",
        "            c_max = df[col].max()\n",
        "            if str(col_type)[:3] == 'int':\n",
        "                if c_min > np.iinfo(np.int8).min and c_max < np.iinfo(np.int8).max:\n",
        "                    df[col] = df[col].astype(np.int8)\n",
        "                elif c_min > np.iinfo(np.int16).min and c_max < np.iinfo(np.int16).max:\n",
        "                    df[col] = df[col].astype(np.int16)\n",
        "                elif c_min > np.iinfo(np.int32).min and c_max < np.iinfo(np.int32).max:\n",
        "                    df[col] = df[col].astype(np.int32)\n",
        "                elif c_min > np.iinfo(np.int64).min and c_max < np.iinfo(np.int64).max:\n",
        "                    df[col] = df[col].astype(np.int64)  \n",
        "            else:\n",
        "                if c_min > np.finfo(np.float16).min and c_max < np.finfo(np.float16).max:\n",
        "                    df[col] = df[col].astype(np.float16)\n",
        "                elif c_min > np.finfo(np.float32).min and c_max < np.finfo(np.float32).max:\n",
        "                    df[col] = df[col].astype(np.float32)\n",
        "                else:\n",
        "                    df[col] = df[col].astype(np.float64)\n",
        "        else:\n",
        "            df[col] = df[col].astype('category')\n",
        "\n",
        "    end_mem = df.memory_usage().sum() / 1024**2\n",
        "    print('Memory usage after optimization is: {:.2f} MB'.format(end_mem))\n",
        "    print('Decreased by {:.1f}%'.format(100 * (start_mem - end_mem) / start_mem))\n",
        "    \n",
        "    return df\n",
        "your_new_df=reduce_mem_usage(your_new_df)"
      ],
      "execution_count": 17,
      "outputs": [
        {
          "output_type": "stream",
          "text": [
            "Memory usage of dataframe is 1071.51 MB\n",
            "Memory usage after optimization is: 535.76 MB\n",
            "Decreased by 50.0%\n"
          ],
          "name": "stdout"
        }
      ]
    },
    {
      "cell_type": "code",
      "metadata": {
        "id": "Mf25ibJI8T5-",
        "colab_type": "code",
        "colab": {}
      },
      "source": [
        "trn=pd.read_csv('train_transaction.csv.zip',usecols=['isFraud'])\n",
        "your_new_df=your_new_df.loc[:trn.shape[0]]\n",
        "your_new_df['isFraud']=trn['isFraud']\n",
        "fnl=pd.DataFrame()\n",
        "cols=[]\n",
        "val=[]"
      ],
      "execution_count": 0,
      "outputs": []
    },
    {
      "cell_type": "code",
      "metadata": {
        "id": "HyjXsW3U8Txj",
        "colab_type": "code",
        "colab": {}
      },
      "source": [
        "your_new_df=your_new_df.dropna()\n",
        "your_new_df=your_new_df.replace([np.inf,-np.inf],0)"
      ],
      "execution_count": 0,
      "outputs": []
    },
    {
      "cell_type": "code",
      "metadata": {
        "id": "FRVTDzVkDhmC",
        "colab_type": "code",
        "colab": {}
      },
      "source": [
        "ls=list(your_new_df)\n",
        "ls.remove('isFraud')"
      ],
      "execution_count": 0,
      "outputs": []
    },
    {
      "cell_type": "code",
      "metadata": {
        "id": "Nr8pXW3D8TvA",
        "colab_type": "code",
        "outputId": "a8ca8da8-b81c-467b-cbef-9fe217acba58",
        "colab": {
          "base_uri": "https://localhost:8080/",
          "height": 1000
        }
      },
      "source": [
        "import lightgbm as lgb\n",
        "from sklearn.metrics import roc_auc_score\n",
        "trn=[]\n",
        "for col in tqdm(ls):\n",
        "    for i in range(50000,590540,40000):\n",
        "        fit=your_new_df.loc[0:i]\n",
        "        pdct=your_new_df.loc[i:i+40000]\n",
        "        mod=lgb.LGBMClassifier(max_bins= 37,max_depth= 40,min_data_in_leaf= 110,min_gain_to_split= 1,num_leaves=48)\n",
        "        mod.fit(fit[col].values.reshape(-1,1),fit['isFraud'])\n",
        "        val.append(roc_auc_score(pdct['isFraud'],mod.predict_proba(pdct[col].values.reshape(-1,1))[:,1]))\n",
        "        trn.append(roc_auc_score(fit['isFraud'],mod.predict_proba(fit[col].values.reshape(-1,1))[:,1]))\n",
        "        cols.append(col)"
      ],
      "execution_count": 24,
      "outputs": [
        {
          "output_type": "stream",
          "text": [
            "\n",
            "  0%|          | 0/256 [00:00<?, ?it/s]\u001b[A\n",
            "  0%|          | 1/256 [00:12<51:42, 12.16s/it]\u001b[A\n",
            "  1%|          | 2/256 [00:23<50:34, 11.95s/it]\u001b[A\n",
            "  1%|          | 3/256 [00:35<49:51, 11.82s/it]\u001b[A\n",
            "  2%|▏         | 4/256 [00:47<49:51, 11.87s/it]\u001b[A\n",
            "  2%|▏         | 5/256 [00:58<49:04, 11.73s/it]\u001b[A\n",
            "  2%|▏         | 6/256 [01:10<49:42, 11.93s/it]\u001b[A\n",
            "  3%|▎         | 7/256 [01:23<50:03, 12.06s/it]\u001b[A\n",
            "  3%|▎         | 8/256 [01:34<49:22, 11.94s/it]\u001b[A\n",
            "  4%|▎         | 9/256 [01:46<48:15, 11.72s/it]\u001b[A\n",
            "  4%|▍         | 10/256 [01:57<47:45, 11.65s/it]\u001b[A\n",
            "  4%|▍         | 11/256 [02:09<47:28, 11.63s/it]\u001b[A\n",
            "  5%|▍         | 12/256 [02:21<47:36, 11.71s/it]\u001b[A\n",
            "  5%|▌         | 13/256 [02:31<45:33, 11.25s/it]\u001b[A\n",
            "  5%|▌         | 14/256 [02:41<43:38, 10.82s/it]\u001b[A\n",
            "  6%|▌         | 15/256 [02:53<45:22, 11.30s/it]\u001b[A\n",
            "  6%|▋         | 16/256 [03:05<46:09, 11.54s/it]\u001b[A\n",
            "  7%|▋         | 17/256 [03:15<43:59, 11.05s/it]\u001b[A\n",
            "  7%|▋         | 18/256 [03:27<44:31, 11.23s/it]\u001b[A\n",
            "  7%|▋         | 19/256 [03:37<42:52, 10.86s/it]\u001b[A\n",
            "  8%|▊         | 20/256 [03:48<43:16, 11.00s/it]\u001b[A\n",
            "  8%|▊         | 21/256 [03:58<41:58, 10.72s/it]\u001b[A\n",
            "  9%|▊         | 22/256 [04:10<43:19, 11.11s/it]\u001b[A\n",
            "  9%|▉         | 23/256 [04:22<44:10, 11.38s/it]\u001b[A\n",
            "  9%|▉         | 24/256 [04:33<43:48, 11.33s/it]\u001b[A\n",
            " 10%|▉         | 25/256 [04:45<44:05, 11.45s/it]\u001b[A\n",
            " 10%|█         | 26/256 [04:56<42:54, 11.19s/it]\u001b[A\n",
            " 11%|█         | 27/256 [05:07<42:37, 11.17s/it]\u001b[A\n",
            " 11%|█         | 28/256 [05:18<42:33, 11.20s/it]\u001b[A\n",
            " 11%|█▏        | 29/256 [05:30<43:44, 11.56s/it]\u001b[A\n",
            " 12%|█▏        | 30/256 [05:43<44:15, 11.75s/it]\u001b[A\n",
            " 12%|█▏        | 31/256 [05:55<44:23, 11.84s/it]\u001b[A\n",
            " 12%|█▎        | 32/256 [06:07<44:29, 11.92s/it]\u001b[A\n",
            " 13%|█▎        | 33/256 [06:19<44:09, 11.88s/it]\u001b[A\n",
            " 13%|█▎        | 34/256 [06:29<42:00, 11.35s/it]\u001b[A\n",
            " 14%|█▎        | 35/256 [06:39<40:54, 11.11s/it]\u001b[A\n",
            " 14%|█▍        | 36/256 [06:50<40:36, 11.07s/it]\u001b[A\n",
            " 14%|█▍        | 37/256 [07:01<40:34, 11.12s/it]\u001b[A\n",
            " 15%|█▍        | 38/256 [07:13<41:24, 11.40s/it]\u001b[A\n",
            " 15%|█▌        | 39/256 [07:27<43:04, 11.91s/it]\u001b[A\n",
            " 16%|█▌        | 40/256 [07:37<41:38, 11.57s/it]\u001b[A\n",
            " 16%|█▌        | 41/256 [07:48<40:54, 11.41s/it]\u001b[A\n",
            " 16%|█▋        | 42/256 [07:59<40:20, 11.31s/it]\u001b[A\n",
            " 17%|█▋        | 43/256 [08:11<40:53, 11.52s/it]\u001b[A\n",
            " 17%|█▋        | 44/256 [08:24<41:24, 11.72s/it]\u001b[A\n",
            " 18%|█▊        | 45/256 [08:35<40:48, 11.60s/it]\u001b[A\n",
            " 18%|█▊        | 46/256 [08:46<40:23, 11.54s/it]\u001b[A\n",
            " 18%|█▊        | 47/256 [08:57<39:42, 11.40s/it]\u001b[A\n",
            " 19%|█▉        | 48/256 [09:07<37:54, 10.94s/it]\u001b[A\n",
            " 19%|█▉        | 49/256 [09:19<38:20, 11.11s/it]\u001b[A\n",
            " 20%|█▉        | 50/256 [09:30<37:57, 11.06s/it]\u001b[A\n",
            " 20%|█▉        | 51/256 [09:40<36:27, 10.67s/it]\u001b[A\n",
            " 20%|██        | 52/256 [09:51<36:51, 10.84s/it]\u001b[A\n",
            " 21%|██        | 53/256 [10:02<37:07, 10.97s/it]\u001b[A\n",
            " 21%|██        | 54/256 [10:11<34:44, 10.32s/it]\u001b[A\n",
            " 21%|██▏       | 55/256 [10:20<33:42, 10.06s/it]\u001b[A\n",
            " 22%|██▏       | 56/256 [10:32<34:56, 10.48s/it]\u001b[A\n",
            " 22%|██▏       | 57/256 [10:41<33:14, 10.02s/it]\u001b[A\n",
            " 23%|██▎       | 58/256 [10:52<34:09, 10.35s/it]\u001b[A\n",
            " 23%|██▎       | 59/256 [11:04<35:52, 10.92s/it]\u001b[A\n",
            " 23%|██▎       | 60/256 [11:15<36:04, 11.04s/it]\u001b[A\n",
            " 24%|██▍       | 61/256 [11:27<36:19, 11.18s/it]\u001b[A\n",
            " 24%|██▍       | 62/256 [11:38<35:36, 11.01s/it]\u001b[A\n",
            " 25%|██▍       | 63/256 [11:48<34:30, 10.73s/it]\u001b[A\n",
            " 25%|██▌       | 64/256 [11:58<34:15, 10.70s/it]\u001b[A\n",
            " 25%|██▌       | 65/256 [12:09<33:47, 10.62s/it]\u001b[A\n",
            " 26%|██▌       | 66/256 [12:20<34:38, 10.94s/it]\u001b[A\n",
            " 26%|██▌       | 67/256 [12:31<34:15, 10.88s/it]\u001b[A\n",
            " 27%|██▋       | 68/256 [12:42<33:58, 10.84s/it]\u001b[A\n",
            " 27%|██▋       | 69/256 [12:52<33:36, 10.78s/it]\u001b[A\n",
            " 27%|██▋       | 70/256 [13:04<33:44, 10.89s/it]\u001b[A\n",
            " 28%|██▊       | 71/256 [13:15<33:50, 10.98s/it]\u001b[A\n",
            " 28%|██▊       | 72/256 [13:27<34:31, 11.26s/it]\u001b[A\n",
            " 29%|██▊       | 73/256 [13:38<34:09, 11.20s/it]\u001b[A\n",
            " 29%|██▉       | 74/256 [13:50<35:03, 11.56s/it]\u001b[A\n",
            " 29%|██▉       | 75/256 [14:01<34:26, 11.42s/it]\u001b[A\n",
            " 30%|██▉       | 76/256 [14:10<31:58, 10.66s/it]\u001b[A\n",
            " 30%|███       | 77/256 [14:21<31:51, 10.68s/it]\u001b[A\n",
            " 30%|███       | 78/256 [14:33<33:03, 11.14s/it]\u001b[A\n",
            " 31%|███       | 79/256 [14:45<33:44, 11.44s/it]\u001b[A\n",
            " 31%|███▏      | 80/256 [14:57<33:42, 11.49s/it]\u001b[A\n",
            " 32%|███▏      | 81/256 [15:08<33:06, 11.35s/it]\u001b[A\n",
            " 32%|███▏      | 82/256 [15:20<33:35, 11.58s/it]\u001b[A\n",
            " 32%|███▏      | 83/256 [15:31<33:08, 11.49s/it]\u001b[A\n",
            " 33%|███▎      | 84/256 [15:42<32:43, 11.41s/it]\u001b[A\n",
            " 33%|███▎      | 85/256 [15:54<32:45, 11.49s/it]\u001b[A\n",
            " 34%|███▎      | 86/256 [16:06<32:54, 11.61s/it]\u001b[A\n",
            " 34%|███▍      | 87/256 [16:18<33:01, 11.72s/it]\u001b[A\n",
            " 34%|███▍      | 88/256 [16:27<30:17, 10.82s/it]\u001b[A\n",
            " 35%|███▍      | 89/256 [16:39<31:13, 11.22s/it]\u001b[A\n",
            " 35%|███▌      | 90/256 [16:51<31:28, 11.37s/it]\u001b[A\n",
            " 36%|███▌      | 91/256 [17:02<30:54, 11.24s/it]\u001b[A\n",
            " 36%|███▌      | 92/256 [17:14<32:03, 11.73s/it]\u001b[A\n",
            " 36%|███▋      | 93/256 [17:26<31:38, 11.65s/it]\u001b[A\n",
            " 37%|███▋      | 94/256 [17:38<31:27, 11.65s/it]\u001b[A\n",
            " 37%|███▋      | 95/256 [17:50<31:30, 11.74s/it]\u001b[A\n",
            " 38%|███▊      | 96/256 [17:59<29:38, 11.12s/it]\u001b[A\n",
            " 38%|███▊      | 97/256 [18:10<29:27, 11.12s/it]\u001b[A\n",
            " 38%|███▊      | 98/256 [18:22<30:04, 11.42s/it]\u001b[A\n",
            " 39%|███▊      | 99/256 [18:33<29:21, 11.22s/it]\u001b[A\n",
            " 39%|███▉      | 100/256 [18:44<29:08, 11.21s/it]\u001b[A\n",
            " 39%|███▉      | 101/256 [18:56<29:08, 11.28s/it]\u001b[A\n",
            " 40%|███▉      | 102/256 [19:05<27:41, 10.79s/it]\u001b[A\n",
            " 40%|████      | 103/256 [19:16<27:19, 10.72s/it]\u001b[A\n",
            " 41%|████      | 104/256 [19:27<27:29, 10.85s/it]\u001b[A\n",
            " 41%|████      | 105/256 [19:39<27:41, 11.00s/it]\u001b[A\n",
            " 41%|████▏     | 106/256 [19:48<26:30, 10.60s/it]\u001b[A\n",
            " 42%|████▏     | 107/256 [20:00<27:13, 10.96s/it]\u001b[A\n",
            " 42%|████▏     | 108/256 [20:09<25:50, 10.47s/it]\u001b[A\n",
            " 43%|████▎     | 109/256 [20:21<26:36, 10.86s/it]\u001b[A\n",
            " 43%|████▎     | 110/256 [20:30<25:22, 10.43s/it]\u001b[A\n",
            " 43%|████▎     | 111/256 [20:41<25:23, 10.51s/it]\u001b[A\n",
            " 44%|████▍     | 112/256 [20:51<24:53, 10.37s/it]\u001b[A\n",
            " 44%|████▍     | 113/256 [21:02<24:53, 10.45s/it]\u001b[A\n",
            " 45%|████▍     | 114/256 [21:14<26:06, 11.03s/it]\u001b[A\n",
            " 45%|████▍     | 115/256 [21:26<26:13, 11.16s/it]\u001b[A\n",
            " 45%|████▌     | 116/256 [21:38<26:47, 11.48s/it]\u001b[A\n",
            " 46%|████▌     | 117/256 [21:48<25:44, 11.11s/it]\u001b[A\n",
            " 46%|████▌     | 118/256 [21:59<25:02, 10.89s/it]\u001b[A\n",
            " 46%|████▋     | 119/256 [22:10<25:14, 11.06s/it]\u001b[A\n",
            " 47%|████▋     | 120/256 [22:21<24:49, 10.95s/it]\u001b[A\n",
            " 47%|████▋     | 121/256 [22:31<24:18, 10.80s/it]\u001b[A\n",
            " 48%|████▊     | 122/256 [22:43<25:08, 11.26s/it]\u001b[A\n",
            " 48%|████▊     | 123/256 [22:55<24:50, 11.21s/it]\u001b[A\n",
            " 48%|████▊     | 124/256 [23:06<24:49, 11.29s/it]\u001b[A\n",
            " 49%|████▉     | 125/256 [23:17<24:39, 11.29s/it]\u001b[A\n",
            " 49%|████▉     | 126/256 [23:27<23:33, 10.87s/it]\u001b[A\n",
            " 50%|████▉     | 127/256 [23:39<24:06, 11.22s/it]\u001b[A\n",
            " 50%|█████     | 128/256 [23:51<24:07, 11.31s/it]\u001b[A\n",
            " 50%|█████     | 129/256 [24:01<23:30, 11.11s/it]\u001b[A\n",
            " 51%|█████     | 130/256 [24:11<22:15, 10.60s/it]\u001b[A\n",
            " 51%|█████     | 131/256 [24:21<21:35, 10.36s/it]\u001b[A\n",
            " 52%|█████▏    | 132/256 [24:31<21:32, 10.42s/it]\u001b[A\n",
            " 52%|█████▏    | 133/256 [24:41<21:13, 10.36s/it]\u001b[A\n",
            " 52%|█████▏    | 134/256 [24:52<21:09, 10.40s/it]\u001b[A\n",
            " 53%|█████▎    | 135/256 [25:02<20:44, 10.28s/it]\u001b[A\n",
            " 53%|█████▎    | 136/256 [25:13<20:51, 10.43s/it]\u001b[A\n",
            " 54%|█████▎    | 137/256 [25:24<21:22, 10.77s/it]\u001b[A\n",
            " 54%|█████▍    | 138/256 [25:35<21:26, 10.90s/it]\u001b[A\n",
            " 54%|█████▍    | 139/256 [25:47<21:33, 11.06s/it]\u001b[A\n",
            " 55%|█████▍    | 140/256 [25:58<21:14, 10.99s/it]\u001b[A\n",
            " 55%|█████▌    | 141/256 [26:08<20:32, 10.72s/it]\u001b[A\n",
            " 55%|█████▌    | 142/256 [26:18<19:51, 10.45s/it]\u001b[A\n",
            " 56%|█████▌    | 143/256 [26:28<19:52, 10.55s/it]\u001b[A\n",
            " 56%|█████▋    | 144/256 [26:40<20:12, 10.82s/it]\u001b[A\n",
            " 57%|█████▋    | 145/256 [26:52<20:41, 11.19s/it]\u001b[A\n",
            " 57%|█████▋    | 146/256 [27:03<20:33, 11.21s/it]\u001b[A\n",
            " 57%|█████▋    | 147/256 [27:13<19:43, 10.86s/it]\u001b[A\n",
            " 58%|█████▊    | 148/256 [27:22<18:16, 10.15s/it]\u001b[A\n",
            " 58%|█████▊    | 149/256 [27:33<18:44, 10.51s/it]\u001b[A\n",
            " 59%|█████▊    | 150/256 [27:43<18:30, 10.47s/it]\u001b[A\n",
            " 59%|█████▉    | 151/256 [27:54<18:11, 10.40s/it]\u001b[A\n",
            " 59%|█████▉    | 152/256 [28:06<18:47, 10.84s/it]\u001b[A\n",
            " 60%|█████▉    | 153/256 [28:16<18:30, 10.78s/it]\u001b[A\n",
            " 60%|██████    | 154/256 [28:27<18:35, 10.93s/it]\u001b[A\n",
            " 61%|██████    | 155/256 [28:38<18:06, 10.76s/it]\u001b[A\n",
            " 61%|██████    | 156/256 [28:49<18:05, 10.85s/it]\u001b[A\n",
            " 61%|██████▏   | 157/256 [29:00<17:55, 10.87s/it]\u001b[A\n",
            " 62%|██████▏   | 158/256 [29:10<17:31, 10.73s/it]\u001b[A\n",
            " 62%|██████▏   | 159/256 [29:21<17:29, 10.82s/it]\u001b[A\n",
            " 62%|██████▎   | 160/256 [29:33<17:48, 11.13s/it]\u001b[A\n",
            " 63%|██████▎   | 161/256 [29:45<17:47, 11.24s/it]\u001b[A\n",
            " 63%|██████▎   | 162/256 [29:55<17:26, 11.13s/it]\u001b[A\n",
            " 64%|██████▎   | 163/256 [30:05<16:43, 10.79s/it]\u001b[A\n",
            " 64%|██████▍   | 164/256 [30:14<15:40, 10.23s/it]\u001b[A\n",
            " 64%|██████▍   | 165/256 [30:25<15:48, 10.42s/it]\u001b[A\n",
            " 65%|██████▍   | 166/256 [30:37<16:16, 10.85s/it]\u001b[A\n",
            " 65%|██████▌   | 167/256 [30:48<16:10, 10.91s/it]\u001b[A\n",
            " 66%|██████▌   | 168/256 [30:57<14:54, 10.16s/it]\u001b[A\n",
            " 66%|██████▌   | 169/256 [31:08<15:28, 10.68s/it]\u001b[A\n",
            " 66%|██████▋   | 170/256 [31:21<16:03, 11.20s/it]\u001b[A\n",
            " 67%|██████▋   | 171/256 [31:30<15:10, 10.71s/it]\u001b[A\n",
            " 67%|██████▋   | 172/256 [31:41<15:04, 10.77s/it]\u001b[A\n",
            " 68%|██████▊   | 173/256 [31:52<14:55, 10.78s/it]\u001b[A\n",
            " 68%|██████▊   | 174/256 [32:02<14:22, 10.52s/it]\u001b[A\n",
            " 68%|██████▊   | 175/256 [32:13<14:25, 10.68s/it]\u001b[A\n",
            " 69%|██████▉   | 176/256 [32:23<14:03, 10.54s/it]\u001b[A\n",
            " 69%|██████▉   | 177/256 [32:35<14:11, 10.78s/it]\u001b[A\n",
            " 70%|██████▉   | 178/256 [32:46<14:11, 10.92s/it]\u001b[A\n",
            " 70%|██████▉   | 179/256 [32:57<13:56, 10.86s/it]\u001b[A\n",
            " 70%|███████   | 180/256 [33:07<13:38, 10.77s/it]\u001b[A\n",
            " 71%|███████   | 181/256 [33:18<13:30, 10.81s/it]\u001b[A\n",
            " 71%|███████   | 182/256 [33:28<13:08, 10.65s/it]\u001b[A\n",
            " 72%|███████▏  | 184/256 [33:52<13:29, 11.24s/it]\u001b[A\n",
            " 72%|███████▏  | 185/256 [34:03<13:04, 11.06s/it]\u001b[A\n",
            " 73%|███████▎  | 186/256 [34:14<12:57, 11.11s/it]\u001b[A\n",
            " 73%|███████▎  | 187/256 [34:24<12:20, 10.73s/it]\u001b[A\n",
            " 73%|███████▎  | 188/256 [34:35<12:09, 10.73s/it]\u001b[A\n",
            " 74%|███████▍  | 189/256 [34:45<12:02, 10.78s/it]\u001b[A\n",
            " 74%|███████▍  | 190/256 [34:53<10:55,  9.93s/it]\u001b[A\n",
            " 75%|███████▍  | 191/256 [35:04<10:54, 10.07s/it]\u001b[A\n",
            " 75%|███████▌  | 192/256 [35:15<10:58, 10.29s/it]\u001b[A\n",
            " 75%|███████▌  | 193/256 [35:26<11:15, 10.72s/it]\u001b[A\n",
            " 76%|███████▌  | 194/256 [35:37<11:12, 10.85s/it]\u001b[A\n",
            " 76%|███████▌  | 195/256 [35:49<11:24, 11.22s/it]\u001b[A\n",
            " 77%|███████▋  | 196/256 [36:01<11:12, 11.22s/it]\u001b[A\n",
            " 77%|███████▋  | 197/256 [36:12<11:07, 11.32s/it]\u001b[A\n",
            " 77%|███████▋  | 198/256 [36:24<10:57, 11.33s/it]\u001b[A\n",
            " 78%|███████▊  | 199/256 [36:34<10:33, 11.12s/it]\u001b[A\n",
            " 78%|███████▊  | 200/256 [36:44<09:55, 10.64s/it]\u001b[A\n",
            " 79%|███████▊  | 201/256 [36:54<09:45, 10.64s/it]\u001b[A\n",
            " 79%|███████▉  | 202/256 [37:06<09:45, 10.83s/it]\u001b[A\n",
            " 79%|███████▉  | 203/256 [37:16<09:31, 10.78s/it]\u001b[A\n",
            " 80%|███████▉  | 204/256 [37:28<09:35, 11.07s/it]\u001b[A\n",
            " 80%|████████  | 205/256 [37:38<09:13, 10.85s/it]\u001b[A\n",
            " 80%|████████  | 206/256 [37:49<08:59, 10.80s/it]\u001b[A\n",
            " 81%|████████  | 207/256 [38:01<09:08, 11.19s/it]\u001b[A\n",
            " 81%|████████▏ | 208/256 [38:11<08:43, 10.91s/it]\u001b[A\n",
            " 82%|████████▏ | 209/256 [38:22<08:28, 10.81s/it]\u001b[A\n",
            " 82%|████████▏ | 210/256 [38:34<08:27, 11.04s/it]\u001b[A\n",
            " 82%|████████▏ | 211/256 [38:45<08:17, 11.07s/it]\u001b[A\n",
            " 83%|████████▎ | 212/256 [38:55<07:57, 10.86s/it]\u001b[A\n",
            " 83%|████████▎ | 213/256 [39:05<07:39, 10.68s/it]\u001b[A\n",
            " 84%|████████▎ | 214/256 [39:16<07:29, 10.69s/it]\u001b[A\n",
            " 84%|████████▍ | 215/256 [39:28<07:35, 11.11s/it]\u001b[A\n",
            " 84%|████████▍ | 216/256 [39:40<07:29, 11.24s/it]\u001b[A\n",
            " 85%|████████▍ | 217/256 [39:51<07:22, 11.35s/it]\u001b[A\n",
            " 85%|████████▌ | 218/256 [40:03<07:19, 11.55s/it]\u001b[A\n",
            " 86%|████████▌ | 219/256 [40:14<06:57, 11.27s/it]\u001b[A\n",
            " 86%|████████▌ | 220/256 [40:25<06:45, 11.27s/it]\u001b[A\n",
            " 86%|████████▋ | 221/256 [40:35<06:18, 10.82s/it]\u001b[A\n",
            " 87%|████████▋ | 222/256 [40:46<06:09, 10.86s/it]\u001b[A\n",
            " 87%|████████▋ | 223/256 [40:57<06:01, 10.96s/it]\u001b[A\n",
            " 88%|████████▊ | 224/256 [41:09<05:56, 11.13s/it]\u001b[A\n",
            " 88%|████████▊ | 225/256 [41:20<05:42, 11.05s/it]\u001b[A\n",
            " 88%|████████▊ | 226/256 [41:30<05:29, 10.99s/it]\u001b[A\n",
            " 89%|████████▊ | 227/256 [41:42<05:21, 11.09s/it]\u001b[A\n",
            " 89%|████████▉ | 228/256 [41:50<04:48, 10.30s/it]\u001b[A\n",
            " 89%|████████▉ | 229/256 [42:02<04:47, 10.64s/it]\u001b[A\n",
            " 90%|████████▉ | 230/256 [42:13<04:40, 10.77s/it]\u001b[A\n",
            " 90%|█████████ | 231/256 [42:24<04:36, 11.04s/it]\u001b[A\n",
            " 91%|█████████ | 232/256 [42:35<04:22, 10.94s/it]\u001b[A\n",
            " 91%|█████████ | 233/256 [42:45<04:06, 10.70s/it]\u001b[A\n",
            " 91%|█████████▏| 234/256 [42:56<03:55, 10.69s/it]\u001b[A\n",
            " 92%|█████████▏| 235/256 [43:07<03:45, 10.72s/it]\u001b[A\n",
            " 92%|█████████▏| 236/256 [43:17<03:32, 10.60s/it]\u001b[A\n",
            " 93%|█████████▎| 237/256 [43:29<03:28, 10.98s/it]\u001b[A\n",
            " 93%|█████████▎| 238/256 [43:40<03:21, 11.17s/it]\u001b[A\n",
            " 93%|█████████▎| 239/256 [43:52<03:11, 11.25s/it]\u001b[A\n",
            " 94%|█████████▍| 240/256 [44:02<02:55, 10.97s/it]\u001b[A\n",
            " 94%|█████████▍| 241/256 [44:11<02:33, 10.23s/it]\u001b[A\n",
            " 95%|█████████▍| 242/256 [44:20<02:18,  9.93s/it]\u001b[A\n",
            " 95%|█████████▍| 243/256 [44:32<02:15, 10.46s/it]\u001b[A\n",
            " 95%|█████████▌| 244/256 [44:43<02:08, 10.74s/it]\u001b[A\n",
            " 96%|█████████▌| 245/256 [44:55<02:02, 11.10s/it]\u001b[A\n",
            " 96%|█████████▌| 246/256 [45:07<01:52, 11.23s/it]\u001b[A\n",
            " 96%|█████████▋| 247/256 [45:17<01:39, 11.10s/it]\u001b[A\n",
            " 97%|█████████▋| 248/256 [45:26<01:22, 10.27s/it]\u001b[A\n",
            " 97%|█████████▋| 249/256 [45:36<01:11, 10.22s/it]\u001b[A\n",
            " 98%|█████████▊| 250/256 [45:47<01:03, 10.54s/it]\u001b[A\n",
            " 98%|█████████▊| 251/256 [45:56<00:50, 10.04s/it]\u001b[A\n",
            " 98%|█████████▊| 252/256 [46:07<00:41, 10.31s/it]\u001b[A\n",
            " 99%|█████████▉| 253/256 [46:19<00:32, 10.84s/it]\u001b[A\n",
            " 99%|█████████▉| 254/256 [46:30<00:21, 10.83s/it]\u001b[A\n",
            "100%|█████████▉| 255/256 [46:41<00:10, 10.92s/it]\u001b[A\n",
            "100%|██████████| 256/256 [46:52<00:00, 10.99s/it]\n"
          ],
          "name": "stderr"
        }
      ]
    },
    {
      "cell_type": "code",
      "metadata": {
        "id": "MwdQ8O86AKhZ",
        "colab_type": "code",
        "colab": {}
      },
      "source": [
        "fnl['cols']=cols\n",
        "fnl['validation']=val\n",
        "fnl['train']=trn\n",
        "fnl['validation']=fnl.groupby(['cols'])['validation'].transform('mean')\n",
        "fnl['train']=fnl.groupby(['cols'])['train'].transform('mean')\n",
        "fnl=fnl[['validation','train','cols']]\n",
        "fnl=fnl.drop_duplicates(keep='last')"
      ],
      "execution_count": 0,
      "outputs": []
    },
    {
      "cell_type": "code",
      "metadata": {
        "id": "tGI1qEmIALPx",
        "colab_type": "code",
        "colab": {
          "base_uri": "https://localhost:8080/",
          "height": 452
        },
        "outputId": "7b06ecad-5c94-4f0a-ca98-325375307e7a"
      },
      "source": [
        "fnl=fnl.sort_values(by='validation')\n",
        "fnl.tail(100)['cols'].values"
      ],
      "execution_count": 26,
      "outputs": [
        {
          "output_type": "execute_result",
          "data": {
            "text/plain": [
              "array(['Hidden_3_94', 'Hidden_3_114', 'Hidden_3_238', 'Hidden_3_153',\n",
              "       'Hidden_3_143', 'Hidden_3_106', 'Hidden_3_196', 'Hidden_3_253',\n",
              "       'Hidden_3_250', 'Hidden_3_78', 'Hidden_3_89', 'Hidden_3_29',\n",
              "       'Hidden_3_175', 'Hidden_3_37', 'Hidden_3_5', 'Hidden_3_123',\n",
              "       'Hidden_3_148', 'Hidden_3_15', 'Hidden_3_30', 'Hidden_3_28',\n",
              "       'Hidden_3_13', 'Hidden_3_124', 'Hidden_3_97', 'Hidden_3_245',\n",
              "       'Hidden_3_160', 'Hidden_3_77', 'Hidden_3_22', 'Hidden_3_136',\n",
              "       'Hidden_3_182', 'Hidden_3_86', 'Hidden_3_43', 'Hidden_3_54',\n",
              "       'Hidden_3_18', 'Hidden_3_90', 'Hidden_3_163', 'Hidden_3_183',\n",
              "       'Hidden_3_108', 'Hidden_3_192', 'Hidden_3_79', 'Hidden_3_241',\n",
              "       'Hidden_3_165', 'Hidden_3_142', 'Hidden_3_50', 'Hidden_3_101',\n",
              "       'Hidden_3_236', 'Hidden_3_209', 'Hidden_3_206', 'Hidden_3_88',\n",
              "       'Hidden_3_115', 'Hidden_3_151', 'Hidden_3_12', 'Hidden_3_130',\n",
              "       'Hidden_3_120', 'Hidden_3_159', 'Hidden_3_217', 'Hidden_3_20',\n",
              "       'Hidden_3_73', 'Hidden_3_62', 'Hidden_3_237', 'Hidden_3_93',\n",
              "       'Hidden_3_58', 'Hidden_3_246', 'Hidden_3_121', 'Hidden_3_107',\n",
              "       'Hidden_3_199', 'Hidden_3_100', 'Hidden_3_38', 'Hidden_3_81',\n",
              "       'Hidden_3_229', 'Hidden_3_194', 'Hidden_3_109', 'Hidden_3_233',\n",
              "       'Hidden_3_150', 'Hidden_3_168', 'Hidden_3_134', 'Hidden_3_141',\n",
              "       'Hidden_3_220', 'Hidden_3_144', 'Hidden_3_212', 'Hidden_3_6',\n",
              "       'Hidden_3_154', 'Hidden_3_201', 'Hidden_3_203', 'Hidden_3_161',\n",
              "       'Hidden_3_128', 'Hidden_3_14', 'Hidden_3_85', 'Hidden_3_35',\n",
              "       'Hidden_3_252', 'Hidden_3_242', 'Hidden_3_126', 'Hidden_3_91',\n",
              "       'Hidden_3_113', 'Hidden_3_169', 'Hidden_3_244', 'Hidden_3_1',\n",
              "       'Hidden_3_21', 'Hidden_3_202', 'Hidden_3_83', 'Hidden_3_214'],\n",
              "      dtype=object)"
            ]
          },
          "metadata": {
            "tags": []
          },
          "execution_count": 26
        }
      ]
    },
    {
      "cell_type": "code",
      "metadata": {
        "id": "ZVZrPHCLAnlr",
        "colab_type": "code",
        "colab": {}
      },
      "source": [
        "path = F\"/content/gdrive/My Drive/extra__1.pkl\" \n",
        "your_new_df.to_pickle(path)"
      ],
      "execution_count": 0,
      "outputs": []
    },
    {
      "cell_type": "code",
      "metadata": {
        "id": "pPCVc-W5svf8",
        "colab_type": "code",
        "colab": {}
      },
      "source": [
        ""
      ],
      "execution_count": 0,
      "outputs": []
    }
  ]
}