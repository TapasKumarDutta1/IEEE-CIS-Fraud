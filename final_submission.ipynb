{
  "nbformat": 4,
  "nbformat_minor": 0,
  "metadata": {
    "colab": {
      "name": "final_submission.ipynb",
      "provenance": [],
      "include_colab_link": true
    },
    "kernelspec": {
      "name": "python3",
      "display_name": "Python 3"
    }
  },
  "cells": [
    {
      "cell_type": "markdown",
      "metadata": {
        "id": "view-in-github",
        "colab_type": "text"
      },
      "source": [
        "<a href=\"https://colab.research.google.com/github/TapasKumarDutta1/IEEE-CIS-Fraud/blob/master/final_submission.ipynb\" target=\"_parent\"><img src=\"https://colab.research.google.com/assets/colab-badge.svg\" alt=\"Open In Colab\"/></a>"
      ]
    },
    {
      "cell_type": "code",
      "metadata": {
        "id": "_znmAmVknMfd"
      },
      "source": [
        "import pandas as pd\n",
        "from scipy.stats import rankdata\n",
        "\n",
        "a = pd.read_csv(\"sub(38).csv\")\n",
        "b = pd.read_csv(\"sub(37).csv\")\n",
        "c = pd.read_csv(\"sub(36).csv\")\n",
        "sub = a\n",
        "sub.isFraud = (\n",
        "    rankdata(a[\"isFraud\"], method=\"dense\")\n",
        "    + rankdata(b[\"isFraud\"], method=\"dense\")\n",
        "    + rankdata(c[\"isFraud\"], method=\"dense\")\n",
        ")\n",
        "sub.isFraud = sub.isFraud / sub.isFraud.max()\n",
        "sub.to_csv(\"submission.csv\", index=False)"
      ],
      "execution_count": null,
      "outputs": []
    },
    {
      "cell_type": "code",
      "metadata": {
        "id": "fp6Fm76GoSPX"
      },
      "source": [],
      "execution_count": null,
      "outputs": []
    }
  ]
}