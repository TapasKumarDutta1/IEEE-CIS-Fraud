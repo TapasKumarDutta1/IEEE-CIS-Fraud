{
  "nbformat": 4,
  "nbformat_minor": 0,
  "metadata": {
    "colab": {
      "name": "final_submission.ipynb",
      "provenance": [],
      "authorship_tag": "ABX9TyNrt1gv/msxvJbzHc/J9V5K",
      "include_colab_link": true
    },
    "kernelspec": {
      "name": "python3",
      "display_name": "Python 3"
    }
  },
  "cells": [
    {
      "cell_type": "markdown",
      "metadata": {
        "id": "view-in-github",
        "colab_type": "text"
      },
      "source": [
        "<a href=\"https://colab.research.google.com/github/greyhound101/IEEE-CIS-Fraud/blob/master/final_submission.ipynb\" target=\"_parent\"><img src=\"https://colab.research.google.com/assets/colab-badge.svg\" alt=\"Open In Colab\"/></a>"
      ]
    },
    {
      "cell_type": "code",
      "metadata": {
        "id": "_znmAmVknMfd",
        "colab_type": "code",
        "colab": {}
      },
      "source": [
        "import pandas as pd\n",
        "from scipy.stats import rankdata\n",
        "a=pd.read_csv('sub(38).csv')\n",
        "b=pd.read_csv('sub(37).csv')\n",
        "c=pd.read_csv('sub(36).csv')\n",
        "sub=a\n",
        "sub.isFraud = rankdata(a['isFraud'], method='dense') + rankdata(b['isFraud'], method='dense')+ rankdata(c['isFraud'], method='dense')\n",
        "sub.isFraud = sub.isFraud/sub.isFraud.max()\n",
        "sub.to_csv('submission.csv', index=False)"
      ],
      "execution_count": 1,
      "outputs": []
    },
    {
      "cell_type": "code",
      "metadata": {
        "id": "fp6Fm76GoSPX",
        "colab_type": "code",
        "colab": {}
      },
      "source": [
        ""
      ],
      "execution_count": null,
      "outputs": []
    }
  ]
}