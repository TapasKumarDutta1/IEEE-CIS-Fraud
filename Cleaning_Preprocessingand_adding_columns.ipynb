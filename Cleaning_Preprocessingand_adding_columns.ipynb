{
  "nbformat": 4,
  "nbformat_minor": 0,
  "metadata": {
    "colab": {
      "name": "Cleaning_Preprocessingand adding columns.ipynb",
      "provenance": [],
      "machine_shape": "hm",
      "include_colab_link": true
    },
    "kernelspec": {
      "name": "python3",
      "display_name": "Python 3"
    }
  },
  "cells": [
    {
      "cell_type": "markdown",
      "metadata": {
        "id": "view-in-github",
        "colab_type": "text"
      },
      "source": [
        "<a href=\"https://colab.research.google.com/github/greyhound101/IEEE-CIS-Fraud/blob/master/Cleaning_Preprocessingand_adding_columns.ipynb\" target=\"_parent\"><img src=\"https://colab.research.google.com/assets/colab-badge.svg\" alt=\"Open In Colab\"/></a>"
      ]
    },
    {
      "cell_type": "markdown",
      "metadata": {
        "id": "EAd-jYpbhqod",
        "colab_type": "text"
      },
      "source": [
        "Getting data"
      ]
    },
    {
      "cell_type": "code",
      "metadata": {
        "id": "iio63rQJpTwo",
        "colab_type": "code",
        "colab": {
          "base_uri": "https://localhost:8080/",
          "height": 129
        },
        "outputId": "3217efdb-63ad-4676-90be-3a34175fa305"
      },
      "source": [
        "import os\n",
        "os.environ['KAGGLE_USERNAME'] = \"tapaskd123\" # username from the json file\n",
        "os.environ['KAGGLE_KEY'] = \"aba8dc1f085221111d925003fe5a88ed\" # key from the json file\n",
        "!kaggle competitions download -c ieee-fraud-detection"
      ],
      "execution_count": null,
      "outputs": [
        {
          "output_type": "stream",
          "text": [
            "Warning: Looks like you're using an outdated API Version, please consider updating (server 1.5.6 / client 1.5.4)\n",
            "test_identity.csv.zip: Skipping, found more recently modified local copy (use --force to force download)\n",
            "test_transaction.csv.zip: Skipping, found more recently modified local copy (use --force to force download)\n",
            "sample_submission.csv.zip: Skipping, found more recently modified local copy (use --force to force download)\n",
            "train_transaction.csv.zip: Skipping, found more recently modified local copy (use --force to force download)\n",
            "train_identity.csv.zip: Skipping, found more recently modified local copy (use --force to force download)\n"
          ],
          "name": "stdout"
        }
      ]
    },
    {
      "cell_type": "markdown",
      "metadata": {
        "id": "g4o8Kitosplu",
        "colab_type": "text"
      },
      "source": [
        "Loading drive"
      ]
    },
    {
      "cell_type": "code",
      "metadata": {
        "id": "eQqlrXIJej1l",
        "colab_type": "code",
        "colab": {
          "base_uri": "https://localhost:8080/",
          "height": 54
        },
        "outputId": "7c8baa52-514a-446d-bfae-49fd6a971597"
      },
      "source": [
        "from google.colab import drive\n",
        "drive.mount('/content/gdrive')\n",
        "drive.mount(\"/content/gdrive\", force_remount=True)"
      ],
      "execution_count": null,
      "outputs": [
        {
          "output_type": "stream",
          "text": [
            "Drive already mounted at /content/gdrive; to attempt to forcibly remount, call drive.mount(\"/content/gdrive\", force_remount=True).\n",
            "Mounted at /content/gdrive\n"
          ],
          "name": "stdout"
        }
      ]
    },
    {
      "cell_type": "markdown",
      "metadata": {
        "id": "Adbp3dS8srOW",
        "colab_type": "text"
      },
      "source": [
        "Reading datasets"
      ]
    },
    {
      "cell_type": "code",
      "metadata": {
        "id": "_WXDyhihenRg",
        "colab_type": "code",
        "colab": {}
      },
      "source": [
        "import pandas as pd\n",
        "import numpy as np\n",
        "trn=pd.read_csv('train_transaction.csv.zip')\n",
        "tst=pd.read_csv('test_transaction.csv.zip')\n",
        "trn_idn=pd.read_csv('train_identity.csv.zip')\n",
        "tst_idn=pd.read_csv('test_identity.csv.zip')"
      ],
      "execution_count": null,
      "outputs": []
    },
    {
      "cell_type": "markdown",
      "metadata": {
        "id": "nLiZLu3Wssz5",
        "colab_type": "text"
      },
      "source": [
        "Merging datasets"
      ]
    },
    {
      "cell_type": "code",
      "metadata": {
        "id": "Mja2yCpAINM4",
        "colab_type": "code",
        "colab": {
          "base_uri": "https://localhost:8080/",
          "height": 36
        },
        "outputId": "3c5d0ae9-6f5b-4e18-f231-7adc26b19b98"
      },
      "source": [
        "train=trn.merge(trn_idn,on='TransactionID',how='left')\n",
        "test=tst.merge(tst_idn,on='TransactionID',how='left')\n",
        "import gc\n",
        "del([trn,tst,trn_idn,tst_idn])\n",
        "gc.collect()"
      ],
      "execution_count": null,
      "outputs": [
        {
          "output_type": "execute_result",
          "data": {
            "text/plain": [
              "11"
            ]
          },
          "metadata": {
            "tags": []
          },
          "execution_count": 4
        }
      ]
    },
    {
      "cell_type": "markdown",
      "metadata": {
        "id": "gloxSjblyL9R",
        "colab_type": "text"
      },
      "source": [
        "**Handling nan**"
      ]
    },
    {
      "cell_type": "code",
      "metadata": {
        "id": "54FObgPxwmHD",
        "colab_type": "code",
        "colab": {}
      },
      "source": [
        "all_columns=[]"
      ],
      "execution_count": null,
      "outputs": []
    },
    {
      "cell_type": "code",
      "metadata": {
        "id": "oiE3LbOCCgku",
        "colab_type": "code",
        "colab": {}
      },
      "source": [
        "a=list(train.filter(regex='id'))\n",
        "b=list(test.filter(regex='id'))\n",
        "dk={}\n",
        "for i,j in zip(a,b):\n",
        "  dk[j]=i\n",
        "test.rename(columns=dk,inplace=True)"
      ],
      "execution_count": null,
      "outputs": []
    },
    {
      "cell_type": "markdown",
      "metadata": {
        "id": "_TFj66F8pfqX",
        "colab_type": "text"
      },
      "source": [
        "Checking nan"
      ]
    },
    {
      "cell_type": "code",
      "metadata": {
        "id": "eq6gnpm4CjDC",
        "colab_type": "code",
        "colab": {
          "base_uri": "https://localhost:8080/",
          "height": 424
        },
        "outputId": "60014162-9033-4f02-c53f-301adcbf9396"
      },
      "source": [
        "ls=list(test)\n",
        "ln=len(train)\n",
        "dk={}\n",
        "for col in ls:\n",
        "  percent=100*train[col].isna().sum()/ln\n",
        "  dk[col]=percent\n",
        "df=pd.DataFrame(dk,index=[1])\n",
        "df=df.T\n",
        "df.columns=['nan']\n",
        "df['columns']=df.index\n",
        "df=df.reset_index(drop=True)\n",
        "df"
      ],
      "execution_count": null,
      "outputs": [
        {
          "output_type": "execute_result",
          "data": {
            "text/html": [
              "<div>\n",
              "<style scoped>\n",
              "    .dataframe tbody tr th:only-of-type {\n",
              "        vertical-align: middle;\n",
              "    }\n",
              "\n",
              "    .dataframe tbody tr th {\n",
              "        vertical-align: top;\n",
              "    }\n",
              "\n",
              "    .dataframe thead th {\n",
              "        text-align: right;\n",
              "    }\n",
              "</style>\n",
              "<table border=\"1\" class=\"dataframe\">\n",
              "  <thead>\n",
              "    <tr style=\"text-align: right;\">\n",
              "      <th></th>\n",
              "      <th>nan</th>\n",
              "      <th>columns</th>\n",
              "    </tr>\n",
              "  </thead>\n",
              "  <tbody>\n",
              "    <tr>\n",
              "      <th>0</th>\n",
              "      <td>0.000000</td>\n",
              "      <td>TransactionID</td>\n",
              "    </tr>\n",
              "    <tr>\n",
              "      <th>1</th>\n",
              "      <td>0.000000</td>\n",
              "      <td>TransactionDT</td>\n",
              "    </tr>\n",
              "    <tr>\n",
              "      <th>2</th>\n",
              "      <td>0.000000</td>\n",
              "      <td>TransactionAmt</td>\n",
              "    </tr>\n",
              "    <tr>\n",
              "      <th>3</th>\n",
              "      <td>0.000000</td>\n",
              "      <td>ProductCD</td>\n",
              "    </tr>\n",
              "    <tr>\n",
              "      <th>4</th>\n",
              "      <td>0.000000</td>\n",
              "      <td>card1</td>\n",
              "    </tr>\n",
              "    <tr>\n",
              "      <th>...</th>\n",
              "      <td>...</td>\n",
              "      <td>...</td>\n",
              "    </tr>\n",
              "    <tr>\n",
              "      <th>428</th>\n",
              "      <td>76.126088</td>\n",
              "      <td>id_36</td>\n",
              "    </tr>\n",
              "    <tr>\n",
              "      <th>429</th>\n",
              "      <td>76.126088</td>\n",
              "      <td>id_37</td>\n",
              "    </tr>\n",
              "    <tr>\n",
              "      <th>430</th>\n",
              "      <td>76.126088</td>\n",
              "      <td>id_38</td>\n",
              "    </tr>\n",
              "    <tr>\n",
              "      <th>431</th>\n",
              "      <td>76.155722</td>\n",
              "      <td>DeviceType</td>\n",
              "    </tr>\n",
              "    <tr>\n",
              "      <th>432</th>\n",
              "      <td>79.905510</td>\n",
              "      <td>DeviceInfo</td>\n",
              "    </tr>\n",
              "  </tbody>\n",
              "</table>\n",
              "<p>433 rows × 2 columns</p>\n",
              "</div>"
            ],
            "text/plain": [
              "           nan         columns\n",
              "0     0.000000   TransactionID\n",
              "1     0.000000   TransactionDT\n",
              "2     0.000000  TransactionAmt\n",
              "3     0.000000       ProductCD\n",
              "4     0.000000           card1\n",
              "..         ...             ...\n",
              "428  76.126088           id_36\n",
              "429  76.126088           id_37\n",
              "430  76.126088           id_38\n",
              "431  76.155722      DeviceType\n",
              "432  79.905510      DeviceInfo\n",
              "\n",
              "[433 rows x 2 columns]"
            ]
          },
          "metadata": {
            "tags": []
          },
          "execution_count": 7
        }
      ]
    },
    {
      "cell_type": "markdown",
      "metadata": {
        "id": "Ib6qhig1pkOe",
        "colab_type": "text"
      },
      "source": [
        "Dropping columns with greater than 75 percent nan"
      ]
    },
    {
      "cell_type": "code",
      "metadata": {
        "id": "ykeXpxh_lu8L",
        "colab_type": "code",
        "colab": {
          "base_uri": "https://localhost:8080/",
          "height": 36
        },
        "outputId": "4a3cd1f7-a1a2-4786-bf48-0bb7ff713cc0"
      },
      "source": [
        "dps=df.loc[df['nan']>75]['columns'].values\n",
        "train=train.drop(dps,1)\n",
        "test=test.drop(dps,1)\n",
        "del([df])\n",
        "gc.collect()"
      ],
      "execution_count": null,
      "outputs": [
        {
          "output_type": "execute_result",
          "data": {
            "text/plain": [
              "0"
            ]
          },
          "metadata": {
            "tags": []
          },
          "execution_count": 8
        }
      ]
    },
    {
      "cell_type": "markdown",
      "metadata": {
        "id": "J95dElrDs3HK",
        "colab_type": "text"
      },
      "source": [
        "\n",
        "\n",
        "\n",
        "*   Get sum of nan for categorical and continuous columns\n",
        "*   Fill Cs and Ds by -999 other numerical by mean and categorical by 'nan'\n",
        "*   Get indicator for each column nan \n",
        "\n"
      ]
    },
    {
      "cell_type": "markdown",
      "metadata": {
        "id": "-fvMco51posR",
        "colab_type": "text"
      },
      "source": [
        "Getting an indicator column for each column for nan"
      ]
    },
    {
      "cell_type": "code",
      "metadata": {
        "id": "zy8OQxleCnPR",
        "colab_type": "code",
        "colab": {}
      },
      "source": [
        "ls=list(test)\n",
        "cat=list(test.select_dtypes(include=object))\n",
        "for col in ls:\n",
        "  if train[col].isna().sum()>0:\n",
        "    all_columns+=[col+'_isna']\n",
        "    train[col+'_isna']=train[col].isna().astype('uint8')\n",
        "    test[col+'_isna']=test[col].isna().astype('uint8')"
      ],
      "execution_count": null,
      "outputs": []
    },
    {
      "cell_type": "markdown",
      "metadata": {
        "id": "UH-7siIzu8Yo",
        "colab_type": "text"
      },
      "source": [
        "Seperating numerical and categorical type columns"
      ]
    },
    {
      "cell_type": "code",
      "metadata": {
        "id": "0NRUH4Pnt2-8",
        "colab_type": "code",
        "colab": {}
      },
      "source": [
        "categorical = [\"ProductCD\", \"card1\", \"card2\", \"card3\", \"card4\", \"card5\", \"card6\", \"addr1\", \"addr2\",\n",
        "               \"P_emaildomain\",'P_emaildomain_first','P_emaildomain_second', \"R_emaildomain\",\n",
        "              \"DeviceInfo\", \"DeviceType\"] + [\"id_0\" + str(i) for i in range(1, 10)] +\\\n",
        "                [\"id_\" + str(i) for i in range(10, 39)] + \\\n",
        "                 [\"M\" + str(i) for i in range(1, 10)]\n",
        "categorical=set(categorical).intersection(set(list(test)))\n",
        "numerical = [\"TransactionAmt\", \"dist1\", \"dist2\",\"day\",\"week\",\"year\"] + [\"C\" + str(i) for i in range(1, 15)]+[\"D\" + str(i) for i in range(1, 16)]+[\"V\" + str(i) for i in range(1,340)]\n",
        "numerical=list(set(numerical).intersection(set(test)))\n",
        "all_columns+=numerical"
      ],
      "execution_count": null,
      "outputs": []
    },
    {
      "cell_type": "code",
      "metadata": {
        "id": "X6gfm4PStlzh",
        "colab_type": "code",
        "colab": {}
      },
      "source": [
        "train[numerical].filter(regex='D').fillna(-999,inplace=True)\n",
        "test[numerical].filter(regex='D').fillna(-999,inplace=True)"
      ],
      "execution_count": null,
      "outputs": []
    },
    {
      "cell_type": "code",
      "metadata": {
        "id": "TfebOGzxtm6H",
        "colab_type": "code",
        "colab": {}
      },
      "source": [
        "\n",
        "train[numerical].filter(regex='C').fillna(-999,inplace=True)\n",
        "test[numerical].filter(regex='C').fillna(-999,inplace=True)"
      ],
      "execution_count": null,
      "outputs": []
    },
    {
      "cell_type": "code",
      "metadata": {
        "id": "2jD0IjgQyEDF",
        "colab_type": "code",
        "colab": {}
      },
      "source": [
        "for col in numerical:\n",
        "  train[col]=train[col].fillna(train[col].mean())\n",
        "  test[col]=test[col].fillna(test[col].mean())\n",
        "for col in categorical:\n",
        "  train[col]=train[col].fillna('nan')\n",
        "  test[col]=test[col].fillna('nan')\n"
      ],
      "execution_count": null,
      "outputs": []
    },
    {
      "cell_type": "markdown",
      "metadata": {
        "id": "xwnRL6GLyBR9",
        "colab_type": "text"
      },
      "source": [
        "\n",
        "\n",
        "\n",
        "\n",
        "\n",
        "\n",
        "\n",
        "\n",
        "\n",
        "\n",
        "\n",
        "\n",
        "\n",
        "\n",
        "\n",
        "\n",
        "\n",
        "**Creating New columns**"
      ]
    },
    {
      "cell_type": "markdown",
      "metadata": {
        "id": "yf5j7wSuvEys",
        "colab_type": "text"
      },
      "source": [
        "Nan count for each types"
      ]
    },
    {
      "cell_type": "code",
      "metadata": {
        "id": "e_001B_pt8ew",
        "colab_type": "code",
        "colab": {}
      },
      "source": [
        "def num_cat(df,typ,nme):\n",
        "  df[nme]=0\n",
        "  for col in typ:\n",
        "    try:\n",
        "      df[nme]+=df[col+'_isna']\n",
        "    except:\n",
        "      continue\n",
        "  return df\n",
        "all_columns+=['numerical','categorical']\n",
        "train=num_cat(train,numerical,'numerical')\n",
        "train=num_cat(train,categorical,'categorical')\n",
        "\n",
        "\n",
        "test=num_cat(test,numerical,'numerical')\n",
        "test=num_cat(test,categorical,'categorical')"
      ],
      "execution_count": null,
      "outputs": []
    },
    {
      "cell_type": "markdown",
      "metadata": {
        "id": "5mmYjPQtp8Nr",
        "colab_type": "text"
      },
      "source": [
        "Seems we can split p_emaildomain into parts before and after '.'"
      ]
    },
    {
      "cell_type": "code",
      "metadata": {
        "id": "MZALYLnKp7M6",
        "colab_type": "code",
        "colab": {}
      },
      "source": [
        "def second(data):\n",
        "  return data[data.find('.'):]\n",
        "def first(data):\n",
        "  return data[:data.find('.')]\n",
        "all_columns+=['P_emaildomain_first','P_emaildomain_second']\n",
        "train['P_emaildomain_first']=train['P_emaildomain'].apply(first)\n",
        "train['P_emaildomain_second']=train['P_emaildomain'].apply(second)\n",
        "test['P_emaildomain_first']=test['P_emaildomain'].apply(first)\n",
        "test['P_emaildomain_second']=test['P_emaildomain'].apply(second)"
      ],
      "execution_count": null,
      "outputs": []
    },
    {
      "cell_type": "markdown",
      "metadata": {
        "id": "gMugKBRyTNHm",
        "colab_type": "text"
      },
      "source": [
        "Getting dummies of top 10 most common categories and label encoding of card1 and id_02 since they have many categories"
      ]
    },
    {
      "cell_type": "code",
      "metadata": {
        "id": "09BtSGSgqW0g",
        "colab_type": "code",
        "colab": {
          "base_uri": "https://localhost:8080/",
          "height": 1000
        },
        "outputId": "d3bae960-6969-44a9-fd0b-d044f07ceeba"
      },
      "source": [
        "from sklearn.preprocessing import LabelEncoder\n",
        "from tqdm import tqdm\n",
        "def top_n(categorical,fnl,n):\n",
        "  cols_name=[]\n",
        "  for col in tqdm(categorical):\n",
        "        print(col)\n",
        "        print('before '+str(fnl[col].nunique()))\n",
        "        fnl.loc[~fnl[col].isin(list(fnl[col].value_counts().index[:n])),col]='other'\n",
        "        print('before '+str(fnl[col].nunique()))\n",
        "        if col!='card1' or col !='id_02':\n",
        "            fnl_dum=pd.get_dummies(fnl[col]).astype('uint8')\n",
        "            fnl_dum.columns=list(np.char.add(col,np.asarray(list(fnl_dum)).astype(str)))\n",
        "            fnl_dum.columns=fnl_dum.columns+'_dum'\n",
        "            cols_name.extend(list(fnl_dum.columns))\n",
        "            #fnl=fnl.drop([col],1)\n",
        "            fnl=pd.concat([fnl,fnl_dum],1)\n",
        "            del([fnl_dum])\n",
        "            gc.collect()\n",
        "        else:\n",
        "          le=LabelEncoder()\n",
        "          fnl[col]=le.fit_transform(fnl[col]).astype('uint8')\n",
        "  return fnl,cols_name\n",
        "print(train.shape)\n",
        "print(test.shape)\n",
        "df,new_cols=top_n(categorical,pd.concat([train,test],0).reset_index(drop=True),50)\n",
        "all_columns+=new_cols\n",
        "print(df.shape)"
      ],
      "execution_count": null,
      "outputs": [
        {
          "output_type": "stream",
          "text": [
            "(590540, 436)\n",
            "(506691, 435)\n"
          ],
          "name": "stdout"
        },
        {
          "output_type": "stream",
          "text": [
            "\r  0%|          | 0/19 [00:00<?, ?it/s]"
          ],
          "name": "stderr"
        },
        {
          "output_type": "stream",
          "text": [
            "M4\n",
            "before 4\n",
            "before 4\n"
          ],
          "name": "stdout"
        },
        {
          "output_type": "stream",
          "text": [
            "\r  5%|▌         | 1/19 [00:00<00:15,  1.20it/s]"
          ],
          "name": "stderr"
        },
        {
          "output_type": "stream",
          "text": [
            "P_emaildomain\n",
            "before 61\n",
            "before 11\n"
          ],
          "name": "stdout"
        },
        {
          "output_type": "stream",
          "text": [
            "\r 11%|█         | 2/19 [00:02<00:17,  1.05s/it]"
          ],
          "name": "stderr"
        },
        {
          "output_type": "stream",
          "text": [
            "M9\n",
            "before 3\n",
            "before 3\n"
          ],
          "name": "stdout"
        },
        {
          "output_type": "stream",
          "text": [
            "\r 16%|█▌        | 3/19 [00:03<00:18,  1.17s/it]"
          ],
          "name": "stderr"
        },
        {
          "output_type": "stream",
          "text": [
            "card3\n",
            "before 134\n",
            "before 11\n"
          ],
          "name": "stdout"
        },
        {
          "output_type": "stream",
          "text": [
            "\r 21%|██        | 4/19 [00:05<00:19,  1.29s/it]"
          ],
          "name": "stderr"
        },
        {
          "output_type": "stream",
          "text": [
            "M5\n",
            "before 3\n",
            "before 3\n"
          ],
          "name": "stdout"
        },
        {
          "output_type": "stream",
          "text": [
            "\r 26%|██▋       | 5/19 [00:06<00:18,  1.35s/it]"
          ],
          "name": "stderr"
        },
        {
          "output_type": "stream",
          "text": [
            "M2\n",
            "before 3\n",
            "before 3\n"
          ],
          "name": "stdout"
        },
        {
          "output_type": "stream",
          "text": [
            "\r 32%|███▏      | 6/19 [00:08<00:17,  1.37s/it]"
          ],
          "name": "stderr"
        },
        {
          "output_type": "stream",
          "text": [
            "M6\n",
            "before 3\n",
            "before 3\n"
          ],
          "name": "stdout"
        },
        {
          "output_type": "stream",
          "text": [
            "\r 37%|███▋      | 7/19 [00:09<00:16,  1.40s/it]"
          ],
          "name": "stderr"
        },
        {
          "output_type": "stream",
          "text": [
            "card6\n",
            "before 5\n",
            "before 5\n"
          ],
          "name": "stdout"
        },
        {
          "output_type": "stream",
          "text": [
            "\r 42%|████▏     | 8/19 [00:11<00:15,  1.43s/it]"
          ],
          "name": "stderr"
        },
        {
          "output_type": "stream",
          "text": [
            "M7\n",
            "before 3\n",
            "before 3\n"
          ],
          "name": "stdout"
        },
        {
          "output_type": "stream",
          "text": [
            "\r 47%|████▋     | 9/19 [00:12<00:14,  1.46s/it]"
          ],
          "name": "stderr"
        },
        {
          "output_type": "stream",
          "text": [
            "ProductCD\n",
            "before 5\n",
            "before 5\n"
          ],
          "name": "stdout"
        },
        {
          "output_type": "stream",
          "text": [
            "\r 53%|█████▎    | 10/19 [00:14<00:13,  1.47s/it]"
          ],
          "name": "stderr"
        },
        {
          "output_type": "stream",
          "text": [
            "card4\n",
            "before 5\n",
            "before 5\n"
          ],
          "name": "stdout"
        },
        {
          "output_type": "stream",
          "text": [
            "\r 58%|█████▊    | 11/19 [00:15<00:11,  1.49s/it]"
          ],
          "name": "stderr"
        },
        {
          "output_type": "stream",
          "text": [
            "M3\n",
            "before 3\n",
            "before 3\n"
          ],
          "name": "stdout"
        },
        {
          "output_type": "stream",
          "text": [
            "\r 63%|██████▎   | 12/19 [00:17<00:10,  1.48s/it]"
          ],
          "name": "stderr"
        },
        {
          "output_type": "stream",
          "text": [
            "card5\n",
            "before 139\n",
            "before 11\n"
          ],
          "name": "stdout"
        },
        {
          "output_type": "stream",
          "text": [
            "\r 68%|██████▊   | 13/19 [00:18<00:09,  1.51s/it]"
          ],
          "name": "stderr"
        },
        {
          "output_type": "stream",
          "text": [
            "card2\n",
            "before 502\n",
            "before 11\n"
          ],
          "name": "stdout"
        },
        {
          "output_type": "stream",
          "text": [
            "\r 74%|███████▎  | 14/19 [00:20<00:07,  1.55s/it]"
          ],
          "name": "stderr"
        },
        {
          "output_type": "stream",
          "text": [
            "addr1\n",
            "before 442\n",
            "before 11\n"
          ],
          "name": "stdout"
        },
        {
          "output_type": "stream",
          "text": [
            "\r 79%|███████▉  | 15/19 [00:22<00:06,  1.58s/it]"
          ],
          "name": "stderr"
        },
        {
          "output_type": "stream",
          "text": [
            "addr2\n",
            "before 94\n",
            "before 11\n"
          ],
          "name": "stdout"
        },
        {
          "output_type": "stream",
          "text": [
            "\r 84%|████████▍ | 16/19 [00:23<00:04,  1.59s/it]"
          ],
          "name": "stderr"
        },
        {
          "output_type": "stream",
          "text": [
            "M8\n",
            "before 3\n",
            "before 3\n"
          ],
          "name": "stdout"
        },
        {
          "output_type": "stream",
          "text": [
            "\r 89%|████████▉ | 17/19 [00:25<00:03,  1.56s/it]"
          ],
          "name": "stderr"
        },
        {
          "output_type": "stream",
          "text": [
            "M1\n",
            "before 3\n",
            "before 3\n"
          ],
          "name": "stdout"
        },
        {
          "output_type": "stream",
          "text": [
            "\r 95%|█████████▍| 18/19 [00:26<00:01,  1.54s/it]"
          ],
          "name": "stderr"
        },
        {
          "output_type": "stream",
          "text": [
            "card1\n",
            "before 17091\n",
            "before 11\n"
          ],
          "name": "stdout"
        },
        {
          "output_type": "stream",
          "text": [
            "100%|██████████| 19/19 [00:28<00:00,  1.50s/it]"
          ],
          "name": "stderr"
        },
        {
          "output_type": "stream",
          "text": [
            "(1097231, 556)\n"
          ],
          "name": "stdout"
        },
        {
          "output_type": "stream",
          "text": [
            "\n"
          ],
          "name": "stderr"
        }
      ]
    },
    {
      "cell_type": "code",
      "metadata": {
        "id": "LoZgSHC9zTeM",
        "colab_type": "code",
        "colab": {
          "base_uri": "https://localhost:8080/",
          "height": 73
        },
        "outputId": "883fff8d-7005-450c-b6ba-c2a8fa90cfb5"
      },
      "source": [
        "train=df.loc[:590539].reset_index(drop=True)\n",
        "test=df.loc[590540:].reset_index(drop=True)\n",
        "print(train.shape)\n",
        "print(test.shape)\n",
        "del([df])\n",
        "gc.collect()"
      ],
      "execution_count": null,
      "outputs": [
        {
          "output_type": "stream",
          "text": [
            "(590540, 556)\n",
            "(506691, 556)\n"
          ],
          "name": "stdout"
        },
        {
          "output_type": "execute_result",
          "data": {
            "text/plain": [
              "0"
            ]
          },
          "metadata": {
            "tags": []
          },
          "execution_count": 17
        }
      ]
    },
    {
      "cell_type": "markdown",
      "metadata": {
        "id": "HGlNqqJoRD-V",
        "colab_type": "text"
      },
      "source": [
        "Convert TransactionDT to day,month,year"
      ]
    },
    {
      "cell_type": "code",
      "metadata": {
        "id": "JVxfup8rRDax",
        "colab_type": "code",
        "colab": {}
      },
      "source": [
        "def time(df):\n",
        "  df['day']=df['TransactionDT']//86400\n",
        "  df['week']=df['TransactionDT']//(86400*7)\n",
        "  df['month']=df['TransactionDT']//(86400*30)\n",
        "  return df\n",
        "train=time(train)\n",
        "test=time(test)\n",
        "all_columns+=['day','week','month']"
      ],
      "execution_count": null,
      "outputs": []
    },
    {
      "cell_type": "markdown",
      "metadata": {
        "id": "iqjfQ1btxYSr",
        "colab_type": "text"
      },
      "source": [
        "Creating new columns"
      ]
    },
    {
      "cell_type": "code",
      "metadata": {
        "id": "QYXUvakm3UtH",
        "colab_type": "code",
        "colab": {}
      },
      "source": [
        "for i in [1,2,3,4,5,10,11,15]:\n",
        "  all_columns+=['d_'+str(i)]\n",
        "  train['d_'+str(i)]=train['day']-train['D'+str(i)]\n",
        "  test['d_'+str(i)]=test['day']-test['D'+str(i)]"
      ],
      "execution_count": null,
      "outputs": []
    },
    {
      "cell_type": "markdown",
      "metadata": {
        "id": "zg8hZYLXxWr3",
        "colab_type": "text"
      },
      "source": [
        "Creating id"
      ]
    },
    {
      "cell_type": "code",
      "metadata": {
        "id": "LA6o45DDMs2l",
        "colab_type": "code",
        "colab": {}
      },
      "source": [
        "train['id']=''\n",
        "test['id']=''\n",
        "all_columns+=['id']\n",
        "for col in ['C1','C13','P_emaildomain','addr1','card1','d_1']:\n",
        "  train['id']+=train[col].astype(str)\n",
        "  test['id']+=test[col].astype(str)"
      ],
      "execution_count": null,
      "outputs": []
    },
    {
      "cell_type": "markdown",
      "metadata": {
        "id": "LUWAjgOSx4wV",
        "colab_type": "text"
      },
      "source": [
        "**Final Preprocessing**"
      ]
    },
    {
      "cell_type": "markdown",
      "metadata": {
        "id": "ilVwnhAixUr_",
        "colab_type": "text"
      },
      "source": [
        "Reducing memory used"
      ]
    },
    {
      "cell_type": "code",
      "metadata": {
        "id": "1uGQjr-sM0Xf",
        "colab_type": "code",
        "colab": {}
      },
      "source": [
        "def reduce_mem_usage(df):\n",
        "    \"\"\" iterate through all the columns of a dataframe and modify the data type\n",
        "        to reduce memory usage.        \n",
        "    \"\"\"\n",
        "    start_mem = df.memory_usage().sum() / 1024**2\n",
        "    print('Memory usage of dataframe is {:.2f} MB'.format(start_mem))\n",
        "    \n",
        "    for col in df.columns:\n",
        "        col_type = df[col].dtype\n",
        "        \n",
        "        if col_type != object:\n",
        "            c_min = df[col].min()\n",
        "            c_max = df[col].max()\n",
        "            if str(col_type)[:3] == 'int':\n",
        "                if c_min > np.iinfo(np.int8).min and c_max < np.iinfo(np.int8).max:\n",
        "                    df[col] = df[col].astype(np.int8)\n",
        "                elif c_min > np.iinfo(np.int16).min and c_max < np.iinfo(np.int16).max:\n",
        "                    df[col] = df[col].astype(np.int16)\n",
        "                elif c_min > np.iinfo(np.int32).min and c_max < np.iinfo(np.int32).max:\n",
        "                    df[col] = df[col].astype(np.int32)\n",
        "                elif c_min > np.iinfo(np.int64).min and c_max < np.iinfo(np.int64).max:\n",
        "                    df[col] = df[col].astype(np.int64)  \n",
        "            else:\n",
        "                if c_min > np.finfo(np.float16).min and c_max < np.finfo(np.float16).max:\n",
        "                    df[col] = df[col].astype(np.float16)\n",
        "                elif c_min > np.finfo(np.float32).min and c_max < np.finfo(np.float32).max:\n",
        "                    df[col] = df[col].astype(np.float32)\n",
        "                else:\n",
        "                    df[col] = df[col].astype(np.float64)\n",
        "        else:\n",
        "            df[col] = df[col].astype('category')\n",
        "\n",
        "    end_mem = df.memory_usage().sum() / 1024**2\n",
        "    print('Memory usage after optimization is: {:.2f} MB'.format(end_mem))\n",
        "    print('Decreased by {:.1f}%'.format(100 * (start_mem - end_mem) / start_mem))\n",
        "    \n",
        "    return df"
      ],
      "execution_count": null,
      "outputs": []
    },
    {
      "cell_type": "code",
      "metadata": {
        "id": "bj9JnRwGMt66",
        "colab_type": "code",
        "colab": {
          "base_uri": "https://localhost:8080/",
          "height": 129
        },
        "outputId": "72807658-db00-4677-cae5-e8d5ad13bde5"
      },
      "source": [
        "train=reduce_mem_usage(train)\n",
        "test=reduce_mem_usage(test)\n",
        "ids=[]"
      ],
      "execution_count": null,
      "outputs": [
        {
          "output_type": "stream",
          "text": [
            "Memory usage of dataframe is 1273.92 MB\n",
            "Memory usage after optimization is: 662.28 MB\n",
            "Decreased by 48.0%\n",
            "Memory usage of dataframe is 1093.04 MB\n",
            "Memory usage after optimization is: 576.06 MB\n",
            "Decreased by 47.3%\n"
          ],
          "name": "stdout"
        }
      ]
    },
    {
      "cell_type": "markdown",
      "metadata": {
        "id": "r4mMgVsTxSLj",
        "colab_type": "text"
      },
      "source": [
        "Standarizing data"
      ]
    },
    {
      "cell_type": "code",
      "metadata": {
        "id": "Ie9GDuDVzgfi",
        "colab_type": "code",
        "colab": {}
      },
      "source": [
        "def fill(df,numerical,ids):\n",
        "  for col in (numerical+ids):\n",
        "    if df[col].skew()>1:\n",
        "        df[col]=np.log10(df[col]+1-min(0,min(df[col])))\n",
        "    mn=df[col].mean()\n",
        "    std=df[col].std()\n",
        "    df[col]=(df[col]-mn)/(std+1e-6)\n",
        "    return df\n",
        "train=fill(train,numerical,ids)\n",
        "test=fill(test,numerical,ids)"
      ],
      "execution_count": null,
      "outputs": []
    },
    {
      "cell_type": "code",
      "metadata": {
        "id": "wmeG8NrhhGyS",
        "colab_type": "code",
        "colab": {}
      },
      "source": [
        "import warnings\n",
        "warnings.filterwarnings('ignore')"
      ],
      "execution_count": null,
      "outputs": []
    },
    {
      "cell_type": "code",
      "metadata": {
        "id": "KyPPDQ1pV8Si",
        "colab_type": "code",
        "colab": {}
      },
      "source": [
        "\n",
        "test[all_columns].to_csv(F\"/content/gdrive/My Drive/fraud/test.csv\")\n",
        "all_columns+=['isFraud']\n",
        "train[all_columns].to_csv(F\"/content/gdrive/My Drive/fraud/train.csv\")"
      ],
      "execution_count": null,
      "outputs": []
    },
    {
      "cell_type": "markdown",
      "metadata": {
        "id": "Vk3JVx5hzwv-",
        "colab_type": "text"
      },
      "source": [
        "all_columns consists of \n",
        "**categorical**\n",
        "1. id  \n",
        "2. emaildomain split\n",
        "3. dummies\n",
        "4. categorical\n",
        "5. isna flags\n",
        "**numerical**\n",
        "\n",
        "6. date, month  \n",
        "7. nan sum\n",
        "8. d\n",
        "9. numerical"
      ]
    },
    {
      "cell_type": "markdown",
      "metadata": {
        "id": "Z_lsE9rMhOcr",
        "colab_type": "text"
      },
      "source": [
        "**Takeaway points**\n",
        "1. Included columns with less than 75 percent nanas\n",
        "2. Got indicator for nan columns\n",
        "3. Split emaildomain after the '.'\n",
        "4. For each categorical columns got dummies of top 10 most frequent value \n",
        "5. Since D columns were difference in days created columns by subtracting from days\n",
        "6. Filled nan of conitnuous columns by mean and for categorical columns by 'nan' and Cs and Ds by -999"
      ]
    },
    {
      "cell_type": "code",
      "metadata": {
        "id": "_O_fYsG1sKEz",
        "colab_type": "code",
        "colab": {}
      },
      "source": [
        ""
      ],
      "execution_count": null,
      "outputs": []
    }
  ]
}