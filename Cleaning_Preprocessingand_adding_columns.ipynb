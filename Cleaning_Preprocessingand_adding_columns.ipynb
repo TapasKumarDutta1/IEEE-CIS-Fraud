{
  "nbformat": 4,
  "nbformat_minor": 0,
  "metadata": {
    "colab": {
      "name": "Cleaning_Preprocessingand adding columns.ipynb",
      "provenance": [],
      "machine_shape": "hm",
      "include_colab_link": true
    },
    "kernelspec": {
      "name": "python3",
      "display_name": "Python 3"
    }
  },
  "cells": [
    {
      "cell_type": "markdown",
      "metadata": {
        "id": "view-in-github",
        "colab_type": "text"
      },
      "source": [
        "<a href=\"https://colab.research.google.com/github/greyhound101/IEEE-CIS-Fraud/blob/master/Cleaning_Preprocessingand_adding_columns.ipynb\" target=\"_parent\"><img src=\"https://colab.research.google.com/assets/colab-badge.svg\" alt=\"Open In Colab\"/></a>"
      ]
    },
    {
      "cell_type": "markdown",
      "metadata": {
        "id": "EAd-jYpbhqod",
        "colab_type": "text"
      },
      "source": [
        "Getting data"
      ]
    },
    {
      "cell_type": "code",
      "metadata": {
        "id": "iio63rQJpTwo",
        "colab_type": "code",
        "colab": {
          "base_uri": "https://localhost:8080/",
          "height": 129
        },
        "outputId": "2cec87f0-d256-4d71-a970-4f45246bd528"
      },
      "source": [
        "import os\n",
        "os.environ['KAGGLE_USERNAME'] = \"tapaskd123\" # username from the json file\n",
        "os.environ['KAGGLE_KEY'] = \"aba8dc1f085221111d925003fe5a88ed\" # key from the json file\n",
        "!kaggle competitions download -c ieee-fraud-detection"
      ],
      "execution_count": 1,
      "outputs": [
        {
          "output_type": "stream",
          "text": [
            "Warning: Looks like you're using an outdated API Version, please consider updating (server 1.5.6 / client 1.5.4)\n",
            "test_transaction.csv.zip: Skipping, found more recently modified local copy (use --force to force download)\n",
            "train_identity.csv.zip: Skipping, found more recently modified local copy (use --force to force download)\n",
            "sample_submission.csv.zip: Skipping, found more recently modified local copy (use --force to force download)\n",
            "train_transaction.csv.zip: Skipping, found more recently modified local copy (use --force to force download)\n",
            "test_identity.csv.zip: Skipping, found more recently modified local copy (use --force to force download)\n"
          ],
          "name": "stdout"
        }
      ]
    },
    {
      "cell_type": "code",
      "metadata": {
        "id": "uLp-FegbHCEy",
        "colab_type": "code",
        "colab": {}
      },
      "source": [
        "import warnings\n",
        "warnings.filterwarnings('ignore') "
      ],
      "execution_count": 2,
      "outputs": []
    },
    {
      "cell_type": "markdown",
      "metadata": {
        "id": "g4o8Kitosplu",
        "colab_type": "text"
      },
      "source": [
        "Loading drive"
      ]
    },
    {
      "cell_type": "code",
      "metadata": {
        "id": "eQqlrXIJej1l",
        "colab_type": "code",
        "colab": {
          "base_uri": "https://localhost:8080/",
          "height": 149
        },
        "outputId": "56e2178b-334b-4db7-d7fb-6523ef705554"
      },
      "source": [
        "from google.colab import drive\n",
        "drive.mount('/content/gdrive')\n",
        "drive.mount(\"/content/gdrive\", force_remount=True)"
      ],
      "execution_count": 3,
      "outputs": [
        {
          "output_type": "stream",
          "text": [
            "Go to this URL in a browser: https://accounts.google.com/o/oauth2/auth?client_id=947318989803-6bn6qk8qdgf4n4g3pfee6491hc0brc4i.apps.googleusercontent.com&redirect_uri=urn%3aietf%3awg%3aoauth%3a2.0%3aoob&response_type=code&scope=email%20https%3a%2f%2fwww.googleapis.com%2fauth%2fdocs.test%20https%3a%2f%2fwww.googleapis.com%2fauth%2fdrive%20https%3a%2f%2fwww.googleapis.com%2fauth%2fdrive.photos.readonly%20https%3a%2f%2fwww.googleapis.com%2fauth%2fpeopleapi.readonly\n",
            "\n",
            "Enter your authorization code:\n",
            "··········\n",
            "Mounted at /content/gdrive\n",
            "Mounted at /content/gdrive\n"
          ],
          "name": "stdout"
        }
      ]
    },
    {
      "cell_type": "markdown",
      "metadata": {
        "id": "Adbp3dS8srOW",
        "colab_type": "text"
      },
      "source": [
        "Reading datasets"
      ]
    },
    {
      "cell_type": "code",
      "metadata": {
        "id": "_WXDyhihenRg",
        "colab_type": "code",
        "colab": {}
      },
      "source": [
        "import pandas as pd\n",
        "import numpy as np\n",
        "trn=pd.read_csv('train_transaction.csv.zip')\n",
        "isFraud=trn['isFraud']\n",
        "trn=trn.drop(['isFraud'],1)\n",
        "tst=pd.read_csv('test_transaction.csv.zip')"
      ],
      "execution_count": 4,
      "outputs": []
    },
    {
      "cell_type": "markdown",
      "metadata": {
        "id": "nLiZLu3Wssz5",
        "colab_type": "text"
      },
      "source": [
        "Feature selection"
      ]
    },
    {
      "cell_type": "code",
      "metadata": {
        "id": "Mja2yCpAINM4",
        "colab_type": "code",
        "colab": {}
      },
      "source": [
        "useful_cols=list(trn.iloc[:,:55])\n",
        "useful_cols.remove('TransactionID')\n",
        "trn=trn[useful_cols]\n",
        "tst=tst[useful_cols]"
      ],
      "execution_count": 5,
      "outputs": []
    },
    {
      "cell_type": "markdown",
      "metadata": {
        "id": "7Ji3GQS9G0LR",
        "colab_type": "text"
      },
      "source": [
        "Creating unique id"
      ]
    },
    {
      "cell_type": "code",
      "metadata": {
        "id": "8gcZZoZ_G2XF",
        "colab_type": "code",
        "colab": {}
      },
      "source": [
        "trn['day']=trn['TransactionDT']//86400\n",
        "tst['day']=tst['TransactionDT']//86400\n",
        "trn['id']=''\n",
        "tst['id']=''\n",
        "trn['d_1']=trn['day']-trn['D1']\n",
        "tst['d_1']=tst['day']-tst['D1']\n",
        "for col in ['C1','C13','P_emaildomain','addr1','card1','d_1']:\n",
        "  trn['id']+=trn[col].astype(str)\n",
        "  tst['id']+=tst[col].astype(str)\n",
        "id_trn=trn['id']\n",
        "id_tst=tst['id']"
      ],
      "execution_count": 7,
      "outputs": []
    },
    {
      "cell_type": "markdown",
      "metadata": {
        "id": "3XXuMDeYGWuW",
        "colab_type": "text"
      },
      "source": [
        "seperate columns in continuous and categorical"
      ]
    },
    {
      "cell_type": "code",
      "metadata": {
        "id": "Kp_n9G6mH0QG",
        "colab_type": "code",
        "colab": {}
      },
      "source": [
        "categorical=['ProductCD','card1','card2','card3','card4','card5','card6','addr1','addr2','P_emaildomain','R_emaildomain']+['M'+str(i) for i in range(1,10)]\n",
        "continuous=[i for i in useful_cols if i not in categorical]"
      ],
      "execution_count": 8,
      "outputs": []
    },
    {
      "cell_type": "markdown",
      "metadata": {
        "id": "fO4xzVhmGTra",
        "colab_type": "text"
      },
      "source": [
        "Preprocessing"
      ]
    },
    {
      "cell_type": "code",
      "metadata": {
        "id": "DX1lpuQrGVE7",
        "colab_type": "code",
        "colab": {}
      },
      "source": [
        "class ContinuousConverter:\n",
        "  def __init__(self,name,log_transform,feature):\n",
        "    self.name=name\n",
        "    self.skew=feature.skew()\n",
        "    self.log_transform=log_transform\n",
        "  def transform(self,feature):\n",
        "    if self.skew>1:\n",
        "      feature=self.log_transform(feature)\n",
        "    mean=feature.mean()\n",
        "    std=feature.std()\n",
        "    feature=(feature-mean)/(std+1e-6)\n",
        "    return feature"
      ],
      "execution_count": 9,
      "outputs": []
    },
    {
      "cell_type": "code",
      "metadata": {
        "id": "aHEa18NyJBBs",
        "colab_type": "code",
        "colab": {
          "base_uri": "https://localhost:8080/",
          "height": 36
        },
        "outputId": "aa0ef769-b78d-4aa9-95ec-78c5260b2fc2"
      },
      "source": [
        "from tqdm import tqdm\n",
        "continuous_trn=[]\n",
        "continuous_tst=[]\n",
        "for col in tqdm(continuous):\n",
        "  log=lambda x:np.log10(x+(1-min(0,min(x))))\n",
        "  converter=ContinuousConverter(col,log,trn[col])\n",
        "  continuous_trn.append(converter.transform(trn[col]).astype(np.float32))\n",
        "  continuous_tst.append(converter.transform(tst[col]).astype(np.float32))\n",
        "continuous_trn=pd.DataFrame(continuous_trn).T\n",
        "continuous_trn.columns=continuous\n",
        "continuous_tst=pd.DataFrame(continuous_tst).T\n",
        "continuous_tst.columns=continuous"
      ],
      "execution_count": 10,
      "outputs": [
        {
          "output_type": "stream",
          "text": [
            "100%|██████████| 34/34 [00:04<00:00,  7.40it/s]\n"
          ],
          "name": "stderr"
        }
      ]
    },
    {
      "cell_type": "code",
      "metadata": {
        "id": "lF10rHW3P8Gz",
        "colab_type": "code",
        "colab": {}
      },
      "source": [
        "continuous_trn['isna_sum']=continuous_trn.isna().sum(axis=1)\n",
        "continuous_tst['isna_sum']=continuous_tst.isna().sum(axis=1)\n",
        "mn=continuous_trn['isna_sum'].mean()\n",
        "std=continuous_trn['isna_sum'].std()\n",
        "continuous_trn['isna_sum']=(continuous_trn['isna_sum']-mn)/std\n",
        "mn=continuous_tst['isna_sum'].mean()\n",
        "std=continuous_tst['isna_sum'].std()\n",
        "continuous_tst['isna_sum']=(continuous_tst['isna_sum']-mn)/std"
      ],
      "execution_count": 13,
      "outputs": []
    },
    {
      "cell_type": "code",
      "metadata": {
        "id": "bAm5VK2_LTuO",
        "colab_type": "code",
        "colab": {}
      },
      "source": [
        "isna_cols=[]\n",
        "for col in continuous:\n",
        "  isna=continuous_trn[col].isna()\n",
        "  if isna.sum()>0:\n",
        "    continuous_trn[col+'_isna']=isna.astype(int)\n",
        "    continuous_tst[col+'_isna']=continuous_tst[col].isna().astype(int)\n",
        "continuous_trn=continuous_trn.fillna(0)\n",
        "continuous_tst=continuous_tst.fillna(0)"
      ],
      "execution_count": 14,
      "outputs": []
    },
    {
      "cell_type": "markdown",
      "metadata": {
        "id": "gloxSjblyL9R",
        "colab_type": "text"
      },
      "source": [
        "Handling categorical data"
      ]
    },
    {
      "cell_type": "code",
      "metadata": {
        "id": "39hx7kZUMrCD",
        "colab_type": "code",
        "colab": {
          "base_uri": "https://localhost:8080/",
          "height": 36
        },
        "outputId": "532a6cf5-ae2f-4371-e1d8-b11af26d36e7"
      },
      "source": [
        "from sklearn.preprocessing import OneHotEncoder\n",
        "def handle_categorical(df_trn,df_tst,categorical,n_values):\n",
        "  all=[]\n",
        "  df_trn=df_trn[categorical]\n",
        "  df_tst=df_tst[categorical]\n",
        "  for col in categorical:\n",
        "    all.append(list(df_trn[col].value_counts().iloc[:n_values-1].index)+['Other'])\n",
        "    df_trn[col]=df_trn[col].map(lambda x:x if x in all[-1] else 'Other')\n",
        "    df_tst[col]=df_tst[col].map(lambda x:x if x in all[-1] else 'Other')\n",
        "  ohe=OneHotEncoder(categories=all)\n",
        "  ohe.fit(pd.concat([df_trn,df_tst]))\n",
        "  df_trn=pd.DataFrame(ohe.transform(df_trn).toarray()).astype(np.float16)\n",
        "  df_tst=pd.DataFrame(ohe.transform(df_tst).toarray()).astype(np.float16)\n",
        "  return df_trn,df_tst\n",
        "df_trn,df_tst=handle_categorical(trn,tst,categorical,50)\n",
        "df_trn.shape,df_tst.shape"
      ],
      "execution_count": 15,
      "outputs": [
        {
          "output_type": "execute_result",
          "data": {
            "text/plain": [
              "((590540, 444), (506691, 444))"
            ]
          },
          "metadata": {
            "tags": []
          },
          "execution_count": 15
        }
      ]
    },
    {
      "cell_type": "markdown",
      "metadata": {
        "id": "JaVRioYwPtcb",
        "colab_type": "text"
      },
      "source": [
        "Concatenating continuous and categorical"
      ]
    },
    {
      "cell_type": "code",
      "metadata": {
        "id": "54FObgPxwmHD",
        "colab_type": "code",
        "colab": {}
      },
      "source": [
        "trn=pd.concat([df_trn,continuous_trn],1)\n",
        "tst=pd.concat([df_tst,continuous_tst],1)"
      ],
      "execution_count": 16,
      "outputs": []
    },
    {
      "cell_type": "markdown",
      "metadata": {
        "id": "_c7bjtcuRKD5",
        "colab_type": "text"
      },
      "source": [
        "Columns created"
      ]
    },
    {
      "cell_type": "code",
      "metadata": {
        "id": "dZxYP9a7x7Q8",
        "colab_type": "code",
        "colab": {}
      },
      "source": [
        "trn['id']=id_trn\n",
        "tst['id']=id_tst\n",
        "trn['isFraud']=isFraud"
      ],
      "execution_count": 26,
      "outputs": []
    },
    {
      "cell_type": "code",
      "metadata": {
        "id": "gg8et5aPRJfA",
        "colab_type": "code",
        "colab": {}
      },
      "source": [
        "import warnings\n",
        "warnings.filterwarnings('ignore')\n",
        "\n",
        "\n",
        "tst.to_csv(F\"/content/gdrive/My Drive/fraud/test.csv\")\n",
        "trn.to_csv(F\"/content/gdrive/My Drive/fraud/train.csv\")"
      ],
      "execution_count": 27,
      "outputs": []
    }
  ]
}