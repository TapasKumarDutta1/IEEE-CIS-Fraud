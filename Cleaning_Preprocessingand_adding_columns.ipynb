{
  "nbformat": 4,
  "nbformat_minor": 0,
  "metadata": {
    "colab": {
      "name": "Cleaning_Preprocessingand adding columns.ipynb",
      "provenance": [],
      "machine_shape": "hm",
      "include_colab_link": true
    },
    "kernelspec": {
      "name": "python3",
      "display_name": "Python 3"
    }
  },
  "cells": [
    {
      "cell_type": "markdown",
      "metadata": {
        "id": "view-in-github",
        "colab_type": "text"
      },
      "source": [
        "<a href=\"https://colab.research.google.com/github/TapasKumarDutta1/IEEE-CIS-Fraud/blob/master/Cleaning_Preprocessingand_adding_columns.ipynb\" target=\"_parent\"><img src=\"https://colab.research.google.com/assets/colab-badge.svg\" alt=\"Open In Colab\"/></a>"
      ]
    },
    {
      "cell_type": "markdown",
      "metadata": {
        "id": "EAd-jYpbhqod"
      },
      "source": [
        "Getting data"
      ]
    },
    {
      "cell_type": "code",
      "metadata": {
        "id": "iio63rQJpTwo",
        "colab": {
          "base_uri": "https://localhost:8080/",
          "height": 129
        },
        "outputId": "2cec87f0-d256-4d71-a970-4f45246bd528"
      },
      "source": [
        "import os\n",
        "os.environ['KAGGLE_USERNAME'] = \"tapaskd123\" # username from the json file\n",
        "os.environ['KAGGLE_KEY'] = \"aba8dc1f085221111d925003fe5a88ed\" # key from the json file\n",
        "!kaggle competitions download -c ieee-fraud-detection"
      ],
      "execution_count": null,
      "outputs": [
        {
          "output_type": "stream",
          "text": [
            "Warning: Looks like you're using an outdated API Version, please consider updating (server 1.5.6 / client 1.5.4)\n",
            "test_transaction.csv.zip: Skipping, found more recently modified local copy (use --force to force download)\n",
            "train_identity.csv.zip: Skipping, found more recently modified local copy (use --force to force download)\n",
            "sample_submission.csv.zip: Skipping, found more recently modified local copy (use --force to force download)\n",
            "train_transaction.csv.zip: Skipping, found more recently modified local copy (use --force to force download)\n",
            "test_identity.csv.zip: Skipping, found more recently modified local copy (use --force to force download)\n"
          ],
          "name": "stdout"
        }
      ]
    },
    {
      "cell_type": "code",
      "metadata": {
        "id": "uLp-FegbHCEy"
      },
      "source": [
        "import warnings\n",
        "warnings.filterwarnings('ignore')"
      ],
      "execution_count": null,
      "outputs": []
    },
    {
      "cell_type": "markdown",
      "metadata": {
        "id": "g4o8Kitosplu"
      },
      "source": [
        "Loading drive"
      ]
    },
    {
      "cell_type": "code",
      "metadata": {
        "id": "eQqlrXIJej1l",
        "colab": {
          "base_uri": "https://localhost:8080/",
          "height": 149
        },
        "outputId": "56e2178b-334b-4db7-d7fb-6523ef705554"
      },
      "source": [
        "from google.colab import drive\n",
        "drive.mount('/content/gdrive')\n",
        "drive.mount(\"/content/gdrive\", force_remount=True)"
      ],
      "execution_count": null,
      "outputs": [
        {
          "output_type": "stream",
          "text": [
            "Go to this URL in a browser: https://accounts.google.com/o/oauth2/auth?client_id=947318989803-6bn6qk8qdgf4n4g3pfee6491hc0brc4i.apps.googleusercontent.com&redirect_uri=urn%3aietf%3awg%3aoauth%3a2.0%3aoob&response_type=code&scope=email%20https%3a%2f%2fwww.googleapis.com%2fauth%2fdocs.test%20https%3a%2f%2fwww.googleapis.com%2fauth%2fdrive%20https%3a%2f%2fwww.googleapis.com%2fauth%2fdrive.photos.readonly%20https%3a%2f%2fwww.googleapis.com%2fauth%2fpeopleapi.readonly\n",
            "\n",
            "Enter your authorization code:\n",
            "··········\n",
            "Mounted at /content/gdrive\n",
            "Mounted at /content/gdrive\n"
          ],
          "name": "stdout"
        }
      ]
    },
    {
      "cell_type": "code",
      "source": [
        "from tqdm import tqdm\n",
        "import pandas as pd\n",
        "import numpy as np"
      ],
      "metadata": {
        "id": "prEZ49_7eYON"
      },
      "execution_count": null,
      "outputs": []
    },
    {
      "cell_type": "markdown",
      "metadata": {
        "id": "Adbp3dS8srOW"
      },
      "source": [
        "Reading datasets"
      ]
    },
    {
      "cell_type": "code",
      "metadata": {
        "id": "_WXDyhihenRg"
      },
      "source": [
        "trn = pd.read_csv(\"train_transaction.csv.zip\")\n",
        "isFraud = trn[\"isFraud\"]\n",
        "trn = trn.drop([\"isFraud\"], 1)\n",
        "tst = pd.read_csv(\"test_transaction.csv.zip\")"
      ],
      "execution_count": null,
      "outputs": []
    },
    {
      "cell_type": "markdown",
      "metadata": {
        "id": "nLiZLu3Wssz5"
      },
      "source": [
        "Feature selection"
      ]
    },
    {
      "cell_type": "code",
      "metadata": {
        "id": "Mja2yCpAINM4"
      },
      "source": [
        "useful_cols = list(trn.iloc[:, :55])\n",
        "useful_cols.remove(\"TransactionID\")\n",
        "trn = trn[useful_cols]\n",
        "tst = tst[useful_cols]"
      ],
      "execution_count": null,
      "outputs": []
    },
    {
      "cell_type": "markdown",
      "metadata": {
        "id": "7Ji3GQS9G0LR"
      },
      "source": [
        "Creating unique id"
      ]
    },
    {
      "cell_type": "code",
      "metadata": {
        "id": "8gcZZoZ_G2XF"
      },
      "source": [
        "trn[\"day\"] = trn[\"TransactionDT\"] // 86400\n",
        "tst[\"day\"] = tst[\"TransactionDT\"] // 86400\n",
        "trn[\"id\"] = \"\"\n",
        "tst[\"id\"] = \"\"\n",
        "trn[\"d_1\"] = trn[\"day\"] - trn[\"D1\"]\n",
        "tst[\"d_1\"] = tst[\"day\"] - tst[\"D1\"]\n",
        "for col in [\"C1\", \"C13\", \"P_emaildomain\", \"addr1\", \"card1\", \"d_1\"]:\n",
        "    trn[\"id\"] += trn[col].astype(str)\n",
        "    tst[\"id\"] += tst[col].astype(str)\n",
        "id_trn = trn[\"id\"]\n",
        "id_tst = tst[\"id\"]"
      ],
      "execution_count": null,
      "outputs": []
    },
    {
      "cell_type": "markdown",
      "metadata": {
        "id": "3XXuMDeYGWuW"
      },
      "source": [
        "seperate columns in continuous and categorical"
      ]
    },
    {
      "cell_type": "code",
      "metadata": {
        "id": "Kp_n9G6mH0QG"
      },
      "source": [
        "categorical = [\n",
        "    \"ProductCD\",\n",
        "    \"card1\",\n",
        "    \"card2\",\n",
        "    \"card3\",\n",
        "    \"card4\",\n",
        "    \"card5\",\n",
        "    \"card6\",\n",
        "    \"addr1\",\n",
        "    \"addr2\",\n",
        "    \"P_emaildomain\",\n",
        "    \"R_emaildomain\",\n",
        "] + [\"M\" + str(i) for i in range(1, 10)]\n",
        "continuous = [i for i in useful_cols if i not in categorical]\n"
      ],
      "execution_count": null,
      "outputs": []
    },
    {
      "cell_type": "markdown",
      "metadata": {
        "id": "fO4xzVhmGTra"
      },
      "source": [
        "Preprocessing"
      ]
    },
    {
      "cell_type": "code",
      "metadata": {
        "id": "DX1lpuQrGVE7"
      },
      "source": [
        "class ContinuousConverter:\n",
        "    def __init__(self, name, log_transform, feature):\n",
        "        self.name = name\n",
        "        self.skew = feature.skew()\n",
        "        self.log_transform = log_transform\n",
        "\n",
        "    def transform(self, feature):\n",
        "        if self.skew > 1:\n",
        "            feature = self.log_transform(feature)\n",
        "        mean = feature.mean()\n",
        "        std = feature.std()\n",
        "        feature = (feature - mean) / (std + 1e-6)\n",
        "        return feature\n"
      ],
      "execution_count": null,
      "outputs": []
    },
    {
      "cell_type": "code",
      "metadata": {
        "id": "aHEa18NyJBBs",
        "colab": {
          "base_uri": "https://localhost:8080/",
          "height": 36
        },
        "outputId": "aa0ef769-b78d-4aa9-95ec-78c5260b2fc2"
      },
      "source": [
        "continuous_trn = []\n",
        "continuous_tst = []\n",
        "for col in tqdm(continuous):\n",
        "    log = lambda x: np.log10(x + (1 - min(0, min(x))))\n",
        "    converter = ContinuousConverter(col, log, trn[col])\n",
        "    continuous_trn.append(converter.transform(trn[col]).astype(np.float32))\n",
        "    continuous_tst.append(converter.transform(tst[col]).astype(np.float32))\n",
        "continuous_trn = pd.DataFrame(continuous_trn).T\n",
        "continuous_trn.columns = continuous\n",
        "continuous_tst = pd.DataFrame(continuous_tst).T\n",
        "continuous_tst.columns = continuous\n"
      ],
      "execution_count": null,
      "outputs": [
        {
          "output_type": "stream",
          "text": [
            "100%|██████████| 34/34 [00:04<00:00,  7.40it/s]\n"
          ],
          "name": "stderr"
        }
      ]
    },
    {
      "cell_type": "code",
      "metadata": {
        "id": "lF10rHW3P8Gz"
      },
      "source": [
        "continuous_trn[\"isna_sum\"] = continuous_trn.isna().sum(axis=1)\n",
        "continuous_tst[\"isna_sum\"] = continuous_tst.isna().sum(axis=1)\n",
        "mn = continuous_trn[\"isna_sum\"].mean()\n",
        "std = continuous_trn[\"isna_sum\"].std()\n",
        "continuous_trn[\"isna_sum\"] = (continuous_trn[\"isna_sum\"] - mn) / std\n",
        "mn = continuous_tst[\"isna_sum\"].mean()\n",
        "std = continuous_tst[\"isna_sum\"].std()\n",
        "continuous_tst[\"isna_sum\"] = (continuous_tst[\"isna_sum\"] - mn) / std"
      ],
      "execution_count": null,
      "outputs": []
    },
    {
      "cell_type": "code",
      "metadata": {
        "id": "bAm5VK2_LTuO"
      },
      "source": [
        "isna_cols = []\n",
        "for col in continuous:\n",
        "    isna = continuous_trn[col].isna()\n",
        "    if isna.sum() > 0:\n",
        "        continuous_trn[col + \"_isna\"] = isna.astype(int)\n",
        "        continuous_tst[col + \"_isna\"] = continuous_tst[col].isna().astype(int)\n",
        "continuous_trn = continuous_trn.fillna(0)\n",
        "continuous_tst = continuous_tst.fillna(0)"
      ],
      "execution_count": null,
      "outputs": []
    },
    {
      "cell_type": "markdown",
      "metadata": {
        "id": "gloxSjblyL9R"
      },
      "source": [
        "Handling categorical data"
      ]
    },
    {
      "cell_type": "code",
      "metadata": {
        "id": "39hx7kZUMrCD",
        "colab": {
          "base_uri": "https://localhost:8080/",
          "height": 36
        },
        "outputId": "532a6cf5-ae2f-4371-e1d8-b11af26d36e7"
      },
      "source": [
        "from sklearn.preprocessing import OneHotEncoder\n",
        "\n",
        "\n",
        "def handle_categorical(df_trn, df_tst, categorical, n_values):\n",
        "    all = []\n",
        "    df_trn = df_trn[categorical]\n",
        "    df_tst = df_tst[categorical]\n",
        "    for col in categorical:\n",
        "        all.append(\n",
        "            list(df_trn[col].value_counts().iloc[: n_values - 1].index) + [\"Other\"]\n",
        "        )\n",
        "        df_trn[col] = df_trn[col].map(lambda x: x if x in all[-1] else \"Other\")\n",
        "        df_tst[col] = df_tst[col].map(lambda x: x if x in all[-1] else \"Other\")\n",
        "    ohe = OneHotEncoder(categories=all)\n",
        "    ohe.fit(pd.concat([df_trn, df_tst]))\n",
        "    df_trn = pd.DataFrame(ohe.transform(df_trn).toarray()).astype(np.float16)\n",
        "    df_tst = pd.DataFrame(ohe.transform(df_tst).toarray()).astype(np.float16)\n",
        "    return df_trn, df_tst\n",
        "\n",
        "\n",
        "df_trn, df_tst = handle_categorical(trn, tst, categorical, 50)\n",
        "df_trn.shape, df_tst.shape"
      ],
      "execution_count": null,
      "outputs": [
        {
          "output_type": "execute_result",
          "data": {
            "text/plain": [
              "((590540, 444), (506691, 444))"
            ]
          },
          "metadata": {
            "tags": []
          },
          "execution_count": 15
        }
      ]
    },
    {
      "cell_type": "markdown",
      "metadata": {
        "id": "JaVRioYwPtcb"
      },
      "source": [
        "Concatenating continuous and categorical"
      ]
    },
    {
      "cell_type": "code",
      "metadata": {
        "id": "54FObgPxwmHD"
      },
      "source": [
        "trn = pd.concat([df_trn, continuous_trn], 1)\n",
        "tst = pd.concat([df_tst, continuous_tst], 1)"
      ],
      "execution_count": null,
      "outputs": []
    },
    {
      "cell_type": "markdown",
      "metadata": {
        "id": "_c7bjtcuRKD5"
      },
      "source": [
        "Columns created"
      ]
    },
    {
      "cell_type": "code",
      "metadata": {
        "id": "dZxYP9a7x7Q8"
      },
      "source": [
        "trn[\"id\"] = id_trn\n",
        "tst[\"id\"] = id_tst\n",
        "trn[\"isFraud\"] = isFraud\n",
        "tst.to_csv(f\"/content/gdrive/My Drive/fraud/test.csv\")\n",
        "trn.to_csv(f\"/content/gdrive/My Drive/fraud/train.csv\")"
      ],
      "execution_count": null,
      "outputs": []
    }
  ]
}