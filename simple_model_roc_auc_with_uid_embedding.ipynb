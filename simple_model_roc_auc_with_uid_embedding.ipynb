{
  "nbformat": 4,
  "nbformat_minor": 0,
  "metadata": {
    "colab": {
      "name": "simple_model_roc_auc_with_uid_embedding",
      "provenance": [],
      "machine_shape": "hm",
      "include_colab_link": true
    },
    "kernelspec": {
      "name": "python3",
      "display_name": "Python 3"
    },
    "accelerator": "GPU"
  },
  "cells": [
    {
      "cell_type": "markdown",
      "metadata": {
        "id": "view-in-github",
        "colab_type": "text"
      },
      "source": [
        "<a href=\"https://colab.research.google.com/github/greyhound101/IEEE-CIS-Fraud/blob/master/simple_model_roc_auc_with_uid_embedding.ipynb\" target=\"_parent\"><img src=\"https://colab.research.google.com/assets/colab-badge.svg\" alt=\"Open In Colab\"/></a>"
      ]
    },
    {
      "cell_type": "markdown",
      "metadata": {
        "id": "BIAeHxBw8EEt"
      },
      "source": [
        "Loading libraries"
      ]
    },
    {
      "cell_type": "code",
      "metadata": {
        "id": "qstQrkXM8Bz9"
      },
      "source": [
        "import pandas as pd\n",
        "from tensorflow.keras.layers import *\n",
        "import tensorflow as tf\n",
        "import random, os, sys\n",
        "import numpy as np\n",
        "from tensorflow.keras.models import *\n",
        "from tensorflow.keras.layers import *\n",
        "from tensorflow.keras.callbacks import *\n",
        "from tensorflow.keras.initializers import *\n",
        "import tensorflow as tf\n",
        "from google.colab import drive\n",
        "import os\n",
        "from sklearn.preprocessing import LabelEncoder\n",
        "import numpy as np\n",
        "from tqdm import tqdm\n",
        "from sklearn.model_selection import KFold\n",
        "from sklearn.preprocessing import StandardScaler\n",
        "from keras.layers import *\n",
        "from keras.optimizers import *\n",
        "from keras.models import *\n",
        "from keras import backend as K\n",
        "from tensorflow.keras.models import *\n",
        "import tensorflow.keras.backend as K\n",
        "from tensorflow.keras.layers import *\n",
        "from sklearn.metrics import roc_auc_score\n",
        "from keras.callbacks import Callback\n",
        "import gc"
      ],
      "execution_count": 1,
      "outputs": []
    },
    {
      "cell_type": "code",
      "metadata": {
        "id": "IonOu6819IW-",
        "colab": {
          "base_uri": "https://localhost:8080/"
        },
        "outputId": "10a7caa9-369c-4ce9-dcc7-abfd7d669066"
      },
      "source": [
        "\n",
        "os.environ['KAGGLE_USERNAME'] = \"tapaskd123\" # username from the json file\n",
        "os.environ['KAGGLE_KEY'] = \"aba8dc1f085221111d925003fe5a88ed\" # key from the json file\n",
        "!kaggle competitions download -c ieee-fraud-detection"
      ],
      "execution_count": 2,
      "outputs": [
        {
          "output_type": "stream",
          "text": [
            "Warning: Looks like you're using an outdated API Version, please consider updating (server 1.5.10 / client 1.5.4)\n",
            "Downloading test_identity.csv.zip to /content\n",
            "  0% 0.00/3.21M [00:00<?, ?B/s]\n",
            "100% 3.21M/3.21M [00:00<00:00, 108MB/s]\n",
            "Downloading train_transaction.csv.zip to /content\n",
            " 91% 53.0M/58.3M [00:00<00:00, 45.2MB/s]\n",
            "100% 58.3M/58.3M [00:00<00:00, 63.4MB/s]\n",
            "Downloading sample_submission.csv.zip to /content\n",
            "  0% 0.00/1.14M [00:00<?, ?B/s]\n",
            "100% 1.14M/1.14M [00:00<00:00, 77.5MB/s]\n",
            "Downloading train_identity.csv.zip to /content\n",
            "  0% 0.00/3.26M [00:00<?, ?B/s]\n",
            "100% 3.26M/3.26M [00:00<00:00, 109MB/s]\n",
            "Downloading test_transaction.csv.zip to /content\n",
            "100% 52.0M/52.2M [00:00<00:00, 69.0MB/s]\n",
            "100% 52.2M/52.2M [00:00<00:00, 88.9MB/s]\n"
          ],
          "name": "stdout"
        }
      ]
    },
    {
      "cell_type": "markdown",
      "metadata": {
        "id": "cvhOLFro71iv"
      },
      "source": [
        "loading drive"
      ]
    },
    {
      "cell_type": "code",
      "metadata": {
        "id": "eQqlrXIJej1l",
        "colab": {
          "base_uri": "https://localhost:8080/"
        },
        "outputId": "2ca8a086-b12a-42e7-fff4-639443df73fa"
      },
      "source": [
        "drive.mount('/content/gdrive')\n",
        "drive.mount(\"/content/gdrive\", force_remount=True)"
      ],
      "execution_count": 3,
      "outputs": [
        {
          "output_type": "stream",
          "text": [
            "Mounted at /content/gdrive\n",
            "Mounted at /content/gdrive\n"
          ],
          "name": "stdout"
        }
      ]
    },
    {
      "cell_type": "markdown",
      "metadata": {
        "id": "mZi5I0Va7-Af"
      },
      "source": [
        "Loading dataframes"
      ]
    },
    {
      "cell_type": "code",
      "metadata": {
        "id": "fOdrn2Pp_jKN"
      },
      "source": [
        "trn=pd.read_csv('/content/gdrive/My Drive/fraud/train_id.csv',index_col=[0],nrows=10)"
      ],
      "execution_count": 4,
      "outputs": []
    },
    {
      "cell_type": "code",
      "metadata": {
        "id": "OauHZNZMerDG",
        "colab": {
          "base_uri": "https://localhost:8080/",
          "height": 256
        },
        "outputId": "8e7c07c0-e2af-4bfa-a2a7-78ac16348069"
      },
      "source": [
        "trn=pd.read_csv('/content/gdrive/My Drive/fraud/train_id.csv',index_col=[0])\n",
        "tst=pd.read_csv('/content/gdrive/My Drive/fraud/test_id.csv',index_col=[0])\n",
        "trn.head()"
      ],
      "execution_count": 6,
      "outputs": [
        {
          "output_type": "execute_result",
          "data": {
            "text/html": [
              "<div>\n",
              "<style scoped>\n",
              "    .dataframe tbody tr th:only-of-type {\n",
              "        vertical-align: middle;\n",
              "    }\n",
              "\n",
              "    .dataframe tbody tr th {\n",
              "        vertical-align: top;\n",
              "    }\n",
              "\n",
              "    .dataframe thead th {\n",
              "        text-align: right;\n",
              "    }\n",
              "</style>\n",
              "<table border=\"1\" class=\"dataframe\">\n",
              "  <thead>\n",
              "    <tr style=\"text-align: right;\">\n",
              "      <th></th>\n",
              "      <th>0</th>\n",
              "      <th>1</th>\n",
              "      <th>2</th>\n",
              "      <th>3</th>\n",
              "      <th>4</th>\n",
              "      <th>5</th>\n",
              "      <th>6</th>\n",
              "      <th>7</th>\n",
              "      <th>8</th>\n",
              "      <th>9</th>\n",
              "      <th>10</th>\n",
              "      <th>11</th>\n",
              "      <th>12</th>\n",
              "      <th>13</th>\n",
              "      <th>14</th>\n",
              "      <th>15</th>\n",
              "      <th>16</th>\n",
              "      <th>17</th>\n",
              "      <th>18</th>\n",
              "      <th>19</th>\n",
              "      <th>20</th>\n",
              "      <th>21</th>\n",
              "      <th>22</th>\n",
              "      <th>23</th>\n",
              "      <th>24</th>\n",
              "      <th>25</th>\n",
              "      <th>26</th>\n",
              "      <th>27</th>\n",
              "      <th>28</th>\n",
              "      <th>29</th>\n",
              "      <th>30</th>\n",
              "      <th>31</th>\n",
              "      <th>32</th>\n",
              "      <th>33</th>\n",
              "      <th>34</th>\n",
              "      <th>35</th>\n",
              "      <th>36</th>\n",
              "      <th>37</th>\n",
              "      <th>38</th>\n",
              "      <th>39</th>\n",
              "      <th>...</th>\n",
              "      <th>C9_std_isna</th>\n",
              "      <th>C10_std_isna</th>\n",
              "      <th>C11_std_isna</th>\n",
              "      <th>C12_std_isna</th>\n",
              "      <th>C13_std_isna</th>\n",
              "      <th>C14_std_isna</th>\n",
              "      <th>D1_mean_isna</th>\n",
              "      <th>D1_std_isna</th>\n",
              "      <th>D2_mean_isna</th>\n",
              "      <th>D2_std_isna</th>\n",
              "      <th>D3_mean_isna</th>\n",
              "      <th>D3_std_isna</th>\n",
              "      <th>D4_mean_isna</th>\n",
              "      <th>D4_std_isna</th>\n",
              "      <th>D5_mean_isna</th>\n",
              "      <th>D5_std_isna</th>\n",
              "      <th>D6_mean_isna</th>\n",
              "      <th>D6_std_isna</th>\n",
              "      <th>D7_mean_isna</th>\n",
              "      <th>D7_std_isna</th>\n",
              "      <th>D8_mean_isna</th>\n",
              "      <th>D8_std_isna</th>\n",
              "      <th>D9_mean_isna</th>\n",
              "      <th>D9_std_isna</th>\n",
              "      <th>D10_mean_isna</th>\n",
              "      <th>D10_std_isna</th>\n",
              "      <th>D11_mean_isna</th>\n",
              "      <th>D11_std_isna</th>\n",
              "      <th>D12_mean_isna</th>\n",
              "      <th>D12_std_isna</th>\n",
              "      <th>D13_mean_isna</th>\n",
              "      <th>D13_std_isna</th>\n",
              "      <th>D14_mean_isna</th>\n",
              "      <th>D14_std_isna</th>\n",
              "      <th>D15_mean_isna</th>\n",
              "      <th>D15_std_isna</th>\n",
              "      <th>V1_mean_isna</th>\n",
              "      <th>V1_std_isna</th>\n",
              "      <th>isFraud</th>\n",
              "      <th>id</th>\n",
              "    </tr>\n",
              "  </thead>\n",
              "  <tbody>\n",
              "    <tr>\n",
              "      <th>0</th>\n",
              "      <td>1.0</td>\n",
              "      <td>0.0</td>\n",
              "      <td>0.0</td>\n",
              "      <td>0.0</td>\n",
              "      <td>0.0</td>\n",
              "      <td>0.0</td>\n",
              "      <td>0.0</td>\n",
              "      <td>0.0</td>\n",
              "      <td>0.0</td>\n",
              "      <td>0.0</td>\n",
              "      <td>0.0</td>\n",
              "      <td>0.0</td>\n",
              "      <td>0.0</td>\n",
              "      <td>0.0</td>\n",
              "      <td>0.0</td>\n",
              "      <td>0.0</td>\n",
              "      <td>0.0</td>\n",
              "      <td>0.0</td>\n",
              "      <td>0.0</td>\n",
              "      <td>0.0</td>\n",
              "      <td>0.0</td>\n",
              "      <td>0.0</td>\n",
              "      <td>0.0</td>\n",
              "      <td>0.0</td>\n",
              "      <td>0.0</td>\n",
              "      <td>0.0</td>\n",
              "      <td>0.0</td>\n",
              "      <td>0.0</td>\n",
              "      <td>0.0</td>\n",
              "      <td>0.0</td>\n",
              "      <td>0.0</td>\n",
              "      <td>0.0</td>\n",
              "      <td>0.0</td>\n",
              "      <td>0.0</td>\n",
              "      <td>0.0</td>\n",
              "      <td>0.0</td>\n",
              "      <td>0.0</td>\n",
              "      <td>0.0</td>\n",
              "      <td>0.0</td>\n",
              "      <td>0.0</td>\n",
              "      <td>...</td>\n",
              "      <td>1</td>\n",
              "      <td>1</td>\n",
              "      <td>1</td>\n",
              "      <td>1</td>\n",
              "      <td>1</td>\n",
              "      <td>1</td>\n",
              "      <td>0</td>\n",
              "      <td>1</td>\n",
              "      <td>1</td>\n",
              "      <td>1</td>\n",
              "      <td>0</td>\n",
              "      <td>1</td>\n",
              "      <td>1</td>\n",
              "      <td>1</td>\n",
              "      <td>1</td>\n",
              "      <td>1</td>\n",
              "      <td>1</td>\n",
              "      <td>1</td>\n",
              "      <td>1</td>\n",
              "      <td>1</td>\n",
              "      <td>1</td>\n",
              "      <td>1</td>\n",
              "      <td>1</td>\n",
              "      <td>1</td>\n",
              "      <td>0</td>\n",
              "      <td>1</td>\n",
              "      <td>0</td>\n",
              "      <td>1</td>\n",
              "      <td>1</td>\n",
              "      <td>1</td>\n",
              "      <td>1</td>\n",
              "      <td>1</td>\n",
              "      <td>1</td>\n",
              "      <td>1</td>\n",
              "      <td>0</td>\n",
              "      <td>1</td>\n",
              "      <td>0</td>\n",
              "      <td>1</td>\n",
              "      <td>0</td>\n",
              "      <td>Wnan315.013926-13.0</td>\n",
              "    </tr>\n",
              "    <tr>\n",
              "      <th>1</th>\n",
              "      <td>1.0</td>\n",
              "      <td>0.0</td>\n",
              "      <td>0.0</td>\n",
              "      <td>0.0</td>\n",
              "      <td>0.0</td>\n",
              "      <td>0.0</td>\n",
              "      <td>0.0</td>\n",
              "      <td>0.0</td>\n",
              "      <td>0.0</td>\n",
              "      <td>0.0</td>\n",
              "      <td>0.0</td>\n",
              "      <td>0.0</td>\n",
              "      <td>0.0</td>\n",
              "      <td>0.0</td>\n",
              "      <td>0.0</td>\n",
              "      <td>0.0</td>\n",
              "      <td>0.0</td>\n",
              "      <td>0.0</td>\n",
              "      <td>0.0</td>\n",
              "      <td>0.0</td>\n",
              "      <td>0.0</td>\n",
              "      <td>0.0</td>\n",
              "      <td>0.0</td>\n",
              "      <td>0.0</td>\n",
              "      <td>0.0</td>\n",
              "      <td>0.0</td>\n",
              "      <td>0.0</td>\n",
              "      <td>0.0</td>\n",
              "      <td>0.0</td>\n",
              "      <td>0.0</td>\n",
              "      <td>0.0</td>\n",
              "      <td>0.0</td>\n",
              "      <td>0.0</td>\n",
              "      <td>0.0</td>\n",
              "      <td>0.0</td>\n",
              "      <td>0.0</td>\n",
              "      <td>0.0</td>\n",
              "      <td>0.0</td>\n",
              "      <td>0.0</td>\n",
              "      <td>0.0</td>\n",
              "      <td>...</td>\n",
              "      <td>1</td>\n",
              "      <td>1</td>\n",
              "      <td>1</td>\n",
              "      <td>1</td>\n",
              "      <td>1</td>\n",
              "      <td>1</td>\n",
              "      <td>0</td>\n",
              "      <td>1</td>\n",
              "      <td>1</td>\n",
              "      <td>1</td>\n",
              "      <td>1</td>\n",
              "      <td>1</td>\n",
              "      <td>0</td>\n",
              "      <td>1</td>\n",
              "      <td>1</td>\n",
              "      <td>1</td>\n",
              "      <td>1</td>\n",
              "      <td>1</td>\n",
              "      <td>1</td>\n",
              "      <td>1</td>\n",
              "      <td>1</td>\n",
              "      <td>1</td>\n",
              "      <td>1</td>\n",
              "      <td>1</td>\n",
              "      <td>0</td>\n",
              "      <td>1</td>\n",
              "      <td>1</td>\n",
              "      <td>1</td>\n",
              "      <td>1</td>\n",
              "      <td>1</td>\n",
              "      <td>1</td>\n",
              "      <td>1</td>\n",
              "      <td>1</td>\n",
              "      <td>1</td>\n",
              "      <td>0</td>\n",
              "      <td>1</td>\n",
              "      <td>1</td>\n",
              "      <td>1</td>\n",
              "      <td>0</td>\n",
              "      <td>Wgmail.com325.027551.0</td>\n",
              "    </tr>\n",
              "    <tr>\n",
              "      <th>2</th>\n",
              "      <td>1.0</td>\n",
              "      <td>0.0</td>\n",
              "      <td>0.0</td>\n",
              "      <td>0.0</td>\n",
              "      <td>0.0</td>\n",
              "      <td>0.0</td>\n",
              "      <td>0.0</td>\n",
              "      <td>0.0</td>\n",
              "      <td>0.0</td>\n",
              "      <td>0.0</td>\n",
              "      <td>0.0</td>\n",
              "      <td>0.0</td>\n",
              "      <td>0.0</td>\n",
              "      <td>0.0</td>\n",
              "      <td>0.0</td>\n",
              "      <td>0.0</td>\n",
              "      <td>0.0</td>\n",
              "      <td>0.0</td>\n",
              "      <td>0.0</td>\n",
              "      <td>0.0</td>\n",
              "      <td>0.0</td>\n",
              "      <td>0.0</td>\n",
              "      <td>0.0</td>\n",
              "      <td>0.0</td>\n",
              "      <td>0.0</td>\n",
              "      <td>0.0</td>\n",
              "      <td>0.0</td>\n",
              "      <td>0.0</td>\n",
              "      <td>0.0</td>\n",
              "      <td>0.0</td>\n",
              "      <td>0.0</td>\n",
              "      <td>0.0</td>\n",
              "      <td>0.0</td>\n",
              "      <td>0.0</td>\n",
              "      <td>0.0</td>\n",
              "      <td>0.0</td>\n",
              "      <td>0.0</td>\n",
              "      <td>0.0</td>\n",
              "      <td>0.0</td>\n",
              "      <td>0.0</td>\n",
              "      <td>...</td>\n",
              "      <td>0</td>\n",
              "      <td>0</td>\n",
              "      <td>0</td>\n",
              "      <td>0</td>\n",
              "      <td>0</td>\n",
              "      <td>0</td>\n",
              "      <td>0</td>\n",
              "      <td>0</td>\n",
              "      <td>0</td>\n",
              "      <td>0</td>\n",
              "      <td>0</td>\n",
              "      <td>0</td>\n",
              "      <td>0</td>\n",
              "      <td>0</td>\n",
              "      <td>0</td>\n",
              "      <td>0</td>\n",
              "      <td>1</td>\n",
              "      <td>1</td>\n",
              "      <td>1</td>\n",
              "      <td>1</td>\n",
              "      <td>1</td>\n",
              "      <td>1</td>\n",
              "      <td>1</td>\n",
              "      <td>1</td>\n",
              "      <td>0</td>\n",
              "      <td>0</td>\n",
              "      <td>0</td>\n",
              "      <td>0</td>\n",
              "      <td>1</td>\n",
              "      <td>1</td>\n",
              "      <td>1</td>\n",
              "      <td>1</td>\n",
              "      <td>1</td>\n",
              "      <td>1</td>\n",
              "      <td>0</td>\n",
              "      <td>0</td>\n",
              "      <td>0</td>\n",
              "      <td>0</td>\n",
              "      <td>0</td>\n",
              "      <td>Woutlook.com330.046631.0</td>\n",
              "    </tr>\n",
              "    <tr>\n",
              "      <th>3</th>\n",
              "      <td>1.0</td>\n",
              "      <td>0.0</td>\n",
              "      <td>0.0</td>\n",
              "      <td>0.0</td>\n",
              "      <td>0.0</td>\n",
              "      <td>0.0</td>\n",
              "      <td>0.0</td>\n",
              "      <td>0.0</td>\n",
              "      <td>0.0</td>\n",
              "      <td>0.0</td>\n",
              "      <td>0.0</td>\n",
              "      <td>0.0</td>\n",
              "      <td>0.0</td>\n",
              "      <td>0.0</td>\n",
              "      <td>0.0</td>\n",
              "      <td>0.0</td>\n",
              "      <td>0.0</td>\n",
              "      <td>0.0</td>\n",
              "      <td>0.0</td>\n",
              "      <td>0.0</td>\n",
              "      <td>1.0</td>\n",
              "      <td>0.0</td>\n",
              "      <td>0.0</td>\n",
              "      <td>0.0</td>\n",
              "      <td>0.0</td>\n",
              "      <td>0.0</td>\n",
              "      <td>0.0</td>\n",
              "      <td>0.0</td>\n",
              "      <td>0.0</td>\n",
              "      <td>0.0</td>\n",
              "      <td>0.0</td>\n",
              "      <td>0.0</td>\n",
              "      <td>0.0</td>\n",
              "      <td>0.0</td>\n",
              "      <td>0.0</td>\n",
              "      <td>0.0</td>\n",
              "      <td>0.0</td>\n",
              "      <td>0.0</td>\n",
              "      <td>0.0</td>\n",
              "      <td>0.0</td>\n",
              "      <td>...</td>\n",
              "      <td>0</td>\n",
              "      <td>0</td>\n",
              "      <td>0</td>\n",
              "      <td>0</td>\n",
              "      <td>0</td>\n",
              "      <td>0</td>\n",
              "      <td>0</td>\n",
              "      <td>0</td>\n",
              "      <td>0</td>\n",
              "      <td>0</td>\n",
              "      <td>0</td>\n",
              "      <td>0</td>\n",
              "      <td>0</td>\n",
              "      <td>0</td>\n",
              "      <td>0</td>\n",
              "      <td>0</td>\n",
              "      <td>1</td>\n",
              "      <td>1</td>\n",
              "      <td>1</td>\n",
              "      <td>1</td>\n",
              "      <td>1</td>\n",
              "      <td>1</td>\n",
              "      <td>1</td>\n",
              "      <td>1</td>\n",
              "      <td>0</td>\n",
              "      <td>0</td>\n",
              "      <td>1</td>\n",
              "      <td>1</td>\n",
              "      <td>1</td>\n",
              "      <td>1</td>\n",
              "      <td>1</td>\n",
              "      <td>1</td>\n",
              "      <td>1</td>\n",
              "      <td>1</td>\n",
              "      <td>0</td>\n",
              "      <td>0</td>\n",
              "      <td>1</td>\n",
              "      <td>1</td>\n",
              "      <td>0</td>\n",
              "      <td>Wyahoo.com476.018132-111.0</td>\n",
              "    </tr>\n",
              "    <tr>\n",
              "      <th>4</th>\n",
              "      <td>0.0</td>\n",
              "      <td>0.0</td>\n",
              "      <td>0.0</td>\n",
              "      <td>1.0</td>\n",
              "      <td>0.0</td>\n",
              "      <td>0.0</td>\n",
              "      <td>0.0</td>\n",
              "      <td>0.0</td>\n",
              "      <td>0.0</td>\n",
              "      <td>0.0</td>\n",
              "      <td>0.0</td>\n",
              "      <td>0.0</td>\n",
              "      <td>0.0</td>\n",
              "      <td>0.0</td>\n",
              "      <td>0.0</td>\n",
              "      <td>0.0</td>\n",
              "      <td>0.0</td>\n",
              "      <td>0.0</td>\n",
              "      <td>0.0</td>\n",
              "      <td>0.0</td>\n",
              "      <td>0.0</td>\n",
              "      <td>0.0</td>\n",
              "      <td>0.0</td>\n",
              "      <td>0.0</td>\n",
              "      <td>0.0</td>\n",
              "      <td>0.0</td>\n",
              "      <td>0.0</td>\n",
              "      <td>0.0</td>\n",
              "      <td>0.0</td>\n",
              "      <td>0.0</td>\n",
              "      <td>0.0</td>\n",
              "      <td>0.0</td>\n",
              "      <td>0.0</td>\n",
              "      <td>0.0</td>\n",
              "      <td>0.0</td>\n",
              "      <td>0.0</td>\n",
              "      <td>0.0</td>\n",
              "      <td>0.0</td>\n",
              "      <td>0.0</td>\n",
              "      <td>0.0</td>\n",
              "      <td>...</td>\n",
              "      <td>1</td>\n",
              "      <td>1</td>\n",
              "      <td>1</td>\n",
              "      <td>1</td>\n",
              "      <td>1</td>\n",
              "      <td>1</td>\n",
              "      <td>0</td>\n",
              "      <td>1</td>\n",
              "      <td>1</td>\n",
              "      <td>1</td>\n",
              "      <td>1</td>\n",
              "      <td>1</td>\n",
              "      <td>1</td>\n",
              "      <td>1</td>\n",
              "      <td>1</td>\n",
              "      <td>1</td>\n",
              "      <td>1</td>\n",
              "      <td>1</td>\n",
              "      <td>1</td>\n",
              "      <td>1</td>\n",
              "      <td>1</td>\n",
              "      <td>1</td>\n",
              "      <td>1</td>\n",
              "      <td>1</td>\n",
              "      <td>1</td>\n",
              "      <td>1</td>\n",
              "      <td>1</td>\n",
              "      <td>1</td>\n",
              "      <td>1</td>\n",
              "      <td>1</td>\n",
              "      <td>1</td>\n",
              "      <td>1</td>\n",
              "      <td>1</td>\n",
              "      <td>1</td>\n",
              "      <td>1</td>\n",
              "      <td>1</td>\n",
              "      <td>1</td>\n",
              "      <td>1</td>\n",
              "      <td>0</td>\n",
              "      <td>Hgmail.com420.044971.0</td>\n",
              "    </tr>\n",
              "  </tbody>\n",
              "</table>\n",
              "<p>5 rows × 619 columns</p>\n",
              "</div>"
            ],
            "text/plain": [
              "     0    1    2  ...  V1_std_isna  isFraud                          id\n",
              "0  1.0  0.0  0.0  ...            1        0         Wnan315.013926-13.0\n",
              "1  1.0  0.0  0.0  ...            1        0      Wgmail.com325.027551.0\n",
              "2  1.0  0.0  0.0  ...            0        0    Woutlook.com330.046631.0\n",
              "3  1.0  0.0  0.0  ...            1        0  Wyahoo.com476.018132-111.0\n",
              "4  0.0  0.0  0.0  ...            1        0      Hgmail.com420.044971.0\n",
              "\n",
              "[5 rows x 619 columns]"
            ]
          },
          "metadata": {
            "tags": []
          },
          "execution_count": 6
        }
      ]
    },
    {
      "cell_type": "markdown",
      "metadata": {
        "id": "1LEIUFVW8iAC"
      },
      "source": [
        "Reduce memory useage"
      ]
    },
    {
      "cell_type": "code",
      "metadata": {
        "id": "ES4W36q1Kz7Y",
        "colab": {
          "base_uri": "https://localhost:8080/"
        },
        "outputId": "838c2be8-e2b8-41da-9ea0-d05528c86817"
      },
      "source": [
        "def reduce_mem_usage(df):\n",
        "    \"\"\" iterate through all the columns of a dataframe and modify the data type\n",
        "        to reduce memory usage.        \n",
        "    \"\"\"\n",
        "    start_mem = df.memory_usage().sum() / 1024**2\n",
        "    print('Memory usage of dataframe is {:.2f} MB'.format(start_mem))\n",
        "    \n",
        "    for col in df.columns:\n",
        "        col_type = df[col].dtype\n",
        "        \n",
        "        if col_type != object:\n",
        "            c_min = df[col].min()\n",
        "            c_max = df[col].max()\n",
        "            if str(col_type)[:3] == 'int':\n",
        "                if c_min > np.iinfo(np.int8).min and c_max < np.iinfo(np.int8).max:\n",
        "                    df[col] = df[col].astype(np.int8)\n",
        "                elif c_min > np.iinfo(np.int16).min and c_max < np.iinfo(np.int16).max:\n",
        "                    df[col] = df[col].astype(np.int16)\n",
        "                elif c_min > np.iinfo(np.int32).min and c_max < np.iinfo(np.int32).max:\n",
        "                    df[col] = df[col].astype(np.int32)\n",
        "                elif c_min > np.iinfo(np.int64).min and c_max < np.iinfo(np.int64).max:\n",
        "                    df[col] = df[col].astype(np.int64)  \n",
        "            else:\n",
        "                if c_min > np.finfo(np.float16).min and c_max < np.finfo(np.float16).max:\n",
        "                    df[col] = df[col].astype(np.float16)\n",
        "                elif c_min > np.finfo(np.float32).min and c_max < np.finfo(np.float32).max:\n",
        "                    df[col] = df[col].astype(np.float32)\n",
        "                else:\n",
        "                    df[col] = df[col].astype(np.float64)\n",
        "        else:\n",
        "            df[col] = df[col].astype('category')\n",
        "\n",
        "    end_mem = df.memory_usage().sum() / 1024**2\n",
        "    print('Memory usage after optimization is: {:.2f} MB'.format(end_mem))\n",
        "    print('Decreased by {:.1f}%'.format(100 * (start_mem - end_mem) / start_mem))\n",
        "    \n",
        "    return df\n",
        "trn=reduce_mem_usage(trn)\n",
        "tst=reduce_mem_usage(tst)"
      ],
      "execution_count": 7,
      "outputs": [
        {
          "output_type": "stream",
          "text": [
            "Memory usage of dataframe is 2793.39 MB\n",
            "Memory usage after optimization is: 678.37 MB\n",
            "Decreased by 75.7%\n",
            "Memory usage of dataframe is 2392.90 MB\n",
            "Memory usage after optimization is: 580.09 MB\n",
            "Decreased by 75.8%\n"
          ],
          "name": "stdout"
        }
      ]
    },
    {
      "cell_type": "code",
      "metadata": {
        "id": "mZjn9ePhArDJ"
      },
      "source": [
        "trn=trn.replace([np.inf,-np.inf],np.nan)\n",
        "tst=tst.replace([np.inf,-np.inf],np.nan)\n",
        "a=trn.isna().sum()\n",
        "ls=a[a>0].index\n",
        "for col in ls:\n",
        "  trn[col]=trn[col].fillna(trn[col].mean())\n",
        "  tst[col]=tst[col].fillna(tst[col].mean())\n",
        "a=trn.isna().sum()\n",
        "ls=a[a>0].index\n",
        "for col in ls:\n",
        "  trn[col]=trn[col].fillna(0)\n",
        "  tst[col]=tst[col].fillna(0)\n",
        "a=tst.isna().sum()\n",
        "ls=a[a>0].index\n",
        "for col in ls:\n",
        "  trn[col]=trn[col].fillna(trn[col].mean())\n",
        "  tst[col]=tst[col].fillna(tst[col].mean())\n",
        "a=tst.isna().sum()\n",
        "ls=a[a>0].index\n",
        "for col in ls:\n",
        "  trn[col]=trn[col].fillna(0)\n",
        "  tst[col]=tst[col].fillna(0)"
      ],
      "execution_count": 8,
      "outputs": []
    },
    {
      "cell_type": "markdown",
      "metadata": {
        "id": "BRqrD6vz8ol6"
      },
      "source": [
        "Making the callbacks and loading model"
      ]
    },
    {
      "cell_type": "code",
      "metadata": {
        "id": "glVzhwjpjEsW"
      },
      "source": [
        "dk={}\n",
        "class RocCallback(Callback):\n",
        "    def __init__(self,validation_data,epochs):\n",
        "        self.x_val = validation_data[0]\n",
        "        self.y_val = validation_data[1]\n",
        "        self.ep=0\n",
        "        self.epochs=epochs\n",
        "        self.val=0\n",
        "        self.wts=[]\n",
        "\n",
        "    def on_train_begin(self, logs={}):\n",
        "        return\n",
        "\n",
        "    def on_train_end(self, logs={}):\n",
        "        return\n",
        "\n",
        "    def on_epoch_begin(self, epoch, logs={}):\n",
        "        return\n",
        "\n",
        "    def on_epoch_end(self, epoch, logs={}):\n",
        "        self.ep+=1\n",
        "        y_pred_val = self.model.predict(self.x_val)\n",
        "        roc_val = roc_auc_score(self.y_val, y_pred_val)\n",
        "        if roc_val>self.val:\n",
        "          self.val=roc_val\n",
        "          self.epoch=10\n",
        "          self.wts=self.model.get_weights()\n",
        "        else:\n",
        "          self.epoch-=1\n",
        "        if self.epoch==0:\n",
        "          self.model.set_weights(self.wts)\n",
        "          self.model.stop_training = True\n",
        "        print('roc-auc_val: %s' % str(round(roc_val,4)))\n",
        "\n",
        "    def on_batch_begin(self, batch, logs={}):\n",
        "        return\n",
        "\n",
        "    def on_batch_end(self, batch, logs={}):\n",
        "        return\n",
        "def load_model(dim):\n",
        "  K.clear_session()\n",
        "\n",
        "\n",
        "  uid=Input((1,))\n",
        "  inp=Input((873,))\n",
        "  emb=Embedding(input_dim=dim,output_dim=4)(uid)\n",
        "  emb=Flatten()(emb)\n",
        "  x=Dense(256,activation='relu')(inp)\n",
        "  x=BatchNormalization()(x)\n",
        "  x=Dropout(0.3)(x)\n",
        "  x=Dense(256,activation='relu')(inp)\n",
        "  x=BatchNormalization()(x)\n",
        "  x=Dropout(0.3)(x)\n",
        "  x=Dense(256,activation='relu')(x)\n",
        "  x=Dropout(0.3)(x)\n",
        "  emb=Flatten()(emb)\n",
        "  x=Concatenate()([emb,x])\n",
        "  x=Dense(1,activation='sigmoid')(x)\n",
        "  mod=Model(inputs=[inp,uid],outputs=x)\n",
        "  return mod\n",
        "\n",
        "def custom_gelu(x):\n",
        "    return 0.5 * x * (1 + tf.tanh(tf.sqrt(2 / np.pi) * (x + 0.044715 * tf.pow(x, 3))))"
      ],
      "execution_count": 9,
      "outputs": []
    },
    {
      "cell_type": "markdown",
      "metadata": {
        "id": "PZH6xEokzPfj"
      },
      "source": [
        "Adding all datasets"
      ]
    },
    {
      "cell_type": "code",
      "metadata": {
        "id": "nSZw0LXIzPG9",
        "colab": {
          "base_uri": "https://localhost:8080/"
        },
        "outputId": "8810fc4b-acbb-458b-c480-5a543d1ea0e1"
      },
      "source": [
        "trn_s=trn.shape[0]\n",
        "df=pd.concat([trn,tst],0).reset_index(drop=True)\n",
        "del([trn,tst])\n",
        "gc.collect()\n",
        "\n",
        "\n",
        "autoenc=pd.read_csv('/content/gdrive/My Drive/fraud/without_id.csv',index_col=[0])\n",
        "\n",
        "autoenc.columns=[i for i in range(444,444+autoenc.shape[1])]\n",
        "\n",
        "\n",
        "df=pd.concat([df,autoenc],1)\n",
        "df=reduce_mem_usage(df)\n",
        "del([autoenc])\n",
        "gc.collect()\n",
        "\n",
        "trn=df.loc[:trn_s-1]\n",
        "tst=df.loc[trn_s:].reset_index(drop=True)\n",
        "del([df])\n",
        "gc.collect()"
      ],
      "execution_count": 10,
      "outputs": [
        {
          "output_type": "stream",
          "text": [
            "/usr/local/lib/python3.6/dist-packages/numpy/lib/arraysetops.py:580: FutureWarning: elementwise comparison failed; returning scalar instead, but in the future will perform elementwise comparison\n",
            "  mask |= (ar1 == a)\n"
          ],
          "name": "stderr"
        },
        {
          "output_type": "stream",
          "text": [
            "Memory usage of dataframe is 3384.06 MB\n",
            "Memory usage after optimization is: 1783.79 MB\n",
            "Decreased by 47.3%\n"
          ],
          "name": "stdout"
        },
        {
          "output_type": "execute_result",
          "data": {
            "text/plain": [
              "0"
            ]
          },
          "metadata": {
            "tags": []
          },
          "execution_count": 10
        }
      ]
    },
    {
      "cell_type": "code",
      "metadata": {
        "id": "Hxmq8JSOz6Hk"
      },
      "source": [
        "categorical=[str(i) for i in range(444)]\n",
        "trn[categorical]=trn[categorical].astype('uint8')\n",
        "tst[categorical]=tst[categorical].astype('uint8')"
      ],
      "execution_count": 11,
      "outputs": []
    },
    {
      "cell_type": "code",
      "metadata": {
        "id": "YVXGvLePKR8T"
      },
      "source": [
        "def rac(y_true, y_pred):\n",
        "    \"\"\" ROC AUC Score.\n",
        "    Approximates the Area Under Curve score, using approximation based on\n",
        "    the Wilcoxon-Mann-Whitney U statistic.\n",
        "    Yan, L., Dodier, R., Mozer, M. C., & Wolniewicz, R. (2003).\n",
        "    Optimizing Classifier Performance via an Approximation to the Wilcoxon-Mann-Whitney Statistic.\n",
        "    Measures overall performance for a full range of threshold levels.\n",
        "    Arguments:\n",
        "        y_pred: `Tensor`. Predicted values.\n",
        "        y_true: `Tensor` . Targets (labels), a probability distribution.\n",
        "    \"\"\"\n",
        "    with tf.name_scope(\"RocAucScore\"):\n",
        "        pos = tf.boolean_mask(y_pred, tf.cast(y_true, tf.bool))\n",
        "        neg = tf.boolean_mask(y_pred, ~tf.cast(y_true, tf.bool))\n",
        "        pos = tf.expand_dims(pos, 0)\n",
        "        neg = tf.expand_dims(neg, 1)\n",
        "        # original paper suggests performance is robust to exact parameter choice\n",
        "        gamma = 0.3\n",
        "        p     = 1.5\n",
        "        difference = tf.zeros_like(pos * neg) + pos - neg - gamma\n",
        "        masked = tf.boolean_mask(difference, difference < 0.0)\n",
        "        return tf.reduce_sum(tf.pow(-masked, p))\n",
        "\n"
      ],
      "execution_count": 12,
      "outputs": []
    },
    {
      "cell_type": "code",
      "metadata": {
        "id": "w55g3o_D_eYn",
        "outputId": "d6719583-2ac9-4e91-ae46-c7d7907acf79",
        "colab": {
          "base_uri": "https://localhost:8080/"
        }
      },
      "source": [
        "trn['id']"
      ],
      "execution_count": 13,
      "outputs": [
        {
          "output_type": "execute_result",
          "data": {
            "text/plain": [
              "0                Wnan315.013926-13.0\n",
              "1             Wgmail.com325.027551.0\n",
              "2           Woutlook.com330.046631.0\n",
              "3         Wyahoo.com476.018132-111.0\n",
              "4             Hgmail.com420.044971.0\n",
              "                     ...            \n",
              "590535            Wnan272.06550153.0\n",
              "590536     Wgmail.com204.010444182.0\n",
              "590537     Wgmail.com231.012037182.0\n",
              "590538        Waol.com387.07826160.0\n",
              "590539     Wgmail.com299.015066182.0\n",
              "Name: id, Length: 590540, dtype: category\n",
              "Categories (490326, object): ['Caim.comnan10198331.0', 'Caim.comnan13832182.0', 'Caim.comnan15066119.0',\n",
              "                              'Caim.comnan17999104.0', ..., 'Wymail.com512.03670240.0',\n",
              "                              'Wymail.com512.0557058.0', 'Wymail.com512.08695286.0',\n",
              "                              'Wymail.comnan2772285.0']"
            ]
          },
          "metadata": {
            "tags": []
          },
          "execution_count": 13
        }
      ]
    },
    {
      "cell_type": "code",
      "metadata": {
        "id": "2oor5OujA6Bz",
        "colab": {
          "base_uri": "https://localhost:8080/",
          "height": 1000
        },
        "outputId": "fa0195f6-6769-42c5-a522-e21cd09c5183"
      },
      "source": [
        "from sklearn.model_selection import StratifiedKFold\n",
        "from matplotlib import pyplot as plt\n",
        "splits=StratifiedKFold(n_splits=5)\n",
        "gc.collect()\n",
        "pre=np.zeros((506691,1))\n",
        "tst=tst.drop(['isFraud'],1)\n",
        "for train_index,test_index in tqdm(splits.split(trn,trn['isFraud'])):\n",
        "  X_train, X_test = trn.loc[train_index], trn.loc[test_index]\n",
        "  y_train, y_test = X_train['isFraud'], X_test['isFraud']\n",
        "  ids={}\n",
        "  for en,id in enumerate(X_train['id'].unique()):\n",
        "    ids[id]=en+2\n",
        "  X_train['id']=X_train['id'].map(lambda x: ids.get(x,1))\n",
        "  X_test['id']=X_test['id'].map(lambda x: ids.get(x,1))\n",
        "  dim=X_train['id'].nunique()+2\n",
        "  gc.collect()\n",
        "  trn_id,tst_id=X_train['id'],X_test['id']\n",
        "  X_train=X_train.drop(['isFraud','id'],1)\n",
        "  X_test=X_test.drop(['isFraud','id'],1)\n",
        "  mod=load_model(dim)\n",
        "  roc = RocCallback(validation_data=([X_test,tst_id], y_test),epochs=10)\n",
        "  mod.compile(optimizer=Nadam(),loss=rac)\n",
        "  es=EarlyStopping(monitor='acu_val',min_delta=0.0001,mode='min',restore_best_weights=True,patience=10)\n",
        "  hist = mod.fit([X_train,trn_id],y_train,validation_data=([X_test,tst_id],y_test),batch_size=2048,epochs=50,callbacks=[roc])\n",
        "  \n",
        "  plt.plot(hist.history['loss'])\n",
        "  plt.savefig('/content/gdrive/My Drive/fraud/roc_approximation_'+str(en)+'.png')\n",
        "  plt.show()\n",
        "\n",
        "  del[(X_train,y_train)]\n",
        "  gc.collect()\n",
        "\n",
        "  mod.fit([X_test,tst_id],y_test,epochs=2,batch_size=2048)\n",
        "  pre+=mod.predict([tst.drop(['id'],1),tst['id'].map(lambda x: ids.get(x,1))])/5\n",
        "  \n",
        "  del([X_test,y_test,mod])\n",
        "  gc.collect()"
      ],
      "execution_count": 17,
      "outputs": [
        {
          "output_type": "stream",
          "text": [
            "\n",
            "\n",
            "0it [00:00, ?it/s]\u001b[A\u001b[A"
          ],
          "name": "stderr"
        },
        {
          "output_type": "stream",
          "text": [
            "Epoch 1/50\n",
            "231/231 [==============================] - 4s 12ms/step - loss: 10524.5990 - val_loss: 5437.0430\n",
            "roc-auc_val: 0.8865\n",
            "Epoch 2/50\n",
            "231/231 [==============================] - 2s 9ms/step - loss: 5577.7327 - val_loss: 4902.6855\n",
            "roc-auc_val: 0.8963\n",
            "Epoch 3/50\n",
            "231/231 [==============================] - 2s 9ms/step - loss: 3638.5003 - val_loss: 5188.9683\n",
            "roc-auc_val: 0.8903\n",
            "Epoch 4/50\n",
            "231/231 [==============================] - 2s 9ms/step - loss: 2205.4197 - val_loss: 4981.0410\n",
            "roc-auc_val: 0.8927\n",
            "Epoch 5/50\n",
            "231/231 [==============================] - 2s 9ms/step - loss: 1396.0426 - val_loss: 4377.0728\n",
            "roc-auc_val: 0.9077\n",
            "Epoch 6/50\n",
            "231/231 [==============================] - 2s 8ms/step - loss: 745.1975 - val_loss: 4280.6304\n",
            "roc-auc_val: 0.9091\n",
            "Epoch 7/50\n",
            "231/231 [==============================] - 2s 9ms/step - loss: 431.4140 - val_loss: 4537.8643\n",
            "roc-auc_val: 0.9046\n",
            "Epoch 8/50\n",
            "231/231 [==============================] - 2s 9ms/step - loss: 263.4357 - val_loss: 4448.4121\n",
            "roc-auc_val: 0.9065\n",
            "Epoch 9/50\n",
            "231/231 [==============================] - 2s 8ms/step - loss: 184.1901 - val_loss: 4429.6753\n",
            "roc-auc_val: 0.907\n",
            "Epoch 10/50\n",
            "231/231 [==============================] - 2s 8ms/step - loss: 133.9287 - val_loss: 4427.3330\n",
            "roc-auc_val: 0.9048\n",
            "Epoch 11/50\n",
            "231/231 [==============================] - 2s 9ms/step - loss: 104.9483 - val_loss: 4507.2847\n",
            "roc-auc_val: 0.9023\n",
            "Epoch 12/50\n",
            "231/231 [==============================] - 2s 9ms/step - loss: 87.7677 - val_loss: 4862.0020\n",
            "roc-auc_val: 0.894\n",
            "Epoch 13/50\n",
            "231/231 [==============================] - 2s 9ms/step - loss: 78.5338 - val_loss: 4563.5991\n",
            "roc-auc_val: 0.8999\n",
            "Epoch 14/50\n",
            "231/231 [==============================] - 2s 9ms/step - loss: 66.7985 - val_loss: 4538.3169\n",
            "roc-auc_val: 0.8989\n",
            "Epoch 15/50\n",
            "231/231 [==============================] - 2s 8ms/step - loss: 61.3867 - val_loss: 4418.2827\n",
            "roc-auc_val: 0.9018\n",
            "Epoch 16/50\n",
            "231/231 [==============================] - 2s 8ms/step - loss: 50.9809 - val_loss: 4428.1079\n",
            "roc-auc_val: 0.8997\n"
          ],
          "name": "stdout"
        },
        {
          "output_type": "display_data",
          "data": {
            "image/png": "[encoded data removed]",
            "text/plain": [
              "<Figure size 432x288 with 1 Axes>"
            ]
          },
          "metadata": {
            "tags": [],
            "needs_background": "light"
          }
        },
        {
          "output_type": "stream",
          "text": [
            "Epoch 1/2\n",
            "58/58 [==============================] - 0s 8ms/step - loss: 4598.8896\n",
            "Epoch 2/2\n",
            "58/58 [==============================] - 0s 7ms/step - loss: 3314.2502\n"
          ],
          "name": "stdout"
        },
        {
          "output_type": "stream",
          "text": [
            "\n",
            "\n",
            "1it [02:08, 128.08s/it]\u001b[A\u001b[A"
          ],
          "name": "stderr"
        },
        {
          "output_type": "stream",
          "text": [
            "Epoch 1/50\n",
            "231/231 [==============================] - 4s 12ms/step - loss: 11240.1835 - val_loss: 5229.6997\n",
            "roc-auc_val: 0.9029\n",
            "Epoch 2/50\n",
            "231/231 [==============================] - 2s 9ms/step - loss: 6088.0873 - val_loss: 4350.9131\n",
            "roc-auc_val: 0.9208\n",
            "Epoch 3/50\n",
            "231/231 [==============================] - 2s 9ms/step - loss: 4121.3999 - val_loss: 3814.5806\n",
            "roc-auc_val: 0.9374\n",
            "Epoch 4/50\n",
            "231/231 [==============================] - 2s 9ms/step - loss: 2650.1107 - val_loss: 3532.0950\n",
            "roc-auc_val: 0.9454\n",
            "Epoch 5/50\n",
            "231/231 [==============================] - 2s 9ms/step - loss: 1494.2713 - val_loss: 3418.0605\n",
            "roc-auc_val: 0.9513\n",
            "Epoch 6/50\n",
            "231/231 [==============================] - 2s 9ms/step - loss: 832.5476 - val_loss: 3382.9875\n",
            "roc-auc_val: 0.9551\n",
            "Epoch 7/50\n",
            "231/231 [==============================] - 2s 9ms/step - loss: 471.9562 - val_loss: 3419.0520\n",
            "roc-auc_val: 0.9555\n",
            "Epoch 8/50\n",
            "231/231 [==============================] - 2s 9ms/step - loss: 277.5654 - val_loss: 3748.1570\n",
            "roc-auc_val: 0.9524\n",
            "Epoch 9/50\n",
            "231/231 [==============================] - 2s 9ms/step - loss: 204.6182 - val_loss: 3578.1951\n",
            "roc-auc_val: 0.9549\n",
            "Epoch 10/50\n",
            "231/231 [==============================] - 2s 9ms/step - loss: 155.7838 - val_loss: 3610.5276\n",
            "roc-auc_val: 0.9534\n",
            "Epoch 11/50\n",
            "231/231 [==============================] - 2s 9ms/step - loss: 118.5996 - val_loss: 3586.8206\n",
            "roc-auc_val: 0.9546\n",
            "Epoch 12/50\n",
            "231/231 [==============================] - 2s 9ms/step - loss: 95.1905 - val_loss: 3587.3608\n",
            "roc-auc_val: 0.9529\n",
            "Epoch 13/50\n",
            "231/231 [==============================] - 2s 9ms/step - loss: 83.0460 - val_loss: 3609.2769\n",
            "roc-auc_val: 0.9519\n",
            "Epoch 14/50\n",
            "231/231 [==============================] - 2s 9ms/step - loss: 74.5873 - val_loss: 3507.4207\n",
            "roc-auc_val: 0.9532\n",
            "Epoch 15/50\n",
            "231/231 [==============================] - 2s 9ms/step - loss: 66.0085 - val_loss: 3597.7751\n",
            "roc-auc_val: 0.9501\n",
            "Epoch 16/50\n",
            "231/231 [==============================] - 2s 9ms/step - loss: 61.4982 - val_loss: 3480.0518\n",
            "roc-auc_val: 0.9504\n",
            "Epoch 17/50\n",
            "231/231 [==============================] - 2s 9ms/step - loss: 57.5561 - val_loss: 3344.3306\n",
            "roc-auc_val: 0.9521\n"
          ],
          "name": "stdout"
        },
        {
          "output_type": "display_data",
          "data": {
            "image/png": "[encoded data removed]",
            "text/plain": [
              "<Figure size 432x288 with 1 Axes>"
            ]
          },
          "metadata": {
            "tags": [],
            "needs_background": "light"
          }
        },
        {
          "output_type": "stream",
          "text": [
            "Epoch 1/2\n",
            "58/58 [==============================] - 0s 8ms/step - loss: 2984.0835\n",
            "Epoch 2/2\n",
            "58/58 [==============================] - 0s 8ms/step - loss: 1915.5331\n"
          ],
          "name": "stdout"
        },
        {
          "output_type": "stream",
          "text": [
            "\n",
            "\n",
            "2it [04:21, 129.68s/it]\u001b[A\u001b[A"
          ],
          "name": "stderr"
        },
        {
          "output_type": "stream",
          "text": [
            "Epoch 1/50\n",
            "231/231 [==============================] - 4s 12ms/step - loss: 10838.9538 - val_loss: 6084.5947\n",
            "roc-auc_val: 0.8989\n",
            "Epoch 2/50\n",
            "231/231 [==============================] - 2s 9ms/step - loss: 5681.1395 - val_loss: 5359.5303\n",
            "roc-auc_val: 0.9118\n",
            "Epoch 3/50\n",
            "231/231 [==============================] - 2s 9ms/step - loss: 4046.6438 - val_loss: 4548.7188\n",
            "roc-auc_val: 0.9272\n",
            "Epoch 4/50\n",
            "231/231 [==============================] - 2s 9ms/step - loss: 2587.6798 - val_loss: 4241.8135\n",
            "roc-auc_val: 0.9396\n",
            "Epoch 5/50\n",
            "231/231 [==============================] - 2s 9ms/step - loss: 1394.1811 - val_loss: 4260.8691\n",
            "roc-auc_val: 0.9412\n",
            "Epoch 6/50\n",
            "231/231 [==============================] - 2s 9ms/step - loss: 788.7753 - val_loss: 4278.2090\n",
            "roc-auc_val: 0.9453\n",
            "Epoch 7/50\n",
            "231/231 [==============================] - 2s 9ms/step - loss: 469.1163 - val_loss: 4370.2910\n",
            "roc-auc_val: 0.9456\n",
            "Epoch 8/50\n",
            "231/231 [==============================] - 2s 9ms/step - loss: 313.6762 - val_loss: 4437.8477\n",
            "roc-auc_val: 0.9443\n",
            "Epoch 9/50\n",
            "231/231 [==============================] - 2s 9ms/step - loss: 201.6058 - val_loss: 4422.3408\n",
            "roc-auc_val: 0.9435\n",
            "Epoch 10/50\n",
            "231/231 [==============================] - 2s 9ms/step - loss: 149.6319 - val_loss: 4473.4790\n",
            "roc-auc_val: 0.9446\n",
            "Epoch 11/50\n",
            "231/231 [==============================] - 2s 9ms/step - loss: 115.2155 - val_loss: 4392.5122\n",
            "roc-auc_val: 0.9441\n",
            "Epoch 12/50\n",
            "231/231 [==============================] - 2s 9ms/step - loss: 100.3776 - val_loss: 4521.9736\n",
            "roc-auc_val: 0.943\n",
            "Epoch 13/50\n",
            "231/231 [==============================] - 2s 9ms/step - loss: 82.9092 - val_loss: 4407.5347\n",
            "roc-auc_val: 0.9434\n",
            "Epoch 14/50\n",
            "231/231 [==============================] - 2s 9ms/step - loss: 76.0155 - val_loss: 4368.8516\n",
            "roc-auc_val: 0.9429\n",
            "Epoch 15/50\n",
            "231/231 [==============================] - 2s 9ms/step - loss: 63.2903 - val_loss: 4267.7339\n",
            "roc-auc_val: 0.943\n",
            "Epoch 16/50\n",
            "231/231 [==============================] - 2s 9ms/step - loss: 58.9261 - val_loss: 4030.5410\n",
            "roc-auc_val: 0.9448\n",
            "Epoch 17/50\n",
            "231/231 [==============================] - 2s 9ms/step - loss: 54.1458 - val_loss: 4130.7266\n",
            "roc-auc_val: 0.9434\n"
          ],
          "name": "stdout"
        },
        {
          "output_type": "display_data",
          "data": {
            "image/png": "[encoded data removed]",
            "text/plain": [
              "<Figure size 432x288 with 1 Axes>"
            ]
          },
          "metadata": {
            "tags": [],
            "needs_background": "light"
          }
        },
        {
          "output_type": "stream",
          "text": [
            "Epoch 1/2\n",
            "58/58 [==============================] - 0s 8ms/step - loss: 3463.0862\n",
            "Epoch 2/2\n",
            "58/58 [==============================] - 0s 8ms/step - loss: 2339.8560\n"
          ],
          "name": "stdout"
        },
        {
          "output_type": "stream",
          "text": [
            "\n",
            "\n",
            "3it [06:36, 131.38s/it]\u001b[A\u001b[A"
          ],
          "name": "stderr"
        },
        {
          "output_type": "stream",
          "text": [
            "Epoch 1/50\n",
            "231/231 [==============================] - 4s 12ms/step - loss: 11110.3092 - val_loss: 6277.3921\n",
            "roc-auc_val: 0.9062\n",
            "Epoch 2/50\n",
            "231/231 [==============================] - 2s 9ms/step - loss: 5895.5037 - val_loss: 4705.6055\n",
            "roc-auc_val: 0.9315\n",
            "Epoch 3/50\n",
            "231/231 [==============================] - 2s 9ms/step - loss: 4090.2348 - val_loss: 4228.2153\n",
            "roc-auc_val: 0.9396\n",
            "Epoch 4/50\n",
            "231/231 [==============================] - 2s 9ms/step - loss: 2669.4811 - val_loss: 3615.2688\n",
            "roc-auc_val: 0.952\n",
            "Epoch 5/50\n",
            "231/231 [==============================] - 2s 9ms/step - loss: 1511.7641 - val_loss: 3498.6624\n",
            "roc-auc_val: 0.9601\n",
            "Epoch 6/50\n",
            "231/231 [==============================] - 2s 9ms/step - loss: 882.4839 - val_loss: 3654.1211\n",
            "roc-auc_val: 0.9626\n",
            "Epoch 7/50\n",
            "231/231 [==============================] - 2s 9ms/step - loss: 500.0108 - val_loss: 3673.5149\n",
            "roc-auc_val: 0.9634\n",
            "Epoch 8/50\n",
            "231/231 [==============================] - 2s 9ms/step - loss: 315.6638 - val_loss: 3658.7087\n",
            "roc-auc_val: 0.9627\n",
            "Epoch 9/50\n",
            "231/231 [==============================] - 2s 9ms/step - loss: 203.0776 - val_loss: 3828.7805\n",
            "roc-auc_val: 0.9629\n",
            "Epoch 10/50\n",
            "231/231 [==============================] - 2s 9ms/step - loss: 157.9618 - val_loss: 3661.6467\n",
            "roc-auc_val: 0.9637\n",
            "Epoch 11/50\n",
            "231/231 [==============================] - 2s 9ms/step - loss: 120.5782 - val_loss: 3970.4148\n",
            "roc-auc_val: 0.962\n",
            "Epoch 12/50\n",
            "231/231 [==============================] - 2s 9ms/step - loss: 96.6147 - val_loss: 3710.1472\n",
            "roc-auc_val: 0.9625\n",
            "Epoch 13/50\n",
            "231/231 [==============================] - 2s 9ms/step - loss: 84.4157 - val_loss: 3600.4155\n",
            "roc-auc_val: 0.9629\n",
            "Epoch 14/50\n",
            "231/231 [==============================] - 2s 9ms/step - loss: 73.4806 - val_loss: 3540.9702\n",
            "roc-auc_val: 0.9628\n",
            "Epoch 15/50\n",
            "231/231 [==============================] - 2s 9ms/step - loss: 64.1423 - val_loss: 3478.6975\n",
            "roc-auc_val: 0.9628\n",
            "Epoch 16/50\n",
            "231/231 [==============================] - 2s 9ms/step - loss: 59.8624 - val_loss: 3398.8042\n",
            "roc-auc_val: 0.9629\n",
            "Epoch 17/50\n",
            "231/231 [==============================] - 2s 9ms/step - loss: 54.3793 - val_loss: 3484.2869\n",
            "roc-auc_val: 0.9621\n",
            "Epoch 18/50\n",
            "231/231 [==============================] - 2s 9ms/step - loss: 48.8015 - val_loss: 3321.5862\n",
            "roc-auc_val: 0.9627\n",
            "Epoch 19/50\n",
            "231/231 [==============================] - 2s 9ms/step - loss: 46.1580 - val_loss: 3415.9072\n",
            "roc-auc_val: 0.9617\n",
            "Epoch 20/50\n",
            "231/231 [==============================] - 2s 9ms/step - loss: 42.2349 - val_loss: 3324.6108\n",
            "roc-auc_val: 0.9626\n"
          ],
          "name": "stdout"
        },
        {
          "output_type": "display_data",
          "data": {
            "image/png": "[encoded data removed]",
            "text/plain": [
              "<Figure size 432x288 with 1 Axes>"
            ]
          },
          "metadata": {
            "tags": [],
            "needs_background": "light"
          }
        },
        {
          "output_type": "stream",
          "text": [
            "Epoch 1/2\n",
            "58/58 [==============================] - 0s 8ms/step - loss: 2744.5330\n",
            "Epoch 2/2\n",
            "58/58 [==============================] - 0s 8ms/step - loss: 1991.7146\n"
          ],
          "name": "stdout"
        },
        {
          "output_type": "stream",
          "text": [
            "\n",
            "\n",
            "4it [09:08, 137.47s/it]\u001b[A\u001b[A"
          ],
          "name": "stderr"
        },
        {
          "output_type": "stream",
          "text": [
            "Epoch 1/50\n",
            "231/231 [==============================] - 4s 12ms/step - loss: 10881.8110 - val_loss: 7254.8931\n",
            "roc-auc_val: 0.8862\n",
            "Epoch 2/50\n",
            "231/231 [==============================] - 2s 9ms/step - loss: 5678.8971 - val_loss: 6374.8467\n",
            "roc-auc_val: 0.9004\n",
            "Epoch 3/50\n",
            "231/231 [==============================] - 2s 9ms/step - loss: 3817.4790 - val_loss: 5902.8989\n",
            "roc-auc_val: 0.9119\n",
            "Epoch 4/50\n",
            "231/231 [==============================] - 2s 9ms/step - loss: 2558.5590 - val_loss: 5328.7446\n",
            "roc-auc_val: 0.9244\n",
            "Epoch 5/50\n",
            "231/231 [==============================] - 2s 9ms/step - loss: 1470.9665 - val_loss: 4933.9326\n",
            "roc-auc_val: 0.9335\n",
            "Epoch 6/50\n",
            "231/231 [==============================] - 2s 9ms/step - loss: 803.8441 - val_loss: 5049.7124\n",
            "roc-auc_val: 0.9357\n",
            "Epoch 7/50\n",
            "231/231 [==============================] - 2s 9ms/step - loss: 477.9489 - val_loss: 5202.9731\n",
            "roc-auc_val: 0.9379\n",
            "Epoch 8/50\n",
            "231/231 [==============================] - 2s 9ms/step - loss: 304.6199 - val_loss: 5204.1279\n",
            "roc-auc_val: 0.9398\n",
            "Epoch 9/50\n",
            "231/231 [==============================] - 2s 9ms/step - loss: 204.8699 - val_loss: 5218.7559\n",
            "roc-auc_val: 0.939\n",
            "Epoch 10/50\n",
            "231/231 [==============================] - 2s 9ms/step - loss: 158.8194 - val_loss: 5264.8740\n",
            "roc-auc_val: 0.9398\n",
            "Epoch 11/50\n",
            "231/231 [==============================] - 2s 9ms/step - loss: 123.5071 - val_loss: 5326.8779\n",
            "roc-auc_val: 0.9388\n",
            "Epoch 12/50\n",
            "231/231 [==============================] - 2s 9ms/step - loss: 104.7324 - val_loss: 5007.2690\n",
            "roc-auc_val: 0.9401\n",
            "Epoch 13/50\n",
            "231/231 [==============================] - 2s 9ms/step - loss: 87.2269 - val_loss: 5038.3916\n",
            "roc-auc_val: 0.9408\n",
            "Epoch 14/50\n",
            "231/231 [==============================] - 2s 9ms/step - loss: 76.7251 - val_loss: 5020.6567\n",
            "roc-auc_val: 0.9414\n",
            "Epoch 15/50\n",
            "231/231 [==============================] - 2s 8ms/step - loss: 67.4338 - val_loss: 5019.1836\n",
            "roc-auc_val: 0.9403\n",
            "Epoch 16/50\n",
            "231/231 [==============================] - 2s 8ms/step - loss: 66.7309 - val_loss: 4930.4805\n",
            "roc-auc_val: 0.9409\n",
            "Epoch 17/50\n",
            "231/231 [==============================] - 2s 9ms/step - loss: 57.5016 - val_loss: 4884.8423\n",
            "roc-auc_val: 0.939\n",
            "Epoch 18/50\n",
            "231/231 [==============================] - 2s 9ms/step - loss: 49.6383 - val_loss: 4769.4897\n",
            "roc-auc_val: 0.9404\n",
            "Epoch 19/50\n",
            "231/231 [==============================] - 2s 9ms/step - loss: 54.1873 - val_loss: 4748.8989\n",
            "roc-auc_val: 0.9413\n",
            "Epoch 20/50\n",
            "231/231 [==============================] - 2s 8ms/step - loss: 47.3970 - val_loss: 4669.7939\n",
            "roc-auc_val: 0.9407\n",
            "Epoch 21/50\n",
            "231/231 [==============================] - 2s 8ms/step - loss: 42.6644 - val_loss: 4841.1475\n",
            "roc-auc_val: 0.9388\n",
            "Epoch 22/50\n",
            "231/231 [==============================] - 2s 9ms/step - loss: 41.1142 - val_loss: 4538.2939\n",
            "roc-auc_val: 0.9416\n",
            "Epoch 23/50\n",
            "231/231 [==============================] - 2s 9ms/step - loss: 39.5220 - val_loss: 4834.0918\n",
            "roc-auc_val: 0.9394\n",
            "Epoch 24/50\n",
            "231/231 [==============================] - 2s 9ms/step - loss: 37.2894 - val_loss: 4497.6382\n",
            "roc-auc_val: 0.9423\n",
            "Epoch 25/50\n",
            "231/231 [==============================] - 2s 9ms/step - loss: 35.5407 - val_loss: 4660.5308\n",
            "roc-auc_val: 0.9397\n",
            "Epoch 26/50\n",
            "231/231 [==============================] - 2s 8ms/step - loss: 31.2007 - val_loss: 4473.6479\n",
            "roc-auc_val: 0.9417\n",
            "Epoch 27/50\n",
            "231/231 [==============================] - 2s 9ms/step - loss: 32.0231 - val_loss: 4561.5938\n",
            "roc-auc_val: 0.9416\n",
            "Epoch 28/50\n",
            "231/231 [==============================] - 2s 9ms/step - loss: 33.1315 - val_loss: 4198.6797\n",
            "roc-auc_val: 0.9436\n",
            "Epoch 29/50\n",
            "231/231 [==============================] - 2s 9ms/step - loss: 30.0921 - val_loss: 4544.6226\n",
            "roc-auc_val: 0.9411\n",
            "Epoch 30/50\n",
            "231/231 [==============================] - 2s 8ms/step - loss: 28.4185 - val_loss: 4452.2388\n",
            "roc-auc_val: 0.9418\n",
            "Epoch 31/50\n",
            "231/231 [==============================] - 2s 9ms/step - loss: 26.4734 - val_loss: 4376.0923\n",
            "roc-auc_val: 0.941\n",
            "Epoch 32/50\n",
            "231/231 [==============================] - 2s 9ms/step - loss: 25.0412 - val_loss: 4326.7178\n",
            "roc-auc_val: 0.942\n",
            "Epoch 33/50\n",
            "231/231 [==============================] - 2s 9ms/step - loss: 25.7273 - val_loss: 4470.4019\n",
            "roc-auc_val: 0.9402\n",
            "Epoch 34/50\n",
            "231/231 [==============================] - 2s 9ms/step - loss: 21.2893 - val_loss: 4332.7705\n",
            "roc-auc_val: 0.9412\n",
            "Epoch 35/50\n",
            "231/231 [==============================] - 2s 8ms/step - loss: 22.6679 - val_loss: 4579.6006\n",
            "roc-auc_val: 0.9381\n",
            "Epoch 36/50\n",
            "231/231 [==============================] - 2s 9ms/step - loss: 21.0077 - val_loss: 4233.3491\n",
            "roc-auc_val: 0.9434\n",
            "Epoch 37/50\n",
            "231/231 [==============================] - 2s 8ms/step - loss: 22.5040 - val_loss: 4565.0215\n",
            "roc-auc_val: 0.9387\n",
            "Epoch 38/50\n",
            "231/231 [==============================] - 2s 9ms/step - loss: 19.4776 - val_loss: 4583.4351\n",
            "roc-auc_val: 0.9378\n"
          ],
          "name": "stdout"
        },
        {
          "output_type": "display_data",
          "data": {
            "image/png": "[encoded data removed]",
            "text/plain": [
              "<Figure size 432x288 with 1 Axes>"
            ]
          },
          "metadata": {
            "tags": [],
            "needs_background": "light"
          }
        },
        {
          "output_type": "stream",
          "text": [
            "Epoch 1/2\n",
            "58/58 [==============================] - 0s 8ms/step - loss: 3758.1423\n",
            "Epoch 2/2\n",
            "58/58 [==============================] - 0s 8ms/step - loss: 2622.1123\n"
          ],
          "name": "stdout"
        },
        {
          "output_type": "stream",
          "text": [
            "\n",
            "\n",
            "5it [13:30, 162.05s/it]\n"
          ],
          "name": "stderr"
        }
      ]
    },
    {
      "cell_type": "code",
      "metadata": {
        "id": "MVYgkVd5_NVY",
        "colab": {
          "base_uri": "https://localhost:8080/",
          "height": 238
        },
        "outputId": "0fb349dd-79e9-4199-a2d2-8483a1b02aa9"
      },
      "source": [
        "sub=pd.read_csv('sample_submission.csv.zip')\n",
        "sub['isFraud']=pre\n",
        "sub=sub.set_index('TransactionID')\n",
        "sub.head()"
      ],
      "execution_count": 18,
      "outputs": [
        {
          "output_type": "execute_result",
          "data": {
            "text/html": [
              "<div>\n",
              "<style scoped>\n",
              "    .dataframe tbody tr th:only-of-type {\n",
              "        vertical-align: middle;\n",
              "    }\n",
              "\n",
              "    .dataframe tbody tr th {\n",
              "        vertical-align: top;\n",
              "    }\n",
              "\n",
              "    .dataframe thead th {\n",
              "        text-align: right;\n",
              "    }\n",
              "</style>\n",
              "<table border=\"1\" class=\"dataframe\">\n",
              "  <thead>\n",
              "    <tr style=\"text-align: right;\">\n",
              "      <th></th>\n",
              "      <th>isFraud</th>\n",
              "    </tr>\n",
              "    <tr>\n",
              "      <th>TransactionID</th>\n",
              "      <th></th>\n",
              "    </tr>\n",
              "  </thead>\n",
              "  <tbody>\n",
              "    <tr>\n",
              "      <th>3663549</th>\n",
              "      <td>0.047033</td>\n",
              "    </tr>\n",
              "    <tr>\n",
              "      <th>3663550</th>\n",
              "      <td>0.056691</td>\n",
              "    </tr>\n",
              "    <tr>\n",
              "      <th>3663551</th>\n",
              "      <td>0.162671</td>\n",
              "    </tr>\n",
              "    <tr>\n",
              "      <th>3663552</th>\n",
              "      <td>0.093753</td>\n",
              "    </tr>\n",
              "    <tr>\n",
              "      <th>3663553</th>\n",
              "      <td>0.070247</td>\n",
              "    </tr>\n",
              "  </tbody>\n",
              "</table>\n",
              "</div>"
            ],
            "text/plain": [
              "                isFraud\n",
              "TransactionID          \n",
              "3663549        0.047033\n",
              "3663550        0.056691\n",
              "3663551        0.162671\n",
              "3663552        0.093753\n",
              "3663553        0.070247"
            ]
          },
          "metadata": {
            "tags": []
          },
          "execution_count": 18
        }
      ]
    },
    {
      "cell_type": "code",
      "metadata": {
        "id": "3VZlw01oHayo"
      },
      "source": [
        "sub.to_csv('sub.csv')"
      ],
      "execution_count": 19,
      "outputs": []
    },
    {
      "cell_type": "code",
      "metadata": {
        "id": "8FeqwiR2HcSI",
        "colab": {
          "base_uri": "https://localhost:8080/",
          "height": 340
        },
        "outputId": "e085e519-0daf-405c-cea8-af9412e52cd0"
      },
      "source": [
        "import seaborn as sns\n",
        "sns.distplot(pre)"
      ],
      "execution_count": 20,
      "outputs": [
        {
          "output_type": "stream",
          "text": [
            "/usr/local/lib/python3.6/dist-packages/seaborn/distributions.py:2557: FutureWarning: `distplot` is a deprecated function and will be removed in a future version. Please adapt your code to use either `displot` (a figure-level function with similar flexibility) or `histplot` (an axes-level function for histograms).\n",
            "  warnings.warn(msg, FutureWarning)\n"
          ],
          "name": "stderr"
        },
        {
          "output_type": "execute_result",
          "data": {
            "text/plain": [
              "<matplotlib.axes._subplots.AxesSubplot at 0x7f7d5e72fb70>"
            ]
          },
          "metadata": {
            "tags": []
          },
          "execution_count": 20
        },
        {
          "output_type": "display_data",
          "data": {
            "image/png": "[encoded data removed]",
            "text/plain": [
              "<Figure size 432x288 with 1 Axes>"
            ]
          },
          "metadata": {
            "tags": [],
            "needs_background": "light"
          }
        }
      ]
    },
    {
      "cell_type": "code",
      "metadata": {
        "id": "IAeWMkwJIWng"
      },
      "source": [
        ""
      ],
      "execution_count": null,
      "outputs": []
    }
  ]
}