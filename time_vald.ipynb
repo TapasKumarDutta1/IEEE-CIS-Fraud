{
  "nbformat": 4,
  "nbformat_minor": 0,
  "metadata": {
    "colab": {
      "name": "time_vald.ipynb",
      "provenance": [],
      "machine_shape": "hm",
      "authorship_tag": "ABX9TyO5dG7EvQkS3RGEwG7Cs3gR",
      "include_colab_link": true
    },
    "kernelspec": {
      "name": "python3",
      "display_name": "Python 3"
    }
  },
  "cells": [
    {
      "cell_type": "markdown",
      "metadata": {
        "id": "view-in-github",
        "colab_type": "text"
      },
      "source": [
        "<a href=\"https://colab.research.google.com/github/greyhound101/IEEE-CIS-Fraud/blob/master/time_vald.ipynb\" target=\"_parent\"><img src=\"https://colab.research.google.com/assets/colab-badge.svg\" alt=\"Open In Colab\"/></a>"
      ]
    },
    {
      "cell_type": "code",
      "metadata": {
        "id": "MGYaaP5eRu-E",
        "colab_type": "code",
        "outputId": "02c23faf-95f8-4ae7-8191-b0b7908be175",
        "colab": {
          "base_uri": "https://localhost:8080/",
          "height": 927
        }
      },
      "source": [
        "pip install tensorflow==2.1.0-rc0"
      ],
      "execution_count": 1,
      "outputs": [
        {
          "output_type": "stream",
          "text": [
            "Collecting tensorflow==2.1.0-rc0\n",
            "\u001b[?25l  Downloading https://files.pythonhosted.org/packages/4d/fd/7528e5ef327abde9b7425aea24198d8b139795c1233d1658c1279055d860/tensorflow-2.1.0rc0-cp36-cp36m-manylinux2010_x86_64.whl (402.3MB)\n",
            "\u001b[K     |████████████████████████████████| 402.3MB 36kB/s \n",
            "\u001b[?25hRequirement already satisfied: astor>=0.6.0 in /usr/local/lib/python3.6/dist-packages (from tensorflow==2.1.0-rc0) (0.8.1)\n",
            "Requirement already satisfied: keras-applications>=1.0.8 in /usr/local/lib/python3.6/dist-packages (from tensorflow==2.1.0-rc0) (1.0.8)\n",
            "Requirement already satisfied: gast==0.2.2 in /usr/local/lib/python3.6/dist-packages (from tensorflow==2.1.0-rc0) (0.2.2)\n",
            "Collecting tensorboard<2.1.0,>=2.0.0\n",
            "\u001b[?25l  Downloading https://files.pythonhosted.org/packages/76/54/99b9d5d52d5cb732f099baaaf7740403e83fe6b0cedde940fabd2b13d75a/tensorboard-2.0.2-py3-none-any.whl (3.8MB)\n",
            "\u001b[K     |████████████████████████████████| 3.8MB 50.6MB/s \n",
            "\u001b[?25hRequirement already satisfied: six>=1.12.0 in /usr/local/lib/python3.6/dist-packages (from tensorflow==2.1.0-rc0) (1.12.0)\n",
            "Requirement already satisfied: protobuf>=3.8.0 in /usr/local/lib/python3.6/dist-packages (from tensorflow==2.1.0-rc0) (3.10.0)\n",
            "Requirement already satisfied: wheel>=0.26; python_version >= \"3\" in /usr/local/lib/python3.6/dist-packages (from tensorflow==2.1.0-rc0) (0.34.2)\n",
            "Requirement already satisfied: grpcio>=1.8.6 in /usr/local/lib/python3.6/dist-packages (from tensorflow==2.1.0-rc0) (1.24.3)\n",
            "Collecting tensorflow-estimator<2.1.0,>=2.0.0\n",
            "\u001b[?25l  Downloading https://files.pythonhosted.org/packages/fc/08/8b927337b7019c374719145d1dceba21a8bb909b93b1ad6f8fb7d22c1ca1/tensorflow_estimator-2.0.1-py2.py3-none-any.whl (449kB)\n",
            "\u001b[K     |████████████████████████████████| 450kB 56.9MB/s \n",
            "\u001b[?25hRequirement already satisfied: wrapt>=1.11.1 in /usr/local/lib/python3.6/dist-packages (from tensorflow==2.1.0-rc0) (1.12.1)\n",
            "Requirement already satisfied: absl-py>=0.7.0 in /usr/local/lib/python3.6/dist-packages (from tensorflow==2.1.0-rc0) (0.9.0)\n",
            "Requirement already satisfied: opt-einsum>=2.3.2 in /usr/local/lib/python3.6/dist-packages (from tensorflow==2.1.0-rc0) (3.2.0)\n",
            "Requirement already satisfied: termcolor>=1.1.0 in /usr/local/lib/python3.6/dist-packages (from tensorflow==2.1.0-rc0) (1.1.0)\n",
            "Requirement already satisfied: keras-preprocessing>=1.1.0 in /usr/local/lib/python3.6/dist-packages (from tensorflow==2.1.0-rc0) (1.1.0)\n",
            "Requirement already satisfied: google-pasta>=0.1.6 in /usr/local/lib/python3.6/dist-packages (from tensorflow==2.1.0-rc0) (0.2.0)\n",
            "Requirement already satisfied: numpy<2.0,>=1.16.0 in /usr/local/lib/python3.6/dist-packages (from tensorflow==2.1.0-rc0) (1.18.2)\n",
            "Requirement already satisfied: h5py in /usr/local/lib/python3.6/dist-packages (from keras-applications>=1.0.8->tensorflow==2.1.0-rc0) (2.8.0)\n",
            "Requirement already satisfied: google-auth-oauthlib<0.5,>=0.4.1 in /usr/local/lib/python3.6/dist-packages (from tensorboard<2.1.0,>=2.0.0->tensorflow==2.1.0-rc0) (0.4.1)\n",
            "Requirement already satisfied: google-auth<2,>=1.6.3 in /usr/local/lib/python3.6/dist-packages (from tensorboard<2.1.0,>=2.0.0->tensorflow==2.1.0-rc0) (1.7.2)\n",
            "Requirement already satisfied: requests<3,>=2.21.0 in /usr/local/lib/python3.6/dist-packages (from tensorboard<2.1.0,>=2.0.0->tensorflow==2.1.0-rc0) (2.21.0)\n",
            "Requirement already satisfied: markdown>=2.6.8 in /usr/local/lib/python3.6/dist-packages (from tensorboard<2.1.0,>=2.0.0->tensorflow==2.1.0-rc0) (3.2.1)\n",
            "Requirement already satisfied: werkzeug>=0.11.15 in /usr/local/lib/python3.6/dist-packages (from tensorboard<2.1.0,>=2.0.0->tensorflow==2.1.0-rc0) (1.0.0)\n",
            "Requirement already satisfied: setuptools>=41.0.0 in /usr/local/lib/python3.6/dist-packages (from tensorboard<2.1.0,>=2.0.0->tensorflow==2.1.0-rc0) (46.0.0)\n",
            "Requirement already satisfied: requests-oauthlib>=0.7.0 in /usr/local/lib/python3.6/dist-packages (from google-auth-oauthlib<0.5,>=0.4.1->tensorboard<2.1.0,>=2.0.0->tensorflow==2.1.0-rc0) (1.3.0)\n",
            "Requirement already satisfied: rsa<4.1,>=3.1.4 in /usr/local/lib/python3.6/dist-packages (from google-auth<2,>=1.6.3->tensorboard<2.1.0,>=2.0.0->tensorflow==2.1.0-rc0) (4.0)\n",
            "Requirement already satisfied: cachetools<3.2,>=2.0.0 in /usr/local/lib/python3.6/dist-packages (from google-auth<2,>=1.6.3->tensorboard<2.1.0,>=2.0.0->tensorflow==2.1.0-rc0) (3.1.1)\n",
            "Requirement already satisfied: pyasn1-modules>=0.2.1 in /usr/local/lib/python3.6/dist-packages (from google-auth<2,>=1.6.3->tensorboard<2.1.0,>=2.0.0->tensorflow==2.1.0-rc0) (0.2.8)\n",
            "Requirement already satisfied: urllib3<1.25,>=1.21.1 in /usr/local/lib/python3.6/dist-packages (from requests<3,>=2.21.0->tensorboard<2.1.0,>=2.0.0->tensorflow==2.1.0-rc0) (1.24.3)\n",
            "Requirement already satisfied: idna<2.9,>=2.5 in /usr/local/lib/python3.6/dist-packages (from requests<3,>=2.21.0->tensorboard<2.1.0,>=2.0.0->tensorflow==2.1.0-rc0) (2.8)\n",
            "Requirement already satisfied: certifi>=2017.4.17 in /usr/local/lib/python3.6/dist-packages (from requests<3,>=2.21.0->tensorboard<2.1.0,>=2.0.0->tensorflow==2.1.0-rc0) (2019.11.28)\n",
            "Requirement already satisfied: chardet<3.1.0,>=3.0.2 in /usr/local/lib/python3.6/dist-packages (from requests<3,>=2.21.0->tensorboard<2.1.0,>=2.0.0->tensorflow==2.1.0-rc0) (3.0.4)\n",
            "Requirement already satisfied: oauthlib>=3.0.0 in /usr/local/lib/python3.6/dist-packages (from requests-oauthlib>=0.7.0->google-auth-oauthlib<0.5,>=0.4.1->tensorboard<2.1.0,>=2.0.0->tensorflow==2.1.0-rc0) (3.1.0)\n",
            "Requirement already satisfied: pyasn1>=0.1.3 in /usr/local/lib/python3.6/dist-packages (from rsa<4.1,>=3.1.4->google-auth<2,>=1.6.3->tensorboard<2.1.0,>=2.0.0->tensorflow==2.1.0-rc0) (0.4.8)\n",
            "\u001b[31mERROR: tensorflow-federated 0.12.0 has requirement tensorflow~=2.1.0, but you'll have tensorflow 2.1.0rc0 which is incompatible.\u001b[0m\n",
            "\u001b[31mERROR: tensorflow-federated 0.12.0 has requirement tensorflow-addons~=0.7.0, but you'll have tensorflow-addons 0.8.3 which is incompatible.\u001b[0m\n",
            "Installing collected packages: tensorboard, tensorflow-estimator, tensorflow\n",
            "  Found existing installation: tensorboard 1.15.0\n",
            "    Uninstalling tensorboard-1.15.0:\n",
            "      Successfully uninstalled tensorboard-1.15.0\n",
            "  Found existing installation: tensorflow-estimator 1.15.1\n",
            "    Uninstalling tensorflow-estimator-1.15.1:\n",
            "      Successfully uninstalled tensorflow-estimator-1.15.1\n",
            "  Found existing installation: tensorflow 1.15.0\n",
            "    Uninstalling tensorflow-1.15.0:\n",
            "      Successfully uninstalled tensorflow-1.15.0\n",
            "Successfully installed tensorboard-2.1.1 tensorflow-2.1.0 tensorflow-estimator-2.1.0\n"
          ],
          "name": "stdout"
        }
      ]
    },
    {
      "cell_type": "code",
      "metadata": {
        "id": "Iw0Mcgph7i30",
        "colab_type": "code",
        "colab": {}
      },
      "source": [
        ""
      ],
      "execution_count": 0,
      "outputs": []
    },
    {
      "cell_type": "code",
      "metadata": {
        "id": "0ZyZWwNK02G_",
        "colab_type": "code",
        "colab": {}
      },
      "source": [
        ""
      ],
      "execution_count": 0,
      "outputs": []
    },
    {
      "cell_type": "code",
      "metadata": {
        "id": "mvtCuZ59SLkk",
        "colab_type": "code",
        "outputId": "1ebe8d9a-2931-431f-9be5-09a7c8c636dc",
        "colab": {
          "base_uri": "https://localhost:8080/",
          "height": 289
        }
      },
      "source": [
        "pip install keras==2.3.1"
      ],
      "execution_count": 2,
      "outputs": [
        {
          "output_type": "stream",
          "text": [
            "Collecting keras==2.3.1\n",
            "\u001b[?25l  Downloading https://files.pythonhosted.org/packages/ad/fd/6bfe87920d7f4fd475acd28500a42482b6b84479832bdc0fe9e589a60ceb/Keras-2.3.1-py2.py3-none-any.whl (377kB)\n",
            "\r\u001b[K     |▉                               | 10kB 26.8MB/s eta 0:00:01\r\u001b[K     |█▊                              | 20kB 1.8MB/s eta 0:00:01\r\u001b[K     |██▋                             | 30kB 2.6MB/s eta 0:00:01\r\u001b[K     |███▌                            | 40kB 1.7MB/s eta 0:00:01\r\u001b[K     |████▍                           | 51kB 2.1MB/s eta 0:00:01\r\u001b[K     |█████▏                          | 61kB 2.5MB/s eta 0:00:01\r\u001b[K     |██████                          | 71kB 2.9MB/s eta 0:00:01\r\u001b[K     |███████                         | 81kB 3.3MB/s eta 0:00:01\r\u001b[K     |███████▉                        | 92kB 3.7MB/s eta 0:00:01\r\u001b[K     |████████▊                       | 102kB 2.8MB/s eta 0:00:01\r\u001b[K     |█████████▌                      | 112kB 2.8MB/s eta 0:00:01\r\u001b[K     |██████████▍                     | 122kB 2.8MB/s eta 0:00:01\r\u001b[K     |███████████▎                    | 133kB 2.8MB/s eta 0:00:01\r\u001b[K     |████████████▏                   | 143kB 2.8MB/s eta 0:00:01\r\u001b[K     |█████████████                   | 153kB 2.8MB/s eta 0:00:01\r\u001b[K     |█████████████▉                  | 163kB 2.8MB/s eta 0:00:01\r\u001b[K     |██████████████▊                 | 174kB 2.8MB/s eta 0:00:01\r\u001b[K     |███████████████▋                | 184kB 2.8MB/s eta 0:00:01\r\u001b[K     |████████████████▌               | 194kB 2.8MB/s eta 0:00:01\r\u001b[K     |█████████████████▍              | 204kB 2.8MB/s eta 0:00:01\r\u001b[K     |██████████████████▏             | 215kB 2.8MB/s eta 0:00:01\r\u001b[K     |███████████████████             | 225kB 2.8MB/s eta 0:00:01\r\u001b[K     |████████████████████            | 235kB 2.8MB/s eta 0:00:01\r\u001b[K     |████████████████████▉           | 245kB 2.8MB/s eta 0:00:01\r\u001b[K     |█████████████████████▊          | 256kB 2.8MB/s eta 0:00:01\r\u001b[K     |██████████████████████▌         | 266kB 2.8MB/s eta 0:00:01\r\u001b[K     |███████████████████████▍        | 276kB 2.8MB/s eta 0:00:01\r\u001b[K     |████████████████████████▎       | 286kB 2.8MB/s eta 0:00:01\r\u001b[K     |█████████████████████████▏      | 296kB 2.8MB/s eta 0:00:01\r\u001b[K     |██████████████████████████      | 307kB 2.8MB/s eta 0:00:01\r\u001b[K     |██████████████████████████▉     | 317kB 2.8MB/s eta 0:00:01\r\u001b[K     |███████████████████████████▊    | 327kB 2.8MB/s eta 0:00:01\r\u001b[K     |████████████████████████████▋   | 337kB 2.8MB/s eta 0:00:01\r\u001b[K     |█████████████████████████████▌  | 348kB 2.8MB/s eta 0:00:01\r\u001b[K     |██████████████████████████████▍ | 358kB 2.8MB/s eta 0:00:01\r\u001b[K     |███████████████████████████████▏| 368kB 2.8MB/s eta 0:00:01\r\u001b[K     |████████████████████████████████| 378kB 2.8MB/s \n",
            "\u001b[?25hRequirement already satisfied: pyyaml in /usr/local/lib/python3.6/dist-packages (from keras==2.3.1) (3.13)\n",
            "Requirement already satisfied: scipy>=0.14 in /usr/local/lib/python3.6/dist-packages (from keras==2.3.1) (1.4.1)\n",
            "Requirement already satisfied: keras-applications>=1.0.6 in /usr/local/lib/python3.6/dist-packages (from keras==2.3.1) (1.0.8)\n",
            "Requirement already satisfied: keras-preprocessing>=1.0.5 in /usr/local/lib/python3.6/dist-packages (from keras==2.3.1) (1.1.0)\n",
            "Requirement already satisfied: h5py in /usr/local/lib/python3.6/dist-packages (from keras==2.3.1) (2.8.0)\n",
            "Requirement already satisfied: six>=1.9.0 in /usr/local/lib/python3.6/dist-packages (from keras==2.3.1) (1.12.0)\n",
            "Requirement already satisfied: numpy>=1.9.1 in /usr/local/lib/python3.6/dist-packages (from keras==2.3.1) (1.18.2)\n",
            "Installing collected packages: keras\n",
            "  Found existing installation: Keras 2.2.5\n",
            "    Uninstalling Keras-2.2.5:\n",
            "      Successfully uninstalled Keras-2.2.5\n",
            "Successfully installed keras-2.3.1\n"
          ],
          "name": "stdout"
        }
      ]
    },
    {
      "cell_type": "code",
      "metadata": {
        "id": "8PgGQ3BTSLnV",
        "colab_type": "code",
        "outputId": "90015609-8d59-4cd2-c9a7-9327c5352883",
        "colab": {
          "base_uri": "https://localhost:8080/",
          "height": 171
        }
      },
      "source": [
        "!kaggle competitions download -c ieee-fraud-detection"
      ],
      "execution_count": 3,
      "outputs": [
        {
          "output_type": "stream",
          "text": [
            "Traceback (most recent call last):\n",
            "  File \"/usr/local/bin/kaggle\", line 5, in <module>\n",
            "    from kaggle.cli import main\n",
            "  File \"/usr/local/lib/python2.7/dist-packages/kaggle/__init__.py\", line 23, in <module>\n",
            "    api.authenticate()\n",
            "  File \"/usr/local/lib/python2.7/dist-packages/kaggle/api/kaggle_api_extended.py\", line 146, in authenticate\n",
            "    self.config_file, self.config_dir))\n",
            "IOError: Could not find kaggle.json. Make sure it's located in /root/.kaggle. Or use the environment method.\n"
          ],
          "name": "stdout"
        }
      ]
    },
    {
      "cell_type": "code",
      "metadata": {
        "id": "6Hf5fscMSLqp",
        "colab_type": "code",
        "outputId": "11be1a03-b804-4feb-a1d7-04798a8609a7",
        "colab": {
          "base_uri": "https://localhost:8080/",
          "height": 306
        }
      },
      "source": [
        "import os\n",
        "os.environ['KAGGLE_USERNAME'] = \"\" # username from the json file\n",
        "os.environ['KAGGLE_KEY'] = \"\" # key from the json file\n",
        "!kaggle competitions download -c ieee-fraud-detection"
      ],
      "execution_count": 8,
      "outputs": [
        {
          "output_type": "stream",
          "text": [
            "Warning: Looks like you're using an outdated API Version, please consider updating (server 1.5.6 / client 1.5.4)\n",
            "Downloading sample_submission.csv.zip to /content\n",
            "  0% 0.00/1.14M [00:00<?, ?B/s]\n",
            "100% 1.14M/1.14M [00:00<00:00, 76.4MB/s]\n",
            "Downloading train_transaction.csv.zip to /content\n",
            " 84% 49.0M/58.3M [00:00<00:00, 68.5MB/s]\n",
            "100% 58.3M/58.3M [00:00<00:00, 108MB/s] \n",
            "Downloading test_identity.csv.zip to /content\n",
            "  0% 0.00/3.21M [00:00<?, ?B/s]\n",
            "100% 3.21M/3.21M [00:00<00:00, 220MB/s]\n",
            "Downloading test_transaction.csv.zip to /content\n",
            " 96% 50.0M/52.2M [00:00<00:00, 90.2MB/s]\n",
            "100% 52.2M/52.2M [00:00<00:00, 132MB/s] \n",
            "Downloading train_identity.csv.zip to /content\n",
            "  0% 0.00/3.26M [00:00<?, ?B/s]\n",
            "100% 3.26M/3.26M [00:00<00:00, 108MB/s]\n"
          ],
          "name": "stdout"
        }
      ]
    },
    {
      "cell_type": "code",
      "metadata": {
        "id": "tiDZfidBSLts",
        "colab_type": "code",
        "outputId": "6f6527ce-11f5-4ae0-ca6a-06a6d2450e8f",
        "colab": {
          "base_uri": "https://localhost:8080/",
          "height": 289
        }
      },
      "source": [
        "pip install category_encoders"
      ],
      "execution_count": 5,
      "outputs": [
        {
          "output_type": "stream",
          "text": [
            "Collecting category_encoders\n",
            "\u001b[?25l  Downloading https://files.pythonhosted.org/packages/a0/52/c54191ad3782de633ea3d6ee3bb2837bda0cf3bc97644bb6375cf14150a0/category_encoders-2.1.0-py2.py3-none-any.whl (100kB)\n",
            "\r\u001b[K     |███▎                            | 10kB 27.1MB/s eta 0:00:01\r\u001b[K     |██████▌                         | 20kB 1.7MB/s eta 0:00:01\r\u001b[K     |█████████▉                      | 30kB 2.6MB/s eta 0:00:01\r\u001b[K     |█████████████                   | 40kB 1.7MB/s eta 0:00:01\r\u001b[K     |████████████████▍               | 51kB 2.1MB/s eta 0:00:01\r\u001b[K     |███████████████████▋            | 61kB 2.5MB/s eta 0:00:01\r\u001b[K     |██████████████████████▉         | 71kB 2.9MB/s eta 0:00:01\r\u001b[K     |██████████████████████████▏     | 81kB 3.3MB/s eta 0:00:01\r\u001b[K     |█████████████████████████████▍  | 92kB 3.7MB/s eta 0:00:01\r\u001b[K     |████████████████████████████████| 102kB 2.5MB/s \n",
            "\u001b[?25hRequirement already satisfied: scipy>=0.19.0 in /usr/local/lib/python3.6/dist-packages (from category_encoders) (1.4.1)\n",
            "Requirement already satisfied: statsmodels>=0.6.1 in /usr/local/lib/python3.6/dist-packages (from category_encoders) (0.10.2)\n",
            "Requirement already satisfied: pandas>=0.21.1 in /usr/local/lib/python3.6/dist-packages (from category_encoders) (0.25.3)\n",
            "Requirement already satisfied: numpy>=1.11.3 in /usr/local/lib/python3.6/dist-packages (from category_encoders) (1.18.2)\n",
            "Requirement already satisfied: patsy>=0.4.1 in /usr/local/lib/python3.6/dist-packages (from category_encoders) (0.5.1)\n",
            "Requirement already satisfied: scikit-learn>=0.20.0 in /usr/local/lib/python3.6/dist-packages (from category_encoders) (0.22.2.post1)\n",
            "Requirement already satisfied: pytz>=2017.2 in /usr/local/lib/python3.6/dist-packages (from pandas>=0.21.1->category_encoders) (2018.9)\n",
            "Requirement already satisfied: python-dateutil>=2.6.1 in /usr/local/lib/python3.6/dist-packages (from pandas>=0.21.1->category_encoders) (2.8.1)\n",
            "Requirement already satisfied: six in /usr/local/lib/python3.6/dist-packages (from patsy>=0.4.1->category_encoders) (1.12.0)\n",
            "Requirement already satisfied: joblib>=0.11 in /usr/local/lib/python3.6/dist-packages (from scikit-learn>=0.20.0->category_encoders) (0.14.1)\n",
            "Installing collected packages: category-encoders\n",
            "Successfully installed category-encoders-2.1.0\n"
          ],
          "name": "stdout"
        }
      ]
    },
    {
      "cell_type": "code",
      "metadata": {
        "id": "sD_EThJHSLw7",
        "colab_type": "code",
        "outputId": "78163012-80fa-46f9-c657-0c12da8af0ce",
        "colab": {
          "base_uri": "https://localhost:8080/",
          "height": 138
        }
      },
      "source": [
        "from google.colab import drive\n",
        "drive.mount('/content/gdrive')\n",
        "drive.mount(\"/content/gdrive\", force_remount=True)\n"
      ],
      "execution_count": 6,
      "outputs": [
        {
          "output_type": "stream",
          "text": [
            "Go to this URL in a browser: https://accounts.google.com/o/oauth2/auth?client_id=947318989803-6bn6qk8qdgf4n4g3pfee6491hc0brc4i.apps.googleusercontent.com&redirect_uri=urn%3aietf%3awg%3aoauth%3a2.0%3aoob&response_type=code&scope=email%20https%3a%2f%2fwww.googleapis.com%2fauth%2fdocs.test%20https%3a%2f%2fwww.googleapis.com%2fauth%2fdrive%20https%3a%2f%2fwww.googleapis.com%2fauth%2fdrive.photos.readonly%20https%3a%2f%2fwww.googleapis.com%2fauth%2fpeopleapi.readonly\n",
            "\n",
            "Enter your authorization code:\n",
            "··········\n",
            "Mounted at /content/gdrive\n",
            "Mounted at /content/gdrive\n"
          ],
          "name": "stdout"
        }
      ]
    },
    {
      "cell_type": "code",
      "metadata": {
        "id": "mefvUoye1sL0",
        "colab_type": "code",
        "outputId": "ce2ea751-fc13-41af-d7fc-c6d0c77990c4",
        "colab": {
          "base_uri": "https://localhost:8080/",
          "height": 87
        }
      },
      "source": [
        "import pandas as pd\n",
        "import numpy as np\n",
        "#read autoenoded features\n",
        "path = F\"/content/gdrive/My Drive/autoenc.csv\" \n",
        "ext=pd.read_csv(path,index_col=0)\n",
        "ls=list(ext)\n",
        "trn=pd.read_csv('train_transaction.csv.zip',usecols=['isFraud'])\n",
        "ext=ext.loc[:trn.shape[0]]\n",
        "ext['isFraud']=trn['isFraud']\n",
        "import lightgbm as lgb\n",
        "from tqdm import tqdm\n",
        "from sklearn.metrics import roc_auc_score\n",
        "fnl=pd.DataFrame()\n",
        "cols=[]\n",
        "val=[]\n",
        "trn.shape[0]\n"
      ],
      "execution_count": 9,
      "outputs": [
        {
          "output_type": "stream",
          "text": [
            "/usr/local/lib/python3.6/dist-packages/numpy/lib/arraysetops.py:569: FutureWarning: elementwise comparison failed; returning scalar instead, but in the future will perform elementwise comparison\n",
            "  mask |= (ar1 == a)\n"
          ],
          "name": "stderr"
        },
        {
          "output_type": "execute_result",
          "data": {
            "text/plain": [
              "590540"
            ]
          },
          "metadata": {
            "tags": []
          },
          "execution_count": 9
        }
      ]
    },
    {
      "cell_type": "code",
      "metadata": {
        "id": "QBXSF3q32EBD",
        "colab_type": "code",
        "colab": {}
      },
      "source": [
        "ext=ext.dropna()\n",
        "ext=ext.replace([np.inf,-np.inf],0)"
      ],
      "execution_count": 0,
      "outputs": []
    },
    {
      "cell_type": "code",
      "metadata": {
        "id": "iyGGEmE8RwJB",
        "colab_type": "code",
        "outputId": "c06301a0-a660-4601-f2be-f7f0a95ab216",
        "colab": {
          "base_uri": "https://localhost:8080/",
          "height": 1000
        }
      },
      "source": [
        "trn=[]\n",
        "\n",
        "#fit model with n rows and predict next 40000 rows for each column\n",
        "\n",
        "for col in tqdm(ls):\n",
        "    for i in range(50000,590540,40000):\n",
        "        fit=ext.loc[0:i]\n",
        "        pdct=ext.loc[i:i+40000]\n",
        "        mod=lgb.LGBMClassifier(max_bins= 37,max_depth= 40,min_data_in_leaf= 110,min_gain_to_split= 1,num_leaves=48)\n",
        "        mod.fit(fit[col].values.reshape(-1,1),fit['isFraud'])\n",
        "        val.append(roc_auc_score(pdct['isFraud'],mod.predict_proba(pdct[col].values.reshape(-1,1))[:,1]))\n",
        "        trn.append(roc_auc_score(fit['isFraud'],mod.predict_proba(fit[col].values.reshape(-1,1))[:,1]))\n",
        "        cols.append(col)"
      ],
      "execution_count": 16,
      "outputs": [
        {
          "output_type": "stream",
          "text": [
            "\n",
            "  0%|          | 0/252 [00:00<?, ?it/s]\u001b[A\n",
            "  0%|          | 1/252 [00:11<47:50, 11.44s/it]\u001b[A\n",
            "  1%|          | 2/252 [00:23<48:43, 11.69s/it]\u001b[A\n",
            "  1%|          | 3/252 [00:35<48:54, 11.79s/it]\u001b[A\n",
            "  2%|▏         | 4/252 [00:46<47:55, 11.59s/it]\u001b[A\n",
            "  2%|▏         | 5/252 [00:58<47:51, 11.63s/it]\u001b[A\n",
            "  2%|▏         | 6/252 [01:11<48:41, 11.88s/it]\u001b[A\n",
            "  3%|▎         | 7/252 [01:23<48:47, 11.95s/it]\u001b[A\n",
            "  3%|▎         | 8/252 [01:34<47:59, 11.80s/it]\u001b[A\n",
            "  4%|▎         | 9/252 [01:46<47:32, 11.74s/it]\u001b[A\n",
            "  4%|▍         | 10/252 [01:58<47:53, 11.88s/it]\u001b[A\n",
            "  4%|▍         | 11/252 [02:10<47:26, 11.81s/it]\u001b[A\n",
            "  5%|▍         | 12/252 [02:21<47:09, 11.79s/it]\u001b[A\n",
            "  5%|▌         | 13/252 [02:33<47:18, 11.88s/it]\u001b[A\n",
            "  6%|▌         | 14/252 [02:45<46:24, 11.70s/it]\u001b[A\n",
            "  6%|▌         | 15/252 [02:56<45:53, 11.62s/it]\u001b[A\n",
            "  6%|▋         | 16/252 [03:07<44:55, 11.42s/it]\u001b[A\n",
            "  7%|▋         | 17/252 [03:19<45:11, 11.54s/it]\u001b[A\n",
            "  7%|▋         | 18/252 [03:29<43:49, 11.24s/it]\u001b[A\n",
            "  8%|▊         | 19/252 [03:41<44:09, 11.37s/it]\u001b[A\n",
            "  8%|▊         | 20/252 [03:53<44:22, 11.48s/it]\u001b[A\n",
            "  8%|▊         | 21/252 [04:04<44:14, 11.49s/it]\u001b[A\n",
            "  9%|▊         | 22/252 [04:16<44:03, 11.49s/it]\u001b[A\n",
            "  9%|▉         | 23/252 [04:27<43:48, 11.48s/it]\u001b[A\n",
            " 10%|▉         | 24/252 [04:39<43:51, 11.54s/it]\u001b[A\n",
            " 10%|▉         | 25/252 [04:50<43:32, 11.51s/it]\u001b[A\n",
            " 10%|█         | 26/252 [05:02<43:25, 11.53s/it]\u001b[A\n",
            " 11%|█         | 27/252 [05:14<43:47, 11.68s/it]\u001b[A\n",
            " 11%|█         | 28/252 [05:26<44:10, 11.83s/it]\u001b[A\n",
            " 12%|█▏        | 29/252 [05:38<44:11, 11.89s/it]\u001b[A\n",
            " 12%|█▏        | 30/252 [05:49<43:04, 11.64s/it]\u001b[A\n",
            " 12%|█▏        | 31/252 [06:01<43:02, 11.69s/it]\u001b[A\n",
            " 13%|█▎        | 32/252 [06:13<42:54, 11.70s/it]\u001b[A\n",
            " 13%|█▎        | 33/252 [06:25<43:01, 11.79s/it]\u001b[A\n",
            " 13%|█▎        | 34/252 [06:37<43:04, 11.86s/it]\u001b[A\n",
            " 14%|█▍        | 35/252 [06:48<42:14, 11.68s/it]\u001b[A\n",
            " 14%|█▍        | 36/252 [07:00<42:19, 11.76s/it]\u001b[A\n",
            " 15%|█▍        | 37/252 [07:12<42:04, 11.74s/it]\u001b[A\n",
            " 15%|█▌        | 38/252 [07:24<42:31, 11.92s/it]\u001b[A\n",
            " 15%|█▌        | 39/252 [07:35<41:18, 11.63s/it]\u001b[A\n",
            " 16%|█▌        | 40/252 [07:46<40:44, 11.53s/it]\u001b[A\n",
            " 16%|█▋        | 41/252 [07:58<40:58, 11.65s/it]\u001b[A\n",
            " 17%|█▋        | 42/252 [08:10<40:32, 11.59s/it]\u001b[A\n",
            " 17%|█▋        | 43/252 [08:21<40:12, 11.55s/it]\u001b[A\n",
            " 17%|█▋        | 44/252 [08:31<38:36, 11.14s/it]\u001b[A\n",
            " 18%|█▊        | 45/252 [08:42<38:13, 11.08s/it]\u001b[A\n",
            " 18%|█▊        | 46/252 [08:53<37:50, 11.02s/it]\u001b[A\n",
            " 19%|█▊        | 47/252 [09:05<38:54, 11.39s/it]\u001b[A\n",
            " 19%|█▉        | 48/252 [09:17<38:39, 11.37s/it]\u001b[A\n",
            " 19%|█▉        | 49/252 [09:29<39:14, 11.60s/it]\u001b[A\n",
            " 20%|█▉        | 50/252 [09:40<38:19, 11.38s/it]\u001b[A\n",
            " 20%|██        | 51/252 [09:51<37:31, 11.20s/it]\u001b[A\n",
            " 21%|██        | 52/252 [10:02<37:38, 11.29s/it]\u001b[A\n",
            " 21%|██        | 53/252 [10:13<37:16, 11.24s/it]\u001b[A\n",
            " 21%|██▏       | 54/252 [10:26<38:13, 11.58s/it]\u001b[A\n",
            " 22%|██▏       | 55/252 [10:37<37:49, 11.52s/it]\u001b[A\n",
            " 22%|██▏       | 56/252 [10:48<37:05, 11.35s/it]\u001b[A\n",
            " 23%|██▎       | 57/252 [11:00<37:23, 11.51s/it]\u001b[A\n",
            " 23%|██▎       | 58/252 [11:11<36:54, 11.42s/it]\u001b[A\n",
            " 23%|██▎       | 59/252 [11:21<35:28, 11.03s/it]\u001b[A\n",
            " 24%|██▍       | 60/252 [11:32<35:26, 11.08s/it]\u001b[A\n",
            " 24%|██▍       | 61/252 [11:43<34:49, 10.94s/it]\u001b[A\n",
            " 25%|██▍       | 62/252 [11:54<34:30, 10.90s/it]\u001b[A\n",
            " 25%|██▌       | 63/252 [12:05<34:32, 10.97s/it]\u001b[A\n",
            " 25%|██▌       | 64/252 [12:16<34:28, 11.00s/it]\u001b[A\n",
            " 26%|██▌       | 65/252 [12:27<34:25, 11.05s/it]\u001b[A\n",
            " 26%|██▌       | 66/252 [12:38<34:08, 11.01s/it]\u001b[A\n",
            " 27%|██▋       | 67/252 [12:50<34:37, 11.23s/it]\u001b[A\n",
            " 27%|██▋       | 68/252 [13:00<33:52, 11.04s/it]\u001b[A\n",
            " 27%|██▋       | 69/252 [13:11<33:40, 11.04s/it]\u001b[A\n",
            " 28%|██▊       | 70/252 [13:23<33:37, 11.09s/it]\u001b[A\n",
            " 28%|██▊       | 71/252 [13:34<33:44, 11.18s/it]\u001b[A\n",
            " 29%|██▊       | 72/252 [13:46<34:10, 11.39s/it]\u001b[A\n",
            " 29%|██▉       | 73/252 [13:56<33:20, 11.18s/it]\u001b[A\n",
            " 29%|██▉       | 74/252 [14:07<32:58, 11.11s/it]\u001b[A\n",
            " 30%|██▉       | 75/252 [14:17<31:45, 10.77s/it]\u001b[A\n",
            " 30%|███       | 76/252 [14:29<32:32, 11.10s/it]\u001b[A\n",
            " 31%|███       | 77/252 [14:40<32:21, 11.10s/it]\u001b[A\n",
            " 31%|███       | 78/252 [14:52<32:35, 11.24s/it]\u001b[A\n",
            " 31%|███▏      | 79/252 [15:03<32:27, 11.25s/it]\u001b[A\n",
            " 32%|███▏      | 80/252 [15:14<32:02, 11.18s/it]\u001b[A\n",
            " 32%|███▏      | 81/252 [15:26<32:09, 11.28s/it]\u001b[A\n",
            " 33%|███▎      | 82/252 [15:37<31:44, 11.20s/it]\u001b[A\n",
            " 33%|███▎      | 83/252 [15:48<31:52, 11.32s/it]\u001b[A\n",
            " 33%|███▎      | 84/252 [16:00<31:46, 11.35s/it]\u001b[A\n",
            " 34%|███▎      | 85/252 [16:11<31:36, 11.35s/it]\u001b[A\n",
            " 34%|███▍      | 86/252 [16:23<31:54, 11.53s/it]\u001b[A\n",
            " 35%|███▍      | 87/252 [16:34<31:33, 11.47s/it]\u001b[A\n",
            " 35%|███▍      | 88/252 [16:45<31:00, 11.34s/it]\u001b[A\n",
            " 35%|███▌      | 89/252 [16:57<30:52, 11.36s/it]\u001b[A\n",
            " 36%|███▌      | 90/252 [17:08<30:15, 11.21s/it]\u001b[A\n",
            " 36%|███▌      | 91/252 [17:19<29:48, 11.11s/it]\u001b[A\n",
            " 37%|███▋      | 92/252 [17:29<29:22, 11.02s/it]\u001b[A\n",
            " 37%|███▋      | 93/252 [17:41<29:36, 11.17s/it]\u001b[A\n",
            " 37%|███▋      | 94/252 [17:52<29:26, 11.18s/it]\u001b[A\n",
            " 38%|███▊      | 95/252 [18:03<28:58, 11.07s/it]\u001b[A\n",
            " 38%|███▊      | 96/252 [18:13<28:16, 10.87s/it]\u001b[A\n",
            " 38%|███▊      | 97/252 [18:24<28:09, 10.90s/it]\u001b[A\n",
            " 39%|███▉      | 98/252 [18:36<28:37, 11.15s/it]\u001b[A\n",
            " 39%|███▉      | 99/252 [18:48<29:10, 11.44s/it]\u001b[A\n",
            " 40%|███▉      | 100/252 [19:00<29:37, 11.69s/it]\u001b[A\n",
            " 40%|████      | 101/252 [19:12<29:24, 11.69s/it]\u001b[A\n",
            " 40%|████      | 102/252 [19:24<28:59, 11.60s/it]\u001b[A\n",
            " 41%|████      | 103/252 [19:35<28:22, 11.43s/it]\u001b[A\n",
            " 41%|████▏     | 104/252 [19:46<28:23, 11.51s/it]\u001b[A\n",
            " 42%|████▏     | 105/252 [19:57<27:54, 11.39s/it]\u001b[A\n",
            " 42%|████▏     | 106/252 [20:09<27:37, 11.36s/it]\u001b[A\n",
            " 42%|████▏     | 107/252 [20:20<27:41, 11.46s/it]\u001b[A\n",
            " 43%|████▎     | 108/252 [20:32<27:24, 11.42s/it]\u001b[A\n",
            " 43%|████▎     | 109/252 [20:43<26:53, 11.29s/it]\u001b[A\n",
            " 44%|████▎     | 110/252 [20:54<26:37, 11.25s/it]\u001b[A\n",
            " 44%|████▍     | 111/252 [21:05<26:22, 11.22s/it]\u001b[A\n",
            " 44%|████▍     | 112/252 [21:16<25:56, 11.12s/it]\u001b[A\n",
            " 45%|████▍     | 113/252 [21:28<26:10, 11.30s/it]\u001b[A\n",
            " 45%|████▌     | 114/252 [21:40<26:31, 11.53s/it]\u001b[A\n",
            " 46%|████▌     | 115/252 [21:51<26:17, 11.51s/it]\u001b[A\n",
            " 46%|████▌     | 116/252 [22:02<25:54, 11.43s/it]\u001b[A\n",
            " 46%|████▋     | 117/252 [22:14<25:49, 11.48s/it]\u001b[A\n",
            " 47%|████▋     | 118/252 [22:25<25:26, 11.39s/it]\u001b[A\n",
            " 47%|████▋     | 119/252 [22:36<25:05, 11.32s/it]\u001b[A\n",
            " 48%|████▊     | 120/252 [22:47<24:48, 11.28s/it]\u001b[A\n",
            " 48%|████▊     | 121/252 [22:59<24:56, 11.43s/it]\u001b[A\n",
            " 48%|████▊     | 122/252 [23:11<24:45, 11.42s/it]\u001b[A\n",
            " 49%|████▉     | 123/252 [23:23<24:54, 11.59s/it]\u001b[A\n",
            " 49%|████▉     | 124/252 [23:34<24:52, 11.66s/it]\u001b[A\n",
            " 50%|████▉     | 125/252 [23:46<24:26, 11.55s/it]\u001b[A\n",
            " 50%|█████     | 126/252 [23:57<24:06, 11.48s/it]\u001b[A\n",
            " 50%|█████     | 127/252 [24:08<23:32, 11.30s/it]\u001b[A\n",
            " 51%|█████     | 128/252 [24:19<22:54, 11.08s/it]\u001b[A\n",
            " 51%|█████     | 129/252 [24:30<22:55, 11.18s/it]\u001b[A\n",
            " 52%|█████▏    | 130/252 [24:40<22:18, 10.97s/it]\u001b[A\n",
            " 52%|█████▏    | 131/252 [24:52<22:27, 11.13s/it]\u001b[A\n",
            " 52%|█████▏    | 132/252 [25:03<22:13, 11.11s/it]\u001b[A\n",
            " 53%|█████▎    | 133/252 [25:14<22:10, 11.18s/it]\u001b[A\n",
            " 53%|█████▎    | 134/252 [25:26<22:20, 11.36s/it]\u001b[A\n",
            " 54%|█████▎    | 135/252 [25:37<21:47, 11.17s/it]\u001b[A\n",
            " 54%|█████▍    | 136/252 [25:49<21:55, 11.34s/it]\u001b[A\n",
            " 54%|█████▍    | 137/252 [25:59<21:21, 11.14s/it]\u001b[A\n",
            " 55%|█████▍    | 138/252 [26:11<21:25, 11.27s/it]\u001b[A\n",
            " 55%|█████▌    | 139/252 [26:21<20:47, 11.04s/it]\u001b[A\n",
            " 56%|█████▌    | 140/252 [26:32<20:13, 10.83s/it]\u001b[A\n",
            " 56%|█████▌    | 141/252 [26:42<20:00, 10.81s/it]\u001b[A\n",
            " 56%|█████▋    | 142/252 [26:53<19:45, 10.78s/it]\u001b[A\n",
            " 57%|█████▋    | 143/252 [27:04<19:34, 10.78s/it]\u001b[A\n",
            " 57%|█████▋    | 144/252 [27:15<19:20, 10.74s/it]\u001b[A\n",
            " 58%|█████▊    | 145/252 [27:25<19:06, 10.71s/it]\u001b[A\n",
            " 58%|█████▊    | 146/252 [27:36<18:50, 10.67s/it]\u001b[A\n",
            " 58%|█████▊    | 147/252 [27:47<18:55, 10.82s/it]\u001b[A\n",
            " 59%|█████▊    | 148/252 [27:58<18:45, 10.82s/it]\u001b[A\n",
            " 59%|█████▉    | 149/252 [28:08<18:06, 10.55s/it]\u001b[A\n",
            " 60%|█████▉    | 150/252 [28:19<18:08, 10.67s/it]\u001b[A\n",
            " 60%|█████▉    | 151/252 [28:29<17:55, 10.64s/it]\u001b[A\n",
            " 60%|██████    | 152/252 [28:35<15:32,  9.32s/it]\u001b[A\n",
            " 61%|██████    | 153/252 [28:46<16:04,  9.74s/it]\u001b[A\n",
            " 61%|██████    | 154/252 [28:57<16:23, 10.04s/it]\u001b[A\n",
            " 62%|██████▏   | 155/252 [29:08<16:36, 10.27s/it]\u001b[A\n",
            " 62%|██████▏   | 156/252 [29:19<16:43, 10.45s/it]\u001b[A\n",
            " 62%|██████▏   | 157/252 [29:30<16:47, 10.61s/it]\u001b[A\n",
            " 63%|██████▎   | 158/252 [29:41<16:46, 10.70s/it]\u001b[A\n",
            " 63%|██████▎   | 159/252 [29:51<16:30, 10.65s/it]\u001b[A\n",
            " 63%|██████▎   | 160/252 [30:02<16:29, 10.75s/it]\u001b[A\n",
            " 64%|██████▍   | 161/252 [30:13<16:23, 10.81s/it]\u001b[A\n",
            " 64%|██████▍   | 162/252 [30:24<16:15, 10.84s/it]\u001b[A\n",
            " 65%|██████▍   | 163/252 [30:35<16:19, 11.01s/it]\u001b[A\n",
            " 65%|██████▌   | 164/252 [30:46<16:09, 11.02s/it]\u001b[A\n",
            " 65%|██████▌   | 165/252 [30:58<16:05, 11.09s/it]\u001b[A\n",
            " 66%|██████▌   | 166/252 [31:08<15:42, 10.96s/it]\u001b[A\n",
            " 66%|██████▋   | 167/252 [31:20<15:47, 11.14s/it]\u001b[A\n",
            " 67%|██████▋   | 168/252 [31:30<15:22, 10.98s/it]\u001b[A\n",
            " 67%|██████▋   | 169/252 [31:41<15:01, 10.86s/it]\u001b[A\n",
            " 67%|██████▋   | 170/252 [31:52<14:51, 10.87s/it]\u001b[A\n",
            " 68%|██████▊   | 171/252 [32:03<14:49, 10.98s/it]\u001b[A\n",
            " 68%|██████▊   | 172/252 [32:13<14:18, 10.74s/it]\u001b[A\n",
            " 69%|██████▊   | 173/252 [32:24<14:08, 10.74s/it]\u001b[A\n",
            " 69%|██████▉   | 174/252 [32:35<14:12, 10.93s/it]\u001b[A\n",
            " 69%|██████▉   | 175/252 [32:46<14:00, 10.91s/it]\u001b[A\n",
            " 70%|██████▉   | 176/252 [32:58<14:01, 11.07s/it]\u001b[A\n",
            " 70%|███████   | 177/252 [33:08<13:36, 10.89s/it]\u001b[A\n",
            " 71%|███████   | 178/252 [33:19<13:23, 10.86s/it]\u001b[A\n",
            " 71%|███████   | 179/252 [33:30<13:13, 10.87s/it]\u001b[A\n",
            " 71%|███████▏  | 180/252 [33:41<13:14, 11.03s/it]\u001b[A\n",
            " 72%|███████▏  | 181/252 [33:52<13:05, 11.07s/it]\u001b[A\n",
            " 72%|███████▏  | 182/252 [34:04<12:57, 11.10s/it]\u001b[A\n",
            " 73%|███████▎  | 183/252 [34:14<12:36, 10.96s/it]\u001b[A\n",
            " 73%|███████▎  | 184/252 [34:25<12:21, 10.91s/it]\u001b[A\n",
            " 73%|███████▎  | 185/252 [34:36<12:10, 10.90s/it]\u001b[A\n",
            " 74%|███████▍  | 186/252 [34:47<12:00, 10.92s/it]\u001b[A\n",
            " 74%|███████▍  | 187/252 [34:58<11:49, 10.92s/it]\u001b[A\n",
            " 75%|███████▍  | 188/252 [35:08<11:31, 10.81s/it]\u001b[A\n",
            " 75%|███████▌  | 189/252 [35:20<11:38, 11.08s/it]\u001b[A\n",
            " 75%|███████▌  | 190/252 [35:31<11:22, 11.01s/it]\u001b[A\n",
            " 76%|███████▌  | 191/252 [35:43<11:21, 11.17s/it]\u001b[A\n",
            " 76%|███████▌  | 192/252 [35:54<11:14, 11.24s/it]\u001b[A\n",
            " 77%|███████▋  | 193/252 [36:05<11:00, 11.20s/it]\u001b[A\n",
            " 77%|███████▋  | 194/252 [36:15<10:33, 10.92s/it]\u001b[A\n",
            " 77%|███████▋  | 195/252 [36:26<10:26, 10.99s/it]\u001b[A\n",
            " 78%|███████▊  | 196/252 [36:38<10:20, 11.08s/it]\u001b[A\n",
            " 78%|███████▊  | 197/252 [36:49<10:06, 11.02s/it]\u001b[A\n",
            " 79%|███████▊  | 198/252 [37:00<10:02, 11.16s/it]\u001b[A\n",
            " 79%|███████▉  | 199/252 [37:12<09:55, 11.24s/it]\u001b[A\n",
            " 79%|███████▉  | 200/252 [37:23<09:46, 11.27s/it]\u001b[A\n",
            " 80%|███████▉  | 201/252 [37:34<09:39, 11.37s/it]\u001b[A\n",
            " 80%|████████  | 202/252 [37:45<09:17, 11.16s/it]\u001b[A\n",
            " 81%|████████  | 203/252 [37:57<09:10, 11.24s/it]\u001b[A\n",
            " 81%|████████  | 204/252 [38:07<08:50, 11.04s/it]\u001b[A\n",
            " 81%|████████▏ | 205/252 [38:18<08:32, 10.90s/it]\u001b[A\n",
            " 82%|████████▏ | 206/252 [38:29<08:23, 10.94s/it]\u001b[A\n",
            " 82%|████████▏ | 207/252 [38:40<08:16, 11.02s/it]\u001b[A\n",
            " 83%|████████▎ | 208/252 [38:51<08:00, 10.91s/it]\u001b[A\n",
            " 83%|████████▎ | 209/252 [39:02<07:59, 11.14s/it]\u001b[A\n",
            " 83%|████████▎ | 210/252 [39:13<07:45, 11.09s/it]\u001b[A\n",
            " 84%|████████▎ | 211/252 [39:24<07:25, 10.87s/it]\u001b[A\n",
            " 84%|████████▍ | 212/252 [39:34<07:11, 10.78s/it]\u001b[A\n",
            " 85%|████████▍ | 213/252 [39:44<06:54, 10.64s/it]\u001b[A\n",
            " 85%|████████▍ | 214/252 [39:55<06:38, 10.49s/it]\u001b[A\n",
            " 85%|████████▌ | 215/252 [40:05<06:31, 10.59s/it]\u001b[A\n",
            " 86%|████████▌ | 216/252 [40:16<06:18, 10.51s/it]\u001b[A\n",
            " 86%|████████▌ | 217/252 [40:27<06:11, 10.60s/it]\u001b[A\n",
            " 87%|████████▋ | 218/252 [40:38<06:07, 10.81s/it]\u001b[A\n",
            " 87%|████████▋ | 219/252 [40:50<06:06, 11.10s/it]\u001b[A\n",
            " 87%|████████▋ | 220/252 [41:02<06:07, 11.49s/it]\u001b[A\n",
            " 88%|████████▊ | 221/252 [41:13<05:54, 11.45s/it]\u001b[A\n",
            " 88%|████████▊ | 222/252 [41:25<05:43, 11.45s/it]\u001b[A\n",
            " 88%|████████▊ | 223/252 [41:36<05:31, 11.44s/it]\u001b[A\n",
            " 89%|████████▉ | 224/252 [41:47<05:12, 11.17s/it]\u001b[A\n",
            " 89%|████████▉ | 225/252 [41:58<05:02, 11.21s/it]\u001b[A\n",
            " 90%|████████▉ | 226/252 [42:09<04:52, 11.24s/it]\u001b[A\n",
            " 90%|█████████ | 227/252 [42:21<04:40, 11.23s/it]\u001b[A\n",
            " 90%|█████████ | 228/252 [42:31<04:23, 11.00s/it]\u001b[A\n",
            " 91%|█████████ | 229/252 [42:42<04:14, 11.07s/it]\u001b[A\n",
            " 91%|█████████▏| 230/252 [42:53<04:04, 11.09s/it]\u001b[A\n",
            " 92%|█████████▏| 231/252 [43:05<03:56, 11.26s/it]\u001b[A\n",
            " 92%|█████████▏| 232/252 [43:16<03:42, 11.14s/it]\u001b[A\n",
            " 92%|█████████▏| 233/252 [43:27<03:31, 11.13s/it]\u001b[A\n",
            " 93%|█████████▎| 234/252 [43:38<03:17, 10.95s/it]\u001b[A\n",
            " 93%|█████████▎| 235/252 [43:48<03:05, 10.90s/it]\u001b[A\n",
            " 94%|█████████▎| 236/252 [44:00<02:55, 11.00s/it]\u001b[A\n",
            " 94%|█████████▍| 237/252 [44:11<02:47, 11.14s/it]\u001b[A\n",
            " 94%|█████████▍| 238/252 [44:22<02:33, 10.94s/it]\u001b[A\n",
            " 95%|█████████▍| 239/252 [44:32<02:21, 10.85s/it]\u001b[A\n",
            " 95%|█████████▌| 240/252 [44:43<02:10, 10.86s/it]\u001b[A\n",
            " 96%|█████████▌| 241/252 [44:54<01:59, 10.91s/it]\u001b[A\n",
            " 96%|█████████▌| 242/252 [45:05<01:48, 10.90s/it]\u001b[A\n",
            " 96%|█████████▋| 243/252 [45:16<01:37, 10.89s/it]\u001b[A\n",
            " 97%|█████████▋| 244/252 [45:27<01:27, 10.98s/it]\u001b[A\n",
            " 97%|█████████▋| 245/252 [45:39<01:18, 11.15s/it]\u001b[A\n",
            " 98%|█████████▊| 246/252 [45:49<01:06, 11.04s/it]\u001b[A\n",
            " 98%|█████████▊| 247/252 [46:01<00:55, 11.06s/it]\u001b[A\n",
            " 98%|█████████▊| 248/252 [46:11<00:43, 10.97s/it]\u001b[A\n",
            " 99%|█████████▉| 249/252 [46:22<00:33, 11.02s/it]\u001b[A\n",
            " 99%|█████████▉| 250/252 [46:33<00:21, 10.92s/it]\u001b[A\n",
            "100%|█████████▉| 251/252 [46:44<00:10, 10.95s/it]\u001b[A\n",
            "100%|██████████| 252/252 [46:55<00:00, 11.17s/it]\n"
          ],
          "name": "stderr"
        }
      ]
    },
    {
      "cell_type": "code",
      "metadata": {
        "id": "ApEMASdLTwdx",
        "colab_type": "code",
        "outputId": "e6784a9e-f455-4466-9ef9-707868165405",
        "colab": {
          "base_uri": "https://localhost:8080/",
          "height": 34
        }
      },
      "source": [
        "ext.shape"
      ],
      "execution_count": 0,
      "outputs": [
        {
          "output_type": "execute_result",
          "data": {
            "text/plain": [
              "(20000, 253)"
            ]
          },
          "metadata": {
            "tags": []
          },
          "execution_count": 15
        }
      ]
    },
    {
      "cell_type": "code",
      "metadata": {
        "id": "qIw4a6emRwMA",
        "colab_type": "code",
        "colab": {}
      },
      "source": [
        "\n",
        "#calculate mean over all time periods\n",
        "\n",
        "fnl['cols']=cols\n",
        "fnl['validation']=val\n",
        "fnl['train']=trn\n",
        "fnl['validation']=fnl.groupby(['cols'])['validation'].transform('mean')\n",
        "fnl['train']=fnl.groupby(['cols'])['train'].transform('mean')\n",
        "fnl=fnl[['validation','train','cols']]\n",
        "fnl=fnl.drop_duplicates(keep='last')"
      ],
      "execution_count": 0,
      "outputs": []
    },
    {
      "cell_type": "code",
      "metadata": {
        "id": "kbK16NI-RwPH",
        "colab_type": "code",
        "outputId": "b64749b6-4bb4-4345-a7a4-523443a686ae",
        "colab": {
          "base_uri": "https://localhost:8080/",
          "height": 454
        }
      },
      "source": [
        "\n",
        "#top 100 values for validation\n",
        "\n",
        "fnl=fnl.sort_values(by='validation')\n",
        "fnl.tail(100)['cols'].values"
      ],
      "execution_count": 0,
      "outputs": [
        {
          "output_type": "execute_result",
          "data": {
            "text/plain": [
              "array(['Hidden_7_86', 'Hidden_3_39', 'Hidden_7_67', 'Hidden_7_8',\n",
              "       'Hidden_4_20', 'Hidden_6_16', 'Hidden_7_70', 'Hidden_7_82',\n",
              "       'Hidden_3_54', 'Hidden_7_12', 'Hidden_7_25', 'Hidden_7_36',\n",
              "       'Hidden_3_84', 'Hidden_7_84', 'Hidden_3_48', 'Hidden_7_79',\n",
              "       'Hidden_3_89', 'Hidden_7_57', 'Hidden_7_89', 'Hidden_6_17',\n",
              "       'Hidden_3_5', 'Hidden_7_38', 'Hidden_3_62', 'Hidden_3_27',\n",
              "       'Hidden_3_53', 'Hidden_3_31', 'Hidden_6_2', 'Hidden_7_66',\n",
              "       'Hidden_4_17', 'Hidden_7_6', 'Hidden_7_27', 'Hidden_3_12',\n",
              "       'Hidden_3_30', 'Hidden_3_81', 'Hidden_4_10', 'Hidden_7_30',\n",
              "       'Hidden_7_32', 'Hidden_3_73', 'Hidden_7_45', 'Hidden_3_3',\n",
              "       'Hidden_7_0', 'Hidden_7_14', 'Hidden_7_40', 'Hidden_6_15',\n",
              "       'Hidden_4_23', 'Hidden_3_50', 'Hidden_7_55', 'Hidden_3_18',\n",
              "       'Hidden_3_58', 'Hidden_3_33', 'Hidden_7_2', 'Hidden_4_5',\n",
              "       'Hidden_3_82', 'Hidden_7_23', 'Hidden_7_72', 'Hidden_3_13',\n",
              "       'Hidden_3_45', 'Hidden_7_88', 'Hidden_3_99', 'Hidden_3_56',\n",
              "       'Hidden_6_13', 'Hidden_3_63', 'Hidden_7_90', 'Hidden_3_77',\n",
              "       'Hidden_3_92', 'Hidden_7_3', 'Hidden_7_48', 'Hidden_7_10',\n",
              "       'Hidden_7_74', 'Hidden_3_11', 'Hidden_3_34', 'Hidden_6_22',\n",
              "       'Hidden_3_21', 'Hidden_3_65', 'Hidden_4_1', 'Hidden_4_13',\n",
              "       'Hidden_7_73', 'Hidden_3_98', 'Hidden_4_4', 'Hidden_3_72',\n",
              "       'Hidden_3_9', 'Hidden_7_34', 'Hidden_3_71', 'Hidden_4_24',\n",
              "       'Hidden_4_11', 'Hidden_3_88', 'Hidden_3_16', 'Hidden_3_36',\n",
              "       'Hidden_3_75', 'Hidden_4_18', 'Hidden_3_90', 'Hidden_4_6',\n",
              "       'Hidden_3_46', 'Hidden_3_4', 'Hidden_3_24', 'Hidden_4_3',\n",
              "       'Hidden_3_14', 'Hidden_3_7', 'Hidden_3_32', 'Hidden_3_44'],\n",
              "      dtype=object)"
            ]
          },
          "metadata": {
            "tags": []
          },
          "execution_count": 29
        }
      ]
    },
    {
      "cell_type": "code",
      "metadata": {
        "id": "d69hZSHCRwR_",
        "colab_type": "code",
        "colab": {}
      },
      "source": [
        ""
      ],
      "execution_count": 0,
      "outputs": []
    }
  ]
}