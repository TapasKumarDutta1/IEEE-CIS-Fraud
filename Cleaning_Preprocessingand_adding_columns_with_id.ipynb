{
  "nbformat": 4,
  "nbformat_minor": 0,
  "metadata": {
    "colab": {
      "name": "Cleaning_Preprocessingand adding columns_with_id.ipynb",
      "provenance": [],
      "machine_shape": "hm",
      "include_colab_link": true
    },
    "kernelspec": {
      "name": "python3",
      "display_name": "Python 3"
    }
  },
  "cells": [
    {
      "cell_type": "markdown",
      "metadata": {
        "id": "view-in-github",
        "colab_type": "text"
      },
      "source": [
        "<a href=\"https://colab.research.google.com/github/greyhound101/IEEE-CIS-Fraud/blob/master/Cleaning_Preprocessingand_adding_columns_with_id.ipynb\" target=\"_parent\"><img src=\"https://colab.research.google.com/assets/colab-badge.svg\" alt=\"Open In Colab\"/></a>"
      ]
    },
    {
      "cell_type": "markdown",
      "metadata": {
        "id": "EAd-jYpbhqod",
        "colab_type": "text"
      },
      "source": [
        "Getting data"
      ]
    },
    {
      "cell_type": "code",
      "metadata": {
        "id": "iio63rQJpTwo",
        "colab_type": "code",
        "colab": {
          "base_uri": "https://localhost:8080/",
          "height": 316
        },
        "outputId": "539b2294-2f19-4d81-804c-6d22078ff777"
      },
      "source": [
        "import os\n",
        "os.environ['KAGGLE_USERNAME'] = \"tapaskd123\" # username from the json file\n",
        "os.environ['KAGGLE_KEY'] = \"aba8dc1f085221111d925003fe5a88ed\" # key from the json file\n",
        "!kaggle competitions download -c ieee-fraud-detection"
      ],
      "execution_count": 1,
      "outputs": [
        {
          "output_type": "stream",
          "text": [
            "Warning: Looks like you're using an outdated API Version, please consider updating (server 1.5.6 / client 1.5.4)\n",
            "Downloading test_identity.csv.zip to /content\n",
            "\r  0% 0.00/3.21M [00:00<?, ?B/s]\n",
            "100% 3.21M/3.21M [00:00<00:00, 52.3MB/s]\n",
            "Downloading train_transaction.csv.zip to /content\n",
            " 84% 49.0M/58.3M [00:02<00:00, 11.7MB/s]\n",
            "100% 58.3M/58.3M [00:02<00:00, 20.6MB/s]\n",
            "Downloading train_identity.csv.zip to /content\n",
            "  0% 0.00/3.26M [00:00<?, ?B/s]\n",
            "100% 3.26M/3.26M [00:00<00:00, 108MB/s]\n",
            "Downloading test_transaction.csv.zip to /content\n",
            " 94% 49.0M/52.2M [00:01<00:00, 20.8MB/s]\n",
            "100% 52.2M/52.2M [00:01<00:00, 33.8MB/s]\n",
            "Downloading sample_submission.csv.zip to /content\n",
            "  0% 0.00/1.14M [00:00<?, ?B/s]\n",
            "100% 1.14M/1.14M [00:00<00:00, 155MB/s]\n"
          ],
          "name": "stdout"
        }
      ]
    },
    {
      "cell_type": "code",
      "metadata": {
        "id": "uLp-FegbHCEy",
        "colab_type": "code",
        "colab": {}
      },
      "source": [
        "import warnings\n",
        "warnings.filterwarnings('ignore') "
      ],
      "execution_count": 2,
      "outputs": []
    },
    {
      "cell_type": "markdown",
      "metadata": {
        "id": "g4o8Kitosplu",
        "colab_type": "text"
      },
      "source": [
        "Loading drive"
      ]
    },
    {
      "cell_type": "code",
      "metadata": {
        "id": "eQqlrXIJej1l",
        "colab_type": "code",
        "colab": {
          "base_uri": "https://localhost:8080/",
          "height": 149
        },
        "outputId": "a056967c-3898-4e8d-fbc2-56fb73ea3195"
      },
      "source": [
        "from google.colab import drive\n",
        "drive.mount('/content/gdrive')\n",
        "drive.mount(\"/content/gdrive\", force_remount=True)"
      ],
      "execution_count": 3,
      "outputs": [
        {
          "output_type": "stream",
          "text": [
            "Go to this URL in a browser: https://accounts.google.com/o/oauth2/auth?client_id=947318989803-6bn6qk8qdgf4n4g3pfee6491hc0brc4i.apps.googleusercontent.com&redirect_uri=urn%3aietf%3awg%3aoauth%3a2.0%3aoob&response_type=code&scope=email%20https%3a%2f%2fwww.googleapis.com%2fauth%2fdocs.test%20https%3a%2f%2fwww.googleapis.com%2fauth%2fdrive%20https%3a%2f%2fwww.googleapis.com%2fauth%2fdrive.photos.readonly%20https%3a%2f%2fwww.googleapis.com%2fauth%2fpeopleapi.readonly\n",
            "\n",
            "Enter your authorization code:\n",
            "··········\n",
            "Mounted at /content/gdrive\n",
            "Mounted at /content/gdrive\n"
          ],
          "name": "stdout"
        }
      ]
    },
    {
      "cell_type": "markdown",
      "metadata": {
        "id": "Adbp3dS8srOW",
        "colab_type": "text"
      },
      "source": [
        "Reading datasets"
      ]
    },
    {
      "cell_type": "code",
      "metadata": {
        "id": "_WXDyhihenRg",
        "colab_type": "code",
        "colab": {}
      },
      "source": [
        "import pandas as pd\n",
        "import numpy as np\n",
        "trn=pd.read_csv('train_transaction.csv.zip')\n",
        "isFraud=trn['isFraud']\n",
        "trn=trn.drop(['isFraud'],1)\n",
        "tst=pd.read_csv('test_transaction.csv.zip')"
      ],
      "execution_count": 4,
      "outputs": []
    },
    {
      "cell_type": "markdown",
      "metadata": {
        "id": "nLiZLu3Wssz5",
        "colab_type": "text"
      },
      "source": [
        "Feature selection"
      ]
    },
    {
      "cell_type": "code",
      "metadata": {
        "id": "Mja2yCpAINM4",
        "colab_type": "code",
        "colab": {}
      },
      "source": [
        "useful_cols=list(trn.iloc[:,:55])\n",
        "useful_cols.remove('TransactionID')\n",
        "trn=trn[useful_cols]\n",
        "tst=tst[useful_cols]"
      ],
      "execution_count": 5,
      "outputs": []
    },
    {
      "cell_type": "markdown",
      "metadata": {
        "id": "7Ji3GQS9G0LR",
        "colab_type": "text"
      },
      "source": [
        "Creating unique id"
      ]
    },
    {
      "cell_type": "code",
      "metadata": {
        "id": "8gcZZoZ_G2XF",
        "colab_type": "code",
        "colab": {}
      },
      "source": [
        "trn['day']=trn['TransactionDT']//86400\n",
        "tst['day']=tst['TransactionDT']//86400\n",
        "trn['id']=''\n",
        "tst['id']=''\n",
        "trn['d_1']=trn['day']-trn['D1']\n",
        "tst['d_1']=tst['day']-tst['D1']\n",
        "for col in ['ProductCD','P_emaildomain','addr1','card1','d_1']:\n",
        "  trn['id']+=trn[col].astype(str)\n",
        "  tst['id']+=tst[col].astype(str)\n",
        "id_trn=trn['id']\n",
        "id_tst=tst['id']"
      ],
      "execution_count": 6,
      "outputs": []
    },
    {
      "cell_type": "markdown",
      "metadata": {
        "id": "3XXuMDeYGWuW",
        "colab_type": "text"
      },
      "source": [
        "seperate columns in continuous and categorical"
      ]
    },
    {
      "cell_type": "code",
      "metadata": {
        "id": "Kp_n9G6mH0QG",
        "colab_type": "code",
        "colab": {}
      },
      "source": [
        "categorical=['ProductCD','card1','card2','card3','card4','card5','card6','addr1','addr2','P_emaildomain','R_emaildomain']+['M'+str(i) for i in range(1,10)]\n",
        "continuous=[i for i in useful_cols if i not in categorical]"
      ],
      "execution_count": 7,
      "outputs": []
    },
    {
      "cell_type": "markdown",
      "metadata": {
        "id": "fO4xzVhmGTra",
        "colab_type": "text"
      },
      "source": [
        "Preprocessing"
      ]
    },
    {
      "cell_type": "code",
      "metadata": {
        "id": "DX1lpuQrGVE7",
        "colab_type": "code",
        "colab": {}
      },
      "source": [
        "class ContinuousConverter:\n",
        "  def __init__(self,name,log_transform,feature):\n",
        "    self.name=name\n",
        "    self.skew=feature.skew()\n",
        "    self.log_transform=log_transform\n",
        "  def transform(self,feature):\n",
        "    if self.skew>1:\n",
        "      feature=self.log_transform(feature)\n",
        "    mean=feature.mean()\n",
        "    std=feature.std()\n",
        "    feature=(feature-mean)/(std+1e-6)\n",
        "    return feature"
      ],
      "execution_count": 8,
      "outputs": []
    },
    {
      "cell_type": "code",
      "metadata": {
        "id": "aHEa18NyJBBs",
        "colab_type": "code",
        "colab": {
          "base_uri": "https://localhost:8080/",
          "height": 54
        },
        "outputId": "e0d9d595-4bd6-4f21-dc92-b3cd4bf697b1"
      },
      "source": [
        "from tqdm import tqdm\n",
        "continuous_trn=[]\n",
        "continuous_tst=[]\n",
        "id_cols=[]\n",
        "for col in tqdm(continuous):\n",
        "  id_cols+=[col+'_mean',col+'_std']\n",
        "  trn[col+'_mean']=trn.groupby(['id'])[col].transform('mean')\n",
        "  trn[col+'_std']=trn.groupby(['id'])[col].transform('std')\n",
        "\n",
        "\n",
        "  tst[col+'_mean']=tst.groupby(['id'])[col].transform('mean')\n",
        "  tst[col+'_std']=tst.groupby(['id'])[col].transform('std')\n",
        "continuous+=id_cols\n",
        "for col in tqdm(continuous):\n",
        "  log=lambda x:np.log10(x+(1-min(0,min(x))))\n",
        "  converter=ContinuousConverter(col,log,trn[col])\n",
        "  continuous_trn.append(converter.transform(trn[col]).astype(np.float32))\n",
        "  continuous_tst.append(converter.transform(tst[col]).astype(np.float32))\n",
        "continuous_trn=pd.DataFrame(continuous_trn).T\n",
        "continuous_trn.columns=continuous\n",
        "continuous_tst=pd.DataFrame(continuous_tst).T\n",
        "continuous_tst.columns=continuous"
      ],
      "execution_count": 9,
      "outputs": [
        {
          "output_type": "stream",
          "text": [
            "100%|██████████| 34/34 [01:48<00:00,  3.19s/it]\n",
            "100%|██████████| 102/102 [00:13<00:00,  7.49it/s]\n"
          ],
          "name": "stderr"
        }
      ]
    },
    {
      "cell_type": "code",
      "metadata": {
        "id": "lF10rHW3P8Gz",
        "colab_type": "code",
        "colab": {}
      },
      "source": [
        "continuous_trn['isna_sum']=continuous_trn.isna().sum(axis=1)\n",
        "continuous_tst['isna_sum']=continuous_tst.isna().sum(axis=1)\n",
        "mn=continuous_trn['isna_sum'].mean()\n",
        "std=continuous_trn['isna_sum'].std()\n",
        "continuous_trn['isna_sum']=(continuous_trn['isna_sum']-mn)/std\n",
        "mn=continuous_tst['isna_sum'].mean()\n",
        "std=continuous_tst['isna_sum'].std()\n",
        "continuous_tst['isna_sum']=(continuous_tst['isna_sum']-mn)/std"
      ],
      "execution_count": 10,
      "outputs": []
    },
    {
      "cell_type": "code",
      "metadata": {
        "id": "bAm5VK2_LTuO",
        "colab_type": "code",
        "colab": {}
      },
      "source": [
        "isna_cols=[]\n",
        "for col in continuous:\n",
        "  isna=continuous_trn[col].isna()\n",
        "  if isna.sum()>0:\n",
        "    continuous_trn[col+'_isna']=isna.astype(int)\n",
        "    continuous_tst[col+'_isna']=continuous_tst[col].isna().astype(int)\n",
        "  continuous_trn[col]=continuous_trn[col].fillna(continuous_trn[col].mean())\n",
        "  continuous_tst[col]=continuous_tst[col].fillna(continuous_tst[col].mean())"
      ],
      "execution_count": 11,
      "outputs": []
    },
    {
      "cell_type": "markdown",
      "metadata": {
        "id": "gloxSjblyL9R",
        "colab_type": "text"
      },
      "source": [
        "Handling categorical data"
      ]
    },
    {
      "cell_type": "code",
      "metadata": {
        "id": "39hx7kZUMrCD",
        "colab_type": "code",
        "colab": {
          "base_uri": "https://localhost:8080/",
          "height": 36
        },
        "outputId": "69ef45ff-b42b-4a56-8c35-678f1bc9ec99"
      },
      "source": [
        "from sklearn.preprocessing import OneHotEncoder\n",
        "def handle_categorical(df_trn,df_tst,categorical,n_values):\n",
        "  all=[]\n",
        "  df_trn=df_trn[categorical]\n",
        "  df_tst=df_tst[categorical]\n",
        "  for col in categorical:\n",
        "    all.append(list(df_trn[col].value_counts().iloc[:n_values-1].index)+['Other'])\n",
        "    df_trn[col]=df_trn[col].map(lambda x:x if x in all[-1] else 'Other')\n",
        "    df_tst[col]=df_tst[col].map(lambda x:x if x in all[-1] else 'Other')\n",
        "  ohe=OneHotEncoder(categories=all)\n",
        "  ohe.fit(pd.concat([df_trn,df_tst]))\n",
        "  df_trn=pd.DataFrame(ohe.transform(df_trn).toarray()).astype(np.float16)\n",
        "  df_tst=pd.DataFrame(ohe.transform(df_tst).toarray()).astype(np.float16)\n",
        "  return df_trn,df_tst\n",
        "df_trn,df_tst=handle_categorical(trn,tst,categorical,50)\n",
        "df_trn.shape,df_tst.shape"
      ],
      "execution_count": 12,
      "outputs": [
        {
          "output_type": "execute_result",
          "data": {
            "text/plain": [
              "((590540, 444), (506691, 444))"
            ]
          },
          "metadata": {
            "tags": []
          },
          "execution_count": 12
        }
      ]
    },
    {
      "cell_type": "markdown",
      "metadata": {
        "id": "JaVRioYwPtcb",
        "colab_type": "text"
      },
      "source": [
        "Concatenating continuous and categorical"
      ]
    },
    {
      "cell_type": "code",
      "metadata": {
        "id": "54FObgPxwmHD",
        "colab_type": "code",
        "colab": {}
      },
      "source": [
        "trn=pd.concat([df_trn,continuous_trn],1)\n",
        "tst=pd.concat([df_tst,continuous_tst],1)"
      ],
      "execution_count": 13,
      "outputs": []
    },
    {
      "cell_type": "markdown",
      "metadata": {
        "id": "_c7bjtcuRKD5",
        "colab_type": "text"
      },
      "source": [
        "Columns created"
      ]
    },
    {
      "cell_type": "code",
      "metadata": {
        "id": "dZxYP9a7x7Q8",
        "colab_type": "code",
        "colab": {}
      },
      "source": [
        "trn['isFraud']=isFraud\n",
        "import warnings\n",
        "warnings.filterwarnings('ignore')\n",
        "\n",
        "\n",
        "tst.to_csv(F\"/content/gdrive/My Drive/fraud/test_id.csv\")\n",
        "trn.to_csv(F\"/content/gdrive/My Drive/fraud/train_id.csv\")"
      ],
      "execution_count": 14,
      "outputs": []
    },
    {
      "cell_type": "code",
      "metadata": {
        "id": "ITI5a2mTTypz",
        "colab_type": "code",
        "colab": {}
      },
      "source": [
        ""
      ],
      "execution_count": 14,
      "outputs": []
    }
  ]
}