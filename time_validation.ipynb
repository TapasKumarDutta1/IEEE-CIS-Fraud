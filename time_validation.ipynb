{
 "cells": [
  {
   "cell_type": "code",
   "execution_count": null,
   "metadata": {},
   "outputs": [],
   "source": [
    "ext=pd.read_csv('/kaggle/input/selection/extra_features.csv')\n",
    "ext=ext.drop(['Unnamed: 0'],1)\n",
    "ls=list(ext)\n",
    "trn=pd.read_csv('/kaggle/input/ieee-fraud-detection/train_transaction.csv',usecols=['isFraud'])\n",
    "ext=ext.loc[:590539]\n",
    "ext['isFraud']=trn['isFraud']\n",
    "import lightgbm as lgb\n",
    "from tqdm import tqdm\n",
    "from sklearn.metrics import roc_auc_score\n",
    "fnl=pd.DataFrame()\n",
    "cols=[]\n",
    "val=[]\n",
    "trn=[]\n",
    "for col in tqdm(ls):\n",
    "    for i in range(50000,550000,50000):\n",
    "        fit=ext.loc[0:i]\n",
    "        pdct=ext.loc[i:i+40000]\n",
    "        mod=lgb.LGBMClassifier(max_bins= 37,max_depth= 40,min_data_in_leaf= 110,min_gain_to_split= 1,num_leaves=48)\n",
    "        mod.fit(fit[col].values.reshape(-1,1),fit['isFraud'])\n",
    "        val.append(roc_auc_score(pdct['isFraud'],mod.predict_proba(pdct[col].values.reshape(-1,1))[:,1]))\n",
    "        trn.append(roc_auc_score(fit['isFraud'],mod.predict_proba(fit[col].values.reshape(-1,1))[:,1]))\n",
    "        cols.append(col)"
   ]
  },
  {
   "cell_type": "code",
   "execution_count": null,
   "metadata": {},
   "outputs": [],
   "source": [
    "fnl['cols']=cols\n",
    "fnl['validation']=val\n",
    "fnl['train']=trn\n",
    "fnl['validation']=fnl.groupby(['cols'])['validation'].transform('mean')\n",
    "fnl['train']=fnl.groupby(['cols'])['train'].transform('mean')\n",
    "fnl=fnl[['validation','train','cols']]\n",
    "fnl=fnl.drop_duplicates(keep='last')"
   ]
  },
  {
   "cell_type": "code",
   "execution_count": null,
   "metadata": {},
   "outputs": [],
   "source": [
    "fnl=fnl.sort_values(by='validation')\n",
    "fnl.tail(100)['cols'].values"
   ]
  }
 ],
 "metadata": {
  "kernelspec": {
   "display_name": "Python 3",
   "language": "python",
   "name": "python3"
  },
  "language_info": {
   "codemirror_mode": {
    "name": "ipython",
    "version": 3
   },
   "file_extension": ".py",
   "mimetype": "text/x-python",
   "name": "python",
   "nbconvert_exporter": "python",
   "pygments_lexer": "ipython3",
   "version": "3.7.3"
  }
 },
 "nbformat": 4,
 "nbformat_minor": 2
}
