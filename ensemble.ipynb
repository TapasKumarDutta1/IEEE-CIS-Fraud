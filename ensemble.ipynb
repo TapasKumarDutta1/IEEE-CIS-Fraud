{
  "nbformat": 4,
  "nbformat_minor": 0,
  "metadata": {
    "colab": {
      "name": "ensemble.ipynb",
      "provenance": [],
      "machine_shape": "hm",
      "authorship_tag": "ABX9TyMiDoI16q/aj5ErPZHzvu89",
      "include_colab_link": true
    },
    "kernelspec": {
      "name": "python3",
      "display_name": "Python 3"
    }
  },
  "cells": [
    {
      "cell_type": "markdown",
      "metadata": {
        "id": "view-in-github",
        "colab_type": "text"
      },
      "source": [
        "<a href=\"https://colab.research.google.com/github/greyhound101/IEEE-CIS-Fraud/blob/master/ensemble.ipynb\" target=\"_parent\"><img src=\"https://colab.research.google.com/assets/colab-badge.svg\" alt=\"Open In Colab\"/></a>"
      ]
    },
    {
      "cell_type": "code",
      "metadata": {
        "id": "ROD2S1IzKE1H",
        "colab_type": "code",
        "outputId": "955078c6-2c58-4187-cee3-e83d7b23480d",
        "colab": {
          "base_uri": "https://localhost:8080/",
          "height": 877
        }
      },
      "source": [
        "pip install tensorflow==2.1.0-rc0"
      ],
      "execution_count": 1,
      "outputs": [
        {
          "output_type": "stream",
          "text": [
            "Collecting tensorflow==2.1.0-rc0\n",
            "  Using cached https://files.pythonhosted.org/packages/4d/fd/7528e5ef327abde9b7425aea24198d8b139795c1233d1658c1279055d860/tensorflow-2.1.0rc0-cp36-cp36m-manylinux2010_x86_64.whl\n",
            "Requirement already satisfied: wrapt>=1.11.1 in /usr/local/lib/python3.6/dist-packages (from tensorflow==2.1.0-rc0) (1.12.1)\n",
            "Requirement already satisfied: numpy<2.0,>=1.16.0 in /usr/local/lib/python3.6/dist-packages (from tensorflow==2.1.0-rc0) (1.18.2)\n",
            "Requirement already satisfied: six>=1.12.0 in /usr/local/lib/python3.6/dist-packages (from tensorflow==2.1.0-rc0) (1.12.0)\n",
            "Requirement already satisfied: opt-einsum>=2.3.2 in /usr/local/lib/python3.6/dist-packages (from tensorflow==2.1.0-rc0) (3.2.0)\n",
            "Requirement already satisfied: google-pasta>=0.1.6 in /usr/local/lib/python3.6/dist-packages (from tensorflow==2.1.0-rc0) (0.2.0)\n",
            "Requirement already satisfied: astor>=0.6.0 in /usr/local/lib/python3.6/dist-packages (from tensorflow==2.1.0-rc0) (0.8.1)\n",
            "Collecting tensorboard<2.1.0,>=2.0.0\n",
            "  Using cached https://files.pythonhosted.org/packages/76/54/99b9d5d52d5cb732f099baaaf7740403e83fe6b0cedde940fabd2b13d75a/tensorboard-2.0.2-py3-none-any.whl\n",
            "Requirement already satisfied: grpcio>=1.8.6 in /usr/local/lib/python3.6/dist-packages (from tensorflow==2.1.0-rc0) (1.24.3)\n",
            "Requirement already satisfied: absl-py>=0.7.0 in /usr/local/lib/python3.6/dist-packages (from tensorflow==2.1.0-rc0) (0.9.0)\n",
            "Requirement already satisfied: termcolor>=1.1.0 in /usr/local/lib/python3.6/dist-packages (from tensorflow==2.1.0-rc0) (1.1.0)\n",
            "Requirement already satisfied: protobuf>=3.8.0 in /usr/local/lib/python3.6/dist-packages (from tensorflow==2.1.0-rc0) (3.10.0)\n",
            "Collecting tensorflow-estimator<2.1.0,>=2.0.0\n",
            "  Using cached https://files.pythonhosted.org/packages/fc/08/8b927337b7019c374719145d1dceba21a8bb909b93b1ad6f8fb7d22c1ca1/tensorflow_estimator-2.0.1-py2.py3-none-any.whl\n",
            "Requirement already satisfied: keras-preprocessing>=1.1.0 in /usr/local/lib/python3.6/dist-packages (from tensorflow==2.1.0-rc0) (1.1.0)\n",
            "Requirement already satisfied: wheel>=0.26; python_version >= \"3\" in /usr/local/lib/python3.6/dist-packages (from tensorflow==2.1.0-rc0) (0.34.2)\n",
            "Requirement already satisfied: gast==0.2.2 in /usr/local/lib/python3.6/dist-packages (from tensorflow==2.1.0-rc0) (0.2.2)\n",
            "Requirement already satisfied: keras-applications>=1.0.8 in /usr/local/lib/python3.6/dist-packages (from tensorflow==2.1.0-rc0) (1.0.8)\n",
            "Requirement already satisfied: google-auth<2,>=1.6.3 in /usr/local/lib/python3.6/dist-packages (from tensorboard<2.1.0,>=2.0.0->tensorflow==2.1.0-rc0) (1.7.2)\n",
            "Requirement already satisfied: google-auth-oauthlib<0.5,>=0.4.1 in /usr/local/lib/python3.6/dist-packages (from tensorboard<2.1.0,>=2.0.0->tensorflow==2.1.0-rc0) (0.4.1)\n",
            "Requirement already satisfied: setuptools>=41.0.0 in /usr/local/lib/python3.6/dist-packages (from tensorboard<2.1.0,>=2.0.0->tensorflow==2.1.0-rc0) (46.0.0)\n",
            "Requirement already satisfied: werkzeug>=0.11.15 in /usr/local/lib/python3.6/dist-packages (from tensorboard<2.1.0,>=2.0.0->tensorflow==2.1.0-rc0) (1.0.0)\n",
            "Requirement already satisfied: markdown>=2.6.8 in /usr/local/lib/python3.6/dist-packages (from tensorboard<2.1.0,>=2.0.0->tensorflow==2.1.0-rc0) (3.2.1)\n",
            "Requirement already satisfied: requests<3,>=2.21.0 in /usr/local/lib/python3.6/dist-packages (from tensorboard<2.1.0,>=2.0.0->tensorflow==2.1.0-rc0) (2.21.0)\n",
            "Requirement already satisfied: h5py in /usr/local/lib/python3.6/dist-packages (from keras-applications>=1.0.8->tensorflow==2.1.0-rc0) (2.8.0)\n",
            "Requirement already satisfied: rsa<4.1,>=3.1.4 in /usr/local/lib/python3.6/dist-packages (from google-auth<2,>=1.6.3->tensorboard<2.1.0,>=2.0.0->tensorflow==2.1.0-rc0) (4.0)\n",
            "Requirement already satisfied: pyasn1-modules>=0.2.1 in /usr/local/lib/python3.6/dist-packages (from google-auth<2,>=1.6.3->tensorboard<2.1.0,>=2.0.0->tensorflow==2.1.0-rc0) (0.2.8)\n",
            "Requirement already satisfied: cachetools<3.2,>=2.0.0 in /usr/local/lib/python3.6/dist-packages (from google-auth<2,>=1.6.3->tensorboard<2.1.0,>=2.0.0->tensorflow==2.1.0-rc0) (3.1.1)\n",
            "Requirement already satisfied: requests-oauthlib>=0.7.0 in /usr/local/lib/python3.6/dist-packages (from google-auth-oauthlib<0.5,>=0.4.1->tensorboard<2.1.0,>=2.0.0->tensorflow==2.1.0-rc0) (1.3.0)\n",
            "Requirement already satisfied: certifi>=2017.4.17 in /usr/local/lib/python3.6/dist-packages (from requests<3,>=2.21.0->tensorboard<2.1.0,>=2.0.0->tensorflow==2.1.0-rc0) (2019.11.28)\n",
            "Requirement already satisfied: urllib3<1.25,>=1.21.1 in /usr/local/lib/python3.6/dist-packages (from requests<3,>=2.21.0->tensorboard<2.1.0,>=2.0.0->tensorflow==2.1.0-rc0) (1.24.3)\n",
            "Requirement already satisfied: idna<2.9,>=2.5 in /usr/local/lib/python3.6/dist-packages (from requests<3,>=2.21.0->tensorboard<2.1.0,>=2.0.0->tensorflow==2.1.0-rc0) (2.8)\n",
            "Requirement already satisfied: chardet<3.1.0,>=3.0.2 in /usr/local/lib/python3.6/dist-packages (from requests<3,>=2.21.0->tensorboard<2.1.0,>=2.0.0->tensorflow==2.1.0-rc0) (3.0.4)\n",
            "Requirement already satisfied: pyasn1>=0.1.3 in /usr/local/lib/python3.6/dist-packages (from rsa<4.1,>=3.1.4->google-auth<2,>=1.6.3->tensorboard<2.1.0,>=2.0.0->tensorflow==2.1.0-rc0) (0.4.8)\n",
            "Requirement already satisfied: oauthlib>=3.0.0 in /usr/local/lib/python3.6/dist-packages (from requests-oauthlib>=0.7.0->google-auth-oauthlib<0.5,>=0.4.1->tensorboard<2.1.0,>=2.0.0->tensorflow==2.1.0-rc0) (3.1.0)\n",
            "\u001b[31mERROR: tensorflow-federated 0.12.0 has requirement tensorflow~=2.1.0, but you'll have tensorflow 2.1.0rc0 which is incompatible.\u001b[0m\n",
            "\u001b[31mERROR: tensorflow-federated 0.12.0 has requirement tensorflow-addons~=0.7.0, but you'll have tensorflow-addons 0.8.3 which is incompatible.\u001b[0m\n",
            "Installing collected packages: tensorboard, tensorflow-estimator, tensorflow\n",
            "  Found existing installation: tensorboard 2.1.1\n",
            "    Uninstalling tensorboard-2.1.1:\n",
            "      Successfully uninstalled tensorboard-2.1.1\n",
            "  Found existing installation: tensorflow-estimator 2.1.0\n",
            "    Uninstalling tensorflow-estimator-2.1.0:\n",
            "      Successfully uninstalled tensorflow-estimator-2.1.0\n",
            "  Found existing installation: tensorflow 2.1.0\n",
            "    Uninstalling tensorflow-2.1.0:\n",
            "      Successfully uninstalled tensorflow-2.1.0\n",
            "Successfully installed tensorboard-2.0.2 tensorflow-2.1.0rc0 tensorflow-estimator-2.0.1\n"
          ],
          "name": "stdout"
        }
      ]
    },
    {
      "cell_type": "code",
      "metadata": {
        "id": "5EAjGwccKs_h",
        "colab_type": "code",
        "outputId": "5d65d028-d263-4292-f040-bb459fef7b93",
        "colab": {
          "base_uri": "https://localhost:8080/",
          "height": 151
        }
      },
      "source": [
        "pip install keras==2.3.1"
      ],
      "execution_count": 2,
      "outputs": [
        {
          "output_type": "stream",
          "text": [
            "Requirement already satisfied: keras==2.3.1 in /usr/local/lib/python3.6/dist-packages (2.3.1)\n",
            "Requirement already satisfied: scipy>=0.14 in /usr/local/lib/python3.6/dist-packages (from keras==2.3.1) (1.4.1)\n",
            "Requirement already satisfied: pyyaml in /usr/local/lib/python3.6/dist-packages (from keras==2.3.1) (3.13)\n",
            "Requirement already satisfied: six>=1.9.0 in /usr/local/lib/python3.6/dist-packages (from keras==2.3.1) (1.12.0)\n",
            "Requirement already satisfied: h5py in /usr/local/lib/python3.6/dist-packages (from keras==2.3.1) (2.8.0)\n",
            "Requirement already satisfied: keras-applications>=1.0.6 in /usr/local/lib/python3.6/dist-packages (from keras==2.3.1) (1.0.8)\n",
            "Requirement already satisfied: numpy>=1.9.1 in /usr/local/lib/python3.6/dist-packages (from keras==2.3.1) (1.18.2)\n",
            "Requirement already satisfied: keras-preprocessing>=1.0.5 in /usr/local/lib/python3.6/dist-packages (from keras==2.3.1) (1.1.0)\n"
          ],
          "name": "stdout"
        }
      ]
    },
    {
      "cell_type": "code",
      "metadata": {
        "id": "CpgymvkeKtCr",
        "colab_type": "code",
        "outputId": "b29fc49e-7d9a-487d-f47b-db769aad10c4",
        "colab": {
          "base_uri": "https://localhost:8080/",
          "height": 151
        }
      },
      "source": [
        "!kaggle competitions download -c ieee-fraud-detection"
      ],
      "execution_count": 3,
      "outputs": [
        {
          "output_type": "stream",
          "text": [
            "Traceback (most recent call last):\n",
            "  File \"/usr/local/bin/kaggle\", line 5, in <module>\n",
            "    from kaggle.cli import main\n",
            "  File \"/usr/local/lib/python2.7/dist-packages/kaggle/__init__.py\", line 23, in <module>\n",
            "    api.authenticate()\n",
            "  File \"/usr/local/lib/python2.7/dist-packages/kaggle/api/kaggle_api_extended.py\", line 146, in authenticate\n",
            "    self.config_file, self.config_dir))\n",
            "IOError: Could not find kaggle.json. Make sure it's located in /root/.kaggle. Or use the environment method.\n"
          ],
          "name": "stdout"
        }
      ]
    },
    {
      "cell_type": "code",
      "metadata": {
        "id": "OQtSEakCKtGA",
        "colab_type": "code",
        "outputId": "e98fc8fa-9357-4635-877b-6ffba77fd077",
        "colab": {
          "base_uri": "https://localhost:8080/",
          "height": 118
        }
      },
      "source": [
        "import os\n",
        "os.environ['KAGGLE_USERNAME'] = \"\" # username from the json file\n",
        "os.environ['KAGGLE_KEY'] = \"\" # key from the json file\n",
        "!kaggle competitions download -c ieee-fraud-detection"
      ],
      "execution_count": 4,
      "outputs": [
        {
          "output_type": "stream",
          "text": [
            "Warning: Looks like you're using an outdated API Version, please consider updating (server 1.5.6 / client 1.5.4)\n",
            "sample_submission.csv.zip: Skipping, found more recently modified local copy (use --force to force download)\n",
            "test_identity.csv.zip: Skipping, found more recently modified local copy (use --force to force download)\n",
            "train_identity.csv.zip: Skipping, found more recently modified local copy (use --force to force download)\n",
            "test_transaction.csv.zip: Skipping, found more recently modified local copy (use --force to force download)\n",
            "train_transaction.csv.zip: Skipping, found more recently modified local copy (use --force to force download)\n"
          ],
          "name": "stdout"
        }
      ]
    },
    {
      "cell_type": "code",
      "metadata": {
        "id": "ZabSlqrMKtJo",
        "colab_type": "code",
        "outputId": "ea684eba-70b1-4397-e5d0-9f888343f1aa",
        "colab": {
          "base_uri": "https://localhost:8080/",
          "height": 202
        }
      },
      "source": [
        "pip install category_encoders"
      ],
      "execution_count": 5,
      "outputs": [
        {
          "output_type": "stream",
          "text": [
            "Requirement already satisfied: category_encoders in /usr/local/lib/python3.6/dist-packages (2.1.0)\n",
            "Requirement already satisfied: statsmodels>=0.6.1 in /usr/local/lib/python3.6/dist-packages (from category_encoders) (0.10.2)\n",
            "Requirement already satisfied: scikit-learn>=0.20.0 in /usr/local/lib/python3.6/dist-packages (from category_encoders) (0.22.2.post1)\n",
            "Requirement already satisfied: numpy>=1.11.3 in /usr/local/lib/python3.6/dist-packages (from category_encoders) (1.18.2)\n",
            "Requirement already satisfied: patsy>=0.4.1 in /usr/local/lib/python3.6/dist-packages (from category_encoders) (0.5.1)\n",
            "Requirement already satisfied: scipy>=0.19.0 in /usr/local/lib/python3.6/dist-packages (from category_encoders) (1.4.1)\n",
            "Requirement already satisfied: pandas>=0.21.1 in /usr/local/lib/python3.6/dist-packages (from category_encoders) (0.25.3)\n",
            "Requirement already satisfied: joblib>=0.11 in /usr/local/lib/python3.6/dist-packages (from scikit-learn>=0.20.0->category_encoders) (0.14.1)\n",
            "Requirement already satisfied: six in /usr/local/lib/python3.6/dist-packages (from patsy>=0.4.1->category_encoders) (1.12.0)\n",
            "Requirement already satisfied: python-dateutil>=2.6.1 in /usr/local/lib/python3.6/dist-packages (from pandas>=0.21.1->category_encoders) (2.8.1)\n",
            "Requirement already satisfied: pytz>=2017.2 in /usr/local/lib/python3.6/dist-packages (from pandas>=0.21.1->category_encoders) (2018.9)\n"
          ],
          "name": "stdout"
        }
      ]
    },
    {
      "cell_type": "code",
      "metadata": {
        "id": "BQUxWVRJwjSA",
        "colab_type": "code",
        "colab": {}
      },
      "source": [
        ""
      ],
      "execution_count": 0,
      "outputs": []
    },
    {
      "cell_type": "code",
      "metadata": {
        "id": "y7P3XhwtK16J",
        "colab_type": "code",
        "outputId": "c98e79a7-f2d9-4b5c-c61f-404533545aa1",
        "colab": {
          "base_uri": "https://localhost:8080/",
          "height": 50
        }
      },
      "source": [
        "from google.colab import drive\n",
        "drive.mount('/content/gdrive')\n",
        "drive.mount(\"/content/gdrive\", force_remount=True)\n"
      ],
      "execution_count": 6,
      "outputs": [
        {
          "output_type": "stream",
          "text": [
            "Drive already mounted at /content/gdrive; to attempt to forcibly remount, call drive.mount(\"/content/gdrive\", force_remount=True).\n",
            "Mounted at /content/gdrive\n"
          ],
          "name": "stdout"
        }
      ]
    },
    {
      "cell_type": "code",
      "metadata": {
        "id": "RvhL_2csKtMz",
        "colab_type": "code",
        "outputId": "16b36e05-23b8-4911-aaf4-436954cccbe4",
        "colab": {
          "base_uri": "https://localhost:8080/",
          "height": 87
        }
      },
      "source": [
        "import pandas as pd\n",
        "import numpy as np\n",
        "#read autoencoded columns selected via time validation \n",
        "cols=['Hidden_7_22', 'Hidden_7_32', 'Hidden_7_96', 'Hidden_7_8',\n",
        "       'Hidden_3_85', 'Hidden_7_9', 'Hidden_4_5', 'Hidden_3_52',\n",
        "       'Hidden_3_64', 'Hidden_3_63', 'Hidden_7_11', 'Hidden_7_33',\n",
        "       'Hidden_3_28', 'Hidden_7_69', 'Hidden_7_2', 'Hidden_7_92',\n",
        "       'Hidden_7_23', 'Hidden_3_99', 'Hidden_7_28', 'Hidden_3_47',\n",
        "       'Hidden_3_88', 'Hidden_7_0', 'Hidden_7_34', 'Hidden_3_76',\n",
        "       'Hidden_7_31', 'Hidden_7_64', 'Hidden_7_72', 'Hidden_7_70',\n",
        "       'Hidden_7_10', 'Hidden_3_3', 'Hidden_4_13', 'Hidden_7_68',\n",
        "       'Hidden_7_50', 'Hidden_7_57', 'Hidden_7_67', 'Hidden_7_36',\n",
        "       'Hidden_3_6', 'Hidden_7_12', 'Hidden_7_91', 'Hidden_7_39',\n",
        "       'Hidden_6_1', 'Hidden_3_95', 'Hidden_3_40', 'Hidden_7_83',\n",
        "       'Hidden_7_29', 'Hidden_6_19', 'Hidden_4_10', 'Hidden_6_5',\n",
        "       'Hidden_3_70', 'Hidden_3_86', 'Hidden_3_48', 'Hidden_3_30',\n",
        "       'Hidden_7_7', 'Hidden_7_78', 'Hidden_6_10', 'Hidden_7_54',\n",
        "       'Hidden_3_13', 'Hidden_7_46', 'Hidden_7_21', 'Hidden_6_3',\n",
        "       'Hidden_7_73', 'Hidden_6_16', 'Hidden_3_9', 'Hidden_6_22',\n",
        "       'Hidden_7_48', 'Hidden_7_66', 'Hidden_7_45', 'Hidden_6_8',\n",
        "       'Hidden_7_84', 'Hidden_3_5', 'Hidden_7_18', 'Hidden_4_6',\n",
        "       'Hidden_7_38', 'Hidden_6_6', 'Hidden_3_32', 'Hidden_3_83',\n",
        "       'Hidden_7_14', 'Hidden_7_27', 'Hidden_5_0', 'Hidden_3_50',\n",
        "       'Hidden_4_3', 'Hidden_7_65', 'Hidden_3_35', 'Hidden_7_56',\n",
        "       'Hidden_3_33', 'Hidden_4_21', 'Hidden_3_77', 'Hidden_4_17',\n",
        "       'Hidden_3_68', 'Hidden_3_82', 'Hidden_3_4', 'Hidden_3_75',\n",
        "       'Hidden_3_20', 'Hidden_3_27', 'Hidden_3_66', 'Hidden_3_37',\n",
        "       'Hidden_3_71', 'Hidden_3_89', 'Hidden_3_53', 'Hidden_3_46']\n",
        "path = F\"/content/gdrive/My Drive/autoenc.csv\" \n",
        "\n",
        "selected=pd.read_csv(path,usecols=cols)\n",
        "\n",
        "#read raw data after preparation\n",
        "path = F\"/content/gdrive/My Drive/raw1.csv\" \n",
        "\n",
        "dumm=pd.read_csv(path)\n",
        "selected=selected.astype('float16')\n",
        "import gc\n",
        "gc.collect()"
      ],
      "execution_count": 7,
      "outputs": [
        {
          "output_type": "stream",
          "text": [
            "/usr/local/lib/python3.6/dist-packages/IPython/core/interactiveshell.py:2718: DtypeWarning: Columns (47,50,51,53,58,59,62,63,64,65,66,69,72,73,76,77,78,79,80,81,82,87) have mixed types. Specify dtype option on import or set low_memory=False.\n",
            "  interactivity=interactivity, compiler=compiler, result=result)\n"
          ],
          "name": "stderr"
        },
        {
          "output_type": "execute_result",
          "data": {
            "text/plain": [
              "0"
            ]
          },
          "metadata": {
            "tags": []
          },
          "execution_count": 7
        }
      ]
    },
    {
      "cell_type": "code",
      "metadata": {
        "id": "KfKH0oy-LK1Y",
        "colab_type": "code",
        "outputId": "850782d8-bcce-44f1-e1d3-c8f780fe8e42",
        "colab": {
          "base_uri": "https://localhost:8080/",
          "height": 84
        }
      },
      "source": [
        "def reduce_mem_usage(df):\n",
        "    \"\"\" iterate through all the columns of a dataframe and modify the data type\n",
        "        to reduce memory usage.        \n",
        "    \"\"\"\n",
        "    start_mem = df.memory_usage().sum() / 1024**2\n",
        "    print('Memory usage of dataframe is {:.2f} MB'.format(start_mem))\n",
        "    \n",
        "    for col in df.columns:\n",
        "        col_type = df[col].dtype\n",
        "        \n",
        "        if col_type != object:\n",
        "            df[col]=df[col].fillna(-1)\n",
        "            df[col]=df[col].replace([np.inf,-np.inf],-1)\n",
        "            c_min = df[col].min()\n",
        "            c_max = df[col].max()\n",
        "            if str(col_type)[:3] == 'int':\n",
        "                if c_min > np.iinfo(np.int8).min and c_max < np.iinfo(np.int8).max:\n",
        "                    df[col] = df[col].astype(np.int8)\n",
        "                elif c_min > np.iinfo(np.int16).min and c_max < np.iinfo(np.int16).max:\n",
        "                    df[col] = df[col].astype(np.int16)\n",
        "                elif c_min > np.iinfo(np.int32).min and c_max < np.iinfo(np.int32).max:\n",
        "                    df[col] = df[col].astype(np.int32)\n",
        "                elif c_min > np.iinfo(np.int64).min and c_max < np.iinfo(np.int64).max:\n",
        "                    df[col] = df[col].astype(np.int64)  \n",
        "            else:\n",
        "                if c_min > np.finfo(np.float16).min and c_max < np.finfo(np.float16).max:\n",
        "                    df[col] = df[col].astype(np.float16)\n",
        "                elif c_min > np.finfo(np.float32).min and c_max < np.finfo(np.float32).max:\n",
        "                    df[col] = df[col].astype(np.float32)\n",
        "                else:\n",
        "                    df[col] = df[col].astype(np.float64)\n",
        "        else:\n",
        "            df[col] = df[col].astype('category')\n",
        "\n",
        "    end_mem = df.memory_usage().sum() / 1024**2\n",
        "    print('Memory usage after optimization is: {:.2f} MB'.format(end_mem))\n",
        "    print('Decreased by {:.1f}%'.format(100 * (start_mem - end_mem) / start_mem))\n",
        "    \n",
        "    return df\n",
        "\n",
        "#reduce memory useage of raw data\n",
        "\n",
        "dumm=reduce_mem_usage(dumm)\n",
        "\n",
        "#concat raw and autoencoded data\n",
        "\n",
        "for_lgb=pd.concat([dumm,selected],1)\n",
        "\n",
        "#split total dataset in train and test\n",
        "\n",
        "for_lgb.columns = [\"\".join (c if c.isalnum() else \"_\" for c in str(x)) for x in for_lgb.columns]\n",
        "fnl_trn=for_lgb.loc[for_lgb['isFraud']>=0]\n",
        "fnl_tst=for_lgb.loc[for_lgb['isFraud']==-1]\n",
        "fnl_tst=fnl_tst.reset_index(drop=True)\n",
        "import gc\n",
        "del([for_lgb])\n",
        "gc.collect()"
      ],
      "execution_count": 8,
      "outputs": [
        {
          "output_type": "stream",
          "text": [
            "Memory usage of dataframe is 5307.35 MB\n",
            "Memory usage after optimization is: 955.38 MB\n",
            "Decreased by 82.0%\n"
          ],
          "name": "stdout"
        },
        {
          "output_type": "execute_result",
          "data": {
            "text/plain": [
              "0"
            ]
          },
          "metadata": {
            "tags": []
          },
          "execution_count": 8
        }
      ]
    },
    {
      "cell_type": "code",
      "metadata": {
        "id": "d6rlbiJgLK4q",
        "colab_type": "code",
        "colab": {}
      },
      "source": [
        "keeps=['ProductCD','card1','card2','card3','card4','card5','card6','P_emaildomain','R_emaildomain']\n",
        "trn_trans=pd.read_csv('train_transaction.csv.zip',usecols=keeps)\n",
        "tst_trans=pd.read_csv('test_transaction.csv.zip',usecols=keeps)\n",
        "trans=pd.concat([trn_trans,tst_trans],0)\n",
        "trans=trans.reset_index(drop=True)\n",
        "del([trn_trans,tst_trans])\n",
        "gc.collect()\n",
        "dumm=dumm.filter(regex='dum')\n",
        "fnl=pd.concat([dumm,selected,trans],1)\n",
        "del([trans,dumm,selected])\n",
        "gc.collect()\n",
        "keeps_fnl=fnl[keeps]\n",
        "fnl=fnl.drop(keeps,1)\n",
        "from sklearn.preprocessing import StandardScaler,MinMaxScaler\n",
        "ss=StandardScaler()\n",
        "mms=MinMaxScaler()\n",
        "ls=list(fnl)\n",
        "fnl=pd.DataFrame(mms.fit_transform(ss.fit_transform(fnl)))\n",
        "fnl.columns=ls\n",
        "fnl=pd.concat([fnl,keeps_fnl],1)\n",
        "from sklearn.preprocessing import LabelEncoder\n",
        "for col in keeps:\n",
        "    le=LabelEncoder()\n",
        "    fnl[col]=le.fit_transform(fnl[col].astype(str))\n",
        "\n"
      ],
      "execution_count": 0,
      "outputs": []
    },
    {
      "cell_type": "code",
      "metadata": {
        "id": "VODkT4z-0xV2",
        "colab_type": "code",
        "colab": {
          "base_uri": "https://localhost:8080/",
          "height": 34
        },
        "outputId": "f9f5ebed-474a-41b0-a9db-a2ae66bd4138"
      },
      "source": [
        "z=pd.read_csv('train_transaction.csv.zip',usecols=['isFraud'])\n",
        "fnl['isFraud']=z['isFraud']\n",
        "fnl['isFraud'].isna().sum()"
      ],
      "execution_count": 10,
      "outputs": [
        {
          "output_type": "execute_result",
          "data": {
            "text/plain": [
              "506691"
            ]
          },
          "metadata": {
            "tags": []
          },
          "execution_count": 10
        }
      ]
    },
    {
      "cell_type": "code",
      "metadata": {
        "id": "28QtHOygLK8U",
        "colab_type": "code",
        "colab": {}
      },
      "source": [
        "trn=fnl.loc[fnl['isFraud'].dropna().index].reset_index(drop=True)\n",
        "tst=fnl.loc[fnl['isFraud'].isna()].reset_index(drop=True)\n",
        "import keras.backend as K\n",
        "from keras.layers import Input,Dense,BatchNormalization,Dropout,Embedding,Concatenate,Flatten\n",
        "from keras.models import Model\n",
        "from keras.layers import Embedding,Dot,Add,Flatten,concatenate,BatchNormalization,Input,Dense\n",
        "import tensorflow as tf\n",
        "from itertools import combinations\n",
        "from keras.callbacks import EarlyStopping,ReduceLROnPlateau\n",
        "from sklearn.model_selection import KFold\n",
        "from keras.optimizers import Nadam\n",
        "from sklearn.metrics import roc_auc_score\n",
        "from keras.regularizers import l2,l1\n",
        "import keras\n",
        "from sklearn.metrics import roc_auc_score\n",
        "def model1(shape,er,ar,r1,r2,r3,r4):\n",
        "    K.clear_session()\n",
        "    inps=[]\n",
        "    embs=[]\n",
        "    for col in keeps:\n",
        "        inp=Input((1,))\n",
        "        emb=Embedding(fnl[col].max()+1,5,trainable=True,embeddings_regularizer=l1(er),activity_regularizer=l1(ar))(inp)\n",
        "        inps.append(inp)\n",
        "        embs.append(emb)\n",
        "    x=concatenate(embs)\n",
        "    x=Dense(256,activation='relu',kernel_regularizer=l1(r1))(x)\n",
        "    x=BatchNormalization()(x)\n",
        "    one=[Flatten()(em) for em in embs]\n",
        "    second=[]\n",
        "    for a,b in combinations(embs,2):\n",
        "        second.append(Dot(1)([Flatten()(a),Flatten()(b)]))\n",
        "    one=Add()(one)\n",
        "    second=Add()(second)\n",
        "    x=Flatten()(x)\n",
        "    inp=Input((inp_shape,))\n",
        "    inps.append(inp)\n",
        "    tot=[x,(one),(second),(inp)]\n",
        "    x=concatenate(tot)\n",
        "    x=BatchNormalization()(x)\n",
        "    x=Dense(256,activation='relu',kernel_regularizer=l1(r2))(x)\n",
        "    x=BatchNormalization()(x)\n",
        "    x=Dropout(0.3)(x)\n",
        "    x=Dense(256,activation='relu',kernel_regularizer=l1(r3))(x)\n",
        "    x=BatchNormalization()(x)\n",
        "    x=Dropout(0.3)(x)\n",
        "    x=Dense(256,activation='relu',kernel_regularizer=l1(r4))(x)\n",
        "    x=BatchNormalization()(x)\n",
        "    x=Dropout(0.3)(x)\n",
        "    out=Dense(1,activation='sigmoid')(x)\n",
        "    mod=Model(inputs=inps,outputs=out)\n",
        "    return mod\n",
        "def fl(gamma1,alpha1):\n",
        "    def focal_loss(y_true, y_pred):\n",
        "        gamma=gamma1\n",
        "        alpha=alpha1\n",
        "        pt_1 = tf.where(tf.equal(y_true, 1), y_pred, tf.ones_like(y_pred))\n",
        "        pt_0 = tf.where(tf.equal(y_true, 0), y_pred, tf.zeros_like(y_pred))\n",
        "\n",
        "        pt_1 = K.clip(pt_1, 1e-3, .999)\n",
        "        pt_0 = K.clip(pt_0, 1e-3, .999)\n",
        "\n",
        "        return -K.sum(alpha * K.pow(1. - pt_1, gamma) * K.log(pt_1))-K.sum((1-alpha) * K.pow( pt_0, gamma) * K.log(1. - pt_0))\n",
        "    return focal_loss\n",
        "def auc(y_true, y_pred):\n",
        "    auc = tf.keras.metrics.AUC(y_true, y_pred)\n",
        "    return auc\n",
        "inp_shape=trn.shape[1]-len(keeps)\n",
        "inp_shape=inp_shape-1\n",
        "pre=pd.DataFrame()\n",
        "    \n",
        "fit=500000\n",
        "batch_size=2048\n",
        "validation=trn.loc[fit:]\n",
        "z_val=validation[keeps].values\n",
        "z_tst=tst[keeps].values\n",
        "del([trn])\n",
        "gc.collect()\n",
        "kp1=['ProductCD',\n",
        " 'card1',\n",
        " 'card2',\n",
        " 'card3',\n",
        " 'card4',\n",
        " 'card5',\n",
        " 'card6',\n",
        " 'P_emaildomain',\n",
        " 'R_emaildomain','isFraud']\n"
      ],
      "execution_count": 0,
      "outputs": []
    },
    {
      "cell_type": "code",
      "metadata": {
        "id": "CgIMtvtt4L-T",
        "colab_type": "code",
        "colab": {
          "base_uri": "https://localhost:8080/",
          "height": 34
        },
        "outputId": "633ddfd9-0f9f-44ad-f491-4c585ac1a1fd"
      },
      "source": [
        "trn.shape"
      ],
      "execution_count": 13,
      "outputs": [
        {
          "output_type": "execute_result",
          "data": {
            "text/plain": [
              "(590540,)"
            ]
          },
          "metadata": {
            "tags": []
          },
          "execution_count": 13
        }
      ]
    },
    {
      "cell_type": "code",
      "metadata": {
        "id": "vB9o_CpHLLAA",
        "colab_type": "code",
        "colab": {}
      },
      "source": [
        "\n",
        "#neural net model\n",
        "\n",
        "mod=model1(validation.shape[1]-1,0.0360,0.3046,0.01,0.01,0.01,0.01)\n",
        "es=EarlyStopping(monitor='val_loss',patience=100,mode='min',min_delta=0.001,restore_best_weights=True)\n",
        "dc=ReduceLROnPlateau(monitor='val_loss', factor=0.8,mode='min',patience=10,min_delta=0.01)\n",
        "mod.compile(optimizer=Nadam(0.0008),loss=fl(alpha1=0.75,gamma1=2.43),metrics=[tf.keras.metrics.AUC()])\n",
        "path = F\"/content/gdrive/My Drive/focal.hdf5\" \n",
        "mod.load_weights(path)\n",
        "\n",
        "#predict using neural net\n",
        "\n",
        "pre_nn=mod.predict([z_tst[:,0],z_tst[:,1],z_tst[:,2],z_tst[:,3],z_tst[:,4],z_tst[:,5],z_tst[:,6],z_tst[:,7],z_tst[:,8],tst.drop(kp1,1).values])\n",
        "pre_nn=pre_nn.reshape(1,-1)[0]\n",
        "del([fnl])\n",
        "gc.collect()\n",
        "fit=fnl_trn\n",
        "vald=fnl_tst\n",
        "import lightgbm as lgb\n",
        "\n",
        "#predict using lgbm\n",
        "\n",
        "mod=lgb.LGBMClassifier()\n",
        "mod.fit(fit.drop(['isFraud'],1),fit['isFraud'])\n",
        "pre=mod.predict_proba(vald.drop(['isFraud'],1))"
      ],
      "execution_count": 0,
      "outputs": []
    },
    {
      "cell_type": "code",
      "metadata": {
        "id": "oXogztoULLDf",
        "colab_type": "code",
        "colab": {}
      },
      "source": [
        "\n",
        "#combine neural net and lgbm predictions\n",
        "\n",
        "pre=pre[:,1]\n",
        "a=(pre*0.91)+(pre_nn*0.09)\n",
        "ss=pd.read_csv('sample_submission.csv.zip')\n",
        "ss=ss.set_index('TransactionID')\n",
        "ss['isFraud']=a\n",
        "ss.to_csv('sub.csv')"
      ],
      "execution_count": 0,
      "outputs": []
    },
    {
      "cell_type": "code",
      "metadata": {
        "id": "RUY1HzmFLV4g",
        "colab_type": "code",
        "colab": {
          "base_uri": "https://localhost:8080/",
          "height": 282
        },
        "outputId": "c61c44e3-6d36-4a0f-b3f0-aceb2ee4a191"
      },
      "source": [
        "import seaborn as sns\n",
        "sns.distplot(a)"
      ],
      "execution_count": 19,
      "outputs": [
        {
          "output_type": "execute_result",
          "data": {
            "text/plain": [
              "<matplotlib.axes._subplots.AxesSubplot at 0x7f94d1b85908>"
            ]
          },
          "metadata": {
            "tags": []
          },
          "execution_count": 19
        },
        {
          "output_type": "display_data",
          "data": {
            "image/png": "[encoded data removed]",
            "text/plain": [
              "<Figure size 432x288 with 1 Axes>"
            ]
          },
          "metadata": {
            "tags": []
          }
        }
      ]
    },
    {
      "cell_type": "code",
      "metadata": {
        "id": "T-bGL-ALLV74",
        "colab_type": "code",
        "colab": {}
      },
      "source": [
        ""
      ],
      "execution_count": 0,
      "outputs": []
    },
    {
      "cell_type": "code",
      "metadata": {
        "id": "snzEMcMSLV_H",
        "colab_type": "code",
        "colab": {}
      },
      "source": [
        ""
      ],
      "execution_count": 0,
      "outputs": []
    },
    {
      "cell_type": "code",
      "metadata": {
        "id": "CZVE42LCLLHM",
        "colab_type": "code",
        "colab": {}
      },
      "source": [
        ""
      ],
      "execution_count": 0,
      "outputs": []
    },
    {
      "cell_type": "code",
      "metadata": {
        "id": "DtHO9UepLLKL",
        "colab_type": "code",
        "colab": {}
      },
      "source": [
        ""
      ],
      "execution_count": 0,
      "outputs": []
    }
  ]
}